{
 "cells": [
  {
   "cell_type": "code",
   "execution_count": 1,
   "metadata": {
    "execution": {
     "iopub.execute_input": "2025-05-25T23:10:24.555541Z",
     "iopub.status.busy": "2025-05-25T23:10:24.555191Z",
     "iopub.status.idle": "2025-05-25T23:10:33.044643Z",
     "shell.execute_reply": "2025-05-25T23:10:33.043530Z",
     "shell.execute_reply.started": "2025-05-25T23:10:24.555512Z"
    },
    "trusted": true
   },
   "outputs": [
    {
     "name": "stderr",
     "output_type": "stream",
     "text": [
      "\n",
      "[notice] A new release of pip is available: 24.3.1 -> 25.1.1\n",
      "[notice] To update, run: python.exe -m pip install --upgrade pip\n",
      "\n",
      "[notice] A new release of pip is available: 24.3.1 -> 25.1.1\n",
      "[notice] To update, run: python.exe -m pip install --upgrade pip\n"
     ]
    }
   ],
   "source": [
    "!pip install nltk -q\n",
    "!pip install lightgbm -q"
   ]
  },
  {
   "cell_type": "code",
   "execution_count": 2,
   "metadata": {
    "execution": {
     "iopub.execute_input": "2025-05-25T23:13:27.422639Z",
     "iopub.status.busy": "2025-05-25T23:13:27.422310Z",
     "iopub.status.idle": "2025-05-25T23:13:27.430856Z",
     "shell.execute_reply": "2025-05-25T23:13:27.429981Z",
     "shell.execute_reply.started": "2025-05-25T23:13:27.422616Z"
    },
    "trusted": true
   },
   "outputs": [
    {
     "name": "stderr",
     "output_type": "stream",
     "text": [
      "[nltk_data] Downloading package punkt to\n",
      "[nltk_data]     C:\\Users\\taras\\AppData\\Roaming\\nltk_data...\n",
      "[nltk_data]   Package punkt is already up-to-date!\n",
      "[nltk_data] Downloading package stopwords to\n",
      "[nltk_data]     C:\\Users\\taras\\AppData\\Roaming\\nltk_data...\n",
      "[nltk_data]   Package stopwords is already up-to-date!\n",
      "[nltk_data] Downloading package wordnet to\n",
      "[nltk_data]     C:\\Users\\taras\\AppData\\Roaming\\nltk_data...\n",
      "[nltk_data]   Package wordnet is already up-to-date!\n"
     ]
    },
    {
     "data": {
      "text/plain": [
       "True"
      ]
     },
     "execution_count": 2,
     "metadata": {},
     "output_type": "execute_result"
    }
   ],
   "source": [
    "import numpy as np\n",
    "import pandas as pd\n",
    "import nltk\n",
    "import matplotlib.pyplot as plt\n",
    "import seaborn as sns\n",
    "import re\n",
    "\n",
    "import string\n",
    "from nltk.corpus import stopwords\n",
    "from nltk.tokenize import word_tokenize\n",
    "from nltk.stem import WordNetLemmatizer\n",
    "\n",
    "from sklearn.model_selection import train_test_split\n",
    "from sklearn.feature_extraction.text import TfidfVectorizer\n",
    "from sklearn.linear_model import LogisticRegression\n",
    "from sklearn.naive_bayes import MultinomialNB\n",
    "from sklearn.svm import LinearSVC\n",
    "from sklearn.metrics import accuracy_score, classification_report, confusion_matrix\n",
    "\n",
    "from lightgbm import LGBMClassifier\n",
    "\n",
    "nltk.download('punkt')\n",
    "nltk.download('stopwords')\n",
    "nltk.download('wordnet')"
   ]
  },
  {
   "cell_type": "code",
   "execution_count": 56,
   "metadata": {},
   "outputs": [],
   "source": [
    "import warnings\n",
    "warnings.filterwarnings('ignore', category=FutureWarning)"
   ]
  },
  {
   "cell_type": "code",
   "execution_count": 3,
   "metadata": {
    "execution": {
     "iopub.execute_input": "2025-05-25T23:13:30.080089Z",
     "iopub.status.busy": "2025-05-25T23:13:30.079805Z",
     "iopub.status.idle": "2025-05-25T23:13:30.084759Z",
     "shell.execute_reply": "2025-05-25T23:13:30.083883Z",
     "shell.execute_reply.started": "2025-05-25T23:13:30.080070Z"
    },
    "trusted": true
   },
   "outputs": [],
   "source": [
    "sns.set_palette(sns.color_palette(\"Set2\"))\n",
    "RANDOM_STATE = 42"
   ]
  },
  {
   "cell_type": "code",
   "execution_count": 4,
   "metadata": {
    "execution": {
     "iopub.execute_input": "2025-05-25T23:13:30.446199Z",
     "iopub.status.busy": "2025-05-25T23:13:30.445910Z",
     "iopub.status.idle": "2025-05-25T23:13:32.037576Z",
     "shell.execute_reply": "2025-05-25T23:13:32.036601Z",
     "shell.execute_reply.started": "2025-05-25T23:13:30.446175Z"
    },
    "trusted": true
   },
   "outputs": [],
   "source": [
    "data_fake = pd.read_csv('data/Fake.csv')\n",
    "data_true = pd.read_csv('data/True.csv')"
   ]
  },
  {
   "cell_type": "code",
   "execution_count": 5,
   "metadata": {
    "execution": {
     "iopub.execute_input": "2025-05-25T23:13:32.039341Z",
     "iopub.status.busy": "2025-05-25T23:13:32.039019Z",
     "iopub.status.idle": "2025-05-25T23:13:32.050892Z",
     "shell.execute_reply": "2025-05-25T23:13:32.050013Z",
     "shell.execute_reply.started": "2025-05-25T23:13:32.039309Z"
    },
    "trusted": true
   },
   "outputs": [],
   "source": [
    "data_fake['target'] = 1"
   ]
  },
  {
   "cell_type": "code",
   "execution_count": 6,
   "metadata": {
    "execution": {
     "iopub.execute_input": "2025-05-25T23:13:32.052157Z",
     "iopub.status.busy": "2025-05-25T23:13:32.051795Z",
     "iopub.status.idle": "2025-05-25T23:13:32.084143Z",
     "shell.execute_reply": "2025-05-25T23:13:32.083415Z",
     "shell.execute_reply.started": "2025-05-25T23:13:32.052128Z"
    },
    "trusted": true
   },
   "outputs": [
    {
     "data": {
      "application/vnd.microsoft.datawrangler.viewer.v0+json": {
       "columns": [
        {
         "name": "index",
         "rawType": "int64",
         "type": "integer"
        },
        {
         "name": "title",
         "rawType": "object",
         "type": "string"
        },
        {
         "name": "text",
         "rawType": "object",
         "type": "string"
        },
        {
         "name": "subject",
         "rawType": "object",
         "type": "string"
        },
        {
         "name": "date",
         "rawType": "object",
         "type": "string"
        },
        {
         "name": "target",
         "rawType": "int64",
         "type": "integer"
        }
       ],
       "ref": "fbd04929-e005-492a-a186-bd1120ab089f",
       "rows": [
        [
         "0",
         " Donald Trump Sends Out Embarrassing New Year’s Eve Message; This is Disturbing",
         "Donald Trump just couldn t wish all Americans a Happy New Year and leave it at that. Instead, he had to give a shout out to his enemies, haters and  the very dishonest fake news media.  The former reality show star had just one job to do and he couldn t do it. As our Country rapidly grows stronger and smarter, I want to wish all of my friends, supporters, enemies, haters, and even the very dishonest Fake News Media, a Happy and Healthy New Year,  President Angry Pants tweeted.  2018 will be a great year for America! As our Country rapidly grows stronger and smarter, I want to wish all of my friends, supporters, enemies, haters, and even the very dishonest Fake News Media, a Happy and Healthy New Year. 2018 will be a great year for America!  Donald J. Trump (@realDonaldTrump) December 31, 2017Trump s tweet went down about as welll as you d expect.What kind of president sends a New Year s greeting like this despicable, petty, infantile gibberish? Only Trump! His lack of decency won t even allow him to rise above the gutter long enough to wish the American citizens a happy new year!  Bishop Talbert Swan (@TalbertSwan) December 31, 2017no one likes you  Calvin (@calvinstowell) December 31, 2017Your impeachment would make 2018 a great year for America, but I ll also accept regaining control of Congress.  Miranda Yaver (@mirandayaver) December 31, 2017Do you hear yourself talk? When you have to include that many people that hate you you have to wonder? Why do the they all hate me?  Alan Sandoval (@AlanSandoval13) December 31, 2017Who uses the word Haters in a New Years wish??  Marlene (@marlene399) December 31, 2017You can t just say happy new year?  Koren pollitt (@Korencarpenter) December 31, 2017Here s Trump s New Year s Eve tweet from 2016.Happy New Year to all, including to my many enemies and those who have fought me and lost so badly they just don t know what to do. Love!  Donald J. Trump (@realDonaldTrump) December 31, 2016This is nothing new for Trump. He s been doing this for years.Trump has directed messages to his  enemies  and  haters  for New Year s, Easter, Thanksgiving, and the anniversary of 9/11. pic.twitter.com/4FPAe2KypA  Daniel Dale (@ddale8) December 31, 2017Trump s holiday tweets are clearly not presidential.How long did he work at Hallmark before becoming President?  Steven Goodine (@SGoodine) December 31, 2017He s always been like this . . . the only difference is that in the last few years, his filter has been breaking down.  Roy Schulze (@thbthttt) December 31, 2017Who, apart from a teenager uses the term haters?  Wendy (@WendyWhistles) December 31, 2017he s a fucking 5 year old  Who Knows (@rainyday80) December 31, 2017So, to all the people who voted for this a hole thinking he would change once he got into power, you were wrong! 70-year-old men don t change and now he s a year older.Photo by Andrew Burton/Getty Images.",
         "News",
         "December 31, 2017",
         "1"
        ],
        [
         "1",
         " Drunk Bragging Trump Staffer Started Russian Collusion Investigation",
         "House Intelligence Committee Chairman Devin Nunes is going to have a bad day. He s been under the assumption, like many of us, that the Christopher Steele-dossier was what prompted the Russia investigation so he s been lashing out at the Department of Justice and the FBI in order to protect Trump. As it happens, the dossier is not what started the investigation, according to documents obtained by the New York Times.Former Trump campaign adviser George Papadopoulos was drunk in a wine bar when he revealed knowledge of Russian opposition research on Hillary Clinton.On top of that, Papadopoulos wasn t just a covfefe boy for Trump, as his administration has alleged. He had a much larger role, but none so damning as being a drunken fool in a wine bar. Coffee boys  don t help to arrange a New York meeting between Trump and President Abdel Fattah el-Sisi of Egypt two months before the election. It was known before that the former aide set up meetings with world leaders for Trump, but team Trump ran with him being merely a coffee boy.In May 2016, Papadopoulos revealed to Australian diplomat Alexander Downer that Russian officials were shopping around possible dirt on then-Democratic presidential nominee Hillary Clinton. Exactly how much Mr. Papadopoulos said that night at the Kensington Wine Rooms with the Australian, Alexander Downer, is unclear,  the report states.  But two months later, when leaked Democratic emails began appearing online, Australian officials passed the information about Mr. Papadopoulos to their American counterparts, according to four current and former American and foreign officials with direct knowledge of the Australians  role. Papadopoulos pleaded guilty to lying to the F.B.I. and is now a cooperating witness with Special Counsel Robert Mueller s team.This isn t a presidency. It s a badly scripted reality TV show.Photo by Win McNamee/Getty Images.",
         "News",
         "December 31, 2017",
         "1"
        ],
        [
         "2",
         " Sheriff David Clarke Becomes An Internet Joke For Threatening To Poke People ‘In The Eye’",
         "On Friday, it was revealed that former Milwaukee Sheriff David Clarke, who was being considered for Homeland Security Secretary in Donald Trump s administration, has an email scandal of his own.In January, there was a brief run-in on a plane between Clarke and fellow passenger Dan Black, who he later had detained by the police for no reason whatsoever, except that maybe his feelings were hurt. Clarke messaged the police to stop Black after he deplaned, and now, a search warrant has been executed by the FBI to see the exchanges.Clarke is calling it fake news even though copies of the search warrant are on the Internet. I am UNINTIMIDATED by lib media attempts to smear and discredit me with their FAKE NEWS reports designed to silence me,  the former sheriff tweeted.  I will continue to poke them in the eye with a sharp stick and bitch slap these scum bags til they get it. I have been attacked by better people than them #MAGA I am UNINTIMIDATED by lib media attempts to smear and discredit me with their FAKE NEWS reports designed to silence me. I will continue to poke them in the eye with a sharp stick and bitch slap these scum bags til they get it. I have been attacked by better people than them #MAGA pic.twitter.com/XtZW5PdU2b  David A. Clarke, Jr. (@SheriffClarke) December 30, 2017He didn t stop there.BREAKING NEWS! When LYING LIB MEDIA makes up FAKE NEWS to smear me, the ANTIDOTE is go right at them. Punch them in the nose & MAKE THEM TASTE THEIR OWN BLOOD. Nothing gets a bully like LYING LIB MEDIA S attention better than to give them a taste of their own blood #neverbackdown pic.twitter.com/T2NY2psHCR  David A. Clarke, Jr. (@SheriffClarke) December 30, 2017The internet called him out.This is your local newspaper and that search warrant isn t fake, and just because the chose not to file charges at the time doesn t mean they won t! Especially if you continue to lie. Months after decision not to charge Clarke, email search warrant filed https://t.co/zcbyc4Wp5b  KeithLeBlanc (@KeithLeBlanc63) December 30, 2017I just hope the rest of the Village People aren t implicated.  Kirk Ketchum (@kirkketchum) December 30, 2017Slaw, baked potatoes, or French fries? pic.twitter.com/fWfXsZupxy  ALT- Immigration   (@ALT_uscis) December 30, 2017pic.twitter.com/ymsOBLjfxU  Pendulum Swinger (@PendulumSwngr) December 30, 2017you called your police friends to stand up for you when someone made fun of your hat  Chris Jackson (@ChrisCJackson) December 30, 2017Is it me, with this masterful pshop of your hat, which I seem to never tire of. I think it s the steely resolve in your one visible eye pic.twitter.com/dWr5k8ZEZV  Chris Mohney (@chrismohney) December 30, 2017Are you indicating with your fingers how many people died in your jail? I think you re a few fingers short, dipshit  Ike Barinholtz (@ikebarinholtz) December 30, 2017ROFL. Internet tough guy with fake flair. pic.twitter.com/ulCFddhkdy  KellMeCrazy (@Kel_MoonFace) December 30, 2017You re so edgy, buddy.  Mrs. SMH (@MRSSMH2) December 30, 2017Is his break over at Applebees?  Aaron (@feltrrr2) December 30, 2017Are you trying to earn your  still relevant  badge?  CircusRebel (@CircusDrew) December 30, 2017make sure to hydrate, drink lots of water. It s rumored that prisoners can be denied water by prison officials.  Robert Klinc (@RobertKlinc1) December 30, 2017Terrill Thomas, the 38-year-old black man who died of thirst in Clarke s Milwaukee County Jail cell this April, was a victim of homicide. We just thought we should point that out. It can t be repeated enough.Photo by Spencer Platt/Getty Images.",
         "News",
         "December 30, 2017",
         "1"
        ],
        [
         "3",
         " Trump Is So Obsessed He Even Has Obama’s Name Coded Into His Website (IMAGES)",
         "On Christmas day, Donald Trump announced that he would  be back to work  the following day, but he is golfing for the fourth day in a row. The former reality show star blasted former President Barack Obama for playing golf and now Trump is on track to outpace the number of golf games his predecessor played.Updated my tracker of Trump s appearances at Trump properties.71 rounds of golf including today s. At this pace, he ll pass Obama s first-term total by July 24 next year. https://t.co/Fg7VacxRtJ pic.twitter.com/5gEMcjQTbH  Philip Bump (@pbump) December 29, 2017 That makes what a Washington Post reporter discovered on Trump s website really weird, but everything about this administration is bizarre AF. The coding contained a reference to Obama and golf:  Unlike Obama, we are working to fix the problem   and not on the golf course.  However, the coding wasn t done correctly.The website of Donald Trump, who has spent several days in a row at the golf course, is coded to serve up the following message in the event of an internal server error: https://t.co/zrWpyMXRcz pic.twitter.com/wiQSQNNzw0  Christopher Ingraham (@_cingraham) December 28, 2017That snippet of code appears to be on all https://t.co/dkhw0AlHB4 pages, which the footer says is paid for by the RNC? pic.twitter.com/oaZDT126B3  Christopher Ingraham (@_cingraham) December 28, 2017It s also all over https://t.co/ayBlGmk65Z. As others have noted in this thread, this is weird code and it s not clear it would ever actually display, but who knows.  Christopher Ingraham (@_cingraham) December 28, 2017After the coding was called out, the reference to Obama was deleted.UPDATE: The golf error message has been removed from the Trump and GOP websites. They also fixed the javascript  =  vs  ==  problem. Still not clear when these messages would actually display, since the actual 404 (and presumably 500) page displays a different message pic.twitter.com/Z7dmyQ5smy  Christopher Ingraham (@_cingraham) December 29, 2017That suggests someone at either RNC or the Trump admin is sensitive enough to Trump s golf problem to make this issue go away quickly once people noticed. You have no idea how much I d love to see the email exchange that led us here.  Christopher Ingraham (@_cingraham) December 29, 2017 The code was f-cked up.The best part about this is that they are using the  =  (assignment) operator which means that bit of code will never get run. If you look a few lines up  errorCode  will always be  404          (@tw1trsux) December 28, 2017trump s coders can t code. Nobody is surprised.  Tim Peterson (@timrpeterson) December 28, 2017Donald Trump is obsessed with Obama that his name was even in the coding of his website while he played golf again.Photo by Joe Raedle/Getty Images.",
         "News",
         "December 29, 2017",
         "1"
        ],
        [
         "4",
         " Pope Francis Just Called Out Donald Trump During His Christmas Speech",
         "Pope Francis used his annual Christmas Day message to rebuke Donald Trump without even mentioning his name. The Pope delivered his message just days after members of the United Nations condemned Trump s move to recognize Jerusalem as the capital of Israel. The Pontiff prayed on Monday for the  peaceful coexistence of two states within mutually agreed and internationally recognized borders. We see Jesus in the children of the Middle East who continue to suffer because of growing tensions between Israelis and Palestinians,  Francis said.  On this festive day, let us ask the Lord for peace for Jerusalem and for all the Holy Land. Let us pray that the will to resume dialogue may prevail between the parties and that a negotiated solution can finally be reached. The Pope went on to plead for acceptance of refugees who have been forced from their homes, and that is an issue Trump continues to fight against. Francis used Jesus for which there was  no place in the inn  as an analogy. Today, as the winds of war are blowing in our world and an outdated model of development continues to produce human, societal and environmental decline, Christmas invites us to focus on the sign of the Child and to recognize him in the faces of little children, especially those for whom, like Jesus,  there is no place in the inn,  he said. Jesus knows well the pain of not being welcomed and how hard it is not to have a place to lay one s head,  he added.  May our hearts not be closed as they were in the homes of Bethlehem. The Pope said that Mary and Joseph were immigrants who struggled to find a safe place to stay in Bethlehem. They had to leave their people, their home, and their land,  Francis said.  This was no comfortable or easy journey for a young couple about to have a child.   At heart, they were full of hope and expectation because of the child about to be born; yet their steps were weighed down by the uncertainties and dangers that attend those who have to leave their home behind. So many other footsteps are hidden in the footsteps of Joseph and Mary,  Francis said Sunday. We see the tracks of entire families forced to set out in our own day. We see the tracks of millions of persons who do not choose to go away, but driven from their land, leave behind their dear ones. Amen to that.Photo by Christopher Furlong/Getty Images.",
         "News",
         "December 25, 2017",
         "1"
        ]
       ],
       "shape": {
        "columns": 5,
        "rows": 5
       }
      },
      "text/html": [
       "<div>\n",
       "<style scoped>\n",
       "    .dataframe tbody tr th:only-of-type {\n",
       "        vertical-align: middle;\n",
       "    }\n",
       "\n",
       "    .dataframe tbody tr th {\n",
       "        vertical-align: top;\n",
       "    }\n",
       "\n",
       "    .dataframe thead th {\n",
       "        text-align: right;\n",
       "    }\n",
       "</style>\n",
       "<table border=\"1\" class=\"dataframe\">\n",
       "  <thead>\n",
       "    <tr style=\"text-align: right;\">\n",
       "      <th></th>\n",
       "      <th>title</th>\n",
       "      <th>text</th>\n",
       "      <th>subject</th>\n",
       "      <th>date</th>\n",
       "      <th>target</th>\n",
       "    </tr>\n",
       "  </thead>\n",
       "  <tbody>\n",
       "    <tr>\n",
       "      <th>0</th>\n",
       "      <td>Donald Trump Sends Out Embarrassing New Year’...</td>\n",
       "      <td>Donald Trump just couldn t wish all Americans ...</td>\n",
       "      <td>News</td>\n",
       "      <td>December 31, 2017</td>\n",
       "      <td>1</td>\n",
       "    </tr>\n",
       "    <tr>\n",
       "      <th>1</th>\n",
       "      <td>Drunk Bragging Trump Staffer Started Russian ...</td>\n",
       "      <td>House Intelligence Committee Chairman Devin Nu...</td>\n",
       "      <td>News</td>\n",
       "      <td>December 31, 2017</td>\n",
       "      <td>1</td>\n",
       "    </tr>\n",
       "    <tr>\n",
       "      <th>2</th>\n",
       "      <td>Sheriff David Clarke Becomes An Internet Joke...</td>\n",
       "      <td>On Friday, it was revealed that former Milwauk...</td>\n",
       "      <td>News</td>\n",
       "      <td>December 30, 2017</td>\n",
       "      <td>1</td>\n",
       "    </tr>\n",
       "    <tr>\n",
       "      <th>3</th>\n",
       "      <td>Trump Is So Obsessed He Even Has Obama’s Name...</td>\n",
       "      <td>On Christmas day, Donald Trump announced that ...</td>\n",
       "      <td>News</td>\n",
       "      <td>December 29, 2017</td>\n",
       "      <td>1</td>\n",
       "    </tr>\n",
       "    <tr>\n",
       "      <th>4</th>\n",
       "      <td>Pope Francis Just Called Out Donald Trump Dur...</td>\n",
       "      <td>Pope Francis used his annual Christmas Day mes...</td>\n",
       "      <td>News</td>\n",
       "      <td>December 25, 2017</td>\n",
       "      <td>1</td>\n",
       "    </tr>\n",
       "  </tbody>\n",
       "</table>\n",
       "</div>"
      ],
      "text/plain": [
       "                                               title  \\\n",
       "0   Donald Trump Sends Out Embarrassing New Year’...   \n",
       "1   Drunk Bragging Trump Staffer Started Russian ...   \n",
       "2   Sheriff David Clarke Becomes An Internet Joke...   \n",
       "3   Trump Is So Obsessed He Even Has Obama’s Name...   \n",
       "4   Pope Francis Just Called Out Donald Trump Dur...   \n",
       "\n",
       "                                                text subject  \\\n",
       "0  Donald Trump just couldn t wish all Americans ...    News   \n",
       "1  House Intelligence Committee Chairman Devin Nu...    News   \n",
       "2  On Friday, it was revealed that former Milwauk...    News   \n",
       "3  On Christmas day, Donald Trump announced that ...    News   \n",
       "4  Pope Francis used his annual Christmas Day mes...    News   \n",
       "\n",
       "                date  target  \n",
       "0  December 31, 2017       1  \n",
       "1  December 31, 2017       1  \n",
       "2  December 30, 2017       1  \n",
       "3  December 29, 2017       1  \n",
       "4  December 25, 2017       1  "
      ]
     },
     "execution_count": 6,
     "metadata": {},
     "output_type": "execute_result"
    }
   ],
   "source": [
    "data_fake.head()"
   ]
  },
  {
   "cell_type": "code",
   "execution_count": 7,
   "metadata": {
    "execution": {
     "iopub.execute_input": "2025-05-25T23:13:32.086025Z",
     "iopub.status.busy": "2025-05-25T23:13:32.085776Z",
     "iopub.status.idle": "2025-05-25T23:13:32.090248Z",
     "shell.execute_reply": "2025-05-25T23:13:32.089561Z",
     "shell.execute_reply.started": "2025-05-25T23:13:32.086005Z"
    },
    "trusted": true
   },
   "outputs": [],
   "source": [
    "data_true['target'] = 0"
   ]
  },
  {
   "cell_type": "code",
   "execution_count": 8,
   "metadata": {
    "execution": {
     "iopub.execute_input": "2025-05-25T23:13:32.091225Z",
     "iopub.status.busy": "2025-05-25T23:13:32.090980Z",
     "iopub.status.idle": "2025-05-25T23:13:32.113031Z",
     "shell.execute_reply": "2025-05-25T23:13:32.112327Z",
     "shell.execute_reply.started": "2025-05-25T23:13:32.091206Z"
    },
    "trusted": true
   },
   "outputs": [
    {
     "data": {
      "application/vnd.microsoft.datawrangler.viewer.v0+json": {
       "columns": [
        {
         "name": "index",
         "rawType": "int64",
         "type": "integer"
        },
        {
         "name": "title",
         "rawType": "object",
         "type": "string"
        },
        {
         "name": "text",
         "rawType": "object",
         "type": "string"
        },
        {
         "name": "subject",
         "rawType": "object",
         "type": "string"
        },
        {
         "name": "date",
         "rawType": "object",
         "type": "string"
        },
        {
         "name": "target",
         "rawType": "int64",
         "type": "integer"
        }
       ],
       "ref": "a07f7006-16df-43f4-a9cf-079c44feec1b",
       "rows": [
        [
         "0",
         "As U.S. budget fight looms, Republicans flip their fiscal script",
         "WASHINGTON (Reuters) - The head of a conservative Republican faction in the U.S. Congress, who voted this month for a huge expansion of the national debt to pay for tax cuts, called himself a “fiscal conservative” on Sunday and urged budget restraint in 2018. In keeping with a sharp pivot under way among Republicans, U.S. Representative Mark Meadows, speaking on CBS’ “Face the Nation,” drew a hard line on federal spending, which lawmakers are bracing to do battle over in January. When they return from the holidays on Wednesday, lawmakers will begin trying to pass a federal budget in a fight likely to be linked to other issues, such as immigration policy, even as the November congressional election campaigns approach in which Republicans will seek to keep control of Congress. President Donald Trump and his Republicans want a big budget increase in military spending, while Democrats also want proportional increases for non-defense “discretionary” spending on programs that support education, scientific research, infrastructure, public health and environmental protection. “The (Trump) administration has already been willing to say: ‘We’re going to increase non-defense discretionary spending ... by about 7 percent,’” Meadows, chairman of the small but influential House Freedom Caucus, said on the program. “Now, Democrats are saying that’s not enough, we need to give the government a pay raise of 10 to 11 percent. For a fiscal conservative, I don’t see where the rationale is. ... Eventually you run out of other people’s money,” he said. Meadows was among Republicans who voted in late December for their party’s debt-financed tax overhaul, which is expected to balloon the federal budget deficit and add about $1.5 trillion over 10 years to the $20 trillion national debt. “It’s interesting to hear Mark talk about fiscal responsibility,” Democratic U.S. Representative Joseph Crowley said on CBS. Crowley said the Republican tax bill would require the  United States to borrow $1.5 trillion, to be paid off by future generations, to finance tax cuts for corporations and the rich. “This is one of the least ... fiscally responsible bills we’ve ever seen passed in the history of the House of Representatives. I think we’re going to be paying for this for many, many years to come,” Crowley said. Republicans insist the tax package, the biggest U.S. tax overhaul in more than 30 years,  will boost the economy and job growth. House Speaker Paul Ryan, who also supported the tax bill, recently went further than Meadows, making clear in a radio interview that welfare or “entitlement reform,” as the party often calls it, would be a top Republican priority in 2018. In Republican parlance, “entitlement” programs mean food stamps, housing assistance, Medicare and Medicaid health insurance for the elderly, poor and disabled, as well as other programs created by Washington to assist the needy. Democrats seized on Ryan’s early December remarks, saying they showed Republicans would try to pay for their tax overhaul by seeking spending cuts for social programs. But the goals of House Republicans may have to take a back seat to the Senate, where the votes of some Democrats will be needed to approve a budget and prevent a government shutdown. Democrats will use their leverage in the Senate, which Republicans narrowly control, to defend both discretionary non-defense programs and social spending, while tackling the issue of the “Dreamers,” people brought illegally to the country as children. Trump in September put a March 2018 expiration date on the Deferred Action for Childhood Arrivals, or DACA, program, which protects the young immigrants from deportation and provides them with work permits. The president has said in recent Twitter messages he wants funding for his proposed Mexican border wall and other immigration law changes in exchange for agreeing to help the Dreamers. Representative Debbie Dingell told CBS she did not favor linking that issue to other policy objectives, such as wall funding. “We need to do DACA clean,” she said.  On Wednesday, Trump aides will meet with congressional leaders to discuss those issues. That will be followed by a weekend of strategy sessions for Trump and Republican leaders on Jan. 6 and 7, the White House said. Trump was also scheduled to meet on Sunday with Florida Republican Governor Rick Scott, who wants more emergency aid. The House has passed an $81 billion aid package after hurricanes in Florida, Texas and Puerto Rico, and wildfires in California. The package far exceeded the $44 billion requested by the Trump administration. The Senate has not yet voted on the aid. ",
         "politicsNews",
         "December 31, 2017 ",
         "0"
        ],
        [
         "1",
         "U.S. military to accept transgender recruits on Monday: Pentagon",
         "WASHINGTON (Reuters) - Transgender people will be allowed for the first time to enlist in the U.S. military starting on Monday as ordered by federal courts, the Pentagon said on Friday, after President Donald Trump’s administration decided not to appeal rulings that blocked his transgender ban. Two federal appeals courts, one in Washington and one in Virginia, last week rejected the administration’s request to put on hold orders by lower court judges requiring the military to begin accepting transgender recruits on Jan. 1. A Justice Department official said the administration will not challenge those rulings. “The Department of Defense has announced that it will be releasing an independent study of these issues in the coming weeks. So rather than litigate this interim appeal before that occurs, the administration has decided to wait for DOD’s study and will continue to defend the president’s lawful authority in District Court in the meantime,” the official said, speaking on condition of anonymity. In September, the Pentagon said it had created a panel of senior officials to study how to implement a directive by Trump to prohibit transgender individuals from serving. The Defense Department has until Feb. 21 to submit a plan to Trump. Lawyers representing currently-serving transgender service members and aspiring recruits said they had expected the administration to appeal the rulings to the conservative-majority Supreme Court, but were hoping that would not happen. Pentagon spokeswoman Heather Babb said in a statement: “As mandated by court order, the Department of Defense is prepared to begin accessing transgender applicants for military service Jan. 1. All applicants must meet all accession standards.” Jennifer Levi, a lawyer with gay, lesbian and transgender advocacy group GLAD, called the decision not to appeal “great news.” “I’m hoping it means the government has come to see that there is no way to justify a ban and that it’s not good for the military or our country,” Levi said. Both GLAD and the American Civil Liberties Union represent plaintiffs in the lawsuits filed against the administration. In a move that appealed to his hard-line conservative supporters, Trump announced in July that he would prohibit transgender people from serving in the military, reversing Democratic President Barack Obama’s policy of accepting them. Trump said on Twitter at the time that the military “cannot be burdened with the tremendous medical costs and disruption that transgender in the military would entail.” Four federal judges - in Baltimore, Washington, D.C., Seattle and Riverside, California - have issued rulings blocking Trump’s ban while legal challenges to the Republican president’s policy proceed. The judges said the ban would likely violate the right under the U.S. Constitution to equal protection under the law. The Pentagon on Dec. 8 issued guidelines to recruitment personnel in order to enlist transgender applicants by Jan. 1. The memo outlined medical requirements and specified how the applicants’ sex would be identified and even which undergarments they would wear. The Trump administration previously said in legal papers that the armed forces were not prepared to train thousands of personnel on the medical standards needed to process transgender applicants and might have to accept “some individuals who are not medically fit for service.” The Obama administration had set a deadline of July 1, 2017, to begin accepting transgender recruits. But Trump’s defense secretary, James Mattis, postponed that date to Jan. 1, 2018, which the president’s ban then put off indefinitely. Trump has taken other steps aimed at rolling back transgender rights. In October, his administration said a federal law banning gender-based workplace discrimination does not protect transgender employees, reversing another Obama-era position. In February, Trump rescinded guidance issued by the Obama administration saying that public schools should allow transgender students to use the restroom that corresponds to their gender identity. ",
         "politicsNews",
         "December 29, 2017 ",
         "0"
        ],
        [
         "2",
         "Senior U.S. Republican senator: 'Let Mr. Mueller do his job'",
         "WASHINGTON (Reuters) - The special counsel investigation of links between Russia and President Trump’s 2016 election campaign should continue without interference in 2018, despite calls from some Trump administration allies and Republican lawmakers to shut it down, a prominent Republican senator said on Sunday. Lindsey Graham, who serves on the Senate armed forces and judiciary committees, said Department of Justice Special Counsel Robert Mueller needs to carry on with his Russia investigation without political interference. “This investigation will go forward. It will be an investigation conducted without political influence,” Graham said on CBS’s Face the Nation news program. “And we all need to let Mr. Mueller do his job. I think he’s the right guy at the right time.”  The question of how Russia may have interfered in the election, and how Trump’s campaign may have had links with or co-ordinated any such effort, has loomed over the White House since Trump took office in January. It shows no sign of receding as Trump prepares for his second year in power, despite intensified rhetoric from some Trump allies in recent weeks accusing Mueller’s team of bias against the Republican president. Trump himself seemed to undercut his supporters in an interview last week with the New York Times in which he said he expected Mueller was “going to be fair.”    Russia’s role in the election and the question of possible links to the Trump campaign are the focus of multiple inquiries in Washington. Three committees of the Senate and the House of Representatives are investigating, as well as Mueller, whose team in May took over an earlier probe launched by the U.S. Federal Bureau of Investigation (FBI). Several members of the Trump campaign and administration have been convicted or indicted in the investigation.  Trump and his allies deny any collusion with Russia during the campaign, and the Kremlin has denied meddling in the election. Graham said he still wants an examination of the FBI’s use of a dossier on links between Trump and Russia that was compiled by a former British spy, Christopher Steele, which prompted Trump allies and some Republicans to question Mueller’s inquiry.   On Saturday, the New York Times reported that it was not that dossier that triggered an early FBI probe, but a tip from former Trump campaign foreign policy adviser George Papadopoulos to an Australian diplomat that Russia had damaging information about former Trump rival Hillary Clinton.  “I want somebody to look at the way the Department of Justice used this dossier. It bothers me greatly the way they used it, and I want somebody to look at it,” Graham said. But he said the Russia investigation must continue. “As a matter of fact, it would hurt us if we ignored it,” he said. ",
         "politicsNews",
         "December 31, 2017 ",
         "0"
        ],
        [
         "3",
         "FBI Russia probe helped by Australian diplomat tip-off: NYT",
         "WASHINGTON (Reuters) - Trump campaign adviser George Papadopoulos told an Australian diplomat in May 2016 that Russia had political dirt on Democratic presidential candidate Hillary Clinton, the New York Times reported on Saturday. The conversation between Papadopoulos and the diplomat, Alexander Downer, in London was a driving factor behind the FBI’s decision to open a counter-intelligence investigation of Moscow’s contacts with the Trump campaign, the Times reported. Two months after the meeting, Australian officials passed the information that came from Papadopoulos to their American counterparts when leaked Democratic emails began appearing online, according to the newspaper, which cited four current and former U.S. and foreign officials. Besides the information from the Australians, the probe by the Federal Bureau of Investigation was also propelled by intelligence from other friendly governments, including the British and Dutch, the Times said. Papadopoulos, a Chicago-based international energy lawyer, pleaded guilty on Oct. 30 to lying to FBI agents about contacts with people who claimed to have ties to top Russian officials. It was the first criminal charge alleging links between the Trump campaign and Russia. The White House has played down the former aide’s campaign role, saying it was “extremely limited” and that any actions he took would have been on his own. The New York Times, however, reported that Papadopoulos helped set up a meeting between then-candidate Donald Trump and Egyptian President Abdel Fattah al-Sisi and edited the outline of Trump’s first major foreign policy speech in April 2016. The federal investigation, which is now being led by Special Counsel Robert Mueller, has hung over Trump’s White House since he took office almost a year ago. Some Trump allies have recently accused Mueller’s team of being biased against the Republican president. Lawyers for Papadopoulos did not immediately respond to requests by Reuters for comment. Mueller’s office declined to comment. Trump’s White House attorney, Ty Cobb, declined to comment on the New York Times report. “Out of respect for the special counsel and his process, we are not commenting on matters such as this,” he said in a statement. Mueller has charged four Trump associates, including Papadopoulos, in his investigation. Russia has denied interfering in the U.S. election and Trump has said there was no collusion between his campaign and Moscow. ",
         "politicsNews",
         "December 30, 2017 ",
         "0"
        ],
        [
         "4",
         "Trump wants Postal Service to charge 'much more' for Amazon shipments",
         "SEATTLE/WASHINGTON (Reuters) - President Donald Trump called on the U.S. Postal Service on Friday to charge “much more” to ship packages for Amazon (AMZN.O), picking another fight with an online retail giant he has criticized in the past.     “Why is the United States Post Office, which is losing many billions of dollars a year, while charging Amazon and others so little to deliver their packages, making Amazon richer and the Post Office dumber and poorer? Should be charging MUCH MORE!” Trump wrote on Twitter.  The president’s tweet drew fresh attention to the fragile finances of the Postal Service at a time when tens of millions of parcels have just been shipped all over the country for the holiday season.  The U.S. Postal Service, which runs at a big loss, is an independent agency within the federal government and does not receive tax dollars for operating expenses, according to its website.  Package delivery has become an increasingly important part of its business as the Internet has led to a sharp decline in the amount of first-class letters. The president does not determine postal rates. They are set by the Postal Regulatory Commission, an independent government agency with commissioners selected by the president from both political parties. That panel raised prices on packages by almost 2 percent in November.  Amazon was founded by Jeff Bezos, who remains the chief executive officer of the retail company and is the richest person in the world, according to Bloomberg News. Bezos also owns The Washington Post, a newspaper Trump has repeatedly railed against in his criticisms of the news media. In tweets over the past year, Trump has said the “Amazon Washington Post” fabricated stories. He has said Amazon does not pay sales tax, which is not true, and so hurts other retailers, part of a pattern by the former businessman and reality television host of periodically turning his ire on big American companies since he took office in January. Daniel Ives, a research analyst at GBH Insights, said Trump’s comment could be taken as a warning to the retail giant. However, he said he was not concerned for Amazon. “We do not see any price hikes in the future. However, that is a risk that Amazon is clearly aware of and (it) is building out its distribution (system) aggressively,” he said. Amazon has shown interest in the past in shifting into its own delivery service, including testing drones for deliveries. In 2015, the company spent $11.5 billion on shipping, 46 percent of its total operating expenses that year.  Amazon shares were down 0.86 percent to $1,175.90 by early afternoon. Overall, U.S. stock prices were down slightly on Friday.  Satish Jindel, president of ShipMatrix Inc, which analyzes shipping data, disputed the idea that the Postal Service charges less than United Parcel Service Inc (UPS.N) and FedEx Corp (FDX.N), the other biggest players in the parcel delivery business in the United States. Many customers get lower rates from UPS and FedEx than they would get from the post office for comparable services, he said. The Postal Service delivers about 62 percent of Amazon packages, for about 3.5 to 4 million a day during the current peak year-end holiday shipping season, Jindel said. The Seattle-based company and the post office have an agreement in which mail carriers take Amazon packages on the last leg of their journeys, from post offices to customers’ doorsteps. Amazon’s No. 2 carrier is UPS, at 21 percent, and FedEx is third, with 8 percent or so, according to Jindel. Trump’s comment tapped into a debate over whether Postal Service pricing has kept pace with the rise of e-commerce, which has flooded the mail with small packages.Private companies like UPS have long claimed the current system unfairly undercuts their business. Steve Gaut, a spokesman for UPS, noted that the company values its “productive relationship” with the postal service, but that it has filed with the Postal Regulatory Commission its concerns about the postal service’s methods for covering costs. Representatives for Amazon, the White House, the U.S. Postal Service and FedEx declined comment or were not immediately available for comment on Trump’s tweet. According to its annual report, the Postal Service lost $2.74 billion this year, and its deficit has ballooned to $61.86 billion.  While the Postal Service’s revenue for first class mail, marketing mail and periodicals is flat or declining, revenue from package delivery is up 44 percent since 2014 to $19.5 billion in the fiscal year ended Sept. 30, 2017. But it also lost about $2 billion in revenue when a temporary surcharge expired in April 2016. According to a Government Accountability Office report in February, the service is facing growing personnel expenses, particularly $73.4 billion in unfunded pension and benefits liabilities. The Postal Service has not announced any plans to cut costs. By law, the Postal Service has to set prices for package delivery to cover the costs attributable to that service. But the postal service allocates only 5.5 percent of its total costs to its business of shipping packages even though that line of business is 28 percent of its total revenue. ",
         "politicsNews",
         "December 29, 2017 ",
         "0"
        ],
        [
         "5",
         "White House, Congress prepare for talks on spending, immigration",
         "WEST PALM BEACH, Fla./WASHINGTON (Reuters) - The White House said on Friday it was set to kick off talks next week with Republican and Democratic congressional leaders on immigration policy, government spending and other issues that need to be wrapped up early in the new year. The expected flurry of legislative activity comes as Republicans and Democrats begin to set the stage for midterm congressional elections in November. President Donald Trump’s Republican Party is eager to maintain control of Congress while Democrats look for openings to wrest seats away in the Senate and the House of Representatives. On Wednesday, Trump’s budget chief Mick Mulvaney and legislative affairs director Marc Short will meet with Senate Majority Leader Mitch McConnell and House Speaker Paul Ryan - both Republicans - and their Democratic counterparts, Senator Chuck Schumer and Representative Nancy Pelosi, the White House said. That will be followed up with a weekend of strategy sessions for Trump, McConnell and Ryan on Jan. 6 and 7 at the Camp David presidential retreat in Maryland, according to the White House. The Senate returns to work on Jan. 3 and the House on Jan. 8. Congress passed a short-term government funding bill last week before taking its Christmas break, but needs to come to an agreement on defense spending and various domestic programs by Jan. 19, or the government will shut down. Also on the agenda for lawmakers is disaster aid for people hit by hurricanes in Puerto Rico, Texas and Florida, and by wildfires in California. The House passed an $81 billion package in December, which the Senate did not take up. The White House has asked for a smaller figure, $44 billion. Deadlines also loom for soon-to-expire protections for young adult immigrants who entered the country illegally as children, known as “Dreamers.” In September, Trump ended Democratic former President Barack Obama’s Deferred Action for Childhood Arrivals (DACA) program, which protected Dreamers from deportation and provided work permits, effective in March, giving Congress until then to devise a long-term solution. Democrats, some Republicans and a number of large companies have pushed for DACA protections to continue. Trump and other Republicans have said that will not happen without Congress approving broader immigration policy changes and tougher border security. Democrats oppose funding for a wall promised by Trump along the U.S.-Mexican border.  “The Democrats have been told, and fully understand, that there can be no DACA without the desperately needed WALL at the Southern Border and an END to the horrible Chain Migration & ridiculous Lottery System of Immigration etc,” Trump said in a Twitter post on Friday. Trump wants to overhaul immigration rules for extended families and others seeking to live in the United States. Republican U.S. Senator Jeff Flake, a frequent critic of the president, said he would work with Trump to protect Dreamers. “We can fix DACA in a way that beefs up border security, stops chain migration for the DREAMers, and addresses the unfairness of the diversity lottery. If POTUS (Trump) wants to protect these kids, we want to help him keep that promise,” Flake wrote on Twitter. Congress in early 2018 also must raise the U.S. debt ceiling to avoid a government default. The U.S. Treasury would exhaust all of its borrowing options and run dry of cash to pay its bills by late March or early April if Congress does not raise the debt ceiling before then, according to the nonpartisan Congressional Budget Office. Trump, who won his first major legislative victory with the passage of a major tax overhaul this month, has also promised a major infrastructure plan. ",
         "politicsNews",
         "December 29, 2017 ",
         "0"
        ],
        [
         "6",
         "Trump says Russia probe will be fair, but timeline unclear: NYT",
         "WEST PALM BEACH, Fla (Reuters) - President Donald Trump said on Thursday he believes he will be fairly treated in a special counsel investigation into Russian meddling in the U.S. presidential election, but said he did not know how long the probe would last. The federal investigation has hung over Trump’s White House since he took office almost a year ago, and some Trump allies have in recent weeks accused the team of Justice Department Special Counsel Robert Mueller of being biased against the Republican president. But in an interview with the New York Times, Trump appeared to shrug off concerns about the investigation, which was prompted by U.S. intelligence agencies’ conclusion that Russia tried to help Trump defeat Democrat Hillary Clinton by hacking and releasing embarrassing emails and disseminating propaganda. “There’s been no collusion. But I think he’s going to be fair,” Trump said in what the Times described as a 30-minute impromptu interview at his golf club in West Palm Beach, Florida. Mueller has charged four Trump associates in his investigation. Russia has denied interfering in the U.S. election. U.S. Deputy Attorney General Rod Rosenstein said this month that he was not aware of any impropriety by Mueller’s team. Trump’s lawyers have been saying for weeks that they had expected the Mueller investigation to wrap up quickly, possibly by the end of 2017. Mueller has not commented on how long it will last. Trump told the Times that he did not know how long the investigation would take. “Timing-wise, I can’t tell you. I just don’t know,” he said. Trump said he thought a prolonged probe “makes the country look bad” but said it has energized his core supporters. “What it’s done is, it’s really angered the base and made the base stronger. My base is strong than it’s ever been,” he said. The interview was a rare break in Trump’s Christmas vacation in Florida. He has golfed each day aside from Christmas Day, and mainly kept a low profile, apart from the occasional flurry of tweets. He spent one day golfing with Republican Senator David Perdue from Georgia, who has pushed legislation to cap immigration numbers, and had dinner on Thursday with Commerce Secretary Wilbur Ross, an international trade hawk. Trump told the Times he hoped to work with Democrats in the U.S. Congress on a spending plan to fix roads and other infrastructure, and on protections for a group of undocumented immigrants who were brought to the United States as children. Trump spoke about trade issues, saying he had backed off his hard line on Chinese trade practices in the hope that Beijing would do more to pressure North Korea to end its nuclear and missile testing program. He said he had been disappointed in the results. He also complained about the North American Free Trade Agreement (NAFTA), which his administration is attempting to renegotiate in talks with Mexico and Canada. Trump said Canadian Prime Minister Justin Trudeau had played down the importance of Canadian oil and lumber exports to the United States when looking at the balance of trade between the two countries. “If I don’t make the right deal, I’ll terminate NAFTA in two seconds. But we’re doing pretty good,” Trump said. ",
         "politicsNews",
         "December 29, 2017 ",
         "0"
        ],
        [
         "7",
         "Factbox: Trump on Twitter (Dec 29) - Approval rating, Amazon",
         "The following statements were posted to the verified Twitter accounts of U.S. President Donald Trump, @realDonaldTrump and @POTUS.  The opinions expressed are his own. Reuters has not edited the statements or confirmed their accuracy.  @realDonaldTrump : - While the Fake News loves to talk about my so-called low approval rating, @foxandfriends just showed that my rating on Dec. 28, 2017, was approximately the same as President Obama on Dec. 28, 2009, which was 47%...and this despite massive negative Trump coverage & Russia hoax! [0746 EST] - Why is the United States Post Office, which is losing many billions of dollars a year, while charging Amazon and others so little to deliver their packages, making Amazon richer and the Post Office dumber and poorer? Should be charging MUCH MORE! [0804 EST] -- Source link: (bit.ly/2jBh4LU) (bit.ly/2jpEXYR) ",
         "politicsNews",
         "December 29, 2017 ",
         "0"
        ],
        [
         "8",
         "Trump on Twitter (Dec 28) - Global Warming",
         "The following statements were posted to the verified Twitter accounts of U.S. President Donald Trump, @realDonaldTrump and @POTUS.  The opinions expressed are his own. Reuters has not edited the statements or confirmed their accuracy.  @realDonaldTrump : - Together, we are MAKING AMERICA GREAT AGAIN! bit.ly/2lnpKaq [1814 EST] - In the East, it could be the COLDEST New Year’s Eve on record. Perhaps we could use a little bit of that good old Global Warming that our Country, but not other countries, was going to pay TRILLIONS OF DOLLARS to protect against. Bundle up! [1901 EST] -- Source link: (bit.ly/2jBh4LU) (bit.ly/2jpEXYR) ",
         "politicsNews",
         "December 29, 2017 ",
         "0"
        ],
        [
         "9",
         "Alabama official to certify Senator-elect Jones today despite challenge: CNN",
         "WASHINGTON (Reuters) - Alabama Secretary of State John Merrill said he will certify Democratic Senator-elect Doug Jones as winner on Thursday despite opponent Roy Moore’s challenge, in a phone call on CNN. Moore, a conservative who had faced allegations of groping teenage girls when he was in his 30s, filed a court challenge late on Wednesday to the outcome of a U.S. Senate election he unexpectedly lost. ",
         "politicsNews",
         "December 28, 2017 ",
         "0"
        ],
        [
         "10",
         "Jones certified U.S. Senate winner despite Moore challenge",
         "(Reuters) - Alabama officials on Thursday certified Democrat Doug Jones the winner of the state’s U.S. Senate race, after a state judge denied a challenge by Republican Roy Moore, whose campaign was derailed by accusations of sexual misconduct with teenage girls. Jones won the vacant seat by about 22,000 votes, or 1.6 percentage points, election officials said. That made him the first Democrat in a quarter of a century to win a Senate seat in Alabama.  The seat was previously held by Republican Jeff Sessions, who was tapped by U.S. President Donald Trump as attorney general. A state canvassing board composed of Alabama Secretary of State John Merrill, Governor Kay Ivey and Attorney General Steve Marshall certified the election results. Seating Jones will narrow the Republican majority in the Senate to 51 of 100 seats. In a statement, Jones called his victory “a new chapter” and pledged to work with both parties. Moore declined to concede defeat even after Trump urged him to do so. He stood by claims of a fraudulent election in a statement released after the certification and said he had no regrets, media outlets reported. An Alabama judge denied Moore’s request to block certification of the results of the Dec. 12 election in a decision shortly before the canvassing board met. Moore’s challenge alleged there had been potential voter fraud that denied him a chance of victory. His filing on Wednesday in the Montgomery Circuit Court sought to halt the meeting scheduled to ratify Jones’ win on Thursday. Moore could ask for a recount, in addition to possible other court challenges, Merrill said in an interview with Fox News Channel. He would have to complete paperwork “within a timed period” and show he has the money for a challenge, Merrill said. “We’ve not been notified yet of their intention to do that,” Merrill said. Regarding the claim of voter fraud, Merrill told CNN that more than 100 cases had been reported. “We’ve adjudicated more than 60 of those. We will continue to do that,” he said.  Republican lawmakers in Washington had distanced themselves from Moore and called for him to drop out of the race after several women accused him of sexual assault or misconduct dating back to when they were teenagers and he was in his early 30s.  Moore has denied wrongdoing and Reuters has not been able to independently verify the allegations. ",
         "politicsNews",
         "December 28, 2017 ",
         "0"
        ],
        [
         "11",
         "New York governor questions the constitutionality of federal tax overhaul",
         "NEW YORK/WASHINGTON (Reuters) - The new U.S. tax code targets high-tax states and may be unconstitutional, New York Governor Andrew Cuomo said on Thursday, saying that the bill may violate New York residents’ rights to due process and equal protection.  The sweeping Republican tax bill signed into law by U.S. President Donald Trump on Friday introduces a cap, of $10,000,  on deductions of state and local income and property taxes, known as SALT. The tax overhaul was the party’s first major legislative victory since Trump took office in January.  The SALT provision will hit many taxpayers in states with high incomes, high property values and high taxes, like New York, New Jersey and California. Those states are generally Democratic leaning.  “I’m not even sure what they did is legally constitutional and that’s something we’re looking at now,” Cuomo said in an interview with CNN. In an interview with CNBC, Cuomo suggested why the bill may be unconstitutional.  “Politics does not trump the law,” Cuomo said on CNBC. “You have the constitution, you have the law, you have due process, you have equal protection. You can’t use politics just because the majority controls to override the law.” The Fifth Amendment of the Constitution, better known for its protection against self-incrimination, also protects individuals from seizure of life, liberty or property without due process and has been interpreted by the Supreme Court as guaranteeing equal protection by the law.  Cuomo and California Governor Jerry Brown, both Democrats, have previously said they were exploring legal challenges to SALT deduction limits.  Law professors have said legal challenges would likely rest on arguing that the provision interferes with the protection of states’ rights under the U.S. Constitution’s 10th Amendment. Tax attorneys said Cuomo’s legal argument against the tax bill could be that it discriminates and places an unjust tax burden on states that heavily voted for Democrats in the past - known as “blue states.” “The de facto effect of this legislation is to discriminate against blue states and particularly from (Cuomo’s) perspective the state of New York,” said Joseph Callahan, an attorney with the law firm Mackay, Caswell & Callahan in New York.  But some tax experts noted the U.S. Supreme Court has interpreted the 16th Amendment to give Congress broad latitude to tax as it sees fit. In a frequently cited 1934 decision, the Supreme Court called tax deductions a “legislative grace” rather than a vested right. “I don’t understand how they think they have a valid lawsuit here,” David Gamage, a professor of tax law at Indiana University’s Maurer School of Law, told Reuters last week, speaking generally about governors in blue states that could challenge the tax bill.  Cuomo also said on Thursday that New York is proposing a restructuring of its tax code. He provided no details.  A group of 13 law professors on Dec. 18 published a paper suggesting ways that high-tax states could minimize the effects of the SALT deduction cap.  Their suggestions included shifting more of the tax burden onto businesses in the form of higher employer-side payroll taxes, since the federal tax bill’s cap on SALT deductions only applies to individuals and not businesses. States also could raise taxes on pass-through entities, which the federal tax bill specifically benefits with a lower rate on a portion of their income. On Friday, Cuomo said he would allow state residents to make a partial or full pre-payment on their property tax bill before Jan. 1, allowing taxpapyers to deduct such payments for 2017 before the cap kicks in, prompting a wave of residents to pay early.  However, the U.S. Internal Revenue Service on Wednesday advised homeowners that the pre-payment of 2018 property taxes may not be deductible. ",
         "politicsNews",
         "December 28, 2017 ",
         "0"
        ],
        [
         "12",
         "Factbox: Trump on Twitter (Dec 28) - Vanity Fair, Hillary Clinton",
         "The following statements were posted to the verified Twitter accounts of U.S. President Donald Trump, @realDonaldTrump and @POTUS.  The opinions expressed are his own. Reuters has not edited the statements or confirmed their accuracy.  @realDonaldTrump : - Vanity Fair, which looks like it is on its last legs, is bending over backwards in apologizing for the minor hit they took at Crooked H. Anna Wintour, who was all set to be Amb to Court of St James’s & a big fundraiser for CH, is beside herself in grief & begging for forgiveness! [1024 EST] -- Source link: (bit.ly/2jBh4LU) (bit.ly/2jpEXYR) ",
         "politicsNews",
         "December 28, 2017 ",
         "0"
        ],
        [
         "13",
         "Trump on Twitter (Dec 27) - Trump, Iraq, Syria",
         "The following statements were posted to the verified Twitter accounts of U.S. President Donald Trump, @realDonaldTrump and @POTUS.  The opinions expressed are his own. Reuters has not edited the statements or confirmed their accuracy.  @realDonaldTrump : - “On 1/20 - the day Trump was inaugurated - an estimated 35,000 ISIS fighters held approx 17,500 square miles of territory in both Iraq and Syria. As of 12/21, the U.S. military estimates the remaining 1,000 or so fighters occupy roughly 1,900 square miles...” via @jamiejmcintyre  [1749 EST] - Just left West Palm Beach Fire & Rescue #2. Met with great men and women as representatives of those who do so much for all of us. Firefighters, paramedics, first responders - what amazing people they are! [1811 EST] - “On 1/20 - the day Trump was inaugurated - an estimated 35,000 ISIS fighters held approx 17,500 square miles of territory in both Iraq and Syria. As of 12/21, the U.S. military est the remaining 1,000 or so fighters occupy roughly 1,900 square miles..” @jamiejmcintyre @dcexaminer [2109 EST] - \"Arrests of MS-13 Members, Associates Up 83% Under Trump\" bit.ly/2liRH3b [2146 EST] -- Source link: (bit.ly/2jBh4LU) (bit.ly/2jpEXYR) ",
         "politicsNews",
         "December 28, 2017 ",
         "0"
        ],
        [
         "14",
         "Man says he delivered manure to Mnuchin to protest new U.S. tax law",
         " (In Dec. 25 story, in second paragraph, corrects name of Strong’s employer to Mental Health Department, not Public Health Department.) By Bernie Woodall (Reuters) - A man claiming to be the person who delivered a gift-wrapped package of horse manure at the Los Angeles home of U.S. Treasury Secretary Steven Mnuchin said on Monday he did it to protest the federal tax overhaul signed into law last week by President Donald Trump. Robert Strong, 45, a psychologist for the Los Angeles County Mental Health Department, said by telephone he left the poop-filled parcel addressed to Mnuchin and Trump in the driveway outside Mnuchin’s home in the posh Bel Air community.  KNBC-TV, an NBC television affiliate in Los Angeles, reported Mnuchin was not home at the time. The package was found by Mnuchin’s neighbor.    “Protest really should be funny,” Strong told Reuters. “People’s eyes glaze over when they just see angry people in the streets.” He believes the new tax law will hurt poor people. Neither the U.S. Secret Service nor the Los Angeles Police Department, both of which investigated the incident, would confirm Strong was responsible. The Secret Service interviewed an individual who admitted delivering the package, but no charges had been filed against him as of Monday afternoon. LAPD Lieutenant Rob Weise said it was possible whoever left the package did not break any criminal laws. While he is not assigned to investigate the incident, Weise said if the box did not present any danger, it would not be illegal. The LAPD bomb squad X-rayed the box before opening it on Saturday. In a photo of the card Strong posted on Twitter, he wrote “Misters Mnuchin & Trump, We’re returning the ‘gift’ of the Christmas tax bill” and signed it “Warmest wishes, The American people.”      Strong said a Secret Service agent, accompanied by six police officers, showed up at his house to question him on Sunday night, and the agent chided him, asking, “‘Are you ashamed of your behavior?’”     The White House declined to comment on Monday and officials with the Treasury Department could not be reached.         ",
         "politicsNews",
         "December 25, 2017 ",
         "0"
        ]
       ],
       "shape": {
        "columns": 5,
        "rows": 15
       }
      },
      "text/html": [
       "<div>\n",
       "<style scoped>\n",
       "    .dataframe tbody tr th:only-of-type {\n",
       "        vertical-align: middle;\n",
       "    }\n",
       "\n",
       "    .dataframe tbody tr th {\n",
       "        vertical-align: top;\n",
       "    }\n",
       "\n",
       "    .dataframe thead th {\n",
       "        text-align: right;\n",
       "    }\n",
       "</style>\n",
       "<table border=\"1\" class=\"dataframe\">\n",
       "  <thead>\n",
       "    <tr style=\"text-align: right;\">\n",
       "      <th></th>\n",
       "      <th>title</th>\n",
       "      <th>text</th>\n",
       "      <th>subject</th>\n",
       "      <th>date</th>\n",
       "      <th>target</th>\n",
       "    </tr>\n",
       "  </thead>\n",
       "  <tbody>\n",
       "    <tr>\n",
       "      <th>0</th>\n",
       "      <td>As U.S. budget fight looms, Republicans flip t...</td>\n",
       "      <td>WASHINGTON (Reuters) - The head of a conservat...</td>\n",
       "      <td>politicsNews</td>\n",
       "      <td>December 31, 2017</td>\n",
       "      <td>0</td>\n",
       "    </tr>\n",
       "    <tr>\n",
       "      <th>1</th>\n",
       "      <td>U.S. military to accept transgender recruits o...</td>\n",
       "      <td>WASHINGTON (Reuters) - Transgender people will...</td>\n",
       "      <td>politicsNews</td>\n",
       "      <td>December 29, 2017</td>\n",
       "      <td>0</td>\n",
       "    </tr>\n",
       "    <tr>\n",
       "      <th>2</th>\n",
       "      <td>Senior U.S. Republican senator: 'Let Mr. Muell...</td>\n",
       "      <td>WASHINGTON (Reuters) - The special counsel inv...</td>\n",
       "      <td>politicsNews</td>\n",
       "      <td>December 31, 2017</td>\n",
       "      <td>0</td>\n",
       "    </tr>\n",
       "    <tr>\n",
       "      <th>3</th>\n",
       "      <td>FBI Russia probe helped by Australian diplomat...</td>\n",
       "      <td>WASHINGTON (Reuters) - Trump campaign adviser ...</td>\n",
       "      <td>politicsNews</td>\n",
       "      <td>December 30, 2017</td>\n",
       "      <td>0</td>\n",
       "    </tr>\n",
       "    <tr>\n",
       "      <th>4</th>\n",
       "      <td>Trump wants Postal Service to charge 'much mor...</td>\n",
       "      <td>SEATTLE/WASHINGTON (Reuters) - President Donal...</td>\n",
       "      <td>politicsNews</td>\n",
       "      <td>December 29, 2017</td>\n",
       "      <td>0</td>\n",
       "    </tr>\n",
       "    <tr>\n",
       "      <th>5</th>\n",
       "      <td>White House, Congress prepare for talks on spe...</td>\n",
       "      <td>WEST PALM BEACH, Fla./WASHINGTON (Reuters) - T...</td>\n",
       "      <td>politicsNews</td>\n",
       "      <td>December 29, 2017</td>\n",
       "      <td>0</td>\n",
       "    </tr>\n",
       "    <tr>\n",
       "      <th>6</th>\n",
       "      <td>Trump says Russia probe will be fair, but time...</td>\n",
       "      <td>WEST PALM BEACH, Fla (Reuters) - President Don...</td>\n",
       "      <td>politicsNews</td>\n",
       "      <td>December 29, 2017</td>\n",
       "      <td>0</td>\n",
       "    </tr>\n",
       "    <tr>\n",
       "      <th>7</th>\n",
       "      <td>Factbox: Trump on Twitter (Dec 29) - Approval ...</td>\n",
       "      <td>The following statements were posted to the ve...</td>\n",
       "      <td>politicsNews</td>\n",
       "      <td>December 29, 2017</td>\n",
       "      <td>0</td>\n",
       "    </tr>\n",
       "    <tr>\n",
       "      <th>8</th>\n",
       "      <td>Trump on Twitter (Dec 28) - Global Warming</td>\n",
       "      <td>The following statements were posted to the ve...</td>\n",
       "      <td>politicsNews</td>\n",
       "      <td>December 29, 2017</td>\n",
       "      <td>0</td>\n",
       "    </tr>\n",
       "    <tr>\n",
       "      <th>9</th>\n",
       "      <td>Alabama official to certify Senator-elect Jone...</td>\n",
       "      <td>WASHINGTON (Reuters) - Alabama Secretary of St...</td>\n",
       "      <td>politicsNews</td>\n",
       "      <td>December 28, 2017</td>\n",
       "      <td>0</td>\n",
       "    </tr>\n",
       "    <tr>\n",
       "      <th>10</th>\n",
       "      <td>Jones certified U.S. Senate winner despite Moo...</td>\n",
       "      <td>(Reuters) - Alabama officials on Thursday cert...</td>\n",
       "      <td>politicsNews</td>\n",
       "      <td>December 28, 2017</td>\n",
       "      <td>0</td>\n",
       "    </tr>\n",
       "    <tr>\n",
       "      <th>11</th>\n",
       "      <td>New York governor questions the constitutional...</td>\n",
       "      <td>NEW YORK/WASHINGTON (Reuters) - The new U.S. t...</td>\n",
       "      <td>politicsNews</td>\n",
       "      <td>December 28, 2017</td>\n",
       "      <td>0</td>\n",
       "    </tr>\n",
       "    <tr>\n",
       "      <th>12</th>\n",
       "      <td>Factbox: Trump on Twitter (Dec 28) - Vanity Fa...</td>\n",
       "      <td>The following statements were posted to the ve...</td>\n",
       "      <td>politicsNews</td>\n",
       "      <td>December 28, 2017</td>\n",
       "      <td>0</td>\n",
       "    </tr>\n",
       "    <tr>\n",
       "      <th>13</th>\n",
       "      <td>Trump on Twitter (Dec 27) - Trump, Iraq, Syria</td>\n",
       "      <td>The following statements were posted to the ve...</td>\n",
       "      <td>politicsNews</td>\n",
       "      <td>December 28, 2017</td>\n",
       "      <td>0</td>\n",
       "    </tr>\n",
       "    <tr>\n",
       "      <th>14</th>\n",
       "      <td>Man says he delivered manure to Mnuchin to pro...</td>\n",
       "      <td>(In Dec. 25 story, in second paragraph, corre...</td>\n",
       "      <td>politicsNews</td>\n",
       "      <td>December 25, 2017</td>\n",
       "      <td>0</td>\n",
       "    </tr>\n",
       "  </tbody>\n",
       "</table>\n",
       "</div>"
      ],
      "text/plain": [
       "                                                title  \\\n",
       "0   As U.S. budget fight looms, Republicans flip t...   \n",
       "1   U.S. military to accept transgender recruits o...   \n",
       "2   Senior U.S. Republican senator: 'Let Mr. Muell...   \n",
       "3   FBI Russia probe helped by Australian diplomat...   \n",
       "4   Trump wants Postal Service to charge 'much mor...   \n",
       "5   White House, Congress prepare for talks on spe...   \n",
       "6   Trump says Russia probe will be fair, but time...   \n",
       "7   Factbox: Trump on Twitter (Dec 29) - Approval ...   \n",
       "8          Trump on Twitter (Dec 28) - Global Warming   \n",
       "9   Alabama official to certify Senator-elect Jone...   \n",
       "10  Jones certified U.S. Senate winner despite Moo...   \n",
       "11  New York governor questions the constitutional...   \n",
       "12  Factbox: Trump on Twitter (Dec 28) - Vanity Fa...   \n",
       "13     Trump on Twitter (Dec 27) - Trump, Iraq, Syria   \n",
       "14  Man says he delivered manure to Mnuchin to pro...   \n",
       "\n",
       "                                                 text       subject  \\\n",
       "0   WASHINGTON (Reuters) - The head of a conservat...  politicsNews   \n",
       "1   WASHINGTON (Reuters) - Transgender people will...  politicsNews   \n",
       "2   WASHINGTON (Reuters) - The special counsel inv...  politicsNews   \n",
       "3   WASHINGTON (Reuters) - Trump campaign adviser ...  politicsNews   \n",
       "4   SEATTLE/WASHINGTON (Reuters) - President Donal...  politicsNews   \n",
       "5   WEST PALM BEACH, Fla./WASHINGTON (Reuters) - T...  politicsNews   \n",
       "6   WEST PALM BEACH, Fla (Reuters) - President Don...  politicsNews   \n",
       "7   The following statements were posted to the ve...  politicsNews   \n",
       "8   The following statements were posted to the ve...  politicsNews   \n",
       "9   WASHINGTON (Reuters) - Alabama Secretary of St...  politicsNews   \n",
       "10  (Reuters) - Alabama officials on Thursday cert...  politicsNews   \n",
       "11  NEW YORK/WASHINGTON (Reuters) - The new U.S. t...  politicsNews   \n",
       "12  The following statements were posted to the ve...  politicsNews   \n",
       "13  The following statements were posted to the ve...  politicsNews   \n",
       "14   (In Dec. 25 story, in second paragraph, corre...  politicsNews   \n",
       "\n",
       "                  date  target  \n",
       "0   December 31, 2017        0  \n",
       "1   December 29, 2017        0  \n",
       "2   December 31, 2017        0  \n",
       "3   December 30, 2017        0  \n",
       "4   December 29, 2017        0  \n",
       "5   December 29, 2017        0  \n",
       "6   December 29, 2017        0  \n",
       "7   December 29, 2017        0  \n",
       "8   December 29, 2017        0  \n",
       "9   December 28, 2017        0  \n",
       "10  December 28, 2017        0  \n",
       "11  December 28, 2017        0  \n",
       "12  December 28, 2017        0  \n",
       "13  December 28, 2017        0  \n",
       "14  December 25, 2017        0  "
      ]
     },
     "execution_count": 8,
     "metadata": {},
     "output_type": "execute_result"
    }
   ],
   "source": [
    "data_true.head(15)"
   ]
  },
  {
   "cell_type": "markdown",
   "metadata": {},
   "source": [
    "обратим внимание на WASHINGTON (Reuters) - подобная конструкция встречается в начале каждой True новости. Это необходимо убрать"
   ]
  },
  {
   "cell_type": "code",
   "execution_count": 9,
   "metadata": {
    "execution": {
     "iopub.execute_input": "2025-05-25T23:22:32.773350Z",
     "iopub.status.busy": "2025-05-25T23:22:32.773062Z",
     "iopub.status.idle": "2025-05-25T23:22:32.780533Z",
     "shell.execute_reply": "2025-05-25T23:22:32.779722Z",
     "shell.execute_reply.started": "2025-05-25T23:22:32.773328Z"
    },
    "trusted": true
   },
   "outputs": [],
   "source": [
    "data =  pd.concat([data_fake, data_true])"
   ]
  },
  {
   "cell_type": "code",
   "execution_count": 10,
   "metadata": {
    "execution": {
     "iopub.execute_input": "2025-05-25T23:22:33.069984Z",
     "iopub.status.busy": "2025-05-25T23:22:33.069699Z",
     "iopub.status.idle": "2025-05-25T23:22:33.089117Z",
     "shell.execute_reply": "2025-05-25T23:22:33.088363Z",
     "shell.execute_reply.started": "2025-05-25T23:22:33.069963Z"
    },
    "trusted": true
   },
   "outputs": [
    {
     "data": {
      "application/vnd.microsoft.datawrangler.viewer.v0+json": {
       "columns": [
        {
         "name": "index",
         "rawType": "int64",
         "type": "integer"
        },
        {
         "name": "title",
         "rawType": "object",
         "type": "string"
        },
        {
         "name": "text",
         "rawType": "object",
         "type": "string"
        },
        {
         "name": "subject",
         "rawType": "object",
         "type": "string"
        },
        {
         "name": "date",
         "rawType": "object",
         "type": "string"
        },
        {
         "name": "target",
         "rawType": "int64",
         "type": "integer"
        }
       ],
       "ref": "03092b15-2f7f-46d3-8b13-1726a45e9610",
       "rows": [
        [
         "5208",
         " This Roofing Company Wants To Arm All Its Customers With AR-15s (VIDEO)",
         "When you think of roofs and AR-15s, a great marketing campaign might not be the first thing to come to mind, but a roofing company in Colorado is offering the guns to anyone who buys a new roof.Weatherproof Roofing is just a few miles from the scenes of two of the nation s most notorious mass shootings: the Aurora shooting at a Batman movie and the Columbine High School shooting, which seemed to start our epidemic of mass shootings. AR-15s are a common choice for mass shooters, including the Orlando shooter, who killed 49 people, making it the deadliest mass shooting in U.S. history. So, somehow, James Webb, the owner of the roofing company, thought his customers would love to get their hands on a free killing machine. We are the only roofing company in the country that is offering this we figured we take a stand on what we believe,  Webb said. We help people protect the outside, and now we empower people to protect the inside,  Webb said.Source: ABC7 ChicagoHere s the video:Yes, the Supreme Court has ruled that the Second Amendment means people can own guns, lots of guns if they want, but AR-15s are particularly deadly and basically unnecessary, unless you plan on heading to war.AR-15s were once banned in this country, but after the assault weapons ban expired in 2004, they became even easier to obtain than handguns. Some states have regulated assault weapons, such as the AR-15, but Colorado, while liberal in some areas, loves their guns and hates their gun laws. Only the city of Denver bans assault weapons.Image via Think ProgressThe bottom line, though, is that while AR-15s have benefitted from an incredible marketing campaign, including one that tries to redefine masculinity (apparently for those who are not sure of their masculinity), it s a military style weapon and there s almost no practical use. For hunting, it could blow the prey to bits and for self defense, it could blow a house to bits. Of course, a good way for a roofing company to get repeat business is to give people toys that will blow holes through the new roof. As for the people who don t want AR-15s, Webb invites them to get their roofs elsewhere.Featured image via video screen capture. ",
         "News",
         "August 2, 2016",
         "1"
        ],
        [
         "5676",
         "Trump aide cites 'massacre' that never occurred to defend immigrant ban",
         "(Reuters) - A Trump administration aide corrected herself on Friday after being widely criticized for referencing a 2011 “Bowling Green massacre” in Kentucky that never occurred to defend President Donald Trump’s temporary ban on immigrants from seven Muslim-majority countries. White House adviser Kellyanne Conway said in an interview with MSNBC’s Chris Matthews on Thursday that Trump’s executive order was justified in part by the “Bowling Green massacre” of 2011. She added, “Most people don’t know that because it didn’t get covered.”  During the interview Conway told how two Iraqis who came to the United States and were radicalized “were the masterminds behind the Bowling Green massacre.” No such event occurred.  Conway corrected herself on Friday in a post on Twitter, saying, “Honest mistakes abound.” The phrase “Bowling Green massacre” was the top trending topic on Twitter on Friday morning as thousands of social media users mocked Conway. “Very grateful no one seriously hurt in the Louvre attack ... or the (completely fake) Bowling Green Massacre. Please don’t make up attacks,” tweeted Chelsea Clinton (@ChelseaClinton) on Friday.  In May 2011, two Iraqi men were arrested in Bowling Green, Kentucky, and charged with attempting to send weapons and money to al Qaeda in Iraq. They admitted to using improvised explosive devices against U.S. soldiers in Iraq. Mohanad Shareef Hammadi and Waad Ramadan Alwan pleaded guilty and were sentenced to life in prison and 40 years in prison, respectively. Prosecutors at the time said neither was charged with plotting attacks within the United States. Conway said on Twitter that she meant to say “Bowling Green terrorists.” She also slammed a network reporter for criticizing her. “NBC reporter texted me at 632am re:a diff story; never asked what I meant on @Hardball b4 slamming me on @TODAYshow Not cool, not journalism,” Conway (@KellyannePolls) wrote. On Inauguration Day, Zeke Miller, a TIME Magazine reporter, incorrectly reported that Dr. Martin Luther King Jr.’s bust was removed from the oval office, causing an uproar on social media. Miller (@ZekeJMiller), tweeted later that evening that the bust “was obscured by an agent and a door” and issued multiple apologies for his error. In a similar reaction to Conway, Trump’s administration responded by ripping the media for spreading fake news, with spokesman Sean Spicer describing his actions as “deliberately false reporting” during his first White House press briefing. As “Bowling Green massacre” swept social media, a website called “The Bowling Green Massacre Fund” carrying a parody of Conway’s comments surfaced on Friday. It read, “We all still carry the vivid memories of what horrors occurred at Bowling Green, but some still relive those moments everyday as they work to rebuild a community torn apart.” Clicking on the “donate now” button on the website leads to a donation site of the American Civil Liberties Union (ACLU). The ACLU did not return calls seeking comment.   ",
         "politicsNews",
         "February 3, 2017 ",
         "0"
        ],
        [
         "8001",
         "Obama names U.S. ambassador to Cuba, setting up confirmation fight",
         "WASHINGTON (Reuters) - President Barack Obama on Tuesday nominated career diplomat Jeffrey DeLaurentis to be the first U.S. ambassador to Cuba in more than five decades, setting up a fierce confirmation battle with Republicans in Congress opposed to Obama’s opening with the communist-ruled island. The appointment of DeLaurentis, the top American official at the U.S. embassy in Havana since relations were restored last year, marked Obama’s latest move to go as far as he can in normalizing ties between the former Cold War foes before he leaves office in January. The nomination must be approved by the Republican-controlled Senate, which is seen as a long shot, especially in a presidential election year and given expected strong resistance from Cuban-American senators including Marco Rubio of Florida and Ted Cruz of Texas. Rubio, in a blistering statement, derided the nomination as a “last-ditch legacy project” by Obama and said it “should go nowhere.” An individual senator has the power - one that is often invoked - to put a “hold” on an ambassadorial nomination to delay a full Senate vote. In a veiled appeal to lawmakers, Obama praised DeLaurentis for his leadership during the normalization process. “We only hurt ourselves by not being represented by an ambassador” in Havana, he said in a statement. “Having an ambassador will make it easier to advocate for our interests and will deepen our understanding even when we know that we will continue to have differences with the Cuban government,” Obama said. DeLaurentis had been widely tipped for the post. But the president held off naming him until now even as Cuba appointed its own ambassador to Washington shortly after embassies were reopened in both countries’ capitals in July of last year. He would be the first U.S. envoy since Philip Bonsal, an appointee of President Dwight Eisenhower, left the post vacant in late 1960. Obama traveled to Havana in March, the first visit by a U.S. president in 88 years. The trip was made possible by his breakthrough agreement with Cuban President Raul Castro in December 2014 to cast aside decades of hostility that began soon after Cuba’s 1959 revolution. Since the opening, Obama has repeatedly used his executive powers to relax trade and travel restrictions, while pushing Cuba to accelerate cautious market-style reforms and allow greater political and economic freedom. Even so, the U.S. embargo against Cuba remains in place, a major irritant in relations. Only Congress can lift the embargo, and the Republican leadership is not expected to allow such a move anytime soon. DeLaurentis has been U.S. chief of mission in Cuba since August 2014, his third posting in Havana. He has also held diplomatic posts at the State Department in Washington, at the U.S. mission to the United Nations and in Bogota. ",
         "politicsNews",
         "September 27, 2016 ",
         "0"
        ],
        [
         "17338",
         "Chance of 'no deal' Brexit rises to 1-in-4: JPMorgan",
         "LONDON (Reuters) - The probability that Britain exits the European Union without having agreed a divorce deal has risen to 25 percent, compared with 15 percent previously, JPMorgan said on Monday.  With the possibility of  no deal  having been an active part of the UK political discussion for a couple of weeks, our confidence... has been shaken a little,  JPMorgan economist Malcolm Barr said in a note to clients.  As a result, we have revised our set of probabilities on March 2019 outturns to show a somewhat higher probability of no-deal.  ",
         "worldnews",
         "October 16, 2017 ",
         "0"
        ],
        [
         "22984",
         "Hollywood Hip to Al Qaeda: ‘And the Oscar for Best Documentary Short goes to…’",
         " Alex Christoforou The DuranIt should come as no surprise that a film celebrating the White Helmets scooped up an Oscar for best short documentary. Might as well hand the Oscar to ISIS leader Ab  Bakr al-Baghdadi.Far from a humanitarian organisation, the White Helmets are an Al Qaeda staffed propaganda group that is embedded with brutal jihadists looking to overthrow the sovereign government of Syria.Watch this CrossTalk episode to learn who the White Helmets represent  Al Jazeera reports Accepting the Academy Award, director Orlando von Einsiedel urged the audience to stand up and call for an end to Syria s six-year civil war, which led to a standing ovation.Von Einsiedel read out a statement from White Helmets founder Raed al-Saleh, in which he thanked the academy and said the group had saved tens of thousands of lives since it was formed in 2014. We are so grateful that this film has highlighted our work to the world. Our organisation is guided by a verse from the Quran: to save one life is to save all of humanity,  Saleh s statement said. We have saved more than 82,000 Syrian lives. I invite anyone here who hears me to work on the side of life to stop the bloodshed in Syria and around the world. Rescue workers in Syria are at risk of being killed in so-called  double tap  air raids that target them as they arrive at the scene of an air strike. The group says that many of its volunteers have been killed.Syrian cinematographer Khaled Khatib who worked on the documentary was unable to attend after being barred from entering the United States, despite being granted a visa.US officials reportedly discovered  derogatory information  about him, according to a document seen by the Associated Press news agency.The film s producer Joanna Natasegara told AP on Sunday that the decision was  sad and confusing. Nothing sad and confusing  about it. The White Helmets are Al Nusra, aka Al Qaeda, aka ISIS.Need more proof? WATCH THIS VIDEO. SHARE THESE IMAGES  READ MORE WHITE HELMETS NEWS AT: 21st Century Wire White Helmet FilesSUPPORT 21WIRE  SUBSCRIBE & BECOME A MEMBER@21WIRE.TV",
         "Middle-east",
         "February 28, 2017",
         "1"
        ]
       ],
       "shape": {
        "columns": 5,
        "rows": 5
       }
      },
      "text/html": [
       "<div>\n",
       "<style scoped>\n",
       "    .dataframe tbody tr th:only-of-type {\n",
       "        vertical-align: middle;\n",
       "    }\n",
       "\n",
       "    .dataframe tbody tr th {\n",
       "        vertical-align: top;\n",
       "    }\n",
       "\n",
       "    .dataframe thead th {\n",
       "        text-align: right;\n",
       "    }\n",
       "</style>\n",
       "<table border=\"1\" class=\"dataframe\">\n",
       "  <thead>\n",
       "    <tr style=\"text-align: right;\">\n",
       "      <th></th>\n",
       "      <th>title</th>\n",
       "      <th>text</th>\n",
       "      <th>subject</th>\n",
       "      <th>date</th>\n",
       "      <th>target</th>\n",
       "    </tr>\n",
       "  </thead>\n",
       "  <tbody>\n",
       "    <tr>\n",
       "      <th>5208</th>\n",
       "      <td>This Roofing Company Wants To Arm All Its Cus...</td>\n",
       "      <td>When you think of roofs and AR-15s, a great ma...</td>\n",
       "      <td>News</td>\n",
       "      <td>August 2, 2016</td>\n",
       "      <td>1</td>\n",
       "    </tr>\n",
       "    <tr>\n",
       "      <th>5676</th>\n",
       "      <td>Trump aide cites 'massacre' that never occurre...</td>\n",
       "      <td>(Reuters) - A Trump administration aide correc...</td>\n",
       "      <td>politicsNews</td>\n",
       "      <td>February 3, 2017</td>\n",
       "      <td>0</td>\n",
       "    </tr>\n",
       "    <tr>\n",
       "      <th>8001</th>\n",
       "      <td>Obama names U.S. ambassador to Cuba, setting u...</td>\n",
       "      <td>WASHINGTON (Reuters) - President Barack Obama ...</td>\n",
       "      <td>politicsNews</td>\n",
       "      <td>September 27, 2016</td>\n",
       "      <td>0</td>\n",
       "    </tr>\n",
       "    <tr>\n",
       "      <th>17338</th>\n",
       "      <td>Chance of 'no deal' Brexit rises to 1-in-4: JP...</td>\n",
       "      <td>LONDON (Reuters) - The probability that Britai...</td>\n",
       "      <td>worldnews</td>\n",
       "      <td>October 16, 2017</td>\n",
       "      <td>0</td>\n",
       "    </tr>\n",
       "    <tr>\n",
       "      <th>22984</th>\n",
       "      <td>Hollywood Hip to Al Qaeda: ‘And the Oscar for ...</td>\n",
       "      <td>Alex Christoforou The DuranIt should come as ...</td>\n",
       "      <td>Middle-east</td>\n",
       "      <td>February 28, 2017</td>\n",
       "      <td>1</td>\n",
       "    </tr>\n",
       "  </tbody>\n",
       "</table>\n",
       "</div>"
      ],
      "text/plain": [
       "                                                   title  \\\n",
       "5208    This Roofing Company Wants To Arm All Its Cus...   \n",
       "5676   Trump aide cites 'massacre' that never occurre...   \n",
       "8001   Obama names U.S. ambassador to Cuba, setting u...   \n",
       "17338  Chance of 'no deal' Brexit rises to 1-in-4: JP...   \n",
       "22984  Hollywood Hip to Al Qaeda: ‘And the Oscar for ...   \n",
       "\n",
       "                                                    text       subject  \\\n",
       "5208   When you think of roofs and AR-15s, a great ma...          News   \n",
       "5676   (Reuters) - A Trump administration aide correc...  politicsNews   \n",
       "8001   WASHINGTON (Reuters) - President Barack Obama ...  politicsNews   \n",
       "17338  LONDON (Reuters) - The probability that Britai...     worldnews   \n",
       "22984   Alex Christoforou The DuranIt should come as ...   Middle-east   \n",
       "\n",
       "                      date  target  \n",
       "5208        August 2, 2016       1  \n",
       "5676     February 3, 2017        0  \n",
       "8001   September 27, 2016        0  \n",
       "17338    October 16, 2017        0  \n",
       "22984    February 28, 2017       1  "
      ]
     },
     "execution_count": 10,
     "metadata": {},
     "output_type": "execute_result"
    }
   ],
   "source": [
    "data.sample(5)"
   ]
  },
  {
   "cell_type": "markdown",
   "metadata": {},
   "source": [
    "# data analysis"
   ]
  },
  {
   "cell_type": "code",
   "execution_count": 11,
   "metadata": {
    "execution": {
     "iopub.execute_input": "2025-05-25T23:22:33.544831Z",
     "iopub.status.busy": "2025-05-25T23:22:33.544565Z",
     "iopub.status.idle": "2025-05-25T23:22:33.894762Z",
     "shell.execute_reply": "2025-05-25T23:22:33.893983Z",
     "shell.execute_reply.started": "2025-05-25T23:22:33.544813Z"
    },
    "trusted": true
   },
   "outputs": [
    {
     "data": {
      "image/png": "[encoded data removed]",
      "text/plain": [
       "<Figure size 640x480 with 1 Axes>"
      ]
     },
     "metadata": {},
     "output_type": "display_data"
    }
   ],
   "source": [
    "sns.barplot(x=data['target'].value_counts().index, y=data['target'].value_counts().values)\n",
    "plt.title('Распределение классов')\n",
    "plt.xlabel('Класс')\n",
    "plt.ylabel('Количество')\n",
    "plt.show()"
   ]
  },
  {
   "cell_type": "code",
   "execution_count": 12,
   "metadata": {
    "execution": {
     "iopub.execute_input": "2025-05-25T23:22:33.896120Z",
     "iopub.status.busy": "2025-05-25T23:22:33.895844Z",
     "iopub.status.idle": "2025-05-25T23:22:33.931436Z",
     "shell.execute_reply": "2025-05-25T23:22:33.930664Z",
     "shell.execute_reply.started": "2025-05-25T23:22:33.896093Z"
    },
    "trusted": true
   },
   "outputs": [
    {
     "name": "stdout",
     "output_type": "stream",
     "text": [
      "<class 'pandas.core.frame.DataFrame'>\n",
      "Index: 44898 entries, 0 to 21416\n",
      "Data columns (total 5 columns):\n",
      " #   Column   Non-Null Count  Dtype \n",
      "---  ------   --------------  ----- \n",
      " 0   title    44898 non-null  object\n",
      " 1   text     44898 non-null  object\n",
      " 2   subject  44898 non-null  object\n",
      " 3   date     44898 non-null  object\n",
      " 4   target   44898 non-null  int64 \n",
      "dtypes: int64(1), object(4)\n",
      "memory usage: 2.1+ MB\n"
     ]
    }
   ],
   "source": [
    "data.info()"
   ]
  },
  {
   "cell_type": "markdown",
   "metadata": {},
   "source": [
    "Посмотрим на количество пропусков"
   ]
  },
  {
   "cell_type": "code",
   "execution_count": 13,
   "metadata": {
    "execution": {
     "iopub.execute_input": "2025-05-25T23:22:34.170403Z",
     "iopub.status.busy": "2025-05-25T23:22:34.170056Z",
     "iopub.status.idle": "2025-05-25T23:22:34.191622Z",
     "shell.execute_reply": "2025-05-25T23:22:34.190511Z",
     "shell.execute_reply.started": "2025-05-25T23:22:34.170377Z"
    },
    "trusted": true
   },
   "outputs": [
    {
     "data": {
      "application/vnd.microsoft.datawrangler.viewer.v0+json": {
       "columns": [
        {
         "name": "index",
         "rawType": "object",
         "type": "string"
        },
        {
         "name": "0",
         "rawType": "int64",
         "type": "integer"
        }
       ],
       "ref": "156cf47e-50e2-471b-9585-56ce6ed0bf54",
       "rows": [
        [
         "title",
         "0"
        ],
        [
         "text",
         "0"
        ],
        [
         "subject",
         "0"
        ],
        [
         "date",
         "0"
        ],
        [
         "target",
         "0"
        ]
       ],
       "shape": {
        "columns": 1,
        "rows": 5
       }
      },
      "text/plain": [
       "title      0\n",
       "text       0\n",
       "subject    0\n",
       "date       0\n",
       "target     0\n",
       "dtype: int64"
      ]
     },
     "execution_count": 13,
     "metadata": {},
     "output_type": "execute_result"
    }
   ],
   "source": [
    "data.isna().sum()"
   ]
  },
  {
   "cell_type": "markdown",
   "metadata": {},
   "source": [
    "Проверяем на дубликаты"
   ]
  },
  {
   "cell_type": "code",
   "execution_count": 14,
   "metadata": {
    "execution": {
     "iopub.execute_input": "2025-05-25T23:22:34.557169Z",
     "iopub.status.busy": "2025-05-25T23:22:34.556909Z",
     "iopub.status.idle": "2025-05-25T23:22:34.867027Z",
     "shell.execute_reply": "2025-05-25T23:22:34.866275Z",
     "shell.execute_reply.started": "2025-05-25T23:22:34.557152Z"
    },
    "trusted": true
   },
   "outputs": [
    {
     "name": "stdout",
     "output_type": "stream",
     "text": [
      "Количество дубликатов\n"
     ]
    },
    {
     "data": {
      "text/plain": [
       "209"
      ]
     },
     "execution_count": 14,
     "metadata": {},
     "output_type": "execute_result"
    }
   ],
   "source": [
    "print(\"Количество дубликатов\")\n",
    "data.duplicated().sum()"
   ]
  },
  {
   "cell_type": "markdown",
   "metadata": {},
   "source": [
    "Нам не нужны дубликаты, поэтому мы их удаляем"
   ]
  },
  {
   "cell_type": "code",
   "execution_count": 15,
   "metadata": {
    "execution": {
     "iopub.execute_input": "2025-05-25T23:22:37.552611Z",
     "iopub.status.busy": "2025-05-25T23:22:37.552254Z",
     "iopub.status.idle": "2025-05-25T23:22:38.102240Z",
     "shell.execute_reply": "2025-05-25T23:22:38.101472Z",
     "shell.execute_reply.started": "2025-05-25T23:22:37.552585Z"
    },
    "trusted": true
   },
   "outputs": [
    {
     "data": {
      "text/plain": [
       "0"
      ]
     },
     "execution_count": 15,
     "metadata": {},
     "output_type": "execute_result"
    }
   ],
   "source": [
    "data.drop_duplicates(inplace=True)\n",
    "data.duplicated().sum()"
   ]
  },
  {
   "cell_type": "code",
   "execution_count": 16,
   "metadata": {
    "execution": {
     "iopub.execute_input": "2025-05-25T23:22:38.103837Z",
     "iopub.status.busy": "2025-05-25T23:22:38.103432Z",
     "iopub.status.idle": "2025-05-25T23:22:38.262683Z",
     "shell.execute_reply": "2025-05-25T23:22:38.261900Z",
     "shell.execute_reply.started": "2025-05-25T23:22:38.103806Z"
    },
    "trusted": true
   },
   "outputs": [],
   "source": [
    "data['full_text'] = data[\"title\"] + ' ' + data[\"text\"]"
   ]
  },
  {
   "cell_type": "code",
   "execution_count": 17,
   "metadata": {
    "execution": {
     "iopub.execute_input": "2025-05-25T23:22:38.264537Z",
     "iopub.status.busy": "2025-05-25T23:22:38.263921Z",
     "iopub.status.idle": "2025-05-25T23:22:38.286299Z",
     "shell.execute_reply": "2025-05-25T23:22:38.285239Z",
     "shell.execute_reply.started": "2025-05-25T23:22:38.264504Z"
    },
    "trusted": true
   },
   "outputs": [
    {
     "data": {
      "application/vnd.microsoft.datawrangler.viewer.v0+json": {
       "columns": [
        {
         "name": "index",
         "rawType": "int64",
         "type": "integer"
        },
        {
         "name": "title",
         "rawType": "object",
         "type": "string"
        },
        {
         "name": "text",
         "rawType": "object",
         "type": "string"
        },
        {
         "name": "subject",
         "rawType": "object",
         "type": "string"
        },
        {
         "name": "date",
         "rawType": "object",
         "type": "string"
        },
        {
         "name": "target",
         "rawType": "int64",
         "type": "integer"
        },
        {
         "name": "full_text",
         "rawType": "object",
         "type": "string"
        }
       ],
       "ref": "06a3b912-5cb7-4846-bb9e-6ab020edf280",
       "rows": [
        [
         "21197",
         "#BlackLivesMatterTerrorists Shut Down Kids Visits With Santa At Mall…Attempt To Shut Down Major Airport In MN",
         "These poor kids have probably practiced for months for this performance, only to have it cancelled by a bunch of low life terrorists:The Minnetonka West MS 8th grade choir was scheduled to sing in the rotunda of the #MOA. They cancelled their performance. #BLM protest  Mark J. Westpfahl (@MarkJWestpfahl) December 23, 2015As if locking 8th graders out of their Christmas concert for shoppers wasn t enough, this group of terrorists had to shut down Santa s booth as well. What a shameful group of losers Santa is closing up shop.Repeat: Santa is closing up shop. #MOA #BLM Protest https://t.co/GPFBcMzylv  Mark J. Westpfahl (@MarkJWestpfahl) December 23, 2015Santa & his helpers will temporarily stop working 2. Sorry shoppers, no pics till after #BlackLivesMatter demo over. pic.twitter.com/VNSRoia9qG  Doualy Xaykaothao (@DoualyX) December 23, 2015The mall warned these punks they were not welcome on the premises.Announcement saying it is unlawful to protest, inside #MOA or in parking ramps. #BLM #BlackXmas2 pic.twitter.com/RqzLiD3Ktz  Mark J. Westpfahl (@MarkJWestpfahl) December 23, 2015So the cops came:Shoppers, workers prevented from entering on east ramp, East side of #mallofamerica. Via @MPRnews pic.twitter.com/70G3dOLspx  Doualy Xaykaothao (@DoualyX) December 23, 2015Escalators were closed:Escalators have been shut down. #MOA #BLM protest #blackxmas2 pic.twitter.com/dzOpCP9lDh  Mark J. Westpfahl (@MarkJWestpfahl) December 23, 2015And then there are these pathetic progressives, who according the person tweeting, are holiday travelers condoning the #BlackLivesMatterTerrorists shutting down the airport:Crowd cheering and chanting to let more protesters further into the airport #BlackXmas #Justice4Jamar pic.twitter.com/wXHgxXcBRE  Brandon Long (@BLongStPaul) December 23, 2015",
         "left-news",
         "Dec 23, 2015",
         "1",
         "#BlackLivesMatterTerrorists Shut Down Kids Visits With Santa At Mall…Attempt To Shut Down Major Airport In MN These poor kids have probably practiced for months for this performance, only to have it cancelled by a bunch of low life terrorists:The Minnetonka West MS 8th grade choir was scheduled to sing in the rotunda of the #MOA. They cancelled their performance. #BLM protest  Mark J. Westpfahl (@MarkJWestpfahl) December 23, 2015As if locking 8th graders out of their Christmas concert for shoppers wasn t enough, this group of terrorists had to shut down Santa s booth as well. What a shameful group of losers Santa is closing up shop.Repeat: Santa is closing up shop. #MOA #BLM Protest https://t.co/GPFBcMzylv  Mark J. Westpfahl (@MarkJWestpfahl) December 23, 2015Santa & his helpers will temporarily stop working 2. Sorry shoppers, no pics till after #BlackLivesMatter demo over. pic.twitter.com/VNSRoia9qG  Doualy Xaykaothao (@DoualyX) December 23, 2015The mall warned these punks they were not welcome on the premises.Announcement saying it is unlawful to protest, inside #MOA or in parking ramps. #BLM #BlackXmas2 pic.twitter.com/RqzLiD3Ktz  Mark J. Westpfahl (@MarkJWestpfahl) December 23, 2015So the cops came:Shoppers, workers prevented from entering on east ramp, East side of #mallofamerica. Via @MPRnews pic.twitter.com/70G3dOLspx  Doualy Xaykaothao (@DoualyX) December 23, 2015Escalators were closed:Escalators have been shut down. #MOA #BLM protest #blackxmas2 pic.twitter.com/dzOpCP9lDh  Mark J. Westpfahl (@MarkJWestpfahl) December 23, 2015And then there are these pathetic progressives, who according the person tweeting, are holiday travelers condoning the #BlackLivesMatterTerrorists shutting down the airport:Crowd cheering and chanting to let more protesters further into the airport #BlackXmas #Justice4Jamar pic.twitter.com/wXHgxXcBRE  Brandon Long (@BLongStPaul) December 23, 2015"
        ],
        [
         "11180",
         "WATCH MSNBC LIBERAL HACKS Claim Conspiracy Between Trump and Putin On Syria Attack [Video]",
         "Have these two been watching the news?The Russian President has immediately sent his Admiral Grigorovich frigate   armed with cruise missiles and a self-defence system   from the Black Sea to dock in Syria later. It will pass through the east Mediterranean waters where the USS Ross and USS Porter fired the 59 Tomahawk missiles that pounded Assad s al-Shayrat military airfield near Homs in the early hours of Friday. Bret Baier tweeted out the news: Putin today called it an  illegal act of aggression  and also ripped up an agreement to avoid mid-air clashes between Russian and US fighter jets over Syria. In the continuing fight back Russian or Syrian planes also bombed the town of Khan Sheikhoun, the scene of Tuesday s horrific chemical gas attack where 80 died, witnesses in the rebel-held area claimed. The US was also branded  a partner of ISIS  by al-Assad s spokesman, calling the missile strikes  reckless and irresponsible  and accused Trump of  naively falling  for a  false propaganda campaign  about the Idlib Sarin massacre. Today world leaders praised the US strikes and urged Putin to hold urgent talks with Trump to prevent the Syria crisis escalating into a wider world conflict. Nikki Haley says U.S.  took a very measured step last night. We are prepared to do more, but we hope that will not be necessary. .@Nikkihaley says U.S.  took a very measured step last night. We are prepared to do more, but we hope that will not be necessary.  #Syria pic.twitter.com/asNvxTZMUz  CSPAN (@cspan) April 7, 2017 French Foreign Minister Jean-Marc Ayrault, speaking alongside German Foreign Minister Sigmar Gabriel, said:  We do not want an escalation. We have to stop the hypocrisy. If Russia is acting in good faith it should stop and negotiate . Read more: Daily Mail",
         "politics",
         "Apr 8, 2017",
         "1",
         "WATCH MSNBC LIBERAL HACKS Claim Conspiracy Between Trump and Putin On Syria Attack [Video] Have these two been watching the news?The Russian President has immediately sent his Admiral Grigorovich frigate   armed with cruise missiles and a self-defence system   from the Black Sea to dock in Syria later. It will pass through the east Mediterranean waters where the USS Ross and USS Porter fired the 59 Tomahawk missiles that pounded Assad s al-Shayrat military airfield near Homs in the early hours of Friday. Bret Baier tweeted out the news: Putin today called it an  illegal act of aggression  and also ripped up an agreement to avoid mid-air clashes between Russian and US fighter jets over Syria. In the continuing fight back Russian or Syrian planes also bombed the town of Khan Sheikhoun, the scene of Tuesday s horrific chemical gas attack where 80 died, witnesses in the rebel-held area claimed. The US was also branded  a partner of ISIS  by al-Assad s spokesman, calling the missile strikes  reckless and irresponsible  and accused Trump of  naively falling  for a  false propaganda campaign  about the Idlib Sarin massacre. Today world leaders praised the US strikes and urged Putin to hold urgent talks with Trump to prevent the Syria crisis escalating into a wider world conflict. Nikki Haley says U.S.  took a very measured step last night. We are prepared to do more, but we hope that will not be necessary. .@Nikkihaley says U.S.  took a very measured step last night. We are prepared to do more, but we hope that will not be necessary.  #Syria pic.twitter.com/asNvxTZMUz  CSPAN (@cspan) April 7, 2017 French Foreign Minister Jean-Marc Ayrault, speaking alongside German Foreign Minister Sigmar Gabriel, said:  We do not want an escalation. We have to stop the hypocrisy. If Russia is acting in good faith it should stop and negotiate . Read more: Daily Mail"
        ],
        [
         "16839",
         "U.N. torture watchdog ends trip to Rwanda, citing obstruction",
         "KIGALI (Reuters) - The U.N. subcommittee on torture prevention has suspended a  visit to Rwanda, citing obstructions imposed by the government that compromised its fact-finding mission. Rwandan authorities barred the U.N. delegation from accessing some detention sites and made it impossible for them to conduct  private and confidential interviews , a statement from the U.N. body published on Friday said.  The body said it was only the third time in 10 years it had suspended a mission. It called on Rwanda to cooperate with the body and  abide by its international obligations . The incident further mars the human rights record of the government led by President Paul Kagame, which faces mounting criticism for what human rights groups say are widespread abuses, a muzzling of independent media, and suppression of political opposition. The U.N. body said the people the group interviewed before suspending its seven-day mission said they feared reprisals.  We must not place the persons that have cooperated with us in danger,  it said. The Rwandan authorities were not immediately available for a comment, but it has denied accusations of unlawful detention and torture documented most recently by Human Rights Watch in a report published this month. The report said the government routinely tortured detainees with beatings, asphyxiations, mock executions and electric shocks. A prominent critic of Rwandan president who was barred from running for presidency, Diane Shima Rwigara, was detained in Kigali in September and faces charges of forgery of electoral documents and inciting insurrection.  She said in court last week said that her family and supporters were subjected to torture. Judges have said they will rule on her bail request on Monday. ",
         "worldnews",
         "October 21, 2017 ",
         "0",
         "U.N. torture watchdog ends trip to Rwanda, citing obstruction KIGALI (Reuters) - The U.N. subcommittee on torture prevention has suspended a  visit to Rwanda, citing obstructions imposed by the government that compromised its fact-finding mission. Rwandan authorities barred the U.N. delegation from accessing some detention sites and made it impossible for them to conduct  private and confidential interviews , a statement from the U.N. body published on Friday said.  The body said it was only the third time in 10 years it had suspended a mission. It called on Rwanda to cooperate with the body and  abide by its international obligations . The incident further mars the human rights record of the government led by President Paul Kagame, which faces mounting criticism for what human rights groups say are widespread abuses, a muzzling of independent media, and suppression of political opposition. The U.N. body said the people the group interviewed before suspending its seven-day mission said they feared reprisals.  We must not place the persons that have cooperated with us in danger,  it said. The Rwandan authorities were not immediately available for a comment, but it has denied accusations of unlawful detention and torture documented most recently by Human Rights Watch in a report published this month. The report said the government routinely tortured detainees with beatings, asphyxiations, mock executions and electric shocks. A prominent critic of Rwandan president who was barred from running for presidency, Diane Shima Rwigara, was detained in Kigali in September and faces charges of forgery of electoral documents and inciting insurrection.  She said in court last week said that her family and supporters were subjected to torture. Judges have said they will rule on her bail request on Monday. "
        ],
        [
         "4912",
         "Senate confirms Trump intelligence nominee, security adviser",
         "WASHINGTON (Reuters) - The U.S. Senate voted overwhelmingly on Thursday to confirm former Republican senator Dan Coats to be President Donald Trump’s director of national intelligence and to approve Army Lieutenant General H.R. McMaster’s transfer to become his national security adviser. The vote was 85-12 to confirm Coats, who also served as ambassador to Germany under former President George W. Bush. Fifty-one votes were required for confirmation. The only Republican who voted against Coats was Senator Rand Paul, one of the Senate’s leading privacy advocates, as are several of the Democrats who also voted against Coats.  Democratic Senator Ron Wyden had said he would object to Coats’ nomination because he felt the office of the Director of National Intelligence had not provided the committee with enough information about how many Americans’ communication records had been subjected to government surveillance. McMaster was approved as Trump’s second national security adviser in an 86-10 vote. No Republican senator voted against him. McMaster had faced some opposition from Democratic senators who cited concerns about his past decision to allow two service members accused of assault to advance their careers while the case against them was open, in violation of Army regulations. The Senate does not normally approve a president’s national security adviser but McMaster’s reappointment to his new position had to be considered by the Senate because he is an active-duty military officer. McMaster, 54, who is known for speaking his mind and challenging his superiors, replaces retired Lieutenant General Michael Flynn, who was fired as national security adviser on Feb. 13 after reports emerged that he had misled Vice President Mike Pence about speaking to Russia’s ambassador to the United States about U.S. sanctions before Trump took office. Coats, 73, replaces James Clapper, who retired as President Barack Obama left office in January. Coats was a member of the Senate’s intelligence committee until he retired from the Senate at the end of last year. He pledged during his confirmation hearing on Feb. 28 to support a thorough investigation of any Russian effort to influence the 2016 presidential election. ",
         "politicsNews",
         "March 15, 2017 ",
         "0",
         "Senate confirms Trump intelligence nominee, security adviser WASHINGTON (Reuters) - The U.S. Senate voted overwhelmingly on Thursday to confirm former Republican senator Dan Coats to be President Donald Trump’s director of national intelligence and to approve Army Lieutenant General H.R. McMaster’s transfer to become his national security adviser. The vote was 85-12 to confirm Coats, who also served as ambassador to Germany under former President George W. Bush. Fifty-one votes were required for confirmation. The only Republican who voted against Coats was Senator Rand Paul, one of the Senate’s leading privacy advocates, as are several of the Democrats who also voted against Coats.  Democratic Senator Ron Wyden had said he would object to Coats’ nomination because he felt the office of the Director of National Intelligence had not provided the committee with enough information about how many Americans’ communication records had been subjected to government surveillance. McMaster was approved as Trump’s second national security adviser in an 86-10 vote. No Republican senator voted against him. McMaster had faced some opposition from Democratic senators who cited concerns about his past decision to allow two service members accused of assault to advance their careers while the case against them was open, in violation of Army regulations. The Senate does not normally approve a president’s national security adviser but McMaster’s reappointment to his new position had to be considered by the Senate because he is an active-duty military officer. McMaster, 54, who is known for speaking his mind and challenging his superiors, replaces retired Lieutenant General Michael Flynn, who was fired as national security adviser on Feb. 13 after reports emerged that he had misled Vice President Mike Pence about speaking to Russia’s ambassador to the United States about U.S. sanctions before Trump took office. Coats, 73, replaces James Clapper, who retired as President Barack Obama left office in January. Coats was a member of the Senate’s intelligence committee until he retired from the Senate at the end of last year. He pledged during his confirmation hearing on Feb. 28 to support a thorough investigation of any Russian effort to influence the 2016 presidential election. "
        ],
        [
         "14760",
         "Coup? What coup? Zimbabwe's Herald misses army move on Mugabe",
         "HARARE (Reuters) - In the annals of missed stories, it ranks up there. When Wednesday s edition of The Herald, Zimbabwe s main state newspaper, hit the streets, Zimbabweans were surprised to learn that talk of ructions between President Robert Mugabe s ruling ZANU-PF party and military chief Constantino Chiwenga were unfounded.  ZANU-PF unfazed by Chiwenga,  the Herald declared on its front page, reporting on the party s denunciation of the military chief as a traitor the previous day. Most people in Harare had spent the night glued to social media and the Internet for updates on a coup slowly unfolding against 93-year-old Mugabe, Zimbabwe s leader of the last 37 years. Just after 4 a.m., an army spokesman in camouflage fatigues appeared on state media to announce that the army had seized power. The final line of his declaration:  To the media, we urge you report fairly and responsibly . ",
         "worldnews",
         "November 15, 2017 ",
         "0",
         "Coup? What coup? Zimbabwe's Herald misses army move on Mugabe HARARE (Reuters) - In the annals of missed stories, it ranks up there. When Wednesday s edition of The Herald, Zimbabwe s main state newspaper, hit the streets, Zimbabweans were surprised to learn that talk of ructions between President Robert Mugabe s ruling ZANU-PF party and military chief Constantino Chiwenga were unfounded.  ZANU-PF unfazed by Chiwenga,  the Herald declared on its front page, reporting on the party s denunciation of the military chief as a traitor the previous day. Most people in Harare had spent the night glued to social media and the Internet for updates on a coup slowly unfolding against 93-year-old Mugabe, Zimbabwe s leader of the last 37 years. Just after 4 a.m., an army spokesman in camouflage fatigues appeared on state media to announce that the army had seized power. The final line of his declaration:  To the media, we urge you report fairly and responsibly . "
        ]
       ],
       "shape": {
        "columns": 6,
        "rows": 5
       }
      },
      "text/html": [
       "<div>\n",
       "<style scoped>\n",
       "    .dataframe tbody tr th:only-of-type {\n",
       "        vertical-align: middle;\n",
       "    }\n",
       "\n",
       "    .dataframe tbody tr th {\n",
       "        vertical-align: top;\n",
       "    }\n",
       "\n",
       "    .dataframe thead th {\n",
       "        text-align: right;\n",
       "    }\n",
       "</style>\n",
       "<table border=\"1\" class=\"dataframe\">\n",
       "  <thead>\n",
       "    <tr style=\"text-align: right;\">\n",
       "      <th></th>\n",
       "      <th>title</th>\n",
       "      <th>text</th>\n",
       "      <th>subject</th>\n",
       "      <th>date</th>\n",
       "      <th>target</th>\n",
       "      <th>full_text</th>\n",
       "    </tr>\n",
       "  </thead>\n",
       "  <tbody>\n",
       "    <tr>\n",
       "      <th>21197</th>\n",
       "      <td>#BlackLivesMatterTerrorists Shut Down Kids Vis...</td>\n",
       "      <td>These poor kids have probably practiced for mo...</td>\n",
       "      <td>left-news</td>\n",
       "      <td>Dec 23, 2015</td>\n",
       "      <td>1</td>\n",
       "      <td>#BlackLivesMatterTerrorists Shut Down Kids Vis...</td>\n",
       "    </tr>\n",
       "    <tr>\n",
       "      <th>11180</th>\n",
       "      <td>WATCH MSNBC LIBERAL HACKS Claim Conspiracy Bet...</td>\n",
       "      <td>Have these two been watching the news?The Russ...</td>\n",
       "      <td>politics</td>\n",
       "      <td>Apr 8, 2017</td>\n",
       "      <td>1</td>\n",
       "      <td>WATCH MSNBC LIBERAL HACKS Claim Conspiracy Bet...</td>\n",
       "    </tr>\n",
       "    <tr>\n",
       "      <th>16839</th>\n",
       "      <td>U.N. torture watchdog ends trip to Rwanda, cit...</td>\n",
       "      <td>KIGALI (Reuters) - The U.N. subcommittee on to...</td>\n",
       "      <td>worldnews</td>\n",
       "      <td>October 21, 2017</td>\n",
       "      <td>0</td>\n",
       "      <td>U.N. torture watchdog ends trip to Rwanda, cit...</td>\n",
       "    </tr>\n",
       "    <tr>\n",
       "      <th>4912</th>\n",
       "      <td>Senate confirms Trump intelligence nominee, se...</td>\n",
       "      <td>WASHINGTON (Reuters) - The U.S. Senate voted o...</td>\n",
       "      <td>politicsNews</td>\n",
       "      <td>March 15, 2017</td>\n",
       "      <td>0</td>\n",
       "      <td>Senate confirms Trump intelligence nominee, se...</td>\n",
       "    </tr>\n",
       "    <tr>\n",
       "      <th>14760</th>\n",
       "      <td>Coup? What coup? Zimbabwe's Herald misses army...</td>\n",
       "      <td>HARARE (Reuters) - In the annals of missed sto...</td>\n",
       "      <td>worldnews</td>\n",
       "      <td>November 15, 2017</td>\n",
       "      <td>0</td>\n",
       "      <td>Coup? What coup? Zimbabwe's Herald misses army...</td>\n",
       "    </tr>\n",
       "  </tbody>\n",
       "</table>\n",
       "</div>"
      ],
      "text/plain": [
       "                                                   title  \\\n",
       "21197  #BlackLivesMatterTerrorists Shut Down Kids Vis...   \n",
       "11180  WATCH MSNBC LIBERAL HACKS Claim Conspiracy Bet...   \n",
       "16839  U.N. torture watchdog ends trip to Rwanda, cit...   \n",
       "4912   Senate confirms Trump intelligence nominee, se...   \n",
       "14760  Coup? What coup? Zimbabwe's Herald misses army...   \n",
       "\n",
       "                                                    text       subject  \\\n",
       "21197  These poor kids have probably practiced for mo...     left-news   \n",
       "11180  Have these two been watching the news?The Russ...      politics   \n",
       "16839  KIGALI (Reuters) - The U.N. subcommittee on to...     worldnews   \n",
       "4912   WASHINGTON (Reuters) - The U.S. Senate voted o...  politicsNews   \n",
       "14760  HARARE (Reuters) - In the annals of missed sto...     worldnews   \n",
       "\n",
       "                     date  target  \\\n",
       "21197        Dec 23, 2015       1   \n",
       "11180         Apr 8, 2017       1   \n",
       "16839   October 21, 2017        0   \n",
       "4912      March 15, 2017        0   \n",
       "14760  November 15, 2017        0   \n",
       "\n",
       "                                               full_text  \n",
       "21197  #BlackLivesMatterTerrorists Shut Down Kids Vis...  \n",
       "11180  WATCH MSNBC LIBERAL HACKS Claim Conspiracy Bet...  \n",
       "16839  U.N. torture watchdog ends trip to Rwanda, cit...  \n",
       "4912   Senate confirms Trump intelligence nominee, se...  \n",
       "14760  Coup? What coup? Zimbabwe's Herald misses army...  "
      ]
     },
     "execution_count": 17,
     "metadata": {},
     "output_type": "execute_result"
    }
   ],
   "source": [
    "data.sample(5)"
   ]
  },
  {
   "cell_type": "code",
   "execution_count": 18,
   "metadata": {
    "execution": {
     "iopub.execute_input": "2025-05-25T23:22:38.475633Z",
     "iopub.status.busy": "2025-05-25T23:22:38.475068Z",
     "iopub.status.idle": "2025-05-25T23:22:38.484860Z",
     "shell.execute_reply": "2025-05-25T23:22:38.484029Z",
     "shell.execute_reply.started": "2025-05-25T23:22:38.475607Z"
    },
    "trusted": true
   },
   "outputs": [
    {
     "name": "stdout",
     "output_type": "stream",
     "text": [
      "Уникальные значения в колонке 'subject':\n",
      "['News' 'politics' 'Government News' 'left-news' 'US_News' 'Middle-east'\n",
      " 'politicsNews' 'worldnews']\n",
      "\n",
      "Количество уникальных тем: 8\n"
     ]
    }
   ],
   "source": [
    "print(\"Уникальные значения в колонке 'subject':\")\n",
    "print(data['subject'].unique())\n",
    "print(f\"\\nКоличество уникальных тем: {data['subject'].nunique()}\")"
   ]
  },
  {
   "cell_type": "code",
   "execution_count": 19,
   "metadata": {
    "execution": {
     "iopub.execute_input": "2025-05-25T23:22:40.003160Z",
     "iopub.status.busy": "2025-05-25T23:22:40.002870Z",
     "iopub.status.idle": "2025-05-25T23:22:40.011816Z",
     "shell.execute_reply": "2025-05-25T23:22:40.010957Z",
     "shell.execute_reply.started": "2025-05-25T23:22:40.003137Z"
    },
    "trusted": true
   },
   "outputs": [
    {
     "name": "stdout",
     "output_type": "stream",
     "text": [
      "Распределение новостей по темам (общее):\n",
      "subject\n",
      "politicsNews       11220\n",
      "worldnews           9991\n",
      "News                9050\n",
      "politics            6838\n",
      "left-news           4459\n",
      "Government News     1570\n",
      "US_News              783\n",
      "Middle-east          778\n",
      "Name: count, dtype: int64\n"
     ]
    }
   ],
   "source": [
    "print(\"Распределение новостей по темам (общее):\")\n",
    "subject_counts = data['subject'].value_counts()\n",
    "print(subject_counts)"
   ]
  },
  {
   "cell_type": "code",
   "execution_count": 20,
   "metadata": {
    "execution": {
     "iopub.execute_input": "2025-05-25T23:22:40.293415Z",
     "iopub.status.busy": "2025-05-25T23:22:40.293124Z",
     "iopub.status.idle": "2025-05-25T23:22:40.512829Z",
     "shell.execute_reply": "2025-05-25T23:22:40.511917Z",
     "shell.execute_reply.started": "2025-05-25T23:22:40.293390Z"
    },
    "trusted": true
   },
   "outputs": [
    {
     "data": {
      "image/png": "[encoded data removed]",
      "text/plain": [
       "<Figure size 1200x600 with 1 Axes>"
      ]
     },
     "metadata": {},
     "output_type": "display_data"
    }
   ],
   "source": [
    "plt.figure(figsize=(12, 6))\n",
    "sns.countplot(y='subject', data=data, order=subject_counts.index, palette='viridis')\n",
    "plt.title('Общее распределение новостей по темам')\n",
    "plt.xlabel('Количество новостей')\n",
    "plt.ylabel('Тема')\n",
    "plt.tight_layout()\n",
    "plt.show()"
   ]
  },
  {
   "cell_type": "code",
   "execution_count": 21,
   "metadata": {
    "execution": {
     "iopub.execute_input": "2025-05-25T23:22:41.993245Z",
     "iopub.status.busy": "2025-05-25T23:22:41.992419Z",
     "iopub.status.idle": "2025-05-25T23:22:42.363460Z",
     "shell.execute_reply": "2025-05-25T23:22:42.362658Z",
     "shell.execute_reply.started": "2025-05-25T23:22:41.993222Z"
    },
    "trusted": true
   },
   "outputs": [
    {
     "name": "stdout",
     "output_type": "stream",
     "text": [
      "Распределение тем по классам (target):\n",
      "target               0     1\n",
      "subject                     \n",
      "Government News      0  1570\n",
      "Middle-east          0   778\n",
      "News                 0  9050\n",
      "US_News              0   783\n",
      "left-news            0  4459\n",
      "politics             0  6838\n",
      "politicsNews     11220     0\n",
      "worldnews         9991     0\n"
     ]
    },
    {
     "data": {
      "image/png": "[encoded data removed]",
      "text/plain": [
       "<Figure size 1400x700 with 1 Axes>"
      ]
     },
     "metadata": {},
     "output_type": "display_data"
    }
   ],
   "source": [
    "print(\"Распределение тем по классам (target):\")\n",
    "subject_target_crosstab = pd.crosstab(data['subject'], data['target'])\n",
    "print(subject_target_crosstab)\n",
    "\n",
    "subject_target_crosstab.plot(kind='bar', figsize=(14, 7), colormap='coolwarm')\n",
    "plt.title('Распределение тем по классам (0 - Real, 1 - Fake)')\n",
    "plt.xlabel('Тема')\n",
    "plt.ylabel('Количество новостей')\n",
    "plt.xticks(rotation=45, ha='right')\n",
    "plt.legend(title='Класс Target')\n",
    "plt.tight_layout()\n",
    "plt.show()"
   ]
  },
  {
   "cell_type": "code",
   "execution_count": 22,
   "metadata": {
    "execution": {
     "iopub.execute_input": "2025-05-25T23:22:43.994732Z",
     "iopub.status.busy": "2025-05-25T23:22:43.993985Z",
     "iopub.status.idle": "2025-05-25T23:22:44.000964Z",
     "shell.execute_reply": "2025-05-25T23:22:44.000171Z",
     "shell.execute_reply.started": "2025-05-25T23:22:43.994707Z"
    },
    "trusted": true
   },
   "outputs": [
    {
     "name": "stdout",
     "output_type": "stream",
     "text": [
      "\n",
      "Темы, встречающиеся только в одном классе:\n",
      "Тема 'Government News' встречается только в фейковых новостях (target=1), количество: 1570\n",
      "Тема 'Middle-east' встречается только в фейковых новостях (target=1), количество: 778\n",
      "Тема 'News' встречается только в фейковых новостях (target=1), количество: 9050\n",
      "Тема 'US_News' встречается только в фейковых новостях (target=1), количество: 783\n",
      "Тема 'left-news' встречается только в фейковых новостях (target=1), количество: 4459\n",
      "Тема 'politics' встречается только в фейковых новостях (target=1), количество: 6838\n",
      "Тема 'politicsNews' встречается только в настоящих новостях (target=0), количество: 11220\n",
      "Тема 'worldnews' встречается только в настоящих новостях (target=0), количество: 9991\n"
     ]
    }
   ],
   "source": [
    "print(\"\\nТемы, встречающиеся только в одном классе:\")\n",
    "for subject_name in subject_target_crosstab.index:\n",
    "    counts = subject_target_crosstab.loc[subject_name]\n",
    "    if counts[0] == 0 and counts[1] > 0:\n",
    "        print(f\"Тема '{subject_name}' встречается только в фейковых новостях (target=1), количество: {counts[1]}\")\n",
    "    elif counts[1] == 0 and counts[0] > 0:\n",
    "        print(f\"Тема '{subject_name}' встречается только в настоящих новостях (target=0), количество: {counts[0]}\")"
   ]
  },
  {
   "cell_type": "markdown",
   "metadata": {},
   "source": [
    "Вывод: поскольку все темы встречаются только в одном классе, нам нет необходимости их использовать для обучения классификатора, иначе будет утечка данных"
   ]
  },
  {
   "cell_type": "markdown",
   "metadata": {},
   "source": [
    "# Обработка текста"
   ]
  },
  {
   "cell_type": "code",
   "execution_count": 23,
   "metadata": {
    "execution": {
     "iopub.execute_input": "2025-05-25T23:22:46.877215Z",
     "iopub.status.busy": "2025-05-25T23:22:46.876458Z",
     "iopub.status.idle": "2025-05-25T23:22:46.886343Z",
     "shell.execute_reply": "2025-05-25T23:22:46.885201Z",
     "shell.execute_reply.started": "2025-05-25T23:22:46.877189Z"
    },
    "trusted": true
   },
   "outputs": [],
   "source": [
    "lemmatizer = WordNetLemmatizer()\n",
    "stop_words = set(stopwords.words('english'))"
   ]
  },
  {
   "cell_type": "code",
   "execution_count": 24,
   "metadata": {
    "execution": {
     "iopub.execute_input": "2025-05-25T23:22:47.634156Z",
     "iopub.status.busy": "2025-05-25T23:22:47.633863Z",
     "iopub.status.idle": "2025-05-25T23:22:47.639454Z",
     "shell.execute_reply": "2025-05-25T23:22:47.638575Z",
     "shell.execute_reply.started": "2025-05-25T23:22:47.634134Z"
    },
    "trusted": true
   },
   "outputs": [],
   "source": [
    "def remove_problematic_patterns(text_input):\n",
    "    cleaned_text = text_input \n",
    "    cleaned_text = re.sub(r\"^[A-Za-z\\s/]+\\(Reuters\\)\\s*-\\s*\", \"\", cleaned_text, count=1)\n",
    "    cleaned_text = re.sub(r\"^\\(Reuters\\)\\s*-\\s*\", \"\", cleaned_text, count=1)\n",
    "\n",
    "    twitter_disclaimer = \"The following statements were posted to the verified Twitter accounts of U.S. President Donald Trump, @realDonaldTrump and @POTUS. The opinions expressed are his own. Reuters has not edited the statements or confirmed their accuracy.\"\n",
    "    cleaned_text = re.sub(r\"^\" + re.escape(twitter_disclaimer) + r\"\\s*\", \"\", cleaned_text, count=1)\n",
    "\n",
    "    return cleaned_text.strip()"
   ]
  },
  {
   "cell_type": "code",
   "execution_count": 25,
   "metadata": {
    "execution": {
     "iopub.execute_input": "2025-05-25T23:22:49.404679Z",
     "iopub.status.busy": "2025-05-25T23:22:49.404030Z",
     "iopub.status.idle": "2025-05-25T23:22:49.409650Z",
     "shell.execute_reply": "2025-05-25T23:22:49.408815Z",
     "shell.execute_reply.started": "2025-05-25T23:22:49.404652Z"
    },
    "trusted": true
   },
   "outputs": [],
   "source": [
    "def preprocess_text(text):\n",
    "    text = text.lower()\n",
    "    text = text.translate(str.maketrans('', '', string.punctuation))\n",
    "    tokens = word_tokenize(text)\n",
    "    \n",
    "    processed_tokens = []\n",
    "    for word in tokens:\n",
    "        if word not in stop_words:\n",
    "            if word.isalpha(): \n",
    "                lemmatized_word = lemmatizer.lemmatize(word)\n",
    "                processed_tokens.append(lemmatized_word)\n",
    "                \n",
    "    return \" \".join(processed_tokens)"
   ]
  },
  {
   "cell_type": "code",
   "execution_count": 26,
   "metadata": {
    "execution": {
     "iopub.execute_input": "2025-05-25T23:22:50.262257Z",
     "iopub.status.busy": "2025-05-25T23:22:50.261340Z",
     "iopub.status.idle": "2025-05-25T23:22:51.482332Z",
     "shell.execute_reply": "2025-05-25T23:22:51.481710Z",
     "shell.execute_reply.started": "2025-05-25T23:22:50.262223Z"
    },
    "trusted": true
   },
   "outputs": [],
   "source": [
    "data['full_text_cleaned'] = data['full_text'].apply(remove_problematic_patterns)"
   ]
  },
  {
   "cell_type": "code",
   "execution_count": 27,
   "metadata": {
    "execution": {
     "iopub.execute_input": "2025-05-25T23:22:53.521731Z",
     "iopub.status.busy": "2025-05-25T23:22:53.521368Z",
     "iopub.status.idle": "2025-05-25T23:24:48.495579Z",
     "shell.execute_reply": "2025-05-25T23:24:48.494681Z",
     "shell.execute_reply.started": "2025-05-25T23:22:53.521706Z"
    },
    "trusted": true
   },
   "outputs": [],
   "source": [
    "data['processed_text'] = data['full_text_cleaned'].apply(preprocess_text)"
   ]
  },
  {
   "cell_type": "code",
   "execution_count": 57,
   "metadata": {},
   "outputs": [
    {
     "name": "stdout",
     "output_type": "stream",
     "text": [
      "Статистика по длине текста (в словах) для каждого класса:\n",
      "          count        mean         std  min    25%    50%    75%     max\n",
      "target                                                                   \n",
      "0       21211.0  230.874405  158.114282  4.0   92.0  215.0  310.0  2333.0\n",
      "1       23469.0  239.323959  228.537815  3.0  141.0  205.0  281.0  4831.0\n"
     ]
    },
    {
     "data": {
      "image/png": "[encoded data removed]",
      "text/plain": [
       "<Figure size 1200x600 with 1 Axes>"
      ]
     },
     "metadata": {},
     "output_type": "display_data"
    }
   ],
   "source": [
    "data['processed_text_length'] = data['processed_text'].apply(lambda x: len(x.split()))\n",
    "print(\"Статистика по длине текста (в словах) для каждого класса:\")\n",
    "print(data.groupby('target')['processed_text_length'].describe())\n",
    "\n",
    "plt.figure(figsize=(12, 6))\n",
    "sns.histplot(data=data, x='processed_text_length', hue='target', kde=True, palette={0: 'skyblue', 1: 'salmon'}, multiple=\"stack\") # или multiple=\"dodge\"\n",
    "plt.title('Распределение длины обработанного текста по классам')\n",
    "plt.xlabel('Длина текста (количество слов)')\n",
    "plt.ylabel('Частота')\n",
    "plt.legend(title='Target', labels=['Fake News (1)', 'Real News (0)']) # sns может сам подписать, но для уверенности\n",
    "plt.show()"
   ]
  },
  {
   "cell_type": "code",
   "execution_count": 28,
   "metadata": {
    "execution": {
     "iopub.execute_input": "2025-05-25T23:24:48.510086Z",
     "iopub.status.busy": "2025-05-25T23:24:48.509846Z",
     "iopub.status.idle": "2025-05-25T23:24:48.528514Z",
     "shell.execute_reply": "2025-05-25T23:24:48.527817Z",
     "shell.execute_reply.started": "2025-05-25T23:24:48.510068Z"
    },
    "trusted": true
   },
   "outputs": [
    {
     "data": {
      "application/vnd.microsoft.datawrangler.viewer.v0+json": {
       "columns": [
        {
         "name": "index",
         "rawType": "int64",
         "type": "integer"
        },
        {
         "name": "title",
         "rawType": "object",
         "type": "string"
        },
        {
         "name": "text",
         "rawType": "object",
         "type": "string"
        },
        {
         "name": "subject",
         "rawType": "object",
         "type": "string"
        },
        {
         "name": "date",
         "rawType": "object",
         "type": "string"
        },
        {
         "name": "target",
         "rawType": "int64",
         "type": "integer"
        },
        {
         "name": "full_text",
         "rawType": "object",
         "type": "string"
        },
        {
         "name": "full_text_cleaned",
         "rawType": "object",
         "type": "string"
        },
        {
         "name": "processed_text",
         "rawType": "object",
         "type": "string"
        }
       ],
       "ref": "9fdbc65e-fc8c-4e07-8a09-540aeb2d7d38",
       "rows": [
        [
         "0",
         " Donald Trump Sends Out Embarrassing New Year’s Eve Message; This is Disturbing",
         "Donald Trump just couldn t wish all Americans a Happy New Year and leave it at that. Instead, he had to give a shout out to his enemies, haters and  the very dishonest fake news media.  The former reality show star had just one job to do and he couldn t do it. As our Country rapidly grows stronger and smarter, I want to wish all of my friends, supporters, enemies, haters, and even the very dishonest Fake News Media, a Happy and Healthy New Year,  President Angry Pants tweeted.  2018 will be a great year for America! As our Country rapidly grows stronger and smarter, I want to wish all of my friends, supporters, enemies, haters, and even the very dishonest Fake News Media, a Happy and Healthy New Year. 2018 will be a great year for America!  Donald J. Trump (@realDonaldTrump) December 31, 2017Trump s tweet went down about as welll as you d expect.What kind of president sends a New Year s greeting like this despicable, petty, infantile gibberish? Only Trump! His lack of decency won t even allow him to rise above the gutter long enough to wish the American citizens a happy new year!  Bishop Talbert Swan (@TalbertSwan) December 31, 2017no one likes you  Calvin (@calvinstowell) December 31, 2017Your impeachment would make 2018 a great year for America, but I ll also accept regaining control of Congress.  Miranda Yaver (@mirandayaver) December 31, 2017Do you hear yourself talk? When you have to include that many people that hate you you have to wonder? Why do the they all hate me?  Alan Sandoval (@AlanSandoval13) December 31, 2017Who uses the word Haters in a New Years wish??  Marlene (@marlene399) December 31, 2017You can t just say happy new year?  Koren pollitt (@Korencarpenter) December 31, 2017Here s Trump s New Year s Eve tweet from 2016.Happy New Year to all, including to my many enemies and those who have fought me and lost so badly they just don t know what to do. Love!  Donald J. Trump (@realDonaldTrump) December 31, 2016This is nothing new for Trump. He s been doing this for years.Trump has directed messages to his  enemies  and  haters  for New Year s, Easter, Thanksgiving, and the anniversary of 9/11. pic.twitter.com/4FPAe2KypA  Daniel Dale (@ddale8) December 31, 2017Trump s holiday tweets are clearly not presidential.How long did he work at Hallmark before becoming President?  Steven Goodine (@SGoodine) December 31, 2017He s always been like this . . . the only difference is that in the last few years, his filter has been breaking down.  Roy Schulze (@thbthttt) December 31, 2017Who, apart from a teenager uses the term haters?  Wendy (@WendyWhistles) December 31, 2017he s a fucking 5 year old  Who Knows (@rainyday80) December 31, 2017So, to all the people who voted for this a hole thinking he would change once he got into power, you were wrong! 70-year-old men don t change and now he s a year older.Photo by Andrew Burton/Getty Images.",
         "News",
         "December 31, 2017",
         "1",
         " Donald Trump Sends Out Embarrassing New Year’s Eve Message; This is Disturbing Donald Trump just couldn t wish all Americans a Happy New Year and leave it at that. Instead, he had to give a shout out to his enemies, haters and  the very dishonest fake news media.  The former reality show star had just one job to do and he couldn t do it. As our Country rapidly grows stronger and smarter, I want to wish all of my friends, supporters, enemies, haters, and even the very dishonest Fake News Media, a Happy and Healthy New Year,  President Angry Pants tweeted.  2018 will be a great year for America! As our Country rapidly grows stronger and smarter, I want to wish all of my friends, supporters, enemies, haters, and even the very dishonest Fake News Media, a Happy and Healthy New Year. 2018 will be a great year for America!  Donald J. Trump (@realDonaldTrump) December 31, 2017Trump s tweet went down about as welll as you d expect.What kind of president sends a New Year s greeting like this despicable, petty, infantile gibberish? Only Trump! His lack of decency won t even allow him to rise above the gutter long enough to wish the American citizens a happy new year!  Bishop Talbert Swan (@TalbertSwan) December 31, 2017no one likes you  Calvin (@calvinstowell) December 31, 2017Your impeachment would make 2018 a great year for America, but I ll also accept regaining control of Congress.  Miranda Yaver (@mirandayaver) December 31, 2017Do you hear yourself talk? When you have to include that many people that hate you you have to wonder? Why do the they all hate me?  Alan Sandoval (@AlanSandoval13) December 31, 2017Who uses the word Haters in a New Years wish??  Marlene (@marlene399) December 31, 2017You can t just say happy new year?  Koren pollitt (@Korencarpenter) December 31, 2017Here s Trump s New Year s Eve tweet from 2016.Happy New Year to all, including to my many enemies and those who have fought me and lost so badly they just don t know what to do. Love!  Donald J. Trump (@realDonaldTrump) December 31, 2016This is nothing new for Trump. He s been doing this for years.Trump has directed messages to his  enemies  and  haters  for New Year s, Easter, Thanksgiving, and the anniversary of 9/11. pic.twitter.com/4FPAe2KypA  Daniel Dale (@ddale8) December 31, 2017Trump s holiday tweets are clearly not presidential.How long did he work at Hallmark before becoming President?  Steven Goodine (@SGoodine) December 31, 2017He s always been like this . . . the only difference is that in the last few years, his filter has been breaking down.  Roy Schulze (@thbthttt) December 31, 2017Who, apart from a teenager uses the term haters?  Wendy (@WendyWhistles) December 31, 2017he s a fucking 5 year old  Who Knows (@rainyday80) December 31, 2017So, to all the people who voted for this a hole thinking he would change once he got into power, you were wrong! 70-year-old men don t change and now he s a year older.Photo by Andrew Burton/Getty Images.",
         "Donald Trump Sends Out Embarrassing New Year’s Eve Message; This is Disturbing Donald Trump just couldn t wish all Americans a Happy New Year and leave it at that. Instead, he had to give a shout out to his enemies, haters and  the very dishonest fake news media.  The former reality show star had just one job to do and he couldn t do it. As our Country rapidly grows stronger and smarter, I want to wish all of my friends, supporters, enemies, haters, and even the very dishonest Fake News Media, a Happy and Healthy New Year,  President Angry Pants tweeted.  2018 will be a great year for America! As our Country rapidly grows stronger and smarter, I want to wish all of my friends, supporters, enemies, haters, and even the very dishonest Fake News Media, a Happy and Healthy New Year. 2018 will be a great year for America!  Donald J. Trump (@realDonaldTrump) December 31, 2017Trump s tweet went down about as welll as you d expect.What kind of president sends a New Year s greeting like this despicable, petty, infantile gibberish? Only Trump! His lack of decency won t even allow him to rise above the gutter long enough to wish the American citizens a happy new year!  Bishop Talbert Swan (@TalbertSwan) December 31, 2017no one likes you  Calvin (@calvinstowell) December 31, 2017Your impeachment would make 2018 a great year for America, but I ll also accept regaining control of Congress.  Miranda Yaver (@mirandayaver) December 31, 2017Do you hear yourself talk? When you have to include that many people that hate you you have to wonder? Why do the they all hate me?  Alan Sandoval (@AlanSandoval13) December 31, 2017Who uses the word Haters in a New Years wish??  Marlene (@marlene399) December 31, 2017You can t just say happy new year?  Koren pollitt (@Korencarpenter) December 31, 2017Here s Trump s New Year s Eve tweet from 2016.Happy New Year to all, including to my many enemies and those who have fought me and lost so badly they just don t know what to do. Love!  Donald J. Trump (@realDonaldTrump) December 31, 2016This is nothing new for Trump. He s been doing this for years.Trump has directed messages to his  enemies  and  haters  for New Year s, Easter, Thanksgiving, and the anniversary of 9/11. pic.twitter.com/4FPAe2KypA  Daniel Dale (@ddale8) December 31, 2017Trump s holiday tweets are clearly not presidential.How long did he work at Hallmark before becoming President?  Steven Goodine (@SGoodine) December 31, 2017He s always been like this . . . the only difference is that in the last few years, his filter has been breaking down.  Roy Schulze (@thbthttt) December 31, 2017Who, apart from a teenager uses the term haters?  Wendy (@WendyWhistles) December 31, 2017he s a fucking 5 year old  Who Knows (@rainyday80) December 31, 2017So, to all the people who voted for this a hole thinking he would change once he got into power, you were wrong! 70-year-old men don t change and now he s a year older.Photo by Andrew Burton/Getty Images.",
         "donald trump sends embarrassing new year eve message disturbing donald trump wish american happy new year leave instead give shout enemy hater dishonest fake news medium former reality show star one job country rapidly grows stronger smarter want wish friend supporter enemy hater even dishonest fake news medium happy healthy new year president angry pant tweeted great year america country rapidly grows stronger smarter want wish friend supporter enemy hater even dishonest fake news medium happy healthy new year great year america donald j trump realdonaldtrump december tweet went welll expectwhat kind president sends new year greeting like despicable petty infantile gibberish trump lack decency even allow rise gutter long enough wish american citizen happy new year bishop talbert swan talbertswan december one like calvin calvinstowell december impeachment would make great year america also accept regaining control congress miranda yaver mirandayaver december hear talk include many people hate wonder hate alan sandoval december us word hater new year wish marlene december say happy new year koren pollitt korencarpenter december trump new year eve tweet new year including many enemy fought lost badly know love donald j trump realdonaldtrump december nothing new trump yearstrump directed message enemy hater new year easter thanksgiving anniversary daniel dale december holiday tweet clearly presidentialhow long work hallmark becoming president steven goodine sgoodine december always like difference last year filter breaking roy schulze thbthttt december apart teenager us term hater wendy wendywhistles december fucking year old know december people voted hole thinking would change got power wrong men change year olderphoto andrew burtongetty image"
        ],
        [
         "1",
         " Drunk Bragging Trump Staffer Started Russian Collusion Investigation",
         "House Intelligence Committee Chairman Devin Nunes is going to have a bad day. He s been under the assumption, like many of us, that the Christopher Steele-dossier was what prompted the Russia investigation so he s been lashing out at the Department of Justice and the FBI in order to protect Trump. As it happens, the dossier is not what started the investigation, according to documents obtained by the New York Times.Former Trump campaign adviser George Papadopoulos was drunk in a wine bar when he revealed knowledge of Russian opposition research on Hillary Clinton.On top of that, Papadopoulos wasn t just a covfefe boy for Trump, as his administration has alleged. He had a much larger role, but none so damning as being a drunken fool in a wine bar. Coffee boys  don t help to arrange a New York meeting between Trump and President Abdel Fattah el-Sisi of Egypt two months before the election. It was known before that the former aide set up meetings with world leaders for Trump, but team Trump ran with him being merely a coffee boy.In May 2016, Papadopoulos revealed to Australian diplomat Alexander Downer that Russian officials were shopping around possible dirt on then-Democratic presidential nominee Hillary Clinton. Exactly how much Mr. Papadopoulos said that night at the Kensington Wine Rooms with the Australian, Alexander Downer, is unclear,  the report states.  But two months later, when leaked Democratic emails began appearing online, Australian officials passed the information about Mr. Papadopoulos to their American counterparts, according to four current and former American and foreign officials with direct knowledge of the Australians  role. Papadopoulos pleaded guilty to lying to the F.B.I. and is now a cooperating witness with Special Counsel Robert Mueller s team.This isn t a presidency. It s a badly scripted reality TV show.Photo by Win McNamee/Getty Images.",
         "News",
         "December 31, 2017",
         "1",
         " Drunk Bragging Trump Staffer Started Russian Collusion Investigation House Intelligence Committee Chairman Devin Nunes is going to have a bad day. He s been under the assumption, like many of us, that the Christopher Steele-dossier was what prompted the Russia investigation so he s been lashing out at the Department of Justice and the FBI in order to protect Trump. As it happens, the dossier is not what started the investigation, according to documents obtained by the New York Times.Former Trump campaign adviser George Papadopoulos was drunk in a wine bar when he revealed knowledge of Russian opposition research on Hillary Clinton.On top of that, Papadopoulos wasn t just a covfefe boy for Trump, as his administration has alleged. He had a much larger role, but none so damning as being a drunken fool in a wine bar. Coffee boys  don t help to arrange a New York meeting between Trump and President Abdel Fattah el-Sisi of Egypt two months before the election. It was known before that the former aide set up meetings with world leaders for Trump, but team Trump ran with him being merely a coffee boy.In May 2016, Papadopoulos revealed to Australian diplomat Alexander Downer that Russian officials were shopping around possible dirt on then-Democratic presidential nominee Hillary Clinton. Exactly how much Mr. Papadopoulos said that night at the Kensington Wine Rooms with the Australian, Alexander Downer, is unclear,  the report states.  But two months later, when leaked Democratic emails began appearing online, Australian officials passed the information about Mr. Papadopoulos to their American counterparts, according to four current and former American and foreign officials with direct knowledge of the Australians  role. Papadopoulos pleaded guilty to lying to the F.B.I. and is now a cooperating witness with Special Counsel Robert Mueller s team.This isn t a presidency. It s a badly scripted reality TV show.Photo by Win McNamee/Getty Images.",
         "Drunk Bragging Trump Staffer Started Russian Collusion Investigation House Intelligence Committee Chairman Devin Nunes is going to have a bad day. He s been under the assumption, like many of us, that the Christopher Steele-dossier was what prompted the Russia investigation so he s been lashing out at the Department of Justice and the FBI in order to protect Trump. As it happens, the dossier is not what started the investigation, according to documents obtained by the New York Times.Former Trump campaign adviser George Papadopoulos was drunk in a wine bar when he revealed knowledge of Russian opposition research on Hillary Clinton.On top of that, Papadopoulos wasn t just a covfefe boy for Trump, as his administration has alleged. He had a much larger role, but none so damning as being a drunken fool in a wine bar. Coffee boys  don t help to arrange a New York meeting between Trump and President Abdel Fattah el-Sisi of Egypt two months before the election. It was known before that the former aide set up meetings with world leaders for Trump, but team Trump ran with him being merely a coffee boy.In May 2016, Papadopoulos revealed to Australian diplomat Alexander Downer that Russian officials were shopping around possible dirt on then-Democratic presidential nominee Hillary Clinton. Exactly how much Mr. Papadopoulos said that night at the Kensington Wine Rooms with the Australian, Alexander Downer, is unclear,  the report states.  But two months later, when leaked Democratic emails began appearing online, Australian officials passed the information about Mr. Papadopoulos to their American counterparts, according to four current and former American and foreign officials with direct knowledge of the Australians  role. Papadopoulos pleaded guilty to lying to the F.B.I. and is now a cooperating witness with Special Counsel Robert Mueller s team.This isn t a presidency. It s a badly scripted reality TV show.Photo by Win McNamee/Getty Images.",
         "drunk bragging trump staffer started russian collusion investigation house intelligence committee chairman devin nunes going bad day assumption like many u christopher steeledossier prompted russia investigation lashing department justice fbi order protect trump happens dossier started investigation according document obtained new york timesformer trump campaign adviser george papadopoulos drunk wine bar revealed knowledge russian opposition research hillary clintonon top papadopoulos covfefe boy trump administration alleged much larger role none damning drunken fool wine bar coffee boy help arrange new york meeting trump president abdel fattah elsisi egypt two month election known former aide set meeting world leader trump team trump ran merely coffee boyin may papadopoulos revealed australian diplomat alexander downer russian official shopping around possible dirt thendemocratic presidential nominee hillary clinton exactly much mr papadopoulos said night kensington wine room australian alexander downer unclear report state two month later leaked democratic email began appearing online australian official passed information mr papadopoulos american counterpart according four current former american foreign official direct knowledge australian role papadopoulos pleaded guilty lying fbi cooperating witness special counsel robert mueller teamthis presidency badly scripted reality tv showphoto win mcnameegetty image"
        ],
        [
         "2",
         " Sheriff David Clarke Becomes An Internet Joke For Threatening To Poke People ‘In The Eye’",
         "On Friday, it was revealed that former Milwaukee Sheriff David Clarke, who was being considered for Homeland Security Secretary in Donald Trump s administration, has an email scandal of his own.In January, there was a brief run-in on a plane between Clarke and fellow passenger Dan Black, who he later had detained by the police for no reason whatsoever, except that maybe his feelings were hurt. Clarke messaged the police to stop Black after he deplaned, and now, a search warrant has been executed by the FBI to see the exchanges.Clarke is calling it fake news even though copies of the search warrant are on the Internet. I am UNINTIMIDATED by lib media attempts to smear and discredit me with their FAKE NEWS reports designed to silence me,  the former sheriff tweeted.  I will continue to poke them in the eye with a sharp stick and bitch slap these scum bags til they get it. I have been attacked by better people than them #MAGA I am UNINTIMIDATED by lib media attempts to smear and discredit me with their FAKE NEWS reports designed to silence me. I will continue to poke them in the eye with a sharp stick and bitch slap these scum bags til they get it. I have been attacked by better people than them #MAGA pic.twitter.com/XtZW5PdU2b  David A. Clarke, Jr. (@SheriffClarke) December 30, 2017He didn t stop there.BREAKING NEWS! When LYING LIB MEDIA makes up FAKE NEWS to smear me, the ANTIDOTE is go right at them. Punch them in the nose & MAKE THEM TASTE THEIR OWN BLOOD. Nothing gets a bully like LYING LIB MEDIA S attention better than to give them a taste of their own blood #neverbackdown pic.twitter.com/T2NY2psHCR  David A. Clarke, Jr. (@SheriffClarke) December 30, 2017The internet called him out.This is your local newspaper and that search warrant isn t fake, and just because the chose not to file charges at the time doesn t mean they won t! Especially if you continue to lie. Months after decision not to charge Clarke, email search warrant filed https://t.co/zcbyc4Wp5b  KeithLeBlanc (@KeithLeBlanc63) December 30, 2017I just hope the rest of the Village People aren t implicated.  Kirk Ketchum (@kirkketchum) December 30, 2017Slaw, baked potatoes, or French fries? pic.twitter.com/fWfXsZupxy  ALT- Immigration   (@ALT_uscis) December 30, 2017pic.twitter.com/ymsOBLjfxU  Pendulum Swinger (@PendulumSwngr) December 30, 2017you called your police friends to stand up for you when someone made fun of your hat  Chris Jackson (@ChrisCJackson) December 30, 2017Is it me, with this masterful pshop of your hat, which I seem to never tire of. I think it s the steely resolve in your one visible eye pic.twitter.com/dWr5k8ZEZV  Chris Mohney (@chrismohney) December 30, 2017Are you indicating with your fingers how many people died in your jail? I think you re a few fingers short, dipshit  Ike Barinholtz (@ikebarinholtz) December 30, 2017ROFL. Internet tough guy with fake flair. pic.twitter.com/ulCFddhkdy  KellMeCrazy (@Kel_MoonFace) December 30, 2017You re so edgy, buddy.  Mrs. SMH (@MRSSMH2) December 30, 2017Is his break over at Applebees?  Aaron (@feltrrr2) December 30, 2017Are you trying to earn your  still relevant  badge?  CircusRebel (@CircusDrew) December 30, 2017make sure to hydrate, drink lots of water. It s rumored that prisoners can be denied water by prison officials.  Robert Klinc (@RobertKlinc1) December 30, 2017Terrill Thomas, the 38-year-old black man who died of thirst in Clarke s Milwaukee County Jail cell this April, was a victim of homicide. We just thought we should point that out. It can t be repeated enough.Photo by Spencer Platt/Getty Images.",
         "News",
         "December 30, 2017",
         "1",
         " Sheriff David Clarke Becomes An Internet Joke For Threatening To Poke People ‘In The Eye’ On Friday, it was revealed that former Milwaukee Sheriff David Clarke, who was being considered for Homeland Security Secretary in Donald Trump s administration, has an email scandal of his own.In January, there was a brief run-in on a plane between Clarke and fellow passenger Dan Black, who he later had detained by the police for no reason whatsoever, except that maybe his feelings were hurt. Clarke messaged the police to stop Black after he deplaned, and now, a search warrant has been executed by the FBI to see the exchanges.Clarke is calling it fake news even though copies of the search warrant are on the Internet. I am UNINTIMIDATED by lib media attempts to smear and discredit me with their FAKE NEWS reports designed to silence me,  the former sheriff tweeted.  I will continue to poke them in the eye with a sharp stick and bitch slap these scum bags til they get it. I have been attacked by better people than them #MAGA I am UNINTIMIDATED by lib media attempts to smear and discredit me with their FAKE NEWS reports designed to silence me. I will continue to poke them in the eye with a sharp stick and bitch slap these scum bags til they get it. I have been attacked by better people than them #MAGA pic.twitter.com/XtZW5PdU2b  David A. Clarke, Jr. (@SheriffClarke) December 30, 2017He didn t stop there.BREAKING NEWS! When LYING LIB MEDIA makes up FAKE NEWS to smear me, the ANTIDOTE is go right at them. Punch them in the nose & MAKE THEM TASTE THEIR OWN BLOOD. Nothing gets a bully like LYING LIB MEDIA S attention better than to give them a taste of their own blood #neverbackdown pic.twitter.com/T2NY2psHCR  David A. Clarke, Jr. (@SheriffClarke) December 30, 2017The internet called him out.This is your local newspaper and that search warrant isn t fake, and just because the chose not to file charges at the time doesn t mean they won t! Especially if you continue to lie. Months after decision not to charge Clarke, email search warrant filed https://t.co/zcbyc4Wp5b  KeithLeBlanc (@KeithLeBlanc63) December 30, 2017I just hope the rest of the Village People aren t implicated.  Kirk Ketchum (@kirkketchum) December 30, 2017Slaw, baked potatoes, or French fries? pic.twitter.com/fWfXsZupxy  ALT- Immigration   (@ALT_uscis) December 30, 2017pic.twitter.com/ymsOBLjfxU  Pendulum Swinger (@PendulumSwngr) December 30, 2017you called your police friends to stand up for you when someone made fun of your hat  Chris Jackson (@ChrisCJackson) December 30, 2017Is it me, with this masterful pshop of your hat, which I seem to never tire of. I think it s the steely resolve in your one visible eye pic.twitter.com/dWr5k8ZEZV  Chris Mohney (@chrismohney) December 30, 2017Are you indicating with your fingers how many people died in your jail? I think you re a few fingers short, dipshit  Ike Barinholtz (@ikebarinholtz) December 30, 2017ROFL. Internet tough guy with fake flair. pic.twitter.com/ulCFddhkdy  KellMeCrazy (@Kel_MoonFace) December 30, 2017You re so edgy, buddy.  Mrs. SMH (@MRSSMH2) December 30, 2017Is his break over at Applebees?  Aaron (@feltrrr2) December 30, 2017Are you trying to earn your  still relevant  badge?  CircusRebel (@CircusDrew) December 30, 2017make sure to hydrate, drink lots of water. It s rumored that prisoners can be denied water by prison officials.  Robert Klinc (@RobertKlinc1) December 30, 2017Terrill Thomas, the 38-year-old black man who died of thirst in Clarke s Milwaukee County Jail cell this April, was a victim of homicide. We just thought we should point that out. It can t be repeated enough.Photo by Spencer Platt/Getty Images.",
         "Sheriff David Clarke Becomes An Internet Joke For Threatening To Poke People ‘In The Eye’ On Friday, it was revealed that former Milwaukee Sheriff David Clarke, who was being considered for Homeland Security Secretary in Donald Trump s administration, has an email scandal of his own.In January, there was a brief run-in on a plane between Clarke and fellow passenger Dan Black, who he later had detained by the police for no reason whatsoever, except that maybe his feelings were hurt. Clarke messaged the police to stop Black after he deplaned, and now, a search warrant has been executed by the FBI to see the exchanges.Clarke is calling it fake news even though copies of the search warrant are on the Internet. I am UNINTIMIDATED by lib media attempts to smear and discredit me with their FAKE NEWS reports designed to silence me,  the former sheriff tweeted.  I will continue to poke them in the eye with a sharp stick and bitch slap these scum bags til they get it. I have been attacked by better people than them #MAGA I am UNINTIMIDATED by lib media attempts to smear and discredit me with their FAKE NEWS reports designed to silence me. I will continue to poke them in the eye with a sharp stick and bitch slap these scum bags til they get it. I have been attacked by better people than them #MAGA pic.twitter.com/XtZW5PdU2b  David A. Clarke, Jr. (@SheriffClarke) December 30, 2017He didn t stop there.BREAKING NEWS! When LYING LIB MEDIA makes up FAKE NEWS to smear me, the ANTIDOTE is go right at them. Punch them in the nose & MAKE THEM TASTE THEIR OWN BLOOD. Nothing gets a bully like LYING LIB MEDIA S attention better than to give them a taste of their own blood #neverbackdown pic.twitter.com/T2NY2psHCR  David A. Clarke, Jr. (@SheriffClarke) December 30, 2017The internet called him out.This is your local newspaper and that search warrant isn t fake, and just because the chose not to file charges at the time doesn t mean they won t! Especially if you continue to lie. Months after decision not to charge Clarke, email search warrant filed https://t.co/zcbyc4Wp5b  KeithLeBlanc (@KeithLeBlanc63) December 30, 2017I just hope the rest of the Village People aren t implicated.  Kirk Ketchum (@kirkketchum) December 30, 2017Slaw, baked potatoes, or French fries? pic.twitter.com/fWfXsZupxy  ALT- Immigration   (@ALT_uscis) December 30, 2017pic.twitter.com/ymsOBLjfxU  Pendulum Swinger (@PendulumSwngr) December 30, 2017you called your police friends to stand up for you when someone made fun of your hat  Chris Jackson (@ChrisCJackson) December 30, 2017Is it me, with this masterful pshop of your hat, which I seem to never tire of. I think it s the steely resolve in your one visible eye pic.twitter.com/dWr5k8ZEZV  Chris Mohney (@chrismohney) December 30, 2017Are you indicating with your fingers how many people died in your jail? I think you re a few fingers short, dipshit  Ike Barinholtz (@ikebarinholtz) December 30, 2017ROFL. Internet tough guy with fake flair. pic.twitter.com/ulCFddhkdy  KellMeCrazy (@Kel_MoonFace) December 30, 2017You re so edgy, buddy.  Mrs. SMH (@MRSSMH2) December 30, 2017Is his break over at Applebees?  Aaron (@feltrrr2) December 30, 2017Are you trying to earn your  still relevant  badge?  CircusRebel (@CircusDrew) December 30, 2017make sure to hydrate, drink lots of water. It s rumored that prisoners can be denied water by prison officials.  Robert Klinc (@RobertKlinc1) December 30, 2017Terrill Thomas, the 38-year-old black man who died of thirst in Clarke s Milwaukee County Jail cell this April, was a victim of homicide. We just thought we should point that out. It can t be repeated enough.Photo by Spencer Platt/Getty Images.",
         "sheriff david clarke becomes internet joke threatening poke people eye friday revealed former milwaukee sheriff david clarke considered homeland security secretary donald trump administration email scandal ownin january brief runin plane clarke fellow passenger dan black later detained police reason whatsoever except maybe feeling hurt clarke messaged police stop black deplaned search warrant executed fbi see exchangesclarke calling fake news even though copy search warrant internet unintimidated lib medium attempt smear discredit fake news report designed silence former sheriff tweeted continue poke eye sharp stick bitch slap scum bag til get attacked better people maga unintimidated lib medium attempt smear discredit fake news report designed silence continue poke eye sharp stick bitch slap scum bag til get attacked better people maga david clarke jr sheriffclarke december stop therebreaking news lying lib medium make fake news smear antidote go right punch nose make taste blood nothing get bully like lying lib medium attention better give taste blood neverbackdown david clarke jr sheriffclarke december internet called outthis local newspaper search warrant fake chose file charge time mean especially continue lie month decision charge clarke email search warrant filed keithleblanc december hope rest village people implicated kirk ketchum kirkketchum december baked potato french fry pictwittercomfwfxszupxy alt immigration altuscis december pendulum swinger pendulumswngr december called police friend stand someone made fun hat chris jackson chriscjackson december masterful pshop hat seem never tire think steely resolve one visible eye chris mohney chrismohney december indicating finger many people died jail think finger short dipshit ike barinholtz ikebarinholtz december internet tough guy fake flair pictwittercomulcfddhkdy kellmecrazy kelmoonface december edgy buddy mr smh december break applebees aaron december trying earn still relevant badge circusrebel circusdrew december sure hydrate drink lot water rumored prisoner denied water prison official robert klinc december thomas black man died thirst clarke milwaukee county jail cell april victim homicide thought point repeated enoughphoto spencer plattgetty image"
        ],
        [
         "3",
         " Trump Is So Obsessed He Even Has Obama’s Name Coded Into His Website (IMAGES)",
         "On Christmas day, Donald Trump announced that he would  be back to work  the following day, but he is golfing for the fourth day in a row. The former reality show star blasted former President Barack Obama for playing golf and now Trump is on track to outpace the number of golf games his predecessor played.Updated my tracker of Trump s appearances at Trump properties.71 rounds of golf including today s. At this pace, he ll pass Obama s first-term total by July 24 next year. https://t.co/Fg7VacxRtJ pic.twitter.com/5gEMcjQTbH  Philip Bump (@pbump) December 29, 2017 That makes what a Washington Post reporter discovered on Trump s website really weird, but everything about this administration is bizarre AF. The coding contained a reference to Obama and golf:  Unlike Obama, we are working to fix the problem   and not on the golf course.  However, the coding wasn t done correctly.The website of Donald Trump, who has spent several days in a row at the golf course, is coded to serve up the following message in the event of an internal server error: https://t.co/zrWpyMXRcz pic.twitter.com/wiQSQNNzw0  Christopher Ingraham (@_cingraham) December 28, 2017That snippet of code appears to be on all https://t.co/dkhw0AlHB4 pages, which the footer says is paid for by the RNC? pic.twitter.com/oaZDT126B3  Christopher Ingraham (@_cingraham) December 28, 2017It s also all over https://t.co/ayBlGmk65Z. As others have noted in this thread, this is weird code and it s not clear it would ever actually display, but who knows.  Christopher Ingraham (@_cingraham) December 28, 2017After the coding was called out, the reference to Obama was deleted.UPDATE: The golf error message has been removed from the Trump and GOP websites. They also fixed the javascript  =  vs  ==  problem. Still not clear when these messages would actually display, since the actual 404 (and presumably 500) page displays a different message pic.twitter.com/Z7dmyQ5smy  Christopher Ingraham (@_cingraham) December 29, 2017That suggests someone at either RNC or the Trump admin is sensitive enough to Trump s golf problem to make this issue go away quickly once people noticed. You have no idea how much I d love to see the email exchange that led us here.  Christopher Ingraham (@_cingraham) December 29, 2017 The code was f-cked up.The best part about this is that they are using the  =  (assignment) operator which means that bit of code will never get run. If you look a few lines up  errorCode  will always be  404          (@tw1trsux) December 28, 2017trump s coders can t code. Nobody is surprised.  Tim Peterson (@timrpeterson) December 28, 2017Donald Trump is obsessed with Obama that his name was even in the coding of his website while he played golf again.Photo by Joe Raedle/Getty Images.",
         "News",
         "December 29, 2017",
         "1",
         " Trump Is So Obsessed He Even Has Obama’s Name Coded Into His Website (IMAGES) On Christmas day, Donald Trump announced that he would  be back to work  the following day, but he is golfing for the fourth day in a row. The former reality show star blasted former President Barack Obama for playing golf and now Trump is on track to outpace the number of golf games his predecessor played.Updated my tracker of Trump s appearances at Trump properties.71 rounds of golf including today s. At this pace, he ll pass Obama s first-term total by July 24 next year. https://t.co/Fg7VacxRtJ pic.twitter.com/5gEMcjQTbH  Philip Bump (@pbump) December 29, 2017 That makes what a Washington Post reporter discovered on Trump s website really weird, but everything about this administration is bizarre AF. The coding contained a reference to Obama and golf:  Unlike Obama, we are working to fix the problem   and not on the golf course.  However, the coding wasn t done correctly.The website of Donald Trump, who has spent several days in a row at the golf course, is coded to serve up the following message in the event of an internal server error: https://t.co/zrWpyMXRcz pic.twitter.com/wiQSQNNzw0  Christopher Ingraham (@_cingraham) December 28, 2017That snippet of code appears to be on all https://t.co/dkhw0AlHB4 pages, which the footer says is paid for by the RNC? pic.twitter.com/oaZDT126B3  Christopher Ingraham (@_cingraham) December 28, 2017It s also all over https://t.co/ayBlGmk65Z. As others have noted in this thread, this is weird code and it s not clear it would ever actually display, but who knows.  Christopher Ingraham (@_cingraham) December 28, 2017After the coding was called out, the reference to Obama was deleted.UPDATE: The golf error message has been removed from the Trump and GOP websites. They also fixed the javascript  =  vs  ==  problem. Still not clear when these messages would actually display, since the actual 404 (and presumably 500) page displays a different message pic.twitter.com/Z7dmyQ5smy  Christopher Ingraham (@_cingraham) December 29, 2017That suggests someone at either RNC or the Trump admin is sensitive enough to Trump s golf problem to make this issue go away quickly once people noticed. You have no idea how much I d love to see the email exchange that led us here.  Christopher Ingraham (@_cingraham) December 29, 2017 The code was f-cked up.The best part about this is that they are using the  =  (assignment) operator which means that bit of code will never get run. If you look a few lines up  errorCode  will always be  404          (@tw1trsux) December 28, 2017trump s coders can t code. Nobody is surprised.  Tim Peterson (@timrpeterson) December 28, 2017Donald Trump is obsessed with Obama that his name was even in the coding of his website while he played golf again.Photo by Joe Raedle/Getty Images.",
         "Trump Is So Obsessed He Even Has Obama’s Name Coded Into His Website (IMAGES) On Christmas day, Donald Trump announced that he would  be back to work  the following day, but he is golfing for the fourth day in a row. The former reality show star blasted former President Barack Obama for playing golf and now Trump is on track to outpace the number of golf games his predecessor played.Updated my tracker of Trump s appearances at Trump properties.71 rounds of golf including today s. At this pace, he ll pass Obama s first-term total by July 24 next year. https://t.co/Fg7VacxRtJ pic.twitter.com/5gEMcjQTbH  Philip Bump (@pbump) December 29, 2017 That makes what a Washington Post reporter discovered on Trump s website really weird, but everything about this administration is bizarre AF. The coding contained a reference to Obama and golf:  Unlike Obama, we are working to fix the problem   and not on the golf course.  However, the coding wasn t done correctly.The website of Donald Trump, who has spent several days in a row at the golf course, is coded to serve up the following message in the event of an internal server error: https://t.co/zrWpyMXRcz pic.twitter.com/wiQSQNNzw0  Christopher Ingraham (@_cingraham) December 28, 2017That snippet of code appears to be on all https://t.co/dkhw0AlHB4 pages, which the footer says is paid for by the RNC? pic.twitter.com/oaZDT126B3  Christopher Ingraham (@_cingraham) December 28, 2017It s also all over https://t.co/ayBlGmk65Z. As others have noted in this thread, this is weird code and it s not clear it would ever actually display, but who knows.  Christopher Ingraham (@_cingraham) December 28, 2017After the coding was called out, the reference to Obama was deleted.UPDATE: The golf error message has been removed from the Trump and GOP websites. They also fixed the javascript  =  vs  ==  problem. Still not clear when these messages would actually display, since the actual 404 (and presumably 500) page displays a different message pic.twitter.com/Z7dmyQ5smy  Christopher Ingraham (@_cingraham) December 29, 2017That suggests someone at either RNC or the Trump admin is sensitive enough to Trump s golf problem to make this issue go away quickly once people noticed. You have no idea how much I d love to see the email exchange that led us here.  Christopher Ingraham (@_cingraham) December 29, 2017 The code was f-cked up.The best part about this is that they are using the  =  (assignment) operator which means that bit of code will never get run. If you look a few lines up  errorCode  will always be  404          (@tw1trsux) December 28, 2017trump s coders can t code. Nobody is surprised.  Tim Peterson (@timrpeterson) December 28, 2017Donald Trump is obsessed with Obama that his name was even in the coding of his website while he played golf again.Photo by Joe Raedle/Getty Images.",
         "trump obsessed even obama name coded website image christmas day donald trump announced would back work following day golfing fourth day row former reality show star blasted former president barack obama playing golf trump track outpace number golf game predecessor playedupdated tracker trump appearance trump round golf including today pace pas obama firstterm total july next year philip bump pbump december make washington post reporter discovered trump website really weird everything administration bizarre af coding contained reference obama golf unlike obama working fix problem golf course however coding done correctlythe website donald trump spent several day row golf course coded serve following message event internal server error httpstcozrwpymxrcz christopher ingraham cingraham december snippet code appears page footer say paid rnc christopher ingraham cingraham december also others noted thread weird code clear would ever actually display know christopher ingraham cingraham december coding called reference obama deletedupdate golf error message removed trump gop website also fixed javascript v problem still clear message would actually display since actual presumably page display different message christopher ingraham cingraham december suggests someone either rnc trump admin sensitive enough trump golf problem make issue go away quickly people noticed idea much love see email exchange led u christopher ingraham cingraham december code fcked upthe best part using assignment operator mean bit code never get run look line errorcode always december coder code nobody surprised tim peterson timrpeterson december trump obsessed obama name even coding website played golf againphoto joe raedlegetty image"
        ],
        [
         "4",
         " Pope Francis Just Called Out Donald Trump During His Christmas Speech",
         "Pope Francis used his annual Christmas Day message to rebuke Donald Trump without even mentioning his name. The Pope delivered his message just days after members of the United Nations condemned Trump s move to recognize Jerusalem as the capital of Israel. The Pontiff prayed on Monday for the  peaceful coexistence of two states within mutually agreed and internationally recognized borders. We see Jesus in the children of the Middle East who continue to suffer because of growing tensions between Israelis and Palestinians,  Francis said.  On this festive day, let us ask the Lord for peace for Jerusalem and for all the Holy Land. Let us pray that the will to resume dialogue may prevail between the parties and that a negotiated solution can finally be reached. The Pope went on to plead for acceptance of refugees who have been forced from their homes, and that is an issue Trump continues to fight against. Francis used Jesus for which there was  no place in the inn  as an analogy. Today, as the winds of war are blowing in our world and an outdated model of development continues to produce human, societal and environmental decline, Christmas invites us to focus on the sign of the Child and to recognize him in the faces of little children, especially those for whom, like Jesus,  there is no place in the inn,  he said. Jesus knows well the pain of not being welcomed and how hard it is not to have a place to lay one s head,  he added.  May our hearts not be closed as they were in the homes of Bethlehem. The Pope said that Mary and Joseph were immigrants who struggled to find a safe place to stay in Bethlehem. They had to leave their people, their home, and their land,  Francis said.  This was no comfortable or easy journey for a young couple about to have a child.   At heart, they were full of hope and expectation because of the child about to be born; yet their steps were weighed down by the uncertainties and dangers that attend those who have to leave their home behind. So many other footsteps are hidden in the footsteps of Joseph and Mary,  Francis said Sunday. We see the tracks of entire families forced to set out in our own day. We see the tracks of millions of persons who do not choose to go away, but driven from their land, leave behind their dear ones. Amen to that.Photo by Christopher Furlong/Getty Images.",
         "News",
         "December 25, 2017",
         "1",
         " Pope Francis Just Called Out Donald Trump During His Christmas Speech Pope Francis used his annual Christmas Day message to rebuke Donald Trump without even mentioning his name. The Pope delivered his message just days after members of the United Nations condemned Trump s move to recognize Jerusalem as the capital of Israel. The Pontiff prayed on Monday for the  peaceful coexistence of two states within mutually agreed and internationally recognized borders. We see Jesus in the children of the Middle East who continue to suffer because of growing tensions between Israelis and Palestinians,  Francis said.  On this festive day, let us ask the Lord for peace for Jerusalem and for all the Holy Land. Let us pray that the will to resume dialogue may prevail between the parties and that a negotiated solution can finally be reached. The Pope went on to plead for acceptance of refugees who have been forced from their homes, and that is an issue Trump continues to fight against. Francis used Jesus for which there was  no place in the inn  as an analogy. Today, as the winds of war are blowing in our world and an outdated model of development continues to produce human, societal and environmental decline, Christmas invites us to focus on the sign of the Child and to recognize him in the faces of little children, especially those for whom, like Jesus,  there is no place in the inn,  he said. Jesus knows well the pain of not being welcomed and how hard it is not to have a place to lay one s head,  he added.  May our hearts not be closed as they were in the homes of Bethlehem. The Pope said that Mary and Joseph were immigrants who struggled to find a safe place to stay in Bethlehem. They had to leave their people, their home, and their land,  Francis said.  This was no comfortable or easy journey for a young couple about to have a child.   At heart, they were full of hope and expectation because of the child about to be born; yet their steps were weighed down by the uncertainties and dangers that attend those who have to leave their home behind. So many other footsteps are hidden in the footsteps of Joseph and Mary,  Francis said Sunday. We see the tracks of entire families forced to set out in our own day. We see the tracks of millions of persons who do not choose to go away, but driven from their land, leave behind their dear ones. Amen to that.Photo by Christopher Furlong/Getty Images.",
         "Pope Francis Just Called Out Donald Trump During His Christmas Speech Pope Francis used his annual Christmas Day message to rebuke Donald Trump without even mentioning his name. The Pope delivered his message just days after members of the United Nations condemned Trump s move to recognize Jerusalem as the capital of Israel. The Pontiff prayed on Monday for the  peaceful coexistence of two states within mutually agreed and internationally recognized borders. We see Jesus in the children of the Middle East who continue to suffer because of growing tensions between Israelis and Palestinians,  Francis said.  On this festive day, let us ask the Lord for peace for Jerusalem and for all the Holy Land. Let us pray that the will to resume dialogue may prevail between the parties and that a negotiated solution can finally be reached. The Pope went on to plead for acceptance of refugees who have been forced from their homes, and that is an issue Trump continues to fight against. Francis used Jesus for which there was  no place in the inn  as an analogy. Today, as the winds of war are blowing in our world and an outdated model of development continues to produce human, societal and environmental decline, Christmas invites us to focus on the sign of the Child and to recognize him in the faces of little children, especially those for whom, like Jesus,  there is no place in the inn,  he said. Jesus knows well the pain of not being welcomed and how hard it is not to have a place to lay one s head,  he added.  May our hearts not be closed as they were in the homes of Bethlehem. The Pope said that Mary and Joseph were immigrants who struggled to find a safe place to stay in Bethlehem. They had to leave their people, their home, and their land,  Francis said.  This was no comfortable or easy journey for a young couple about to have a child.   At heart, they were full of hope and expectation because of the child about to be born; yet their steps were weighed down by the uncertainties and dangers that attend those who have to leave their home behind. So many other footsteps are hidden in the footsteps of Joseph and Mary,  Francis said Sunday. We see the tracks of entire families forced to set out in our own day. We see the tracks of millions of persons who do not choose to go away, but driven from their land, leave behind their dear ones. Amen to that.Photo by Christopher Furlong/Getty Images.",
         "pope francis called donald trump christmas speech pope francis used annual christmas day message rebuke donald trump without even mentioning name pope delivered message day member united nation condemned trump move recognize jerusalem capital israel pontiff prayed monday peaceful coexistence two state within mutually agreed internationally recognized border see jesus child middle east continue suffer growing tension israeli palestinian francis said festive day let u ask lord peace jerusalem holy land let u pray resume dialogue may prevail party negotiated solution finally reached pope went plead acceptance refugee forced home issue trump continues fight francis used jesus place inn analogy today wind war blowing world outdated model development continues produce human societal environmental decline christmas invite u focus sign child recognize face little child especially like jesus place inn said jesus know well pain welcomed hard place lay one head added may heart closed home bethlehem pope said mary joseph immigrant struggled find safe place stay bethlehem leave people home land francis said comfortable easy journey young couple child heart full hope expectation child born yet step weighed uncertainty danger attend leave home behind many footstep hidden footstep joseph mary francis said sunday see track entire family forced set day see track million person choose go away driven land leave behind dear one amen thatphoto christopher furlonggetty image"
        ]
       ],
       "shape": {
        "columns": 8,
        "rows": 5
       }
      },
      "text/html": [
       "<div>\n",
       "<style scoped>\n",
       "    .dataframe tbody tr th:only-of-type {\n",
       "        vertical-align: middle;\n",
       "    }\n",
       "\n",
       "    .dataframe tbody tr th {\n",
       "        vertical-align: top;\n",
       "    }\n",
       "\n",
       "    .dataframe thead th {\n",
       "        text-align: right;\n",
       "    }\n",
       "</style>\n",
       "<table border=\"1\" class=\"dataframe\">\n",
       "  <thead>\n",
       "    <tr style=\"text-align: right;\">\n",
       "      <th></th>\n",
       "      <th>title</th>\n",
       "      <th>text</th>\n",
       "      <th>subject</th>\n",
       "      <th>date</th>\n",
       "      <th>target</th>\n",
       "      <th>full_text</th>\n",
       "      <th>full_text_cleaned</th>\n",
       "      <th>processed_text</th>\n",
       "    </tr>\n",
       "  </thead>\n",
       "  <tbody>\n",
       "    <tr>\n",
       "      <th>0</th>\n",
       "      <td>Donald Trump Sends Out Embarrassing New Year’...</td>\n",
       "      <td>Donald Trump just couldn t wish all Americans ...</td>\n",
       "      <td>News</td>\n",
       "      <td>December 31, 2017</td>\n",
       "      <td>1</td>\n",
       "      <td>Donald Trump Sends Out Embarrassing New Year’...</td>\n",
       "      <td>Donald Trump Sends Out Embarrassing New Year’s...</td>\n",
       "      <td>donald trump sends embarrassing new year eve m...</td>\n",
       "    </tr>\n",
       "    <tr>\n",
       "      <th>1</th>\n",
       "      <td>Drunk Bragging Trump Staffer Started Russian ...</td>\n",
       "      <td>House Intelligence Committee Chairman Devin Nu...</td>\n",
       "      <td>News</td>\n",
       "      <td>December 31, 2017</td>\n",
       "      <td>1</td>\n",
       "      <td>Drunk Bragging Trump Staffer Started Russian ...</td>\n",
       "      <td>Drunk Bragging Trump Staffer Started Russian C...</td>\n",
       "      <td>drunk bragging trump staffer started russian c...</td>\n",
       "    </tr>\n",
       "    <tr>\n",
       "      <th>2</th>\n",
       "      <td>Sheriff David Clarke Becomes An Internet Joke...</td>\n",
       "      <td>On Friday, it was revealed that former Milwauk...</td>\n",
       "      <td>News</td>\n",
       "      <td>December 30, 2017</td>\n",
       "      <td>1</td>\n",
       "      <td>Sheriff David Clarke Becomes An Internet Joke...</td>\n",
       "      <td>Sheriff David Clarke Becomes An Internet Joke ...</td>\n",
       "      <td>sheriff david clarke becomes internet joke thr...</td>\n",
       "    </tr>\n",
       "    <tr>\n",
       "      <th>3</th>\n",
       "      <td>Trump Is So Obsessed He Even Has Obama’s Name...</td>\n",
       "      <td>On Christmas day, Donald Trump announced that ...</td>\n",
       "      <td>News</td>\n",
       "      <td>December 29, 2017</td>\n",
       "      <td>1</td>\n",
       "      <td>Trump Is So Obsessed He Even Has Obama’s Name...</td>\n",
       "      <td>Trump Is So Obsessed He Even Has Obama’s Name ...</td>\n",
       "      <td>trump obsessed even obama name coded website i...</td>\n",
       "    </tr>\n",
       "    <tr>\n",
       "      <th>4</th>\n",
       "      <td>Pope Francis Just Called Out Donald Trump Dur...</td>\n",
       "      <td>Pope Francis used his annual Christmas Day mes...</td>\n",
       "      <td>News</td>\n",
       "      <td>December 25, 2017</td>\n",
       "      <td>1</td>\n",
       "      <td>Pope Francis Just Called Out Donald Trump Dur...</td>\n",
       "      <td>Pope Francis Just Called Out Donald Trump Duri...</td>\n",
       "      <td>pope francis called donald trump christmas spe...</td>\n",
       "    </tr>\n",
       "  </tbody>\n",
       "</table>\n",
       "</div>"
      ],
      "text/plain": [
       "                                               title  \\\n",
       "0   Donald Trump Sends Out Embarrassing New Year’...   \n",
       "1   Drunk Bragging Trump Staffer Started Russian ...   \n",
       "2   Sheriff David Clarke Becomes An Internet Joke...   \n",
       "3   Trump Is So Obsessed He Even Has Obama’s Name...   \n",
       "4   Pope Francis Just Called Out Donald Trump Dur...   \n",
       "\n",
       "                                                text subject  \\\n",
       "0  Donald Trump just couldn t wish all Americans ...    News   \n",
       "1  House Intelligence Committee Chairman Devin Nu...    News   \n",
       "2  On Friday, it was revealed that former Milwauk...    News   \n",
       "3  On Christmas day, Donald Trump announced that ...    News   \n",
       "4  Pope Francis used his annual Christmas Day mes...    News   \n",
       "\n",
       "                date  target  \\\n",
       "0  December 31, 2017       1   \n",
       "1  December 31, 2017       1   \n",
       "2  December 30, 2017       1   \n",
       "3  December 29, 2017       1   \n",
       "4  December 25, 2017       1   \n",
       "\n",
       "                                           full_text  \\\n",
       "0   Donald Trump Sends Out Embarrassing New Year’...   \n",
       "1   Drunk Bragging Trump Staffer Started Russian ...   \n",
       "2   Sheriff David Clarke Becomes An Internet Joke...   \n",
       "3   Trump Is So Obsessed He Even Has Obama’s Name...   \n",
       "4   Pope Francis Just Called Out Donald Trump Dur...   \n",
       "\n",
       "                                   full_text_cleaned  \\\n",
       "0  Donald Trump Sends Out Embarrassing New Year’s...   \n",
       "1  Drunk Bragging Trump Staffer Started Russian C...   \n",
       "2  Sheriff David Clarke Becomes An Internet Joke ...   \n",
       "3  Trump Is So Obsessed He Even Has Obama’s Name ...   \n",
       "4  Pope Francis Just Called Out Donald Trump Duri...   \n",
       "\n",
       "                                      processed_text  \n",
       "0  donald trump sends embarrassing new year eve m...  \n",
       "1  drunk bragging trump staffer started russian c...  \n",
       "2  sheriff david clarke becomes internet joke thr...  \n",
       "3  trump obsessed even obama name coded website i...  \n",
       "4  pope francis called donald trump christmas spe...  "
      ]
     },
     "execution_count": 28,
     "metadata": {},
     "output_type": "execute_result"
    }
   ],
   "source": [
    "data.head()"
   ]
  },
  {
   "cell_type": "code",
   "execution_count": 29,
   "metadata": {
    "execution": {
     "iopub.execute_input": "2025-05-25T23:24:48.497156Z",
     "iopub.status.busy": "2025-05-25T23:24:48.496882Z",
     "iopub.status.idle": "2025-05-25T23:24:48.509131Z",
     "shell.execute_reply": "2025-05-25T23:24:48.508468Z",
     "shell.execute_reply.started": "2025-05-25T23:24:48.497127Z"
    },
    "trusted": true
   },
   "outputs": [
    {
     "data": {
      "application/vnd.microsoft.datawrangler.viewer.v0+json": {
       "columns": [
        {
         "name": "index",
         "rawType": "int64",
         "type": "integer"
        },
        {
         "name": "title",
         "rawType": "object",
         "type": "string"
        },
        {
         "name": "text",
         "rawType": "object",
         "type": "string"
        },
        {
         "name": "subject",
         "rawType": "object",
         "type": "string"
        },
        {
         "name": "date",
         "rawType": "object",
         "type": "string"
        },
        {
         "name": "target",
         "rawType": "int64",
         "type": "integer"
        },
        {
         "name": "full_text",
         "rawType": "object",
         "type": "string"
        },
        {
         "name": "full_text_cleaned",
         "rawType": "object",
         "type": "string"
        },
        {
         "name": "processed_text",
         "rawType": "object",
         "type": "string"
        }
       ],
       "ref": "b96b81ff-196d-497c-a6b9-1b02190cd6c4",
       "rows": [
        [
         "21406",
         "U.S., North Korea clash at U.N. forum over nuclear weapons",
         "GENEVA (Reuters) - North Korea and the United States clashed at a U.N. forum on Tuesday over their military intentions towards one another, with Pyongyang s envoy declaring it would  never  put its nuclear deterrent on the negotiating table. Japan, well within reach of North Korea s missiles, said the world must maintain pressure on the reclusive country to rein in its nuclear and missile programs and now was not the time for a resumption of multi-party talks. North Korea has pursued its weapons programs in defiance of U.N. Security Council sanctions and ignored all calls, including from major ally China, to stop, prompting a bellicose exchange of rhetoric between the North and the United States. North Korea justifies its weapons programs, including its recent threat to fire missiles towards the U.S. Pacific territory of Guam, by pointing to perceived U.S. hostility, such as military exercises with South Korea this week. U.S. disarmament ambassador Robert Wood told a U.N.-sponsored Conference on Disarmament in Geneva U.S. President Donald Trump s top priority was to protect the United States and its allies against the  growing threat  from North Korea and America was ready to use  the full range of capabilities  at its disposal. The  path to dialogue still remained an option  for Pyongyang and it had the choice between poverty and belligerence on the one hand and prosperity and acceptance. North Korea s envoy told the same forum the North s nuclear deterrent would never be up for negotiation, echoing Pyongyang s regular denunciation of U.S.  aggression .  The measures taken by the DPRK to strengthen its nuclear deterrence and develop inter-continental rockets is justifiable and a legitimate option for self-defense in the face of such apparent and real threats,  diplomat Ju Yong Chol told the forum, referring to  constant nuclear threats  by the United States. DPRK stands for the North s official name, the Democratic People s Republic of Korea. Regarding joint U.S.-South Korean military exercises that began on Monday, he warned:  The ongoing military adventure would certainly add gasoline to the fire, driving the current tense situation to further deterioration.  Japanese Foreign Minister Taro Kono said pressure must be maintained until the North demonstrated it would give up its nuclear program.  It s not the time to discuss (the resumption of) six-party talks,  Kono said, referring to stalled negotiations involving both Koreas, the United States, Russia, China and Japan.  It s time to exert pressure,  he told reporters. The head of the U.S. military s Pacific Command said diplomacy was key. Admiral Harry Harris was in South Korea to observe annual joint military drills with the South Korean military, which the North called a step towards nuclear conflict masterminded by  war maniacs .  So we hope and we work for diplomatic solutions to the challenge presented by Kim Jong Un,  Harris told reporters at a U.S. air base in Osan, about an hour from Seoul, referring to the North Korean leader. He said diplomacy was  the most important starting point  in response to the North s threat, when asked what actions by North Korea might trigger a preemptive U.S. strike against it.  As far as a timeline, it would be crazy for me to share with you those tripwires in advance. If we did that, it would hardly be a military strategy,  he said. The United States and South Korea began the long-planned exercises on Monday, called the Ulchi Freedom Guardian, which the allies have said are purely defensive. The drills involve tens of thousands of troops as well as computer simulations designed to prepare for war with a nuclear-capable North Korea. The United States and South Korea are technically still at war with the North because their 1950-53 conflict ended in a truce, not a peace treaty.  Delegations from about 20 countries spoke at the four-hour U.N. session, including Britain, France, Australia and South Korea, all of which criticized North Korea.  I would like to repeat the appeal to the DPRK to listen to the fact that there is no alternative to stopping the different provocations and to return to dialogue,  South Korean ambassador Kim Inchul said.  We have never threatened the DPRK with any attacks and we have never promoted the use of force.  ",
         "worldnews",
         "August 22, 2017 ",
         "0",
         "U.S., North Korea clash at U.N. forum over nuclear weapons GENEVA (Reuters) - North Korea and the United States clashed at a U.N. forum on Tuesday over their military intentions towards one another, with Pyongyang s envoy declaring it would  never  put its nuclear deterrent on the negotiating table. Japan, well within reach of North Korea s missiles, said the world must maintain pressure on the reclusive country to rein in its nuclear and missile programs and now was not the time for a resumption of multi-party talks. North Korea has pursued its weapons programs in defiance of U.N. Security Council sanctions and ignored all calls, including from major ally China, to stop, prompting a bellicose exchange of rhetoric between the North and the United States. North Korea justifies its weapons programs, including its recent threat to fire missiles towards the U.S. Pacific territory of Guam, by pointing to perceived U.S. hostility, such as military exercises with South Korea this week. U.S. disarmament ambassador Robert Wood told a U.N.-sponsored Conference on Disarmament in Geneva U.S. President Donald Trump s top priority was to protect the United States and its allies against the  growing threat  from North Korea and America was ready to use  the full range of capabilities  at its disposal. The  path to dialogue still remained an option  for Pyongyang and it had the choice between poverty and belligerence on the one hand and prosperity and acceptance. North Korea s envoy told the same forum the North s nuclear deterrent would never be up for negotiation, echoing Pyongyang s regular denunciation of U.S.  aggression .  The measures taken by the DPRK to strengthen its nuclear deterrence and develop inter-continental rockets is justifiable and a legitimate option for self-defense in the face of such apparent and real threats,  diplomat Ju Yong Chol told the forum, referring to  constant nuclear threats  by the United States. DPRK stands for the North s official name, the Democratic People s Republic of Korea. Regarding joint U.S.-South Korean military exercises that began on Monday, he warned:  The ongoing military adventure would certainly add gasoline to the fire, driving the current tense situation to further deterioration.  Japanese Foreign Minister Taro Kono said pressure must be maintained until the North demonstrated it would give up its nuclear program.  It s not the time to discuss (the resumption of) six-party talks,  Kono said, referring to stalled negotiations involving both Koreas, the United States, Russia, China and Japan.  It s time to exert pressure,  he told reporters. The head of the U.S. military s Pacific Command said diplomacy was key. Admiral Harry Harris was in South Korea to observe annual joint military drills with the South Korean military, which the North called a step towards nuclear conflict masterminded by  war maniacs .  So we hope and we work for diplomatic solutions to the challenge presented by Kim Jong Un,  Harris told reporters at a U.S. air base in Osan, about an hour from Seoul, referring to the North Korean leader. He said diplomacy was  the most important starting point  in response to the North s threat, when asked what actions by North Korea might trigger a preemptive U.S. strike against it.  As far as a timeline, it would be crazy for me to share with you those tripwires in advance. If we did that, it would hardly be a military strategy,  he said. The United States and South Korea began the long-planned exercises on Monday, called the Ulchi Freedom Guardian, which the allies have said are purely defensive. The drills involve tens of thousands of troops as well as computer simulations designed to prepare for war with a nuclear-capable North Korea. The United States and South Korea are technically still at war with the North because their 1950-53 conflict ended in a truce, not a peace treaty.  Delegations from about 20 countries spoke at the four-hour U.N. session, including Britain, France, Australia and South Korea, all of which criticized North Korea.  I would like to repeat the appeal to the DPRK to listen to the fact that there is no alternative to stopping the different provocations and to return to dialogue,  South Korean ambassador Kim Inchul said.  We have never threatened the DPRK with any attacks and we have never promoted the use of force.  ",
         "U.S., North Korea clash at U.N. forum over nuclear weapons GENEVA (Reuters) - North Korea and the United States clashed at a U.N. forum on Tuesday over their military intentions towards one another, with Pyongyang s envoy declaring it would  never  put its nuclear deterrent on the negotiating table. Japan, well within reach of North Korea s missiles, said the world must maintain pressure on the reclusive country to rein in its nuclear and missile programs and now was not the time for a resumption of multi-party talks. North Korea has pursued its weapons programs in defiance of U.N. Security Council sanctions and ignored all calls, including from major ally China, to stop, prompting a bellicose exchange of rhetoric between the North and the United States. North Korea justifies its weapons programs, including its recent threat to fire missiles towards the U.S. Pacific territory of Guam, by pointing to perceived U.S. hostility, such as military exercises with South Korea this week. U.S. disarmament ambassador Robert Wood told a U.N.-sponsored Conference on Disarmament in Geneva U.S. President Donald Trump s top priority was to protect the United States and its allies against the  growing threat  from North Korea and America was ready to use  the full range of capabilities  at its disposal. The  path to dialogue still remained an option  for Pyongyang and it had the choice between poverty and belligerence on the one hand and prosperity and acceptance. North Korea s envoy told the same forum the North s nuclear deterrent would never be up for negotiation, echoing Pyongyang s regular denunciation of U.S.  aggression .  The measures taken by the DPRK to strengthen its nuclear deterrence and develop inter-continental rockets is justifiable and a legitimate option for self-defense in the face of such apparent and real threats,  diplomat Ju Yong Chol told the forum, referring to  constant nuclear threats  by the United States. DPRK stands for the North s official name, the Democratic People s Republic of Korea. Regarding joint U.S.-South Korean military exercises that began on Monday, he warned:  The ongoing military adventure would certainly add gasoline to the fire, driving the current tense situation to further deterioration.  Japanese Foreign Minister Taro Kono said pressure must be maintained until the North demonstrated it would give up its nuclear program.  It s not the time to discuss (the resumption of) six-party talks,  Kono said, referring to stalled negotiations involving both Koreas, the United States, Russia, China and Japan.  It s time to exert pressure,  he told reporters. The head of the U.S. military s Pacific Command said diplomacy was key. Admiral Harry Harris was in South Korea to observe annual joint military drills with the South Korean military, which the North called a step towards nuclear conflict masterminded by  war maniacs .  So we hope and we work for diplomatic solutions to the challenge presented by Kim Jong Un,  Harris told reporters at a U.S. air base in Osan, about an hour from Seoul, referring to the North Korean leader. He said diplomacy was  the most important starting point  in response to the North s threat, when asked what actions by North Korea might trigger a preemptive U.S. strike against it.  As far as a timeline, it would be crazy for me to share with you those tripwires in advance. If we did that, it would hardly be a military strategy,  he said. The United States and South Korea began the long-planned exercises on Monday, called the Ulchi Freedom Guardian, which the allies have said are purely defensive. The drills involve tens of thousands of troops as well as computer simulations designed to prepare for war with a nuclear-capable North Korea. The United States and South Korea are technically still at war with the North because their 1950-53 conflict ended in a truce, not a peace treaty.  Delegations from about 20 countries spoke at the four-hour U.N. session, including Britain, France, Australia and South Korea, all of which criticized North Korea.  I would like to repeat the appeal to the DPRK to listen to the fact that there is no alternative to stopping the different provocations and to return to dialogue,  South Korean ambassador Kim Inchul said.  We have never threatened the DPRK with any attacks and we have never promoted the use of force.",
         "u north korea clash un forum nuclear weapon geneva reuters north korea united state clashed un forum tuesday military intention towards one another pyongyang envoy declaring would never put nuclear deterrent negotiating table japan well within reach north korea missile said world must maintain pressure reclusive country rein nuclear missile program time resumption multiparty talk north korea pursued weapon program defiance un security council sanction ignored call including major ally china stop prompting bellicose exchange rhetoric north united state north korea justifies weapon program including recent threat fire missile towards u pacific territory guam pointing perceived u hostility military exercise south korea week u disarmament ambassador robert wood told unsponsored conference disarmament geneva u president donald trump top priority protect united state ally growing threat north korea america ready use full range capability disposal path dialogue still remained option pyongyang choice poverty belligerence one hand prosperity acceptance north korea envoy told forum north nuclear deterrent would never negotiation echoing pyongyang regular denunciation u aggression measure taken dprk strengthen nuclear deterrence develop intercontinental rocket justifiable legitimate option selfdefense face apparent real threat diplomat ju yong chol told forum referring constant nuclear threat united state dprk stand north official name democratic people republic korea regarding joint ussouth korean military exercise began monday warned ongoing military adventure would certainly add gasoline fire driving current tense situation deterioration japanese foreign minister taro kono said pressure must maintained north demonstrated would give nuclear program time discus resumption sixparty talk kono said referring stalled negotiation involving korea united state russia china japan time exert pressure told reporter head u military pacific command said diplomacy key admiral harry harris south korea observe annual joint military drill south korean military north called step towards nuclear conflict masterminded war maniac hope work diplomatic solution challenge presented kim jong un harris told reporter u air base osan hour seoul referring north korean leader said diplomacy important starting point response north threat asked action north korea might trigger preemptive u strike far timeline would crazy share tripwires advance would hardly military strategy said united state south korea began longplanned exercise monday called ulchi freedom guardian ally said purely defensive drill involve ten thousand troop well computer simulation designed prepare war nuclearcapable north korea united state south korea technically still war north conflict ended truce peace treaty delegation country spoke fourhour un session including britain france australia south korea criticized north korea would like repeat appeal dprk listen fact alternative stopping different provocation return dialogue south korean ambassador kim inchul said never threatened dprk attack never promoted use force"
        ],
        [
         "21407",
         "Mata Pires, owner of embattled Brazil builder OAS, dies",
         "SAO PAULO (Reuters) - Cesar Mata Pires, the owner and co-founder of Brazilian engineering conglomerate OAS SA, one of the largest companies involved in Brazil s corruption scandal, died on Tuesday. He was 68. Mata Pires died of a heart attack while taking a morning walk in an upscale district of S o Paulo, where OAS is based, a person with direct knowledge of the matter said. Efforts to contact his family were unsuccessful. OAS declined to comment. The son of a wealthy cattle rancher in the northeastern state of Bahia, Mata Pires  links to politicians were central to the expansion of OAS, which became Brazil s No. 4 builder earlier this decade, people familiar with his career told Reuters last year. His big break came when he befriended Antonio Carlos Magalh es, a popular politician who was Bahia governor several times, and eventually married his daughter Tereza. Brazilians joked that OAS stood for  Obras Arranjadas pelo Sogro  - or  Work Arranged by the Father-In-Law.   After years of steady growth triggered by a flurry of massive government contracts, OAS was ensnared in Operation Car Wash which unearthed an illegal contracting ring between state firms and builders. The ensuing scandal helped topple former Brazilian President Dilma Rousseff last year. Trained as an engineer, Mata Pires founded OAS with two colleagues in 1976 to do sub-contracting work for larger rival Odebrecht SA - the biggest of the builders involved in the probe.  Before the scandal, Forbes magazine estimated Mata Pires  fortune at $1.6 billion. He dropped off the magazine s billionaire list in 2015, months after OAS sought bankruptcy protection after the Car Wash scandal. While Mata Pires was never accused of wrongdoing in the investigations, creditors demanded he and his family stay away from the builder s day-to-day operations, people directly involved in the negotiations told Reuters at the time. He is survived by his wife and his two sons.         ",
         "worldnews",
         "August 22, 2017 ",
         "0",
         "Mata Pires, owner of embattled Brazil builder OAS, dies SAO PAULO (Reuters) - Cesar Mata Pires, the owner and co-founder of Brazilian engineering conglomerate OAS SA, one of the largest companies involved in Brazil s corruption scandal, died on Tuesday. He was 68. Mata Pires died of a heart attack while taking a morning walk in an upscale district of S o Paulo, where OAS is based, a person with direct knowledge of the matter said. Efforts to contact his family were unsuccessful. OAS declined to comment. The son of a wealthy cattle rancher in the northeastern state of Bahia, Mata Pires  links to politicians were central to the expansion of OAS, which became Brazil s No. 4 builder earlier this decade, people familiar with his career told Reuters last year. His big break came when he befriended Antonio Carlos Magalh es, a popular politician who was Bahia governor several times, and eventually married his daughter Tereza. Brazilians joked that OAS stood for  Obras Arranjadas pelo Sogro  - or  Work Arranged by the Father-In-Law.   After years of steady growth triggered by a flurry of massive government contracts, OAS was ensnared in Operation Car Wash which unearthed an illegal contracting ring between state firms and builders. The ensuing scandal helped topple former Brazilian President Dilma Rousseff last year. Trained as an engineer, Mata Pires founded OAS with two colleagues in 1976 to do sub-contracting work for larger rival Odebrecht SA - the biggest of the builders involved in the probe.  Before the scandal, Forbes magazine estimated Mata Pires  fortune at $1.6 billion. He dropped off the magazine s billionaire list in 2015, months after OAS sought bankruptcy protection after the Car Wash scandal. While Mata Pires was never accused of wrongdoing in the investigations, creditors demanded he and his family stay away from the builder s day-to-day operations, people directly involved in the negotiations told Reuters at the time. He is survived by his wife and his two sons.         ",
         "Mata Pires, owner of embattled Brazil builder OAS, dies SAO PAULO (Reuters) - Cesar Mata Pires, the owner and co-founder of Brazilian engineering conglomerate OAS SA, one of the largest companies involved in Brazil s corruption scandal, died on Tuesday. He was 68. Mata Pires died of a heart attack while taking a morning walk in an upscale district of S o Paulo, where OAS is based, a person with direct knowledge of the matter said. Efforts to contact his family were unsuccessful. OAS declined to comment. The son of a wealthy cattle rancher in the northeastern state of Bahia, Mata Pires  links to politicians were central to the expansion of OAS, which became Brazil s No. 4 builder earlier this decade, people familiar with his career told Reuters last year. His big break came when he befriended Antonio Carlos Magalh es, a popular politician who was Bahia governor several times, and eventually married his daughter Tereza. Brazilians joked that OAS stood for  Obras Arranjadas pelo Sogro  - or  Work Arranged by the Father-In-Law.   After years of steady growth triggered by a flurry of massive government contracts, OAS was ensnared in Operation Car Wash which unearthed an illegal contracting ring between state firms and builders. The ensuing scandal helped topple former Brazilian President Dilma Rousseff last year. Trained as an engineer, Mata Pires founded OAS with two colleagues in 1976 to do sub-contracting work for larger rival Odebrecht SA - the biggest of the builders involved in the probe.  Before the scandal, Forbes magazine estimated Mata Pires  fortune at $1.6 billion. He dropped off the magazine s billionaire list in 2015, months after OAS sought bankruptcy protection after the Car Wash scandal. While Mata Pires was never accused of wrongdoing in the investigations, creditors demanded he and his family stay away from the builder s day-to-day operations, people directly involved in the negotiations told Reuters at the time. He is survived by his wife and his two sons.",
         "mata pires owner embattled brazil builder oas dy sao paulo reuters cesar mata pires owner cofounder brazilian engineering conglomerate oas sa one largest company involved brazil corruption scandal died tuesday mata pires died heart attack taking morning walk upscale district paulo oas based person direct knowledge matter said effort contact family unsuccessful oas declined comment son wealthy cattle rancher northeastern state bahia mata pires link politician central expansion oas became brazil builder earlier decade people familiar career told reuters last year big break came befriended antonio carlos magalh e popular politician bahia governor several time eventually married daughter tereza brazilian joked oas stood obras arranjadas pelo sogro work arranged fatherinlaw year steady growth triggered flurry massive government contract oas ensnared operation car wash unearthed illegal contracting ring state firm builder ensuing scandal helped topple former brazilian president dilma rousseff last year trained engineer mata pires founded oas two colleague subcontracting work larger rival odebrecht sa biggest builder involved probe scandal forbes magazine estimated mata pires fortune billion dropped magazine billionaire list month oas sought bankruptcy protection car wash scandal mata pires never accused wrongdoing investigation creditor demanded family stay away builder daytoday operation people directly involved negotiation told reuters time survived wife two son"
        ],
        [
         "21409",
         "U.S., North Korea clash at U.N. arms forum on nuclear threat",
         "GENEVA (Reuters) - North Korea and the United States accused each other on Tuesday of posing a nuclear threat, with Pyongyang s envoy declaring it would never put its atomic arsenal up for negotiation. The debate at the United Nations began when the U.S. envoy said President Donald Trump s top priority was to protect the United States and its allies against the  growing threat  from North Korea. To do so, he said, the country was ready to use  the full range of capabilities at our disposal . U.S. Ambassador Robert Wood told the Conference on Disarmament that the  path to dialogue still remains an option  for Pyongyang, but that Washington was  undeterred in defending against the threat North Korea poses . Fears have grown over North Korea s development of missiles and nuclear weapons since Pyongyang test-launched intercontinental ballistic missiles (ICBMs) in July. Those fears worsened after Trump warned that North Korea would face  fire and fury  if it threatened the United States. His remarks led North Korea to say it was considering plans to fire missiles towards the U.S. Pacific territory of Guam. Trump responded by tweeting that the U.S. military was  locked and loaded, should North Korea act unwisely . A few days later, North Korean media reported the country s leader, Kim Jong Un, had delayed any decision on whether to fire missiles towards Guam while he waited to see what the United States would do. Experts warned Pyongyang could still go ahead with the missile launches.      North Korea s ballistic missile and nuclear weapons programs pose grave threats to the entire world,  Wood told the Geneva forum.  Its recent ICBM tests are another example of the dangerous reckless behavior of the North that is destabilizing the region and beyond.  North Korea had openly stated that its missiles are intended to strike cities in the United States and its allies South Korea and Japan, he said.  My president s top priority remains protecting the homeland, U.S. territories and our allies against North Korean aggression. We remain prepared to use the full range of capabilities at our disposal against the growing threat from North Korea.  North Korea diplomat Ju Yong Chol said that measures taken by his country to strengthen its nuclear deterrent and develop inter-continental rockets were  justifiable and a legitimate option .  As long as the U.S. hostile policy and nuclear threat remains unchallenged, the DPRK will never place its self-defensive nuclear deterrence on the negotiating table or step back an inch from the path it took to bolster the national nuclear force,  Ju said. In a subsequent speech, Ju said:  The United States should clearly understand that military threats and pressure are only serving as a momentum that pushes the DPRK further into developing fully strengthened nuclear deterrence.  Regarding joint U.S.-South Korean military exercises that began on Monday, he said:  The ongoing military adventure would certainly add gasoline to the fire, driving the current tense situation to further deterioration.  China s disarmament ambassador, Fu Cong, called for support for its proposal to defuse the crisis affecting its Pyongyang ally.  China has called for  dual suspension , that is of North Korea s nuclear activities and joint military exercises between the Republic of Korea and United States. This seeks to denuclearize the peninsula and promote a security mechanism.  Wood rejected Beijing s  freeze for freeze  plan.  This proposal unfortunately creates a false equivalency between states that are engaging in legitimate exercises of self-defense who have done so for many years with a regime that has basically violated countless Security Council resolutions with regard to its proscribed nuclear and ballistic missile programs,  he told the gathering.  That is a false equivalency that we cannot accept and will not accept,  he said. Fu retorted:  I just want to say that we re not creating equivalency between anything. We are just actually making the proposal to facilitate a dialogue and to reduce the tension. We need a starting point to really launch the dialogue.  ",
         "worldnews",
         "August 22, 2017 ",
         "0",
         "U.S., North Korea clash at U.N. arms forum on nuclear threat GENEVA (Reuters) - North Korea and the United States accused each other on Tuesday of posing a nuclear threat, with Pyongyang s envoy declaring it would never put its atomic arsenal up for negotiation. The debate at the United Nations began when the U.S. envoy said President Donald Trump s top priority was to protect the United States and its allies against the  growing threat  from North Korea. To do so, he said, the country was ready to use  the full range of capabilities at our disposal . U.S. Ambassador Robert Wood told the Conference on Disarmament that the  path to dialogue still remains an option  for Pyongyang, but that Washington was  undeterred in defending against the threat North Korea poses . Fears have grown over North Korea s development of missiles and nuclear weapons since Pyongyang test-launched intercontinental ballistic missiles (ICBMs) in July. Those fears worsened after Trump warned that North Korea would face  fire and fury  if it threatened the United States. His remarks led North Korea to say it was considering plans to fire missiles towards the U.S. Pacific territory of Guam. Trump responded by tweeting that the U.S. military was  locked and loaded, should North Korea act unwisely . A few days later, North Korean media reported the country s leader, Kim Jong Un, had delayed any decision on whether to fire missiles towards Guam while he waited to see what the United States would do. Experts warned Pyongyang could still go ahead with the missile launches.      North Korea s ballistic missile and nuclear weapons programs pose grave threats to the entire world,  Wood told the Geneva forum.  Its recent ICBM tests are another example of the dangerous reckless behavior of the North that is destabilizing the region and beyond.  North Korea had openly stated that its missiles are intended to strike cities in the United States and its allies South Korea and Japan, he said.  My president s top priority remains protecting the homeland, U.S. territories and our allies against North Korean aggression. We remain prepared to use the full range of capabilities at our disposal against the growing threat from North Korea.  North Korea diplomat Ju Yong Chol said that measures taken by his country to strengthen its nuclear deterrent and develop inter-continental rockets were  justifiable and a legitimate option .  As long as the U.S. hostile policy and nuclear threat remains unchallenged, the DPRK will never place its self-defensive nuclear deterrence on the negotiating table or step back an inch from the path it took to bolster the national nuclear force,  Ju said. In a subsequent speech, Ju said:  The United States should clearly understand that military threats and pressure are only serving as a momentum that pushes the DPRK further into developing fully strengthened nuclear deterrence.  Regarding joint U.S.-South Korean military exercises that began on Monday, he said:  The ongoing military adventure would certainly add gasoline to the fire, driving the current tense situation to further deterioration.  China s disarmament ambassador, Fu Cong, called for support for its proposal to defuse the crisis affecting its Pyongyang ally.  China has called for  dual suspension , that is of North Korea s nuclear activities and joint military exercises between the Republic of Korea and United States. This seeks to denuclearize the peninsula and promote a security mechanism.  Wood rejected Beijing s  freeze for freeze  plan.  This proposal unfortunately creates a false equivalency between states that are engaging in legitimate exercises of self-defense who have done so for many years with a regime that has basically violated countless Security Council resolutions with regard to its proscribed nuclear and ballistic missile programs,  he told the gathering.  That is a false equivalency that we cannot accept and will not accept,  he said. Fu retorted:  I just want to say that we re not creating equivalency between anything. We are just actually making the proposal to facilitate a dialogue and to reduce the tension. We need a starting point to really launch the dialogue.  ",
         "U.S., North Korea clash at U.N. arms forum on nuclear threat GENEVA (Reuters) - North Korea and the United States accused each other on Tuesday of posing a nuclear threat, with Pyongyang s envoy declaring it would never put its atomic arsenal up for negotiation. The debate at the United Nations began when the U.S. envoy said President Donald Trump s top priority was to protect the United States and its allies against the  growing threat  from North Korea. To do so, he said, the country was ready to use  the full range of capabilities at our disposal . U.S. Ambassador Robert Wood told the Conference on Disarmament that the  path to dialogue still remains an option  for Pyongyang, but that Washington was  undeterred in defending against the threat North Korea poses . Fears have grown over North Korea s development of missiles and nuclear weapons since Pyongyang test-launched intercontinental ballistic missiles (ICBMs) in July. Those fears worsened after Trump warned that North Korea would face  fire and fury  if it threatened the United States. His remarks led North Korea to say it was considering plans to fire missiles towards the U.S. Pacific territory of Guam. Trump responded by tweeting that the U.S. military was  locked and loaded, should North Korea act unwisely . A few days later, North Korean media reported the country s leader, Kim Jong Un, had delayed any decision on whether to fire missiles towards Guam while he waited to see what the United States would do. Experts warned Pyongyang could still go ahead with the missile launches.      North Korea s ballistic missile and nuclear weapons programs pose grave threats to the entire world,  Wood told the Geneva forum.  Its recent ICBM tests are another example of the dangerous reckless behavior of the North that is destabilizing the region and beyond.  North Korea had openly stated that its missiles are intended to strike cities in the United States and its allies South Korea and Japan, he said.  My president s top priority remains protecting the homeland, U.S. territories and our allies against North Korean aggression. We remain prepared to use the full range of capabilities at our disposal against the growing threat from North Korea.  North Korea diplomat Ju Yong Chol said that measures taken by his country to strengthen its nuclear deterrent and develop inter-continental rockets were  justifiable and a legitimate option .  As long as the U.S. hostile policy and nuclear threat remains unchallenged, the DPRK will never place its self-defensive nuclear deterrence on the negotiating table or step back an inch from the path it took to bolster the national nuclear force,  Ju said. In a subsequent speech, Ju said:  The United States should clearly understand that military threats and pressure are only serving as a momentum that pushes the DPRK further into developing fully strengthened nuclear deterrence.  Regarding joint U.S.-South Korean military exercises that began on Monday, he said:  The ongoing military adventure would certainly add gasoline to the fire, driving the current tense situation to further deterioration.  China s disarmament ambassador, Fu Cong, called for support for its proposal to defuse the crisis affecting its Pyongyang ally.  China has called for  dual suspension , that is of North Korea s nuclear activities and joint military exercises between the Republic of Korea and United States. This seeks to denuclearize the peninsula and promote a security mechanism.  Wood rejected Beijing s  freeze for freeze  plan.  This proposal unfortunately creates a false equivalency between states that are engaging in legitimate exercises of self-defense who have done so for many years with a regime that has basically violated countless Security Council resolutions with regard to its proscribed nuclear and ballistic missile programs,  he told the gathering.  That is a false equivalency that we cannot accept and will not accept,  he said. Fu retorted:  I just want to say that we re not creating equivalency between anything. We are just actually making the proposal to facilitate a dialogue and to reduce the tension. We need a starting point to really launch the dialogue.",
         "u north korea clash un arm forum nuclear threat geneva reuters north korea united state accused tuesday posing nuclear threat pyongyang envoy declaring would never put atomic arsenal negotiation debate united nation began u envoy said president donald trump top priority protect united state ally growing threat north korea said country ready use full range capability disposal u ambassador robert wood told conference disarmament path dialogue still remains option pyongyang washington undeterred defending threat north korea pose fear grown north korea development missile nuclear weapon since pyongyang testlaunched intercontinental ballistic missile icbm july fear worsened trump warned north korea would face fire fury threatened united state remark led north korea say considering plan fire missile towards u pacific territory guam trump responded tweeting u military locked loaded north korea act unwisely day later north korean medium reported country leader kim jong un delayed decision whether fire missile towards guam waited see united state would expert warned pyongyang could still go ahead missile launch north korea ballistic missile nuclear weapon program pose grave threat entire world wood told geneva forum recent icbm test another example dangerous reckless behavior north destabilizing region beyond north korea openly stated missile intended strike city united state ally south korea japan said president top priority remains protecting homeland u territory ally north korean aggression remain prepared use full range capability disposal growing threat north korea north korea diplomat ju yong chol said measure taken country strengthen nuclear deterrent develop intercontinental rocket justifiable legitimate option long u hostile policy nuclear threat remains unchallenged dprk never place selfdefensive nuclear deterrence negotiating table step back inch path took bolster national nuclear force ju said subsequent speech ju said united state clearly understand military threat pressure serving momentum push dprk developing fully strengthened nuclear deterrence regarding joint ussouth korean military exercise began monday said ongoing military adventure would certainly add gasoline fire driving current tense situation deterioration china disarmament ambassador fu cong called support proposal defuse crisis affecting pyongyang ally china called dual suspension north korea nuclear activity joint military exercise republic korea united state seek denuclearize peninsula promote security mechanism wood rejected beijing freeze freeze plan proposal unfortunately creates false equivalency state engaging legitimate exercise selfdefense done many year regime basically violated countless security council resolution regard proscribed nuclear ballistic missile program told gathering false equivalency accept accept said fu retorted want say creating equivalency anything actually making proposal facilitate dialogue reduce tension need starting point really launch dialogue"
        ],
        [
         "21410",
         "Headless torso could belong to submarine journalist: Danish police",
         "COPENHAGEN (Reuters) - Danish police said on Tuesday the size of a headless female torso found on the sea s edge in Copenhagen suggested it could be that of a Swedish journalist who died after taking a submarine ride with the vessel s Danish inventor. Police said divers were still searching the area and they were investigating reports of other body parts that may have been spotted in Copenhagen harbor. Danish inventor Peter Madsen has been charged with killing Kim Wall, a Swedish journalist, in his home-made submarine.   We re dealing with a torso where arms, legs and head were cut off deliberately. The length of the torso doesn t speak against it being Kim Wall, but we still don t know,  Copenhagen police spokesman Jens Moller said in a video statement. Madsen told a court she had died in an accident on board the submarine and that he had buried her at sea, changing his earlier statement that he dropped her off alive in Copenhagen. Police are conducting DNA tests to identify the torso - found on Monday by a passing cyclist - and the results are due Wednesday morning, Moller said. The bizarre case has dominated Danish and Swedish media, and drawn interest from around the world. Madsen has been charged with the manslaughter of Wall, who has been missing since he took her out to sea in his 17-metre (56 feet) submarine on Aug. 10. He denies the charge. He was rescued a day later after his UC3 Nautilus sank in the narrow strait between Denmark and Sweden. Police found nobody else in the wreck. Madsen, an entrepreneur, artist, submarine builder and aerospace engineer, went before a judge on Saturday for preliminary questioning. The case is closed to the public in order to protect further investigations, police said. ",
         "worldnews",
         "August 22, 2017 ",
         "0",
         "Headless torso could belong to submarine journalist: Danish police COPENHAGEN (Reuters) - Danish police said on Tuesday the size of a headless female torso found on the sea s edge in Copenhagen suggested it could be that of a Swedish journalist who died after taking a submarine ride with the vessel s Danish inventor. Police said divers were still searching the area and they were investigating reports of other body parts that may have been spotted in Copenhagen harbor. Danish inventor Peter Madsen has been charged with killing Kim Wall, a Swedish journalist, in his home-made submarine.   We re dealing with a torso where arms, legs and head were cut off deliberately. The length of the torso doesn t speak against it being Kim Wall, but we still don t know,  Copenhagen police spokesman Jens Moller said in a video statement. Madsen told a court she had died in an accident on board the submarine and that he had buried her at sea, changing his earlier statement that he dropped her off alive in Copenhagen. Police are conducting DNA tests to identify the torso - found on Monday by a passing cyclist - and the results are due Wednesday morning, Moller said. The bizarre case has dominated Danish and Swedish media, and drawn interest from around the world. Madsen has been charged with the manslaughter of Wall, who has been missing since he took her out to sea in his 17-metre (56 feet) submarine on Aug. 10. He denies the charge. He was rescued a day later after his UC3 Nautilus sank in the narrow strait between Denmark and Sweden. Police found nobody else in the wreck. Madsen, an entrepreneur, artist, submarine builder and aerospace engineer, went before a judge on Saturday for preliminary questioning. The case is closed to the public in order to protect further investigations, police said. ",
         "Headless torso could belong to submarine journalist: Danish police COPENHAGEN (Reuters) - Danish police said on Tuesday the size of a headless female torso found on the sea s edge in Copenhagen suggested it could be that of a Swedish journalist who died after taking a submarine ride with the vessel s Danish inventor. Police said divers were still searching the area and they were investigating reports of other body parts that may have been spotted in Copenhagen harbor. Danish inventor Peter Madsen has been charged with killing Kim Wall, a Swedish journalist, in his home-made submarine.   We re dealing with a torso where arms, legs and head were cut off deliberately. The length of the torso doesn t speak against it being Kim Wall, but we still don t know,  Copenhagen police spokesman Jens Moller said in a video statement. Madsen told a court she had died in an accident on board the submarine and that he had buried her at sea, changing his earlier statement that he dropped her off alive in Copenhagen. Police are conducting DNA tests to identify the torso - found on Monday by a passing cyclist - and the results are due Wednesday morning, Moller said. The bizarre case has dominated Danish and Swedish media, and drawn interest from around the world. Madsen has been charged with the manslaughter of Wall, who has been missing since he took her out to sea in his 17-metre (56 feet) submarine on Aug. 10. He denies the charge. He was rescued a day later after his UC3 Nautilus sank in the narrow strait between Denmark and Sweden. Police found nobody else in the wreck. Madsen, an entrepreneur, artist, submarine builder and aerospace engineer, went before a judge on Saturday for preliminary questioning. The case is closed to the public in order to protect further investigations, police said.",
         "headless torso could belong submarine journalist danish police copenhagen reuters danish police said tuesday size headless female torso found sea edge copenhagen suggested could swedish journalist died taking submarine ride vessel danish inventor police said diver still searching area investigating report body part may spotted copenhagen harbor danish inventor peter madsen charged killing kim wall swedish journalist homemade submarine dealing torso arm leg head cut deliberately length torso speak kim wall still know copenhagen police spokesman jens moller said video statement madsen told court died accident board submarine buried sea changing earlier statement dropped alive copenhagen police conducting dna test identify torso found monday passing cyclist result due wednesday morning moller said bizarre case dominated danish swedish medium drawn interest around world madsen charged manslaughter wall missing since took sea foot submarine aug denies charge rescued day later nautilus sank narrow strait denmark sweden police found nobody else wreck madsen entrepreneur artist submarine builder aerospace engineer went judge saturday preliminary questioning case closed public order protect investigation police said"
        ],
        [
         "21411",
         "North Korea shipments to Syria chemical arms agency intercepted: U.N. report",
         "UNITED NATIONS (Reuters) - Two North Korean shipments to a Syrian government agency responsible for the country s chemical weapons program were intercepted in the past six months, according to a confidential United Nations report on North Korea sanctions violations. The report by a panel of independent U.N. experts, which was submitted to the U.N. Security Council earlier this month and seen by Reuters on Monday, gave no details on when or where the interdictions occurred or what the shipments contained.   The panel is investigating reported prohibited chemical, ballistic missile and conventional arms cooperation between Syria and the DPRK (North Korea),  the experts wrote in the 37-page report.   Two member states interdicted shipments destined for Syria. Another Member state informed the panel that it had reasons to believe that the goods were part of a KOMID contract with Syria,  according to the report. KOMID is the Korea Mining Development Trading Corporation. It was blacklisted by the Security Council in 2009 and described as Pyongyang s key arms dealer and exporter of equipment related to ballistic missiles and conventional weapons. In March 2016 the council also blacklisted two KOMID representatives in Syria.   The consignees were Syrian entities designated by the European Union and the United States as front companies for Syria s Scientific Studies and Research Centre (SSRC), a Syrian entity identified by the Panel as cooperating with KOMID in previous prohibited item transfers,  the U.N. experts wrote.  SSRC has overseen the country s chemical weapons program since the 1970s. The U.N. experts said activities between Syria and North Korea they were investigating included cooperation on Syrian Scud missile programs and maintenance and repair of Syrian surface-to-air missiles air defense systems. The North Korean and Syrian missions to the United Nations did not immediately respond to a request for comment.  The experts said they were also investigating the use of the VX nerve agent in Malaysia to kill the estranged half-brother of North Korea s leader Kim Jong Un in February.  North Korea has been under U.N. sanctions since 2006 over its ballistic missile and nuclear programs and the Security Council has ratcheted up the measures in response to five nuclear weapons tests and four long-range missile launches. Syria agreed to destroy its chemical weapons in 2013 under a deal brokered by Russia and the United States. However, diplomats and weapons inspectors suspect Syria may have secretly maintained or developed a new chemical weapons capability. During the country s more than six-year long civil war the Organisation for the Prohibition of Chemical Weapons has said the banned nerve agent sarin has been used at least twice, while the use of chlorine as a weapon has been widespread. The Syrian government has repeatedly denied using chemical weapons. ",
         "worldnews",
         "August 21, 2017 ",
         "0",
         "North Korea shipments to Syria chemical arms agency intercepted: U.N. report UNITED NATIONS (Reuters) - Two North Korean shipments to a Syrian government agency responsible for the country s chemical weapons program were intercepted in the past six months, according to a confidential United Nations report on North Korea sanctions violations. The report by a panel of independent U.N. experts, which was submitted to the U.N. Security Council earlier this month and seen by Reuters on Monday, gave no details on when or where the interdictions occurred or what the shipments contained.   The panel is investigating reported prohibited chemical, ballistic missile and conventional arms cooperation between Syria and the DPRK (North Korea),  the experts wrote in the 37-page report.   Two member states interdicted shipments destined for Syria. Another Member state informed the panel that it had reasons to believe that the goods were part of a KOMID contract with Syria,  according to the report. KOMID is the Korea Mining Development Trading Corporation. It was blacklisted by the Security Council in 2009 and described as Pyongyang s key arms dealer and exporter of equipment related to ballistic missiles and conventional weapons. In March 2016 the council also blacklisted two KOMID representatives in Syria.   The consignees were Syrian entities designated by the European Union and the United States as front companies for Syria s Scientific Studies and Research Centre (SSRC), a Syrian entity identified by the Panel as cooperating with KOMID in previous prohibited item transfers,  the U.N. experts wrote.  SSRC has overseen the country s chemical weapons program since the 1970s. The U.N. experts said activities between Syria and North Korea they were investigating included cooperation on Syrian Scud missile programs and maintenance and repair of Syrian surface-to-air missiles air defense systems. The North Korean and Syrian missions to the United Nations did not immediately respond to a request for comment.  The experts said they were also investigating the use of the VX nerve agent in Malaysia to kill the estranged half-brother of North Korea s leader Kim Jong Un in February.  North Korea has been under U.N. sanctions since 2006 over its ballistic missile and nuclear programs and the Security Council has ratcheted up the measures in response to five nuclear weapons tests and four long-range missile launches. Syria agreed to destroy its chemical weapons in 2013 under a deal brokered by Russia and the United States. However, diplomats and weapons inspectors suspect Syria may have secretly maintained or developed a new chemical weapons capability. During the country s more than six-year long civil war the Organisation for the Prohibition of Chemical Weapons has said the banned nerve agent sarin has been used at least twice, while the use of chlorine as a weapon has been widespread. The Syrian government has repeatedly denied using chemical weapons. ",
         "North Korea shipments to Syria chemical arms agency intercepted: U.N. report UNITED NATIONS (Reuters) - Two North Korean shipments to a Syrian government agency responsible for the country s chemical weapons program were intercepted in the past six months, according to a confidential United Nations report on North Korea sanctions violations. The report by a panel of independent U.N. experts, which was submitted to the U.N. Security Council earlier this month and seen by Reuters on Monday, gave no details on when or where the interdictions occurred or what the shipments contained.   The panel is investigating reported prohibited chemical, ballistic missile and conventional arms cooperation between Syria and the DPRK (North Korea),  the experts wrote in the 37-page report.   Two member states interdicted shipments destined for Syria. Another Member state informed the panel that it had reasons to believe that the goods were part of a KOMID contract with Syria,  according to the report. KOMID is the Korea Mining Development Trading Corporation. It was blacklisted by the Security Council in 2009 and described as Pyongyang s key arms dealer and exporter of equipment related to ballistic missiles and conventional weapons. In March 2016 the council also blacklisted two KOMID representatives in Syria.   The consignees were Syrian entities designated by the European Union and the United States as front companies for Syria s Scientific Studies and Research Centre (SSRC), a Syrian entity identified by the Panel as cooperating with KOMID in previous prohibited item transfers,  the U.N. experts wrote.  SSRC has overseen the country s chemical weapons program since the 1970s. The U.N. experts said activities between Syria and North Korea they were investigating included cooperation on Syrian Scud missile programs and maintenance and repair of Syrian surface-to-air missiles air defense systems. The North Korean and Syrian missions to the United Nations did not immediately respond to a request for comment.  The experts said they were also investigating the use of the VX nerve agent in Malaysia to kill the estranged half-brother of North Korea s leader Kim Jong Un in February.  North Korea has been under U.N. sanctions since 2006 over its ballistic missile and nuclear programs and the Security Council has ratcheted up the measures in response to five nuclear weapons tests and four long-range missile launches. Syria agreed to destroy its chemical weapons in 2013 under a deal brokered by Russia and the United States. However, diplomats and weapons inspectors suspect Syria may have secretly maintained or developed a new chemical weapons capability. During the country s more than six-year long civil war the Organisation for the Prohibition of Chemical Weapons has said the banned nerve agent sarin has been used at least twice, while the use of chlorine as a weapon has been widespread. The Syrian government has repeatedly denied using chemical weapons.",
         "north korea shipment syria chemical arm agency intercepted un report united nation reuters two north korean shipment syrian government agency responsible country chemical weapon program intercepted past six month according confidential united nation report north korea sanction violation report panel independent un expert submitted un security council earlier month seen reuters monday gave detail interdiction occurred shipment contained panel investigating reported prohibited chemical ballistic missile conventional arm cooperation syria dprk north korea expert wrote report two member state interdicted shipment destined syria another member state informed panel reason believe good part komid contract syria according report komid korea mining development trading corporation blacklisted security council described pyongyang key arm dealer exporter equipment related ballistic missile conventional weapon march council also blacklisted two komid representative syria consignee syrian entity designated european union united state front company syria scientific study research centre ssrc syrian entity identified panel cooperating komid previous prohibited item transfer un expert wrote ssrc overseen country chemical weapon program since un expert said activity syria north korea investigating included cooperation syrian scud missile program maintenance repair syrian surfacetoair missile air defense system north korean syrian mission united nation immediately respond request comment expert said also investigating use vx nerve agent malaysia kill estranged halfbrother north korea leader kim jong un february north korea un sanction since ballistic missile nuclear program security council ratcheted measure response five nuclear weapon test four longrange missile launch syria agreed destroy chemical weapon deal brokered russia united state however diplomat weapon inspector suspect syria may secretly maintained developed new chemical weapon capability country sixyear long civil war organisation prohibition chemical weapon said banned nerve agent sarin used least twice use chlorine weapon widespread syrian government repeatedly denied using chemical weapon"
        ],
        [
         "21412",
         "'Fully committed' NATO backs new U.S. approach on Afghanistan",
         "BRUSSELS (Reuters) - NATO allies on Tuesday welcomed President Donald Trump s decision to commit more forces to Afghanistan, as part of a new U.S. strategy he said would require more troops and funding from America s partners. Having run for the White House last year on a pledge to withdraw swiftly from Afghanistan, Trump reversed course on Monday and promised a stepped-up military campaign against  Taliban insurgents, saying:  Our troops will fight to win .  U.S. officials said he had signed off on plans to send about 4,000 more U.S. troops to add to the roughly 8,400 now deployed in Afghanistan. But his speech did not define benchmarks for successfully ending the war that began with the U.S.-led invasion of Afghanistan in 2001, and which he acknowledged had required an   extraordinary sacrifice of blood and treasure .  We will ask our NATO allies and global partners to support our new strategy, with additional troops and funding increases in line with our own. We are confident they will,  Trump said. That comment signaled he would further increase pressure on U.S. partners who have already been jolted by his repeated demands to step up their contributions to NATO and his description of the alliance as  obsolete  - even though, since taking office, he has said this is no longer the case. NATO Secretary General Jens Stoltenberg said in a statement:  NATO remains fully committed to Afghanistan and I am looking forward to discussing the way ahead with (Defense) Secretary (James) Mattis and our Allies and international partners.  NATO has 12,000 troops in Afghanistan, and 15 countries have pledged more, Stoltenberg said. Britain, a leading NATO member, called the U.S. commitment  very welcome .  In my call with Secretary Mattis yesterday we agreed that despite the challenges, we have to stay the course in Afghanistan to help build up its fragile democracy and reduce the terrorist threat to the West,  Defence Secretary Michael Fallon said. Germany, which has borne the brunt of Trump s criticism over  the scale of its defense spending, also welcomed the new U.S. plan.  Our continued commitment is necessary on the path to stabilizing the country,  a government spokeswoman said. In June, European allies had already pledged more troops but had not given details on numbers, waiting for the Trump administration to outline its strategy for the region.Nearly 16 years after the U.S.-led invasion - a response to the Sept. 11 attacks which were planned by al Qaeda leader Osama bin Laden from Afghanistan - the country is still struggling with weak central government and a Taliban insurgency. Trump said he shared the frustration of the American people who were  weary of war without victory , but a hasty withdrawal would create a vacuum for groups like Islamic State and al Qaeda to fill. ",
         "worldnews",
         "August 22, 2017 ",
         "0",
         "'Fully committed' NATO backs new U.S. approach on Afghanistan BRUSSELS (Reuters) - NATO allies on Tuesday welcomed President Donald Trump s decision to commit more forces to Afghanistan, as part of a new U.S. strategy he said would require more troops and funding from America s partners. Having run for the White House last year on a pledge to withdraw swiftly from Afghanistan, Trump reversed course on Monday and promised a stepped-up military campaign against  Taliban insurgents, saying:  Our troops will fight to win .  U.S. officials said he had signed off on plans to send about 4,000 more U.S. troops to add to the roughly 8,400 now deployed in Afghanistan. But his speech did not define benchmarks for successfully ending the war that began with the U.S.-led invasion of Afghanistan in 2001, and which he acknowledged had required an   extraordinary sacrifice of blood and treasure .  We will ask our NATO allies and global partners to support our new strategy, with additional troops and funding increases in line with our own. We are confident they will,  Trump said. That comment signaled he would further increase pressure on U.S. partners who have already been jolted by his repeated demands to step up their contributions to NATO and his description of the alliance as  obsolete  - even though, since taking office, he has said this is no longer the case. NATO Secretary General Jens Stoltenberg said in a statement:  NATO remains fully committed to Afghanistan and I am looking forward to discussing the way ahead with (Defense) Secretary (James) Mattis and our Allies and international partners.  NATO has 12,000 troops in Afghanistan, and 15 countries have pledged more, Stoltenberg said. Britain, a leading NATO member, called the U.S. commitment  very welcome .  In my call with Secretary Mattis yesterday we agreed that despite the challenges, we have to stay the course in Afghanistan to help build up its fragile democracy and reduce the terrorist threat to the West,  Defence Secretary Michael Fallon said. Germany, which has borne the brunt of Trump s criticism over  the scale of its defense spending, also welcomed the new U.S. plan.  Our continued commitment is necessary on the path to stabilizing the country,  a government spokeswoman said. In June, European allies had already pledged more troops but had not given details on numbers, waiting for the Trump administration to outline its strategy for the region.Nearly 16 years after the U.S.-led invasion - a response to the Sept. 11 attacks which were planned by al Qaeda leader Osama bin Laden from Afghanistan - the country is still struggling with weak central government and a Taliban insurgency. Trump said he shared the frustration of the American people who were  weary of war without victory , but a hasty withdrawal would create a vacuum for groups like Islamic State and al Qaeda to fill. ",
         "'Fully committed' NATO backs new U.S. approach on Afghanistan BRUSSELS (Reuters) - NATO allies on Tuesday welcomed President Donald Trump s decision to commit more forces to Afghanistan, as part of a new U.S. strategy he said would require more troops and funding from America s partners. Having run for the White House last year on a pledge to withdraw swiftly from Afghanistan, Trump reversed course on Monday and promised a stepped-up military campaign against  Taliban insurgents, saying:  Our troops will fight to win .  U.S. officials said he had signed off on plans to send about 4,000 more U.S. troops to add to the roughly 8,400 now deployed in Afghanistan. But his speech did not define benchmarks for successfully ending the war that began with the U.S.-led invasion of Afghanistan in 2001, and which he acknowledged had required an   extraordinary sacrifice of blood and treasure .  We will ask our NATO allies and global partners to support our new strategy, with additional troops and funding increases in line with our own. We are confident they will,  Trump said. That comment signaled he would further increase pressure on U.S. partners who have already been jolted by his repeated demands to step up their contributions to NATO and his description of the alliance as  obsolete  - even though, since taking office, he has said this is no longer the case. NATO Secretary General Jens Stoltenberg said in a statement:  NATO remains fully committed to Afghanistan and I am looking forward to discussing the way ahead with (Defense) Secretary (James) Mattis and our Allies and international partners.  NATO has 12,000 troops in Afghanistan, and 15 countries have pledged more, Stoltenberg said. Britain, a leading NATO member, called the U.S. commitment  very welcome .  In my call with Secretary Mattis yesterday we agreed that despite the challenges, we have to stay the course in Afghanistan to help build up its fragile democracy and reduce the terrorist threat to the West,  Defence Secretary Michael Fallon said. Germany, which has borne the brunt of Trump s criticism over  the scale of its defense spending, also welcomed the new U.S. plan.  Our continued commitment is necessary on the path to stabilizing the country,  a government spokeswoman said. In June, European allies had already pledged more troops but had not given details on numbers, waiting for the Trump administration to outline its strategy for the region.Nearly 16 years after the U.S.-led invasion - a response to the Sept. 11 attacks which were planned by al Qaeda leader Osama bin Laden from Afghanistan - the country is still struggling with weak central government and a Taliban insurgency. Trump said he shared the frustration of the American people who were  weary of war without victory , but a hasty withdrawal would create a vacuum for groups like Islamic State and al Qaeda to fill.",
         "fully committed nato back new u approach afghanistan brussels reuters nato ally tuesday welcomed president donald trump decision commit force afghanistan part new u strategy said would require troop funding america partner run white house last year pledge withdraw swiftly afghanistan trump reversed course monday promised steppedup military campaign taliban insurgent saying troop fight win u official said signed plan send u troop add roughly deployed afghanistan speech define benchmark successfully ending war began usled invasion afghanistan acknowledged required extraordinary sacrifice blood treasure ask nato ally global partner support new strategy additional troop funding increase line confident trump said comment signaled would increase pressure u partner already jolted repeated demand step contribution nato description alliance obsolete even though since taking office said longer case nato secretary general jens stoltenberg said statement nato remains fully committed afghanistan looking forward discussing way ahead defense secretary james mattis ally international partner nato troop afghanistan country pledged stoltenberg said britain leading nato member called u commitment welcome call secretary mattis yesterday agreed despite challenge stay course afghanistan help build fragile democracy reduce terrorist threat west defence secretary michael fallon said germany borne brunt trump criticism scale defense spending also welcomed new u plan continued commitment necessary path stabilizing country government spokeswoman said june european ally already pledged troop given detail number waiting trump administration outline strategy regionnearly year usled invasion response sept attack planned al qaeda leader osama bin laden afghanistan country still struggling weak central government taliban insurgency trump said shared frustration american people weary war without victory hasty withdrawal would create vacuum group like islamic state al qaeda fill"
        ],
        [
         "21413",
         "LexisNexis withdrew two products from Chinese market",
         "LONDON (Reuters) - LexisNexis, a provider of legal, regulatory and business information, said on Tuesday it had withdrawn two products from the Chinese market in March this year after it was asked to remove some content.  The issue of academic freedom in China hit the headlines this week after the leading British academic publisher,  Cambridge University Press, said it had complied with a request to block online access to some scholarly articles in China.  It later reversed its position.   Earlier this year LexisNexis Business Insight Solutions in China was asked to remove some content from its database,  LexisNexis said in a statement.  In March 2017, the company withdrew two products (Nexis and LexisNexis Academic) from the Chinese market.  LexisNexis is owned by information group Relx. ",
         "worldnews",
         "August 22, 2017 ",
         "0",
         "LexisNexis withdrew two products from Chinese market LONDON (Reuters) - LexisNexis, a provider of legal, regulatory and business information, said on Tuesday it had withdrawn two products from the Chinese market in March this year after it was asked to remove some content.  The issue of academic freedom in China hit the headlines this week after the leading British academic publisher,  Cambridge University Press, said it had complied with a request to block online access to some scholarly articles in China.  It later reversed its position.   Earlier this year LexisNexis Business Insight Solutions in China was asked to remove some content from its database,  LexisNexis said in a statement.  In March 2017, the company withdrew two products (Nexis and LexisNexis Academic) from the Chinese market.  LexisNexis is owned by information group Relx. ",
         "LexisNexis, a provider of legal, regulatory and business information, said on Tuesday it had withdrawn two products from the Chinese market in March this year after it was asked to remove some content.  The issue of academic freedom in China hit the headlines this week after the leading British academic publisher,  Cambridge University Press, said it had complied with a request to block online access to some scholarly articles in China.  It later reversed its position.   Earlier this year LexisNexis Business Insight Solutions in China was asked to remove some content from its database,  LexisNexis said in a statement.  In March 2017, the company withdrew two products (Nexis and LexisNexis Academic) from the Chinese market.  LexisNexis is owned by information group Relx.",
         "lexisnexis provider legal regulatory business information said tuesday withdrawn two product chinese market march year asked remove content issue academic freedom china hit headline week leading british academic publisher cambridge university press said complied request block online access scholarly article china later reversed position earlier year lexisnexis business insight solution china asked remove content database lexisnexis said statement march company withdrew two product nexis lexisnexis academic chinese market lexisnexis owned information group relx"
        ],
        [
         "21414",
         "Minsk cultural hub becomes haven from authorities",
         "MINSK (Reuters) - In the shadow of disused Soviet-era factories in Minsk, a street lined with eclectic bars, art galleries and yoga studios has become a haven from the vigilant eyes of the Belarussian authorities.  This place is like an island,  said Yegor, 21, who works at  popular bar Hooligan.  It s the street of freedom.  The government of President Alexander Lukashenko, who has ruled Belarus for the past 23 years and has boasted that he is  the last and only dictator in Europe  ,has little tolerance for any opposition. A powerful police force and feared state security  keep citizens in check. But police patrols are rare in Oktyabrskaya, partly due to its location on an out-of-the-way peninsula in a bend of the river Svislach. When the first restaurant opened there in 2012, few visitors came but now it ranks among the most fashionable quarters of Minsk.  Such is the growing popularity of that Oktyabrskaya that investors such as Belgazprombank, a subsidiary of state-owned Russian lender Gazprombank, have big plans for the district. Earlier this year the bank purchased part of a factory there and intends to turn it into a gallery, restaurant and theater complex. The manufacturing sector has not entirely abandoned Oktyabrskaya - one  machine-making factory named after the 1917 October Revolution (MZOR) still operates there. Financial difficulties prompted state-owned MZOR to lease or sell some of its facilities to Oktyabrskaya s developers, but the firm still maintains some production with a reduced workforce. Mikhail, who has worked at the factory for 42 years, said he approves of the influx of new  hipster  businesses.  The street has come back to life,  he said. Oktyabrskaya s long-term future ultimately depends on the authorities good favor, cultural analyst Maksim Zhbankov said.  For now they tolerate it. But I can t say that someone won t turn up tomorrow and say they ve decided to tear it all down,  he said. ",
         "worldnews",
         "August 22, 2017 ",
         "0",
         "Minsk cultural hub becomes haven from authorities MINSK (Reuters) - In the shadow of disused Soviet-era factories in Minsk, a street lined with eclectic bars, art galleries and yoga studios has become a haven from the vigilant eyes of the Belarussian authorities.  This place is like an island,  said Yegor, 21, who works at  popular bar Hooligan.  It s the street of freedom.  The government of President Alexander Lukashenko, who has ruled Belarus for the past 23 years and has boasted that he is  the last and only dictator in Europe  ,has little tolerance for any opposition. A powerful police force and feared state security  keep citizens in check. But police patrols are rare in Oktyabrskaya, partly due to its location on an out-of-the-way peninsula in a bend of the river Svislach. When the first restaurant opened there in 2012, few visitors came but now it ranks among the most fashionable quarters of Minsk.  Such is the growing popularity of that Oktyabrskaya that investors such as Belgazprombank, a subsidiary of state-owned Russian lender Gazprombank, have big plans for the district. Earlier this year the bank purchased part of a factory there and intends to turn it into a gallery, restaurant and theater complex. The manufacturing sector has not entirely abandoned Oktyabrskaya - one  machine-making factory named after the 1917 October Revolution (MZOR) still operates there. Financial difficulties prompted state-owned MZOR to lease or sell some of its facilities to Oktyabrskaya s developers, but the firm still maintains some production with a reduced workforce. Mikhail, who has worked at the factory for 42 years, said he approves of the influx of new  hipster  businesses.  The street has come back to life,  he said. Oktyabrskaya s long-term future ultimately depends on the authorities good favor, cultural analyst Maksim Zhbankov said.  For now they tolerate it. But I can t say that someone won t turn up tomorrow and say they ve decided to tear it all down,  he said. ",
         "In the shadow of disused Soviet-era factories in Minsk, a street lined with eclectic bars, art galleries and yoga studios has become a haven from the vigilant eyes of the Belarussian authorities.  This place is like an island,  said Yegor, 21, who works at  popular bar Hooligan.  It s the street of freedom.  The government of President Alexander Lukashenko, who has ruled Belarus for the past 23 years and has boasted that he is  the last and only dictator in Europe  ,has little tolerance for any opposition. A powerful police force and feared state security  keep citizens in check. But police patrols are rare in Oktyabrskaya, partly due to its location on an out-of-the-way peninsula in a bend of the river Svislach. When the first restaurant opened there in 2012, few visitors came but now it ranks among the most fashionable quarters of Minsk.  Such is the growing popularity of that Oktyabrskaya that investors such as Belgazprombank, a subsidiary of state-owned Russian lender Gazprombank, have big plans for the district. Earlier this year the bank purchased part of a factory there and intends to turn it into a gallery, restaurant and theater complex. The manufacturing sector has not entirely abandoned Oktyabrskaya - one  machine-making factory named after the 1917 October Revolution (MZOR) still operates there. Financial difficulties prompted state-owned MZOR to lease or sell some of its facilities to Oktyabrskaya s developers, but the firm still maintains some production with a reduced workforce. Mikhail, who has worked at the factory for 42 years, said he approves of the influx of new  hipster  businesses.  The street has come back to life,  he said. Oktyabrskaya s long-term future ultimately depends on the authorities good favor, cultural analyst Maksim Zhbankov said.  For now they tolerate it. But I can t say that someone won t turn up tomorrow and say they ve decided to tear it all down,  he said.",
         "shadow disused sovietera factory minsk street lined eclectic bar art gallery yoga studio become vigilant eye belarussian authority place like island said yegor work popular bar hooligan street freedom government president alexander lukashenko ruled belarus past year boasted last dictator europe little tolerance opposition powerful police force feared state security keep citizen check police patrol rare oktyabrskaya partly due location outoftheway peninsula bend river svislach first restaurant opened visitor came rank among fashionable quarter minsk growing popularity oktyabrskaya investor belgazprombank subsidiary stateowned russian lender gazprombank big plan district earlier year bank purchased part factory intends turn gallery restaurant theater complex manufacturing sector entirely abandoned oktyabrskaya one machinemaking factory named october revolution mzor still operates financial difficulty prompted stateowned mzor lease sell facility oktyabrskaya developer firm still maintains production reduced workforce mikhail worked factory year said approves influx new hipster business street come back life said oktyabrskaya longterm future ultimately depends authority good favor cultural analyst maksim zhbankov said tolerate say someone turn tomorrow say decided tear said"
        ],
        [
         "21415",
         "Vatican upbeat on possibility of Pope Francis visiting Russia",
         "MOSCOW (Reuters) - Vatican Secretary of State Cardinal Pietro Parolin said on Tuesday that there was  positive momentum  behind the idea of Pope Francis visiting Russia, but suggested there was more work to be done if it were to happen.  Parolin, speaking at a joint news conference in Moscow alongside Russian Foreign Minister Sergei Lavrov, did not give any date for such a possible visit. The Eastern and Western branches of Christianity split apart in 1054. The pope, leader of the world s 1.2 billion Catholics, is seeking to improve ties, and last year in Cuba held what was the first ever meeting between a Roman Catholic pope and a Russian Orthodox patriarch.  Parolin said he had also used his talks in the Russian capital to also raise certain difficulties faced by the Catholic Church in Russia. He said that Moscow and the Vatican disagreed about the plight of Christians in certain parts of the world. He did not elaborate. Parolin, who is due later on Tuesday to meet Patriarch Kirill, the head of the Russian Orthodox Church, said he also believed Russia could play an important role when it came to helping solve a crisis in Venezuela because of its close relations with Caracas.    ",
         "worldnews",
         "August 22, 2017 ",
         "0",
         "Vatican upbeat on possibility of Pope Francis visiting Russia MOSCOW (Reuters) - Vatican Secretary of State Cardinal Pietro Parolin said on Tuesday that there was  positive momentum  behind the idea of Pope Francis visiting Russia, but suggested there was more work to be done if it were to happen.  Parolin, speaking at a joint news conference in Moscow alongside Russian Foreign Minister Sergei Lavrov, did not give any date for such a possible visit. The Eastern and Western branches of Christianity split apart in 1054. The pope, leader of the world s 1.2 billion Catholics, is seeking to improve ties, and last year in Cuba held what was the first ever meeting between a Roman Catholic pope and a Russian Orthodox patriarch.  Parolin said he had also used his talks in the Russian capital to also raise certain difficulties faced by the Catholic Church in Russia. He said that Moscow and the Vatican disagreed about the plight of Christians in certain parts of the world. He did not elaborate. Parolin, who is due later on Tuesday to meet Patriarch Kirill, the head of the Russian Orthodox Church, said he also believed Russia could play an important role when it came to helping solve a crisis in Venezuela because of its close relations with Caracas.    ",
         "Vatican Secretary of State Cardinal Pietro Parolin said on Tuesday that there was  positive momentum  behind the idea of Pope Francis visiting Russia, but suggested there was more work to be done if it were to happen.  Parolin, speaking at a joint news conference in Moscow alongside Russian Foreign Minister Sergei Lavrov, did not give any date for such a possible visit. The Eastern and Western branches of Christianity split apart in 1054. The pope, leader of the world s 1.2 billion Catholics, is seeking to improve ties, and last year in Cuba held what was the first ever meeting between a Roman Catholic pope and a Russian Orthodox patriarch.  Parolin said he had also used his talks in the Russian capital to also raise certain difficulties faced by the Catholic Church in Russia. He said that Moscow and the Vatican disagreed about the plight of Christians in certain parts of the world. He did not elaborate. Parolin, who is due later on Tuesday to meet Patriarch Kirill, the head of the Russian Orthodox Church, said he also believed Russia could play an important role when it came to helping solve a crisis in Venezuela because of its close relations with Caracas.",
         "vatican secretary state cardinal pietro parolin said tuesday positive momentum behind idea pope francis visiting russia suggested work done happen parolin speaking joint news conference moscow alongside russian foreign minister sergei lavrov give date possible visit eastern western branch christianity split apart pope leader world billion catholic seeking improve tie last year cuba held first ever meeting roman catholic pope russian orthodox patriarch parolin said also used talk russian capital also raise certain difficulty faced catholic church russia said moscow vatican disagreed plight christian certain part world elaborate parolin due later tuesday meet patriarch kirill head russian orthodox church said also believed russia could play important role came helping solve crisis venezuela close relation caracas"
        ],
        [
         "21416",
         "Indonesia to buy $1.14 billion worth of Russian jets",
         "JAKARTA (Reuters) - Indonesia will buy 11 Sukhoi fighter jets worth $1.14 billion from Russia in exchange for cash and Indonesian commodities, two cabinet ministers said on Tuesday. The Southeast Asian country has pledged to ship up to $570 million worth of commodities in addition to cash to pay for the Suhkoi SU-35 fighter jets, which are expected to be delivered in stages starting in two years. Indonesian Trade Minister Enggartiasto Lukita said in a joint statement with Defence Minister Ryamizard Ryacudu that details of the type and volume of commodities were  still being negotiated . Previously he had said the exports could include palm oil, tea, and coffee. The deal is expected to be finalised soon between Indonesian state trading company PT Perusahaan Perdangangan Indonesia and Russian state conglomerate Rostec. Russia is currently facing a new round of U.S.-imposed trade sanctions. Meanwhile, Southeast Asia s largest economy is trying to promote its palm oil products amid threats of a cut in consumption by European Union countries. Indonesia is also trying to modernize its ageing air force after a string of military aviation accidents. Indonesia, which had a $411 million trade surplus with Russia in 2016, wants to expand bilateral cooperation in tourism, education, energy, technology and aviation among others. ",
         "worldnews",
         "August 22, 2017 ",
         "0",
         "Indonesia to buy $1.14 billion worth of Russian jets JAKARTA (Reuters) - Indonesia will buy 11 Sukhoi fighter jets worth $1.14 billion from Russia in exchange for cash and Indonesian commodities, two cabinet ministers said on Tuesday. The Southeast Asian country has pledged to ship up to $570 million worth of commodities in addition to cash to pay for the Suhkoi SU-35 fighter jets, which are expected to be delivered in stages starting in two years. Indonesian Trade Minister Enggartiasto Lukita said in a joint statement with Defence Minister Ryamizard Ryacudu that details of the type and volume of commodities were  still being negotiated . Previously he had said the exports could include palm oil, tea, and coffee. The deal is expected to be finalised soon between Indonesian state trading company PT Perusahaan Perdangangan Indonesia and Russian state conglomerate Rostec. Russia is currently facing a new round of U.S.-imposed trade sanctions. Meanwhile, Southeast Asia s largest economy is trying to promote its palm oil products amid threats of a cut in consumption by European Union countries. Indonesia is also trying to modernize its ageing air force after a string of military aviation accidents. Indonesia, which had a $411 million trade surplus with Russia in 2016, wants to expand bilateral cooperation in tourism, education, energy, technology and aviation among others. ",
         "Indonesia to buy $1.14 billion worth of Russian jets JAKARTA (Reuters) - Indonesia will buy 11 Sukhoi fighter jets worth $1.14 billion from Russia in exchange for cash and Indonesian commodities, two cabinet ministers said on Tuesday. The Southeast Asian country has pledged to ship up to $570 million worth of commodities in addition to cash to pay for the Suhkoi SU-35 fighter jets, which are expected to be delivered in stages starting in two years. Indonesian Trade Minister Enggartiasto Lukita said in a joint statement with Defence Minister Ryamizard Ryacudu that details of the type and volume of commodities were  still being negotiated . Previously he had said the exports could include palm oil, tea, and coffee. The deal is expected to be finalised soon between Indonesian state trading company PT Perusahaan Perdangangan Indonesia and Russian state conglomerate Rostec. Russia is currently facing a new round of U.S.-imposed trade sanctions. Meanwhile, Southeast Asia s largest economy is trying to promote its palm oil products amid threats of a cut in consumption by European Union countries. Indonesia is also trying to modernize its ageing air force after a string of military aviation accidents. Indonesia, which had a $411 million trade surplus with Russia in 2016, wants to expand bilateral cooperation in tourism, education, energy, technology and aviation among others.",
         "indonesia buy billion worth russian jet jakarta reuters indonesia buy sukhoi fighter jet worth billion russia exchange cash indonesian commodity two cabinet minister said tuesday southeast asian country pledged ship million worth commodity addition cash pay suhkoi fighter jet expected delivered stage starting two year indonesian trade minister enggartiasto lukita said joint statement defence minister ryamizard ryacudu detail type volume commodity still negotiated previously said export could include palm oil tea coffee deal expected finalised soon indonesian state trading company pt perusahaan perdangangan indonesia russian state conglomerate rostec russia currently facing new round usimposed trade sanction meanwhile southeast asia largest economy trying promote palm oil product amid threat cut consumption european union country indonesia also trying modernize ageing air force string military aviation accident indonesia million trade surplus russia want expand bilateral cooperation tourism education energy technology aviation among others"
        ]
       ],
       "shape": {
        "columns": 8,
        "rows": 10
       }
      },
      "text/html": [
       "<div>\n",
       "<style scoped>\n",
       "    .dataframe tbody tr th:only-of-type {\n",
       "        vertical-align: middle;\n",
       "    }\n",
       "\n",
       "    .dataframe tbody tr th {\n",
       "        vertical-align: top;\n",
       "    }\n",
       "\n",
       "    .dataframe thead th {\n",
       "        text-align: right;\n",
       "    }\n",
       "</style>\n",
       "<table border=\"1\" class=\"dataframe\">\n",
       "  <thead>\n",
       "    <tr style=\"text-align: right;\">\n",
       "      <th></th>\n",
       "      <th>title</th>\n",
       "      <th>text</th>\n",
       "      <th>subject</th>\n",
       "      <th>date</th>\n",
       "      <th>target</th>\n",
       "      <th>full_text</th>\n",
       "      <th>full_text_cleaned</th>\n",
       "      <th>processed_text</th>\n",
       "    </tr>\n",
       "  </thead>\n",
       "  <tbody>\n",
       "    <tr>\n",
       "      <th>21406</th>\n",
       "      <td>U.S., North Korea clash at U.N. forum over nuc...</td>\n",
       "      <td>GENEVA (Reuters) - North Korea and the United ...</td>\n",
       "      <td>worldnews</td>\n",
       "      <td>August 22, 2017</td>\n",
       "      <td>0</td>\n",
       "      <td>U.S., North Korea clash at U.N. forum over nuc...</td>\n",
       "      <td>U.S., North Korea clash at U.N. forum over nuc...</td>\n",
       "      <td>u north korea clash un forum nuclear weapon ge...</td>\n",
       "    </tr>\n",
       "    <tr>\n",
       "      <th>21407</th>\n",
       "      <td>Mata Pires, owner of embattled Brazil builder ...</td>\n",
       "      <td>SAO PAULO (Reuters) - Cesar Mata Pires, the ow...</td>\n",
       "      <td>worldnews</td>\n",
       "      <td>August 22, 2017</td>\n",
       "      <td>0</td>\n",
       "      <td>Mata Pires, owner of embattled Brazil builder ...</td>\n",
       "      <td>Mata Pires, owner of embattled Brazil builder ...</td>\n",
       "      <td>mata pires owner embattled brazil builder oas ...</td>\n",
       "    </tr>\n",
       "    <tr>\n",
       "      <th>21409</th>\n",
       "      <td>U.S., North Korea clash at U.N. arms forum on ...</td>\n",
       "      <td>GENEVA (Reuters) - North Korea and the United ...</td>\n",
       "      <td>worldnews</td>\n",
       "      <td>August 22, 2017</td>\n",
       "      <td>0</td>\n",
       "      <td>U.S., North Korea clash at U.N. arms forum on ...</td>\n",
       "      <td>U.S., North Korea clash at U.N. arms forum on ...</td>\n",
       "      <td>u north korea clash un arm forum nuclear threa...</td>\n",
       "    </tr>\n",
       "    <tr>\n",
       "      <th>21410</th>\n",
       "      <td>Headless torso could belong to submarine journ...</td>\n",
       "      <td>COPENHAGEN (Reuters) - Danish police said on T...</td>\n",
       "      <td>worldnews</td>\n",
       "      <td>August 22, 2017</td>\n",
       "      <td>0</td>\n",
       "      <td>Headless torso could belong to submarine journ...</td>\n",
       "      <td>Headless torso could belong to submarine journ...</td>\n",
       "      <td>headless torso could belong submarine journali...</td>\n",
       "    </tr>\n",
       "    <tr>\n",
       "      <th>21411</th>\n",
       "      <td>North Korea shipments to Syria chemical arms a...</td>\n",
       "      <td>UNITED NATIONS (Reuters) - Two North Korean sh...</td>\n",
       "      <td>worldnews</td>\n",
       "      <td>August 21, 2017</td>\n",
       "      <td>0</td>\n",
       "      <td>North Korea shipments to Syria chemical arms a...</td>\n",
       "      <td>North Korea shipments to Syria chemical arms a...</td>\n",
       "      <td>north korea shipment syria chemical arm agency...</td>\n",
       "    </tr>\n",
       "    <tr>\n",
       "      <th>21412</th>\n",
       "      <td>'Fully committed' NATO backs new U.S. approach...</td>\n",
       "      <td>BRUSSELS (Reuters) - NATO allies on Tuesday we...</td>\n",
       "      <td>worldnews</td>\n",
       "      <td>August 22, 2017</td>\n",
       "      <td>0</td>\n",
       "      <td>'Fully committed' NATO backs new U.S. approach...</td>\n",
       "      <td>'Fully committed' NATO backs new U.S. approach...</td>\n",
       "      <td>fully committed nato back new u approach afgha...</td>\n",
       "    </tr>\n",
       "    <tr>\n",
       "      <th>21413</th>\n",
       "      <td>LexisNexis withdrew two products from Chinese ...</td>\n",
       "      <td>LONDON (Reuters) - LexisNexis, a provider of l...</td>\n",
       "      <td>worldnews</td>\n",
       "      <td>August 22, 2017</td>\n",
       "      <td>0</td>\n",
       "      <td>LexisNexis withdrew two products from Chinese ...</td>\n",
       "      <td>LexisNexis, a provider of legal, regulatory an...</td>\n",
       "      <td>lexisnexis provider legal regulatory business ...</td>\n",
       "    </tr>\n",
       "    <tr>\n",
       "      <th>21414</th>\n",
       "      <td>Minsk cultural hub becomes haven from authorities</td>\n",
       "      <td>MINSK (Reuters) - In the shadow of disused Sov...</td>\n",
       "      <td>worldnews</td>\n",
       "      <td>August 22, 2017</td>\n",
       "      <td>0</td>\n",
       "      <td>Minsk cultural hub becomes haven from authorit...</td>\n",
       "      <td>In the shadow of disused Soviet-era factories ...</td>\n",
       "      <td>shadow disused sovietera factory minsk street ...</td>\n",
       "    </tr>\n",
       "    <tr>\n",
       "      <th>21415</th>\n",
       "      <td>Vatican upbeat on possibility of Pope Francis ...</td>\n",
       "      <td>MOSCOW (Reuters) - Vatican Secretary of State ...</td>\n",
       "      <td>worldnews</td>\n",
       "      <td>August 22, 2017</td>\n",
       "      <td>0</td>\n",
       "      <td>Vatican upbeat on possibility of Pope Francis ...</td>\n",
       "      <td>Vatican Secretary of State Cardinal Pietro Par...</td>\n",
       "      <td>vatican secretary state cardinal pietro paroli...</td>\n",
       "    </tr>\n",
       "    <tr>\n",
       "      <th>21416</th>\n",
       "      <td>Indonesia to buy $1.14 billion worth of Russia...</td>\n",
       "      <td>JAKARTA (Reuters) - Indonesia will buy 11 Sukh...</td>\n",
       "      <td>worldnews</td>\n",
       "      <td>August 22, 2017</td>\n",
       "      <td>0</td>\n",
       "      <td>Indonesia to buy $1.14 billion worth of Russia...</td>\n",
       "      <td>Indonesia to buy $1.14 billion worth of Russia...</td>\n",
       "      <td>indonesia buy billion worth russian jet jakart...</td>\n",
       "    </tr>\n",
       "  </tbody>\n",
       "</table>\n",
       "</div>"
      ],
      "text/plain": [
       "                                                   title  \\\n",
       "21406  U.S., North Korea clash at U.N. forum over nuc...   \n",
       "21407  Mata Pires, owner of embattled Brazil builder ...   \n",
       "21409  U.S., North Korea clash at U.N. arms forum on ...   \n",
       "21410  Headless torso could belong to submarine journ...   \n",
       "21411  North Korea shipments to Syria chemical arms a...   \n",
       "21412  'Fully committed' NATO backs new U.S. approach...   \n",
       "21413  LexisNexis withdrew two products from Chinese ...   \n",
       "21414  Minsk cultural hub becomes haven from authorities   \n",
       "21415  Vatican upbeat on possibility of Pope Francis ...   \n",
       "21416  Indonesia to buy $1.14 billion worth of Russia...   \n",
       "\n",
       "                                                    text    subject  \\\n",
       "21406  GENEVA (Reuters) - North Korea and the United ...  worldnews   \n",
       "21407  SAO PAULO (Reuters) - Cesar Mata Pires, the ow...  worldnews   \n",
       "21409  GENEVA (Reuters) - North Korea and the United ...  worldnews   \n",
       "21410  COPENHAGEN (Reuters) - Danish police said on T...  worldnews   \n",
       "21411  UNITED NATIONS (Reuters) - Two North Korean sh...  worldnews   \n",
       "21412  BRUSSELS (Reuters) - NATO allies on Tuesday we...  worldnews   \n",
       "21413  LONDON (Reuters) - LexisNexis, a provider of l...  worldnews   \n",
       "21414  MINSK (Reuters) - In the shadow of disused Sov...  worldnews   \n",
       "21415  MOSCOW (Reuters) - Vatican Secretary of State ...  worldnews   \n",
       "21416  JAKARTA (Reuters) - Indonesia will buy 11 Sukh...  worldnews   \n",
       "\n",
       "                   date  target  \\\n",
       "21406  August 22, 2017        0   \n",
       "21407  August 22, 2017        0   \n",
       "21409  August 22, 2017        0   \n",
       "21410  August 22, 2017        0   \n",
       "21411  August 21, 2017        0   \n",
       "21412  August 22, 2017        0   \n",
       "21413  August 22, 2017        0   \n",
       "21414  August 22, 2017        0   \n",
       "21415  August 22, 2017        0   \n",
       "21416  August 22, 2017        0   \n",
       "\n",
       "                                               full_text  \\\n",
       "21406  U.S., North Korea clash at U.N. forum over nuc...   \n",
       "21407  Mata Pires, owner of embattled Brazil builder ...   \n",
       "21409  U.S., North Korea clash at U.N. arms forum on ...   \n",
       "21410  Headless torso could belong to submarine journ...   \n",
       "21411  North Korea shipments to Syria chemical arms a...   \n",
       "21412  'Fully committed' NATO backs new U.S. approach...   \n",
       "21413  LexisNexis withdrew two products from Chinese ...   \n",
       "21414  Minsk cultural hub becomes haven from authorit...   \n",
       "21415  Vatican upbeat on possibility of Pope Francis ...   \n",
       "21416  Indonesia to buy $1.14 billion worth of Russia...   \n",
       "\n",
       "                                       full_text_cleaned  \\\n",
       "21406  U.S., North Korea clash at U.N. forum over nuc...   \n",
       "21407  Mata Pires, owner of embattled Brazil builder ...   \n",
       "21409  U.S., North Korea clash at U.N. arms forum on ...   \n",
       "21410  Headless torso could belong to submarine journ...   \n",
       "21411  North Korea shipments to Syria chemical arms a...   \n",
       "21412  'Fully committed' NATO backs new U.S. approach...   \n",
       "21413  LexisNexis, a provider of legal, regulatory an...   \n",
       "21414  In the shadow of disused Soviet-era factories ...   \n",
       "21415  Vatican Secretary of State Cardinal Pietro Par...   \n",
       "21416  Indonesia to buy $1.14 billion worth of Russia...   \n",
       "\n",
       "                                          processed_text  \n",
       "21406  u north korea clash un forum nuclear weapon ge...  \n",
       "21407  mata pires owner embattled brazil builder oas ...  \n",
       "21409  u north korea clash un arm forum nuclear threa...  \n",
       "21410  headless torso could belong submarine journali...  \n",
       "21411  north korea shipment syria chemical arm agency...  \n",
       "21412  fully committed nato back new u approach afgha...  \n",
       "21413  lexisnexis provider legal regulatory business ...  \n",
       "21414  shadow disused sovietera factory minsk street ...  \n",
       "21415  vatican secretary state cardinal pietro paroli...  \n",
       "21416  indonesia buy billion worth russian jet jakart...  "
      ]
     },
     "execution_count": 29,
     "metadata": {},
     "output_type": "execute_result"
    }
   ],
   "source": [
    "data.tail(10)"
   ]
  },
  {
   "cell_type": "markdown",
   "metadata": {},
   "source": [
    "Проверим, нет ли такого текста, который после предобработки стал пустым"
   ]
  },
  {
   "cell_type": "code",
   "execution_count": 30,
   "metadata": {
    "execution": {
     "iopub.execute_input": "2025-05-25T23:25:04.512064Z",
     "iopub.status.busy": "2025-05-25T23:25:04.511746Z",
     "iopub.status.idle": "2025-05-25T23:25:04.531881Z",
     "shell.execute_reply": "2025-05-25T23:25:04.531140Z",
     "shell.execute_reply.started": "2025-05-25T23:25:04.512032Z"
    },
    "trusted": true
   },
   "outputs": [
    {
     "data": {
      "application/vnd.microsoft.datawrangler.viewer.v0+json": {
       "columns": [
        {
         "name": "index",
         "rawType": "int64",
         "type": "integer"
        },
        {
         "name": "title",
         "rawType": "object",
         "type": "string"
        },
        {
         "name": "text",
         "rawType": "object",
         "type": "string"
        },
        {
         "name": "subject",
         "rawType": "object",
         "type": "string"
        },
        {
         "name": "date",
         "rawType": "object",
         "type": "string"
        },
        {
         "name": "target",
         "rawType": "int64",
         "type": "integer"
        },
        {
         "name": "full_text",
         "rawType": "object",
         "type": "string"
        },
        {
         "name": "full_text_cleaned",
         "rawType": "object",
         "type": "string"
        },
        {
         "name": "processed_text",
         "rawType": "object",
         "type": "string"
        }
       ],
       "ref": "1d7a850c-c0c9-4a8b-9f20-d51daac6fb8e",
       "rows": [
        [
         "9358",
         "https://100percentfedup.com/served-roy-moore-vietnamletter-veteran-sets-record-straight-honorable-decent-respectable-patriotic-commander-soldier/",
         "https://100percentfedup.com/served-roy-moore-vietnamletter-veteran-sets-record-straight-honorable-decent-respectable-patriotic-commander-soldier/",
         "politics",
         "https://100percentfedup.com/served-roy-moore-vietnamletter-veteran-sets-record-straight-honorable-decent-respectable-patriotic-commander-soldier/",
         "1",
         "https://100percentfedup.com/served-roy-moore-vietnamletter-veteran-sets-record-straight-honorable-decent-respectable-patriotic-commander-soldier/ https://100percentfedup.com/served-roy-moore-vietnamletter-veteran-sets-record-straight-honorable-decent-respectable-patriotic-commander-soldier/",
         "https://100percentfedup.com/served-roy-moore-vietnamletter-veteran-sets-record-straight-honorable-decent-respectable-patriotic-commander-soldier/ https://100percentfedup.com/served-roy-moore-vietnamletter-veteran-sets-record-straight-honorable-decent-respectable-patriotic-commander-soldier/",
         ""
        ],
        [
         "15507",
         "https://100percentfedup.com/video-hillary-asked-about-trump-i-just-want-to-eat-some-pie/",
         "https://100percentfedup.com/video-hillary-asked-about-trump-i-just-want-to-eat-some-pie/",
         "politics",
         "https://100percentfedup.com/video-hillary-asked-about-trump-i-just-want-to-eat-some-pie/",
         "1",
         "https://100percentfedup.com/video-hillary-asked-about-trump-i-just-want-to-eat-some-pie/ https://100percentfedup.com/video-hillary-asked-about-trump-i-just-want-to-eat-some-pie/",
         "https://100percentfedup.com/video-hillary-asked-about-trump-i-just-want-to-eat-some-pie/ https://100percentfedup.com/video-hillary-asked-about-trump-i-just-want-to-eat-some-pie/",
         ""
        ],
        [
         "15508",
         "https://100percentfedup.com/12-yr-old-black-conservative-whose-video-to-obama-went-viral-do-you-really-love-america-receives-death-threats-from-left/",
         "https://100percentfedup.com/12-yr-old-black-conservative-whose-video-to-obama-went-viral-do-you-really-love-america-receives-death-threats-from-left/",
         "politics",
         "https://100percentfedup.com/12-yr-old-black-conservative-whose-video-to-obama-went-viral-do-you-really-love-america-receives-death-threats-from-left/",
         "1",
         "https://100percentfedup.com/12-yr-old-black-conservative-whose-video-to-obama-went-viral-do-you-really-love-america-receives-death-threats-from-left/ https://100percentfedup.com/12-yr-old-black-conservative-whose-video-to-obama-went-viral-do-you-really-love-america-receives-death-threats-from-left/",
         "https://100percentfedup.com/12-yr-old-black-conservative-whose-video-to-obama-went-viral-do-you-really-love-america-receives-death-threats-from-left/ https://100percentfedup.com/12-yr-old-black-conservative-whose-video-to-obama-went-viral-do-you-really-love-america-receives-death-threats-from-left/",
         ""
        ],
        [
         "15839",
         "https://fedup.wpengine.com/wp-content/uploads/2015/04/hillarystreetart.jpg",
         "https://fedup.wpengine.com/wp-content/uploads/2015/04/hillarystreetart.jpg",
         "politics",
         "https://fedup.wpengine.com/wp-content/uploads/2015/04/hillarystreetart.jpg",
         "1",
         "https://fedup.wpengine.com/wp-content/uploads/2015/04/hillarystreetart.jpg https://fedup.wpengine.com/wp-content/uploads/2015/04/hillarystreetart.jpg",
         "https://fedup.wpengine.com/wp-content/uploads/2015/04/hillarystreetart.jpg https://fedup.wpengine.com/wp-content/uploads/2015/04/hillarystreetart.jpg",
         ""
        ],
        [
         "15840",
         "https://fedup.wpengine.com/wp-content/uploads/2015/04/entitled.jpg",
         "https://fedup.wpengine.com/wp-content/uploads/2015/04/entitled.jpg",
         "politics",
         "https://fedup.wpengine.com/wp-content/uploads/2015/04/entitled.jpg",
         "1",
         "https://fedup.wpengine.com/wp-content/uploads/2015/04/entitled.jpg https://fedup.wpengine.com/wp-content/uploads/2015/04/entitled.jpg",
         "https://fedup.wpengine.com/wp-content/uploads/2015/04/entitled.jpg https://fedup.wpengine.com/wp-content/uploads/2015/04/entitled.jpg",
         ""
        ],
        [
         "17432",
         "https://fedup.wpengine.com/wp-content/uploads/2015/04/hillarystreetart.jpg",
         "https://fedup.wpengine.com/wp-content/uploads/2015/04/hillarystreetart.jpg",
         "Government News",
         "https://fedup.wpengine.com/wp-content/uploads/2015/04/hillarystreetart.jpg",
         "1",
         "https://fedup.wpengine.com/wp-content/uploads/2015/04/hillarystreetart.jpg https://fedup.wpengine.com/wp-content/uploads/2015/04/hillarystreetart.jpg",
         "https://fedup.wpengine.com/wp-content/uploads/2015/04/hillarystreetart.jpg https://fedup.wpengine.com/wp-content/uploads/2015/04/hillarystreetart.jpg",
         ""
        ],
        [
         "17433",
         "https://fedup.wpengine.com/wp-content/uploads/2015/04/entitled.jpg",
         "https://fedup.wpengine.com/wp-content/uploads/2015/04/entitled.jpg",
         "Government News",
         "https://fedup.wpengine.com/wp-content/uploads/2015/04/entitled.jpg",
         "1",
         "https://fedup.wpengine.com/wp-content/uploads/2015/04/entitled.jpg https://fedup.wpengine.com/wp-content/uploads/2015/04/entitled.jpg",
         "https://fedup.wpengine.com/wp-content/uploads/2015/04/entitled.jpg https://fedup.wpengine.com/wp-content/uploads/2015/04/entitled.jpg",
         ""
        ],
        [
         "21869",
         "https://fedup.wpengine.com/wp-content/uploads/2015/04/hillarystreetart.jpg",
         "https://fedup.wpengine.com/wp-content/uploads/2015/04/hillarystreetart.jpg",
         "left-news",
         "https://fedup.wpengine.com/wp-content/uploads/2015/04/hillarystreetart.jpg",
         "1",
         "https://fedup.wpengine.com/wp-content/uploads/2015/04/hillarystreetart.jpg https://fedup.wpengine.com/wp-content/uploads/2015/04/hillarystreetart.jpg",
         "https://fedup.wpengine.com/wp-content/uploads/2015/04/hillarystreetart.jpg https://fedup.wpengine.com/wp-content/uploads/2015/04/hillarystreetart.jpg",
         ""
        ],
        [
         "21870",
         "https://fedup.wpengine.com/wp-content/uploads/2015/04/entitled.jpg",
         "https://fedup.wpengine.com/wp-content/uploads/2015/04/entitled.jpg",
         "left-news",
         "https://fedup.wpengine.com/wp-content/uploads/2015/04/entitled.jpg",
         "1",
         "https://fedup.wpengine.com/wp-content/uploads/2015/04/entitled.jpg https://fedup.wpengine.com/wp-content/uploads/2015/04/entitled.jpg",
         "https://fedup.wpengine.com/wp-content/uploads/2015/04/entitled.jpg https://fedup.wpengine.com/wp-content/uploads/2015/04/entitled.jpg",
         ""
        ]
       ],
       "shape": {
        "columns": 8,
        "rows": 9
       }
      },
      "text/html": [
       "<div>\n",
       "<style scoped>\n",
       "    .dataframe tbody tr th:only-of-type {\n",
       "        vertical-align: middle;\n",
       "    }\n",
       "\n",
       "    .dataframe tbody tr th {\n",
       "        vertical-align: top;\n",
       "    }\n",
       "\n",
       "    .dataframe thead th {\n",
       "        text-align: right;\n",
       "    }\n",
       "</style>\n",
       "<table border=\"1\" class=\"dataframe\">\n",
       "  <thead>\n",
       "    <tr style=\"text-align: right;\">\n",
       "      <th></th>\n",
       "      <th>title</th>\n",
       "      <th>text</th>\n",
       "      <th>subject</th>\n",
       "      <th>date</th>\n",
       "      <th>target</th>\n",
       "      <th>full_text</th>\n",
       "      <th>full_text_cleaned</th>\n",
       "      <th>processed_text</th>\n",
       "    </tr>\n",
       "  </thead>\n",
       "  <tbody>\n",
       "    <tr>\n",
       "      <th>9358</th>\n",
       "      <td>https://100percentfedup.com/served-roy-moore-v...</td>\n",
       "      <td>https://100percentfedup.com/served-roy-moore-v...</td>\n",
       "      <td>politics</td>\n",
       "      <td>https://100percentfedup.com/served-roy-moore-v...</td>\n",
       "      <td>1</td>\n",
       "      <td>https://100percentfedup.com/served-roy-moore-v...</td>\n",
       "      <td>https://100percentfedup.com/served-roy-moore-v...</td>\n",
       "      <td></td>\n",
       "    </tr>\n",
       "    <tr>\n",
       "      <th>15507</th>\n",
       "      <td>https://100percentfedup.com/video-hillary-aske...</td>\n",
       "      <td>https://100percentfedup.com/video-hillary-aske...</td>\n",
       "      <td>politics</td>\n",
       "      <td>https://100percentfedup.com/video-hillary-aske...</td>\n",
       "      <td>1</td>\n",
       "      <td>https://100percentfedup.com/video-hillary-aske...</td>\n",
       "      <td>https://100percentfedup.com/video-hillary-aske...</td>\n",
       "      <td></td>\n",
       "    </tr>\n",
       "    <tr>\n",
       "      <th>15508</th>\n",
       "      <td>https://100percentfedup.com/12-yr-old-black-co...</td>\n",
       "      <td>https://100percentfedup.com/12-yr-old-black-co...</td>\n",
       "      <td>politics</td>\n",
       "      <td>https://100percentfedup.com/12-yr-old-black-co...</td>\n",
       "      <td>1</td>\n",
       "      <td>https://100percentfedup.com/12-yr-old-black-co...</td>\n",
       "      <td>https://100percentfedup.com/12-yr-old-black-co...</td>\n",
       "      <td></td>\n",
       "    </tr>\n",
       "    <tr>\n",
       "      <th>15839</th>\n",
       "      <td>https://fedup.wpengine.com/wp-content/uploads/...</td>\n",
       "      <td>https://fedup.wpengine.com/wp-content/uploads/...</td>\n",
       "      <td>politics</td>\n",
       "      <td>https://fedup.wpengine.com/wp-content/uploads/...</td>\n",
       "      <td>1</td>\n",
       "      <td>https://fedup.wpengine.com/wp-content/uploads/...</td>\n",
       "      <td>https://fedup.wpengine.com/wp-content/uploads/...</td>\n",
       "      <td></td>\n",
       "    </tr>\n",
       "    <tr>\n",
       "      <th>15840</th>\n",
       "      <td>https://fedup.wpengine.com/wp-content/uploads/...</td>\n",
       "      <td>https://fedup.wpengine.com/wp-content/uploads/...</td>\n",
       "      <td>politics</td>\n",
       "      <td>https://fedup.wpengine.com/wp-content/uploads/...</td>\n",
       "      <td>1</td>\n",
       "      <td>https://fedup.wpengine.com/wp-content/uploads/...</td>\n",
       "      <td>https://fedup.wpengine.com/wp-content/uploads/...</td>\n",
       "      <td></td>\n",
       "    </tr>\n",
       "    <tr>\n",
       "      <th>17432</th>\n",
       "      <td>https://fedup.wpengine.com/wp-content/uploads/...</td>\n",
       "      <td>https://fedup.wpengine.com/wp-content/uploads/...</td>\n",
       "      <td>Government News</td>\n",
       "      <td>https://fedup.wpengine.com/wp-content/uploads/...</td>\n",
       "      <td>1</td>\n",
       "      <td>https://fedup.wpengine.com/wp-content/uploads/...</td>\n",
       "      <td>https://fedup.wpengine.com/wp-content/uploads/...</td>\n",
       "      <td></td>\n",
       "    </tr>\n",
       "    <tr>\n",
       "      <th>17433</th>\n",
       "      <td>https://fedup.wpengine.com/wp-content/uploads/...</td>\n",
       "      <td>https://fedup.wpengine.com/wp-content/uploads/...</td>\n",
       "      <td>Government News</td>\n",
       "      <td>https://fedup.wpengine.com/wp-content/uploads/...</td>\n",
       "      <td>1</td>\n",
       "      <td>https://fedup.wpengine.com/wp-content/uploads/...</td>\n",
       "      <td>https://fedup.wpengine.com/wp-content/uploads/...</td>\n",
       "      <td></td>\n",
       "    </tr>\n",
       "    <tr>\n",
       "      <th>21869</th>\n",
       "      <td>https://fedup.wpengine.com/wp-content/uploads/...</td>\n",
       "      <td>https://fedup.wpengine.com/wp-content/uploads/...</td>\n",
       "      <td>left-news</td>\n",
       "      <td>https://fedup.wpengine.com/wp-content/uploads/...</td>\n",
       "      <td>1</td>\n",
       "      <td>https://fedup.wpengine.com/wp-content/uploads/...</td>\n",
       "      <td>https://fedup.wpengine.com/wp-content/uploads/...</td>\n",
       "      <td></td>\n",
       "    </tr>\n",
       "    <tr>\n",
       "      <th>21870</th>\n",
       "      <td>https://fedup.wpengine.com/wp-content/uploads/...</td>\n",
       "      <td>https://fedup.wpengine.com/wp-content/uploads/...</td>\n",
       "      <td>left-news</td>\n",
       "      <td>https://fedup.wpengine.com/wp-content/uploads/...</td>\n",
       "      <td>1</td>\n",
       "      <td>https://fedup.wpengine.com/wp-content/uploads/...</td>\n",
       "      <td>https://fedup.wpengine.com/wp-content/uploads/...</td>\n",
       "      <td></td>\n",
       "    </tr>\n",
       "  </tbody>\n",
       "</table>\n",
       "</div>"
      ],
      "text/plain": [
       "                                                   title  \\\n",
       "9358   https://100percentfedup.com/served-roy-moore-v...   \n",
       "15507  https://100percentfedup.com/video-hillary-aske...   \n",
       "15508  https://100percentfedup.com/12-yr-old-black-co...   \n",
       "15839  https://fedup.wpengine.com/wp-content/uploads/...   \n",
       "15840  https://fedup.wpengine.com/wp-content/uploads/...   \n",
       "17432  https://fedup.wpengine.com/wp-content/uploads/...   \n",
       "17433  https://fedup.wpengine.com/wp-content/uploads/...   \n",
       "21869  https://fedup.wpengine.com/wp-content/uploads/...   \n",
       "21870  https://fedup.wpengine.com/wp-content/uploads/...   \n",
       "\n",
       "                                                    text          subject  \\\n",
       "9358   https://100percentfedup.com/served-roy-moore-v...         politics   \n",
       "15507  https://100percentfedup.com/video-hillary-aske...         politics   \n",
       "15508  https://100percentfedup.com/12-yr-old-black-co...         politics   \n",
       "15839  https://fedup.wpengine.com/wp-content/uploads/...         politics   \n",
       "15840  https://fedup.wpengine.com/wp-content/uploads/...         politics   \n",
       "17432  https://fedup.wpengine.com/wp-content/uploads/...  Government News   \n",
       "17433  https://fedup.wpengine.com/wp-content/uploads/...  Government News   \n",
       "21869  https://fedup.wpengine.com/wp-content/uploads/...        left-news   \n",
       "21870  https://fedup.wpengine.com/wp-content/uploads/...        left-news   \n",
       "\n",
       "                                                    date  target  \\\n",
       "9358   https://100percentfedup.com/served-roy-moore-v...       1   \n",
       "15507  https://100percentfedup.com/video-hillary-aske...       1   \n",
       "15508  https://100percentfedup.com/12-yr-old-black-co...       1   \n",
       "15839  https://fedup.wpengine.com/wp-content/uploads/...       1   \n",
       "15840  https://fedup.wpengine.com/wp-content/uploads/...       1   \n",
       "17432  https://fedup.wpengine.com/wp-content/uploads/...       1   \n",
       "17433  https://fedup.wpengine.com/wp-content/uploads/...       1   \n",
       "21869  https://fedup.wpengine.com/wp-content/uploads/...       1   \n",
       "21870  https://fedup.wpengine.com/wp-content/uploads/...       1   \n",
       "\n",
       "                                               full_text  \\\n",
       "9358   https://100percentfedup.com/served-roy-moore-v...   \n",
       "15507  https://100percentfedup.com/video-hillary-aske...   \n",
       "15508  https://100percentfedup.com/12-yr-old-black-co...   \n",
       "15839  https://fedup.wpengine.com/wp-content/uploads/...   \n",
       "15840  https://fedup.wpengine.com/wp-content/uploads/...   \n",
       "17432  https://fedup.wpengine.com/wp-content/uploads/...   \n",
       "17433  https://fedup.wpengine.com/wp-content/uploads/...   \n",
       "21869  https://fedup.wpengine.com/wp-content/uploads/...   \n",
       "21870  https://fedup.wpengine.com/wp-content/uploads/...   \n",
       "\n",
       "                                       full_text_cleaned processed_text  \n",
       "9358   https://100percentfedup.com/served-roy-moore-v...                 \n",
       "15507  https://100percentfedup.com/video-hillary-aske...                 \n",
       "15508  https://100percentfedup.com/12-yr-old-black-co...                 \n",
       "15839  https://fedup.wpengine.com/wp-content/uploads/...                 \n",
       "15840  https://fedup.wpengine.com/wp-content/uploads/...                 \n",
       "17432  https://fedup.wpengine.com/wp-content/uploads/...                 \n",
       "17433  https://fedup.wpengine.com/wp-content/uploads/...                 \n",
       "21869  https://fedup.wpengine.com/wp-content/uploads/...                 \n",
       "21870  https://fedup.wpengine.com/wp-content/uploads/...                 "
      ]
     },
     "execution_count": 30,
     "metadata": {},
     "output_type": "execute_result"
    }
   ],
   "source": [
    "empty_processed_texts = data[data['processed_text'] == '']\n",
    "empty_processed_texts.head(10)"
   ]
  },
  {
   "cell_type": "markdown",
   "metadata": {},
   "source": [
    "Нам такие данные не нужны, поэтому удаляем"
   ]
  },
  {
   "cell_type": "code",
   "execution_count": 31,
   "metadata": {
    "execution": {
     "iopub.execute_input": "2025-05-25T23:25:05.453239Z",
     "iopub.status.busy": "2025-05-25T23:25:05.452937Z",
     "iopub.status.idle": "2025-05-25T23:25:05.481972Z",
     "shell.execute_reply": "2025-05-25T23:25:05.481147Z",
     "shell.execute_reply.started": "2025-05-25T23:25:05.453216Z"
    },
    "trusted": true
   },
   "outputs": [],
   "source": [
    "data = data[data['processed_text'] != '']"
   ]
  },
  {
   "cell_type": "code",
   "execution_count": 32,
   "metadata": {
    "execution": {
     "iopub.execute_input": "2025-05-25T23:25:08.216216Z",
     "iopub.status.busy": "2025-05-25T23:25:08.215458Z",
     "iopub.status.idle": "2025-05-25T23:25:08.230164Z",
     "shell.execute_reply": "2025-05-25T23:25:08.229314Z",
     "shell.execute_reply.started": "2025-05-25T23:25:08.216193Z"
    },
    "trusted": true
   },
   "outputs": [
    {
     "data": {
      "text/plain": [
       "0"
      ]
     },
     "execution_count": 32,
     "metadata": {},
     "output_type": "execute_result"
    }
   ],
   "source": [
    "data[data['processed_text'] == ''].shape[0]"
   ]
  },
  {
   "cell_type": "code",
   "execution_count": 33,
   "metadata": {
    "execution": {
     "iopub.execute_input": "2025-05-25T23:25:08.515216Z",
     "iopub.status.busy": "2025-05-25T23:25:08.514923Z",
     "iopub.status.idle": "2025-05-25T23:25:08.526022Z",
     "shell.execute_reply": "2025-05-25T23:25:08.525172Z",
     "shell.execute_reply.started": "2025-05-25T23:25:08.515194Z"
    },
    "trusted": true
   },
   "outputs": [
    {
     "data": {
      "application/vnd.microsoft.datawrangler.viewer.v0+json": {
       "columns": [
        {
         "name": "index",
         "rawType": "int64",
         "type": "integer"
        },
        {
         "name": "title",
         "rawType": "object",
         "type": "string"
        },
        {
         "name": "text",
         "rawType": "object",
         "type": "string"
        },
        {
         "name": "subject",
         "rawType": "object",
         "type": "string"
        },
        {
         "name": "date",
         "rawType": "object",
         "type": "string"
        },
        {
         "name": "target",
         "rawType": "int64",
         "type": "integer"
        },
        {
         "name": "full_text",
         "rawType": "object",
         "type": "string"
        },
        {
         "name": "full_text_cleaned",
         "rawType": "object",
         "type": "string"
        },
        {
         "name": "processed_text",
         "rawType": "object",
         "type": "string"
        }
       ],
       "ref": "25d251b8-eb01-4261-bae0-398f29ad50b6",
       "rows": [
        [
         "0",
         " Donald Trump Sends Out Embarrassing New Year’s Eve Message; This is Disturbing",
         "Donald Trump just couldn t wish all Americans a Happy New Year and leave it at that. Instead, he had to give a shout out to his enemies, haters and  the very dishonest fake news media.  The former reality show star had just one job to do and he couldn t do it. As our Country rapidly grows stronger and smarter, I want to wish all of my friends, supporters, enemies, haters, and even the very dishonest Fake News Media, a Happy and Healthy New Year,  President Angry Pants tweeted.  2018 will be a great year for America! As our Country rapidly grows stronger and smarter, I want to wish all of my friends, supporters, enemies, haters, and even the very dishonest Fake News Media, a Happy and Healthy New Year. 2018 will be a great year for America!  Donald J. Trump (@realDonaldTrump) December 31, 2017Trump s tweet went down about as welll as you d expect.What kind of president sends a New Year s greeting like this despicable, petty, infantile gibberish? Only Trump! His lack of decency won t even allow him to rise above the gutter long enough to wish the American citizens a happy new year!  Bishop Talbert Swan (@TalbertSwan) December 31, 2017no one likes you  Calvin (@calvinstowell) December 31, 2017Your impeachment would make 2018 a great year for America, but I ll also accept regaining control of Congress.  Miranda Yaver (@mirandayaver) December 31, 2017Do you hear yourself talk? When you have to include that many people that hate you you have to wonder? Why do the they all hate me?  Alan Sandoval (@AlanSandoval13) December 31, 2017Who uses the word Haters in a New Years wish??  Marlene (@marlene399) December 31, 2017You can t just say happy new year?  Koren pollitt (@Korencarpenter) December 31, 2017Here s Trump s New Year s Eve tweet from 2016.Happy New Year to all, including to my many enemies and those who have fought me and lost so badly they just don t know what to do. Love!  Donald J. Trump (@realDonaldTrump) December 31, 2016This is nothing new for Trump. He s been doing this for years.Trump has directed messages to his  enemies  and  haters  for New Year s, Easter, Thanksgiving, and the anniversary of 9/11. pic.twitter.com/4FPAe2KypA  Daniel Dale (@ddale8) December 31, 2017Trump s holiday tweets are clearly not presidential.How long did he work at Hallmark before becoming President?  Steven Goodine (@SGoodine) December 31, 2017He s always been like this . . . the only difference is that in the last few years, his filter has been breaking down.  Roy Schulze (@thbthttt) December 31, 2017Who, apart from a teenager uses the term haters?  Wendy (@WendyWhistles) December 31, 2017he s a fucking 5 year old  Who Knows (@rainyday80) December 31, 2017So, to all the people who voted for this a hole thinking he would change once he got into power, you were wrong! 70-year-old men don t change and now he s a year older.Photo by Andrew Burton/Getty Images.",
         "News",
         "December 31, 2017",
         "1",
         " Donald Trump Sends Out Embarrassing New Year’s Eve Message; This is Disturbing Donald Trump just couldn t wish all Americans a Happy New Year and leave it at that. Instead, he had to give a shout out to his enemies, haters and  the very dishonest fake news media.  The former reality show star had just one job to do and he couldn t do it. As our Country rapidly grows stronger and smarter, I want to wish all of my friends, supporters, enemies, haters, and even the very dishonest Fake News Media, a Happy and Healthy New Year,  President Angry Pants tweeted.  2018 will be a great year for America! As our Country rapidly grows stronger and smarter, I want to wish all of my friends, supporters, enemies, haters, and even the very dishonest Fake News Media, a Happy and Healthy New Year. 2018 will be a great year for America!  Donald J. Trump (@realDonaldTrump) December 31, 2017Trump s tweet went down about as welll as you d expect.What kind of president sends a New Year s greeting like this despicable, petty, infantile gibberish? Only Trump! His lack of decency won t even allow him to rise above the gutter long enough to wish the American citizens a happy new year!  Bishop Talbert Swan (@TalbertSwan) December 31, 2017no one likes you  Calvin (@calvinstowell) December 31, 2017Your impeachment would make 2018 a great year for America, but I ll also accept regaining control of Congress.  Miranda Yaver (@mirandayaver) December 31, 2017Do you hear yourself talk? When you have to include that many people that hate you you have to wonder? Why do the they all hate me?  Alan Sandoval (@AlanSandoval13) December 31, 2017Who uses the word Haters in a New Years wish??  Marlene (@marlene399) December 31, 2017You can t just say happy new year?  Koren pollitt (@Korencarpenter) December 31, 2017Here s Trump s New Year s Eve tweet from 2016.Happy New Year to all, including to my many enemies and those who have fought me and lost so badly they just don t know what to do. Love!  Donald J. Trump (@realDonaldTrump) December 31, 2016This is nothing new for Trump. He s been doing this for years.Trump has directed messages to his  enemies  and  haters  for New Year s, Easter, Thanksgiving, and the anniversary of 9/11. pic.twitter.com/4FPAe2KypA  Daniel Dale (@ddale8) December 31, 2017Trump s holiday tweets are clearly not presidential.How long did he work at Hallmark before becoming President?  Steven Goodine (@SGoodine) December 31, 2017He s always been like this . . . the only difference is that in the last few years, his filter has been breaking down.  Roy Schulze (@thbthttt) December 31, 2017Who, apart from a teenager uses the term haters?  Wendy (@WendyWhistles) December 31, 2017he s a fucking 5 year old  Who Knows (@rainyday80) December 31, 2017So, to all the people who voted for this a hole thinking he would change once he got into power, you were wrong! 70-year-old men don t change and now he s a year older.Photo by Andrew Burton/Getty Images.",
         "Donald Trump Sends Out Embarrassing New Year’s Eve Message; This is Disturbing Donald Trump just couldn t wish all Americans a Happy New Year and leave it at that. Instead, he had to give a shout out to his enemies, haters and  the very dishonest fake news media.  The former reality show star had just one job to do and he couldn t do it. As our Country rapidly grows stronger and smarter, I want to wish all of my friends, supporters, enemies, haters, and even the very dishonest Fake News Media, a Happy and Healthy New Year,  President Angry Pants tweeted.  2018 will be a great year for America! As our Country rapidly grows stronger and smarter, I want to wish all of my friends, supporters, enemies, haters, and even the very dishonest Fake News Media, a Happy and Healthy New Year. 2018 will be a great year for America!  Donald J. Trump (@realDonaldTrump) December 31, 2017Trump s tweet went down about as welll as you d expect.What kind of president sends a New Year s greeting like this despicable, petty, infantile gibberish? Only Trump! His lack of decency won t even allow him to rise above the gutter long enough to wish the American citizens a happy new year!  Bishop Talbert Swan (@TalbertSwan) December 31, 2017no one likes you  Calvin (@calvinstowell) December 31, 2017Your impeachment would make 2018 a great year for America, but I ll also accept regaining control of Congress.  Miranda Yaver (@mirandayaver) December 31, 2017Do you hear yourself talk? When you have to include that many people that hate you you have to wonder? Why do the they all hate me?  Alan Sandoval (@AlanSandoval13) December 31, 2017Who uses the word Haters in a New Years wish??  Marlene (@marlene399) December 31, 2017You can t just say happy new year?  Koren pollitt (@Korencarpenter) December 31, 2017Here s Trump s New Year s Eve tweet from 2016.Happy New Year to all, including to my many enemies and those who have fought me and lost so badly they just don t know what to do. Love!  Donald J. Trump (@realDonaldTrump) December 31, 2016This is nothing new for Trump. He s been doing this for years.Trump has directed messages to his  enemies  and  haters  for New Year s, Easter, Thanksgiving, and the anniversary of 9/11. pic.twitter.com/4FPAe2KypA  Daniel Dale (@ddale8) December 31, 2017Trump s holiday tweets are clearly not presidential.How long did he work at Hallmark before becoming President?  Steven Goodine (@SGoodine) December 31, 2017He s always been like this . . . the only difference is that in the last few years, his filter has been breaking down.  Roy Schulze (@thbthttt) December 31, 2017Who, apart from a teenager uses the term haters?  Wendy (@WendyWhistles) December 31, 2017he s a fucking 5 year old  Who Knows (@rainyday80) December 31, 2017So, to all the people who voted for this a hole thinking he would change once he got into power, you were wrong! 70-year-old men don t change and now he s a year older.Photo by Andrew Burton/Getty Images.",
         "donald trump sends embarrassing new year eve message disturbing donald trump wish american happy new year leave instead give shout enemy hater dishonest fake news medium former reality show star one job country rapidly grows stronger smarter want wish friend supporter enemy hater even dishonest fake news medium happy healthy new year president angry pant tweeted great year america country rapidly grows stronger smarter want wish friend supporter enemy hater even dishonest fake news medium happy healthy new year great year america donald j trump realdonaldtrump december tweet went welll expectwhat kind president sends new year greeting like despicable petty infantile gibberish trump lack decency even allow rise gutter long enough wish american citizen happy new year bishop talbert swan talbertswan december one like calvin calvinstowell december impeachment would make great year america also accept regaining control congress miranda yaver mirandayaver december hear talk include many people hate wonder hate alan sandoval december us word hater new year wish marlene december say happy new year koren pollitt korencarpenter december trump new year eve tweet new year including many enemy fought lost badly know love donald j trump realdonaldtrump december nothing new trump yearstrump directed message enemy hater new year easter thanksgiving anniversary daniel dale december holiday tweet clearly presidentialhow long work hallmark becoming president steven goodine sgoodine december always like difference last year filter breaking roy schulze thbthttt december apart teenager us term hater wendy wendywhistles december fucking year old know december people voted hole thinking would change got power wrong men change year olderphoto andrew burtongetty image"
        ],
        [
         "1",
         " Drunk Bragging Trump Staffer Started Russian Collusion Investigation",
         "House Intelligence Committee Chairman Devin Nunes is going to have a bad day. He s been under the assumption, like many of us, that the Christopher Steele-dossier was what prompted the Russia investigation so he s been lashing out at the Department of Justice and the FBI in order to protect Trump. As it happens, the dossier is not what started the investigation, according to documents obtained by the New York Times.Former Trump campaign adviser George Papadopoulos was drunk in a wine bar when he revealed knowledge of Russian opposition research on Hillary Clinton.On top of that, Papadopoulos wasn t just a covfefe boy for Trump, as his administration has alleged. He had a much larger role, but none so damning as being a drunken fool in a wine bar. Coffee boys  don t help to arrange a New York meeting between Trump and President Abdel Fattah el-Sisi of Egypt two months before the election. It was known before that the former aide set up meetings with world leaders for Trump, but team Trump ran with him being merely a coffee boy.In May 2016, Papadopoulos revealed to Australian diplomat Alexander Downer that Russian officials were shopping around possible dirt on then-Democratic presidential nominee Hillary Clinton. Exactly how much Mr. Papadopoulos said that night at the Kensington Wine Rooms with the Australian, Alexander Downer, is unclear,  the report states.  But two months later, when leaked Democratic emails began appearing online, Australian officials passed the information about Mr. Papadopoulos to their American counterparts, according to four current and former American and foreign officials with direct knowledge of the Australians  role. Papadopoulos pleaded guilty to lying to the F.B.I. and is now a cooperating witness with Special Counsel Robert Mueller s team.This isn t a presidency. It s a badly scripted reality TV show.Photo by Win McNamee/Getty Images.",
         "News",
         "December 31, 2017",
         "1",
         " Drunk Bragging Trump Staffer Started Russian Collusion Investigation House Intelligence Committee Chairman Devin Nunes is going to have a bad day. He s been under the assumption, like many of us, that the Christopher Steele-dossier was what prompted the Russia investigation so he s been lashing out at the Department of Justice and the FBI in order to protect Trump. As it happens, the dossier is not what started the investigation, according to documents obtained by the New York Times.Former Trump campaign adviser George Papadopoulos was drunk in a wine bar when he revealed knowledge of Russian opposition research on Hillary Clinton.On top of that, Papadopoulos wasn t just a covfefe boy for Trump, as his administration has alleged. He had a much larger role, but none so damning as being a drunken fool in a wine bar. Coffee boys  don t help to arrange a New York meeting between Trump and President Abdel Fattah el-Sisi of Egypt two months before the election. It was known before that the former aide set up meetings with world leaders for Trump, but team Trump ran with him being merely a coffee boy.In May 2016, Papadopoulos revealed to Australian diplomat Alexander Downer that Russian officials were shopping around possible dirt on then-Democratic presidential nominee Hillary Clinton. Exactly how much Mr. Papadopoulos said that night at the Kensington Wine Rooms with the Australian, Alexander Downer, is unclear,  the report states.  But two months later, when leaked Democratic emails began appearing online, Australian officials passed the information about Mr. Papadopoulos to their American counterparts, according to four current and former American and foreign officials with direct knowledge of the Australians  role. Papadopoulos pleaded guilty to lying to the F.B.I. and is now a cooperating witness with Special Counsel Robert Mueller s team.This isn t a presidency. It s a badly scripted reality TV show.Photo by Win McNamee/Getty Images.",
         "Drunk Bragging Trump Staffer Started Russian Collusion Investigation House Intelligence Committee Chairman Devin Nunes is going to have a bad day. He s been under the assumption, like many of us, that the Christopher Steele-dossier was what prompted the Russia investigation so he s been lashing out at the Department of Justice and the FBI in order to protect Trump. As it happens, the dossier is not what started the investigation, according to documents obtained by the New York Times.Former Trump campaign adviser George Papadopoulos was drunk in a wine bar when he revealed knowledge of Russian opposition research on Hillary Clinton.On top of that, Papadopoulos wasn t just a covfefe boy for Trump, as his administration has alleged. He had a much larger role, but none so damning as being a drunken fool in a wine bar. Coffee boys  don t help to arrange a New York meeting between Trump and President Abdel Fattah el-Sisi of Egypt two months before the election. It was known before that the former aide set up meetings with world leaders for Trump, but team Trump ran with him being merely a coffee boy.In May 2016, Papadopoulos revealed to Australian diplomat Alexander Downer that Russian officials were shopping around possible dirt on then-Democratic presidential nominee Hillary Clinton. Exactly how much Mr. Papadopoulos said that night at the Kensington Wine Rooms with the Australian, Alexander Downer, is unclear,  the report states.  But two months later, when leaked Democratic emails began appearing online, Australian officials passed the information about Mr. Papadopoulos to their American counterparts, according to four current and former American and foreign officials with direct knowledge of the Australians  role. Papadopoulos pleaded guilty to lying to the F.B.I. and is now a cooperating witness with Special Counsel Robert Mueller s team.This isn t a presidency. It s a badly scripted reality TV show.Photo by Win McNamee/Getty Images.",
         "drunk bragging trump staffer started russian collusion investigation house intelligence committee chairman devin nunes going bad day assumption like many u christopher steeledossier prompted russia investigation lashing department justice fbi order protect trump happens dossier started investigation according document obtained new york timesformer trump campaign adviser george papadopoulos drunk wine bar revealed knowledge russian opposition research hillary clintonon top papadopoulos covfefe boy trump administration alleged much larger role none damning drunken fool wine bar coffee boy help arrange new york meeting trump president abdel fattah elsisi egypt two month election known former aide set meeting world leader trump team trump ran merely coffee boyin may papadopoulos revealed australian diplomat alexander downer russian official shopping around possible dirt thendemocratic presidential nominee hillary clinton exactly much mr papadopoulos said night kensington wine room australian alexander downer unclear report state two month later leaked democratic email began appearing online australian official passed information mr papadopoulos american counterpart according four current former american foreign official direct knowledge australian role papadopoulos pleaded guilty lying fbi cooperating witness special counsel robert mueller teamthis presidency badly scripted reality tv showphoto win mcnameegetty image"
        ],
        [
         "2",
         " Sheriff David Clarke Becomes An Internet Joke For Threatening To Poke People ‘In The Eye’",
         "On Friday, it was revealed that former Milwaukee Sheriff David Clarke, who was being considered for Homeland Security Secretary in Donald Trump s administration, has an email scandal of his own.In January, there was a brief run-in on a plane between Clarke and fellow passenger Dan Black, who he later had detained by the police for no reason whatsoever, except that maybe his feelings were hurt. Clarke messaged the police to stop Black after he deplaned, and now, a search warrant has been executed by the FBI to see the exchanges.Clarke is calling it fake news even though copies of the search warrant are on the Internet. I am UNINTIMIDATED by lib media attempts to smear and discredit me with their FAKE NEWS reports designed to silence me,  the former sheriff tweeted.  I will continue to poke them in the eye with a sharp stick and bitch slap these scum bags til they get it. I have been attacked by better people than them #MAGA I am UNINTIMIDATED by lib media attempts to smear and discredit me with their FAKE NEWS reports designed to silence me. I will continue to poke them in the eye with a sharp stick and bitch slap these scum bags til they get it. I have been attacked by better people than them #MAGA pic.twitter.com/XtZW5PdU2b  David A. Clarke, Jr. (@SheriffClarke) December 30, 2017He didn t stop there.BREAKING NEWS! When LYING LIB MEDIA makes up FAKE NEWS to smear me, the ANTIDOTE is go right at them. Punch them in the nose & MAKE THEM TASTE THEIR OWN BLOOD. Nothing gets a bully like LYING LIB MEDIA S attention better than to give them a taste of their own blood #neverbackdown pic.twitter.com/T2NY2psHCR  David A. Clarke, Jr. (@SheriffClarke) December 30, 2017The internet called him out.This is your local newspaper and that search warrant isn t fake, and just because the chose not to file charges at the time doesn t mean they won t! Especially if you continue to lie. Months after decision not to charge Clarke, email search warrant filed https://t.co/zcbyc4Wp5b  KeithLeBlanc (@KeithLeBlanc63) December 30, 2017I just hope the rest of the Village People aren t implicated.  Kirk Ketchum (@kirkketchum) December 30, 2017Slaw, baked potatoes, or French fries? pic.twitter.com/fWfXsZupxy  ALT- Immigration   (@ALT_uscis) December 30, 2017pic.twitter.com/ymsOBLjfxU  Pendulum Swinger (@PendulumSwngr) December 30, 2017you called your police friends to stand up for you when someone made fun of your hat  Chris Jackson (@ChrisCJackson) December 30, 2017Is it me, with this masterful pshop of your hat, which I seem to never tire of. I think it s the steely resolve in your one visible eye pic.twitter.com/dWr5k8ZEZV  Chris Mohney (@chrismohney) December 30, 2017Are you indicating with your fingers how many people died in your jail? I think you re a few fingers short, dipshit  Ike Barinholtz (@ikebarinholtz) December 30, 2017ROFL. Internet tough guy with fake flair. pic.twitter.com/ulCFddhkdy  KellMeCrazy (@Kel_MoonFace) December 30, 2017You re so edgy, buddy.  Mrs. SMH (@MRSSMH2) December 30, 2017Is his break over at Applebees?  Aaron (@feltrrr2) December 30, 2017Are you trying to earn your  still relevant  badge?  CircusRebel (@CircusDrew) December 30, 2017make sure to hydrate, drink lots of water. It s rumored that prisoners can be denied water by prison officials.  Robert Klinc (@RobertKlinc1) December 30, 2017Terrill Thomas, the 38-year-old black man who died of thirst in Clarke s Milwaukee County Jail cell this April, was a victim of homicide. We just thought we should point that out. It can t be repeated enough.Photo by Spencer Platt/Getty Images.",
         "News",
         "December 30, 2017",
         "1",
         " Sheriff David Clarke Becomes An Internet Joke For Threatening To Poke People ‘In The Eye’ On Friday, it was revealed that former Milwaukee Sheriff David Clarke, who was being considered for Homeland Security Secretary in Donald Trump s administration, has an email scandal of his own.In January, there was a brief run-in on a plane between Clarke and fellow passenger Dan Black, who he later had detained by the police for no reason whatsoever, except that maybe his feelings were hurt. Clarke messaged the police to stop Black after he deplaned, and now, a search warrant has been executed by the FBI to see the exchanges.Clarke is calling it fake news even though copies of the search warrant are on the Internet. I am UNINTIMIDATED by lib media attempts to smear and discredit me with their FAKE NEWS reports designed to silence me,  the former sheriff tweeted.  I will continue to poke them in the eye with a sharp stick and bitch slap these scum bags til they get it. I have been attacked by better people than them #MAGA I am UNINTIMIDATED by lib media attempts to smear and discredit me with their FAKE NEWS reports designed to silence me. I will continue to poke them in the eye with a sharp stick and bitch slap these scum bags til they get it. I have been attacked by better people than them #MAGA pic.twitter.com/XtZW5PdU2b  David A. Clarke, Jr. (@SheriffClarke) December 30, 2017He didn t stop there.BREAKING NEWS! When LYING LIB MEDIA makes up FAKE NEWS to smear me, the ANTIDOTE is go right at them. Punch them in the nose & MAKE THEM TASTE THEIR OWN BLOOD. Nothing gets a bully like LYING LIB MEDIA S attention better than to give them a taste of their own blood #neverbackdown pic.twitter.com/T2NY2psHCR  David A. Clarke, Jr. (@SheriffClarke) December 30, 2017The internet called him out.This is your local newspaper and that search warrant isn t fake, and just because the chose not to file charges at the time doesn t mean they won t! Especially if you continue to lie. Months after decision not to charge Clarke, email search warrant filed https://t.co/zcbyc4Wp5b  KeithLeBlanc (@KeithLeBlanc63) December 30, 2017I just hope the rest of the Village People aren t implicated.  Kirk Ketchum (@kirkketchum) December 30, 2017Slaw, baked potatoes, or French fries? pic.twitter.com/fWfXsZupxy  ALT- Immigration   (@ALT_uscis) December 30, 2017pic.twitter.com/ymsOBLjfxU  Pendulum Swinger (@PendulumSwngr) December 30, 2017you called your police friends to stand up for you when someone made fun of your hat  Chris Jackson (@ChrisCJackson) December 30, 2017Is it me, with this masterful pshop of your hat, which I seem to never tire of. I think it s the steely resolve in your one visible eye pic.twitter.com/dWr5k8ZEZV  Chris Mohney (@chrismohney) December 30, 2017Are you indicating with your fingers how many people died in your jail? I think you re a few fingers short, dipshit  Ike Barinholtz (@ikebarinholtz) December 30, 2017ROFL. Internet tough guy with fake flair. pic.twitter.com/ulCFddhkdy  KellMeCrazy (@Kel_MoonFace) December 30, 2017You re so edgy, buddy.  Mrs. SMH (@MRSSMH2) December 30, 2017Is his break over at Applebees?  Aaron (@feltrrr2) December 30, 2017Are you trying to earn your  still relevant  badge?  CircusRebel (@CircusDrew) December 30, 2017make sure to hydrate, drink lots of water. It s rumored that prisoners can be denied water by prison officials.  Robert Klinc (@RobertKlinc1) December 30, 2017Terrill Thomas, the 38-year-old black man who died of thirst in Clarke s Milwaukee County Jail cell this April, was a victim of homicide. We just thought we should point that out. It can t be repeated enough.Photo by Spencer Platt/Getty Images.",
         "Sheriff David Clarke Becomes An Internet Joke For Threatening To Poke People ‘In The Eye’ On Friday, it was revealed that former Milwaukee Sheriff David Clarke, who was being considered for Homeland Security Secretary in Donald Trump s administration, has an email scandal of his own.In January, there was a brief run-in on a plane between Clarke and fellow passenger Dan Black, who he later had detained by the police for no reason whatsoever, except that maybe his feelings were hurt. Clarke messaged the police to stop Black after he deplaned, and now, a search warrant has been executed by the FBI to see the exchanges.Clarke is calling it fake news even though copies of the search warrant are on the Internet. I am UNINTIMIDATED by lib media attempts to smear and discredit me with their FAKE NEWS reports designed to silence me,  the former sheriff tweeted.  I will continue to poke them in the eye with a sharp stick and bitch slap these scum bags til they get it. I have been attacked by better people than them #MAGA I am UNINTIMIDATED by lib media attempts to smear and discredit me with their FAKE NEWS reports designed to silence me. I will continue to poke them in the eye with a sharp stick and bitch slap these scum bags til they get it. I have been attacked by better people than them #MAGA pic.twitter.com/XtZW5PdU2b  David A. Clarke, Jr. (@SheriffClarke) December 30, 2017He didn t stop there.BREAKING NEWS! When LYING LIB MEDIA makes up FAKE NEWS to smear me, the ANTIDOTE is go right at them. Punch them in the nose & MAKE THEM TASTE THEIR OWN BLOOD. Nothing gets a bully like LYING LIB MEDIA S attention better than to give them a taste of their own blood #neverbackdown pic.twitter.com/T2NY2psHCR  David A. Clarke, Jr. (@SheriffClarke) December 30, 2017The internet called him out.This is your local newspaper and that search warrant isn t fake, and just because the chose not to file charges at the time doesn t mean they won t! Especially if you continue to lie. Months after decision not to charge Clarke, email search warrant filed https://t.co/zcbyc4Wp5b  KeithLeBlanc (@KeithLeBlanc63) December 30, 2017I just hope the rest of the Village People aren t implicated.  Kirk Ketchum (@kirkketchum) December 30, 2017Slaw, baked potatoes, or French fries? pic.twitter.com/fWfXsZupxy  ALT- Immigration   (@ALT_uscis) December 30, 2017pic.twitter.com/ymsOBLjfxU  Pendulum Swinger (@PendulumSwngr) December 30, 2017you called your police friends to stand up for you when someone made fun of your hat  Chris Jackson (@ChrisCJackson) December 30, 2017Is it me, with this masterful pshop of your hat, which I seem to never tire of. I think it s the steely resolve in your one visible eye pic.twitter.com/dWr5k8ZEZV  Chris Mohney (@chrismohney) December 30, 2017Are you indicating with your fingers how many people died in your jail? I think you re a few fingers short, dipshit  Ike Barinholtz (@ikebarinholtz) December 30, 2017ROFL. Internet tough guy with fake flair. pic.twitter.com/ulCFddhkdy  KellMeCrazy (@Kel_MoonFace) December 30, 2017You re so edgy, buddy.  Mrs. SMH (@MRSSMH2) December 30, 2017Is his break over at Applebees?  Aaron (@feltrrr2) December 30, 2017Are you trying to earn your  still relevant  badge?  CircusRebel (@CircusDrew) December 30, 2017make sure to hydrate, drink lots of water. It s rumored that prisoners can be denied water by prison officials.  Robert Klinc (@RobertKlinc1) December 30, 2017Terrill Thomas, the 38-year-old black man who died of thirst in Clarke s Milwaukee County Jail cell this April, was a victim of homicide. We just thought we should point that out. It can t be repeated enough.Photo by Spencer Platt/Getty Images.",
         "sheriff david clarke becomes internet joke threatening poke people eye friday revealed former milwaukee sheriff david clarke considered homeland security secretary donald trump administration email scandal ownin january brief runin plane clarke fellow passenger dan black later detained police reason whatsoever except maybe feeling hurt clarke messaged police stop black deplaned search warrant executed fbi see exchangesclarke calling fake news even though copy search warrant internet unintimidated lib medium attempt smear discredit fake news report designed silence former sheriff tweeted continue poke eye sharp stick bitch slap scum bag til get attacked better people maga unintimidated lib medium attempt smear discredit fake news report designed silence continue poke eye sharp stick bitch slap scum bag til get attacked better people maga david clarke jr sheriffclarke december stop therebreaking news lying lib medium make fake news smear antidote go right punch nose make taste blood nothing get bully like lying lib medium attention better give taste blood neverbackdown david clarke jr sheriffclarke december internet called outthis local newspaper search warrant fake chose file charge time mean especially continue lie month decision charge clarke email search warrant filed keithleblanc december hope rest village people implicated kirk ketchum kirkketchum december baked potato french fry pictwittercomfwfxszupxy alt immigration altuscis december pendulum swinger pendulumswngr december called police friend stand someone made fun hat chris jackson chriscjackson december masterful pshop hat seem never tire think steely resolve one visible eye chris mohney chrismohney december indicating finger many people died jail think finger short dipshit ike barinholtz ikebarinholtz december internet tough guy fake flair pictwittercomulcfddhkdy kellmecrazy kelmoonface december edgy buddy mr smh december break applebees aaron december trying earn still relevant badge circusrebel circusdrew december sure hydrate drink lot water rumored prisoner denied water prison official robert klinc december thomas black man died thirst clarke milwaukee county jail cell april victim homicide thought point repeated enoughphoto spencer plattgetty image"
        ],
        [
         "3",
         " Trump Is So Obsessed He Even Has Obama’s Name Coded Into His Website (IMAGES)",
         "On Christmas day, Donald Trump announced that he would  be back to work  the following day, but he is golfing for the fourth day in a row. The former reality show star blasted former President Barack Obama for playing golf and now Trump is on track to outpace the number of golf games his predecessor played.Updated my tracker of Trump s appearances at Trump properties.71 rounds of golf including today s. At this pace, he ll pass Obama s first-term total by July 24 next year. https://t.co/Fg7VacxRtJ pic.twitter.com/5gEMcjQTbH  Philip Bump (@pbump) December 29, 2017 That makes what a Washington Post reporter discovered on Trump s website really weird, but everything about this administration is bizarre AF. The coding contained a reference to Obama and golf:  Unlike Obama, we are working to fix the problem   and not on the golf course.  However, the coding wasn t done correctly.The website of Donald Trump, who has spent several days in a row at the golf course, is coded to serve up the following message in the event of an internal server error: https://t.co/zrWpyMXRcz pic.twitter.com/wiQSQNNzw0  Christopher Ingraham (@_cingraham) December 28, 2017That snippet of code appears to be on all https://t.co/dkhw0AlHB4 pages, which the footer says is paid for by the RNC? pic.twitter.com/oaZDT126B3  Christopher Ingraham (@_cingraham) December 28, 2017It s also all over https://t.co/ayBlGmk65Z. As others have noted in this thread, this is weird code and it s not clear it would ever actually display, but who knows.  Christopher Ingraham (@_cingraham) December 28, 2017After the coding was called out, the reference to Obama was deleted.UPDATE: The golf error message has been removed from the Trump and GOP websites. They also fixed the javascript  =  vs  ==  problem. Still not clear when these messages would actually display, since the actual 404 (and presumably 500) page displays a different message pic.twitter.com/Z7dmyQ5smy  Christopher Ingraham (@_cingraham) December 29, 2017That suggests someone at either RNC or the Trump admin is sensitive enough to Trump s golf problem to make this issue go away quickly once people noticed. You have no idea how much I d love to see the email exchange that led us here.  Christopher Ingraham (@_cingraham) December 29, 2017 The code was f-cked up.The best part about this is that they are using the  =  (assignment) operator which means that bit of code will never get run. If you look a few lines up  errorCode  will always be  404          (@tw1trsux) December 28, 2017trump s coders can t code. Nobody is surprised.  Tim Peterson (@timrpeterson) December 28, 2017Donald Trump is obsessed with Obama that his name was even in the coding of his website while he played golf again.Photo by Joe Raedle/Getty Images.",
         "News",
         "December 29, 2017",
         "1",
         " Trump Is So Obsessed He Even Has Obama’s Name Coded Into His Website (IMAGES) On Christmas day, Donald Trump announced that he would  be back to work  the following day, but he is golfing for the fourth day in a row. The former reality show star blasted former President Barack Obama for playing golf and now Trump is on track to outpace the number of golf games his predecessor played.Updated my tracker of Trump s appearances at Trump properties.71 rounds of golf including today s. At this pace, he ll pass Obama s first-term total by July 24 next year. https://t.co/Fg7VacxRtJ pic.twitter.com/5gEMcjQTbH  Philip Bump (@pbump) December 29, 2017 That makes what a Washington Post reporter discovered on Trump s website really weird, but everything about this administration is bizarre AF. The coding contained a reference to Obama and golf:  Unlike Obama, we are working to fix the problem   and not on the golf course.  However, the coding wasn t done correctly.The website of Donald Trump, who has spent several days in a row at the golf course, is coded to serve up the following message in the event of an internal server error: https://t.co/zrWpyMXRcz pic.twitter.com/wiQSQNNzw0  Christopher Ingraham (@_cingraham) December 28, 2017That snippet of code appears to be on all https://t.co/dkhw0AlHB4 pages, which the footer says is paid for by the RNC? pic.twitter.com/oaZDT126B3  Christopher Ingraham (@_cingraham) December 28, 2017It s also all over https://t.co/ayBlGmk65Z. As others have noted in this thread, this is weird code and it s not clear it would ever actually display, but who knows.  Christopher Ingraham (@_cingraham) December 28, 2017After the coding was called out, the reference to Obama was deleted.UPDATE: The golf error message has been removed from the Trump and GOP websites. They also fixed the javascript  =  vs  ==  problem. Still not clear when these messages would actually display, since the actual 404 (and presumably 500) page displays a different message pic.twitter.com/Z7dmyQ5smy  Christopher Ingraham (@_cingraham) December 29, 2017That suggests someone at either RNC or the Trump admin is sensitive enough to Trump s golf problem to make this issue go away quickly once people noticed. You have no idea how much I d love to see the email exchange that led us here.  Christopher Ingraham (@_cingraham) December 29, 2017 The code was f-cked up.The best part about this is that they are using the  =  (assignment) operator which means that bit of code will never get run. If you look a few lines up  errorCode  will always be  404          (@tw1trsux) December 28, 2017trump s coders can t code. Nobody is surprised.  Tim Peterson (@timrpeterson) December 28, 2017Donald Trump is obsessed with Obama that his name was even in the coding of his website while he played golf again.Photo by Joe Raedle/Getty Images.",
         "Trump Is So Obsessed He Even Has Obama’s Name Coded Into His Website (IMAGES) On Christmas day, Donald Trump announced that he would  be back to work  the following day, but he is golfing for the fourth day in a row. The former reality show star blasted former President Barack Obama for playing golf and now Trump is on track to outpace the number of golf games his predecessor played.Updated my tracker of Trump s appearances at Trump properties.71 rounds of golf including today s. At this pace, he ll pass Obama s first-term total by July 24 next year. https://t.co/Fg7VacxRtJ pic.twitter.com/5gEMcjQTbH  Philip Bump (@pbump) December 29, 2017 That makes what a Washington Post reporter discovered on Trump s website really weird, but everything about this administration is bizarre AF. The coding contained a reference to Obama and golf:  Unlike Obama, we are working to fix the problem   and not on the golf course.  However, the coding wasn t done correctly.The website of Donald Trump, who has spent several days in a row at the golf course, is coded to serve up the following message in the event of an internal server error: https://t.co/zrWpyMXRcz pic.twitter.com/wiQSQNNzw0  Christopher Ingraham (@_cingraham) December 28, 2017That snippet of code appears to be on all https://t.co/dkhw0AlHB4 pages, which the footer says is paid for by the RNC? pic.twitter.com/oaZDT126B3  Christopher Ingraham (@_cingraham) December 28, 2017It s also all over https://t.co/ayBlGmk65Z. As others have noted in this thread, this is weird code and it s not clear it would ever actually display, but who knows.  Christopher Ingraham (@_cingraham) December 28, 2017After the coding was called out, the reference to Obama was deleted.UPDATE: The golf error message has been removed from the Trump and GOP websites. They also fixed the javascript  =  vs  ==  problem. Still not clear when these messages would actually display, since the actual 404 (and presumably 500) page displays a different message pic.twitter.com/Z7dmyQ5smy  Christopher Ingraham (@_cingraham) December 29, 2017That suggests someone at either RNC or the Trump admin is sensitive enough to Trump s golf problem to make this issue go away quickly once people noticed. You have no idea how much I d love to see the email exchange that led us here.  Christopher Ingraham (@_cingraham) December 29, 2017 The code was f-cked up.The best part about this is that they are using the  =  (assignment) operator which means that bit of code will never get run. If you look a few lines up  errorCode  will always be  404          (@tw1trsux) December 28, 2017trump s coders can t code. Nobody is surprised.  Tim Peterson (@timrpeterson) December 28, 2017Donald Trump is obsessed with Obama that his name was even in the coding of his website while he played golf again.Photo by Joe Raedle/Getty Images.",
         "trump obsessed even obama name coded website image christmas day donald trump announced would back work following day golfing fourth day row former reality show star blasted former president barack obama playing golf trump track outpace number golf game predecessor playedupdated tracker trump appearance trump round golf including today pace pas obama firstterm total july next year philip bump pbump december make washington post reporter discovered trump website really weird everything administration bizarre af coding contained reference obama golf unlike obama working fix problem golf course however coding done correctlythe website donald trump spent several day row golf course coded serve following message event internal server error httpstcozrwpymxrcz christopher ingraham cingraham december snippet code appears page footer say paid rnc christopher ingraham cingraham december also others noted thread weird code clear would ever actually display know christopher ingraham cingraham december coding called reference obama deletedupdate golf error message removed trump gop website also fixed javascript v problem still clear message would actually display since actual presumably page display different message christopher ingraham cingraham december suggests someone either rnc trump admin sensitive enough trump golf problem make issue go away quickly people noticed idea much love see email exchange led u christopher ingraham cingraham december code fcked upthe best part using assignment operator mean bit code never get run look line errorcode always december coder code nobody surprised tim peterson timrpeterson december trump obsessed obama name even coding website played golf againphoto joe raedlegetty image"
        ],
        [
         "4",
         " Pope Francis Just Called Out Donald Trump During His Christmas Speech",
         "Pope Francis used his annual Christmas Day message to rebuke Donald Trump without even mentioning his name. The Pope delivered his message just days after members of the United Nations condemned Trump s move to recognize Jerusalem as the capital of Israel. The Pontiff prayed on Monday for the  peaceful coexistence of two states within mutually agreed and internationally recognized borders. We see Jesus in the children of the Middle East who continue to suffer because of growing tensions between Israelis and Palestinians,  Francis said.  On this festive day, let us ask the Lord for peace for Jerusalem and for all the Holy Land. Let us pray that the will to resume dialogue may prevail between the parties and that a negotiated solution can finally be reached. The Pope went on to plead for acceptance of refugees who have been forced from their homes, and that is an issue Trump continues to fight against. Francis used Jesus for which there was  no place in the inn  as an analogy. Today, as the winds of war are blowing in our world and an outdated model of development continues to produce human, societal and environmental decline, Christmas invites us to focus on the sign of the Child and to recognize him in the faces of little children, especially those for whom, like Jesus,  there is no place in the inn,  he said. Jesus knows well the pain of not being welcomed and how hard it is not to have a place to lay one s head,  he added.  May our hearts not be closed as they were in the homes of Bethlehem. The Pope said that Mary and Joseph were immigrants who struggled to find a safe place to stay in Bethlehem. They had to leave their people, their home, and their land,  Francis said.  This was no comfortable or easy journey for a young couple about to have a child.   At heart, they were full of hope and expectation because of the child about to be born; yet their steps were weighed down by the uncertainties and dangers that attend those who have to leave their home behind. So many other footsteps are hidden in the footsteps of Joseph and Mary,  Francis said Sunday. We see the tracks of entire families forced to set out in our own day. We see the tracks of millions of persons who do not choose to go away, but driven from their land, leave behind their dear ones. Amen to that.Photo by Christopher Furlong/Getty Images.",
         "News",
         "December 25, 2017",
         "1",
         " Pope Francis Just Called Out Donald Trump During His Christmas Speech Pope Francis used his annual Christmas Day message to rebuke Donald Trump without even mentioning his name. The Pope delivered his message just days after members of the United Nations condemned Trump s move to recognize Jerusalem as the capital of Israel. The Pontiff prayed on Monday for the  peaceful coexistence of two states within mutually agreed and internationally recognized borders. We see Jesus in the children of the Middle East who continue to suffer because of growing tensions between Israelis and Palestinians,  Francis said.  On this festive day, let us ask the Lord for peace for Jerusalem and for all the Holy Land. Let us pray that the will to resume dialogue may prevail between the parties and that a negotiated solution can finally be reached. The Pope went on to plead for acceptance of refugees who have been forced from their homes, and that is an issue Trump continues to fight against. Francis used Jesus for which there was  no place in the inn  as an analogy. Today, as the winds of war are blowing in our world and an outdated model of development continues to produce human, societal and environmental decline, Christmas invites us to focus on the sign of the Child and to recognize him in the faces of little children, especially those for whom, like Jesus,  there is no place in the inn,  he said. Jesus knows well the pain of not being welcomed and how hard it is not to have a place to lay one s head,  he added.  May our hearts not be closed as they were in the homes of Bethlehem. The Pope said that Mary and Joseph were immigrants who struggled to find a safe place to stay in Bethlehem. They had to leave their people, their home, and their land,  Francis said.  This was no comfortable or easy journey for a young couple about to have a child.   At heart, they were full of hope and expectation because of the child about to be born; yet their steps were weighed down by the uncertainties and dangers that attend those who have to leave their home behind. So many other footsteps are hidden in the footsteps of Joseph and Mary,  Francis said Sunday. We see the tracks of entire families forced to set out in our own day. We see the tracks of millions of persons who do not choose to go away, but driven from their land, leave behind their dear ones. Amen to that.Photo by Christopher Furlong/Getty Images.",
         "Pope Francis Just Called Out Donald Trump During His Christmas Speech Pope Francis used his annual Christmas Day message to rebuke Donald Trump without even mentioning his name. The Pope delivered his message just days after members of the United Nations condemned Trump s move to recognize Jerusalem as the capital of Israel. The Pontiff prayed on Monday for the  peaceful coexistence of two states within mutually agreed and internationally recognized borders. We see Jesus in the children of the Middle East who continue to suffer because of growing tensions between Israelis and Palestinians,  Francis said.  On this festive day, let us ask the Lord for peace for Jerusalem and for all the Holy Land. Let us pray that the will to resume dialogue may prevail between the parties and that a negotiated solution can finally be reached. The Pope went on to plead for acceptance of refugees who have been forced from their homes, and that is an issue Trump continues to fight against. Francis used Jesus for which there was  no place in the inn  as an analogy. Today, as the winds of war are blowing in our world and an outdated model of development continues to produce human, societal and environmental decline, Christmas invites us to focus on the sign of the Child and to recognize him in the faces of little children, especially those for whom, like Jesus,  there is no place in the inn,  he said. Jesus knows well the pain of not being welcomed and how hard it is not to have a place to lay one s head,  he added.  May our hearts not be closed as they were in the homes of Bethlehem. The Pope said that Mary and Joseph were immigrants who struggled to find a safe place to stay in Bethlehem. They had to leave their people, their home, and their land,  Francis said.  This was no comfortable or easy journey for a young couple about to have a child.   At heart, they were full of hope and expectation because of the child about to be born; yet their steps were weighed down by the uncertainties and dangers that attend those who have to leave their home behind. So many other footsteps are hidden in the footsteps of Joseph and Mary,  Francis said Sunday. We see the tracks of entire families forced to set out in our own day. We see the tracks of millions of persons who do not choose to go away, but driven from their land, leave behind their dear ones. Amen to that.Photo by Christopher Furlong/Getty Images.",
         "pope francis called donald trump christmas speech pope francis used annual christmas day message rebuke donald trump without even mentioning name pope delivered message day member united nation condemned trump move recognize jerusalem capital israel pontiff prayed monday peaceful coexistence two state within mutually agreed internationally recognized border see jesus child middle east continue suffer growing tension israeli palestinian francis said festive day let u ask lord peace jerusalem holy land let u pray resume dialogue may prevail party negotiated solution finally reached pope went plead acceptance refugee forced home issue trump continues fight francis used jesus place inn analogy today wind war blowing world outdated model development continues produce human societal environmental decline christmas invite u focus sign child recognize face little child especially like jesus place inn said jesus know well pain welcomed hard place lay one head added may heart closed home bethlehem pope said mary joseph immigrant struggled find safe place stay bethlehem leave people home land francis said comfortable easy journey young couple child heart full hope expectation child born yet step weighed uncertainty danger attend leave home behind many footstep hidden footstep joseph mary francis said sunday see track entire family forced set day see track million person choose go away driven land leave behind dear one amen thatphoto christopher furlonggetty image"
        ]
       ],
       "shape": {
        "columns": 8,
        "rows": 5
       }
      },
      "text/html": [
       "<div>\n",
       "<style scoped>\n",
       "    .dataframe tbody tr th:only-of-type {\n",
       "        vertical-align: middle;\n",
       "    }\n",
       "\n",
       "    .dataframe tbody tr th {\n",
       "        vertical-align: top;\n",
       "    }\n",
       "\n",
       "    .dataframe thead th {\n",
       "        text-align: right;\n",
       "    }\n",
       "</style>\n",
       "<table border=\"1\" class=\"dataframe\">\n",
       "  <thead>\n",
       "    <tr style=\"text-align: right;\">\n",
       "      <th></th>\n",
       "      <th>title</th>\n",
       "      <th>text</th>\n",
       "      <th>subject</th>\n",
       "      <th>date</th>\n",
       "      <th>target</th>\n",
       "      <th>full_text</th>\n",
       "      <th>full_text_cleaned</th>\n",
       "      <th>processed_text</th>\n",
       "    </tr>\n",
       "  </thead>\n",
       "  <tbody>\n",
       "    <tr>\n",
       "      <th>0</th>\n",
       "      <td>Donald Trump Sends Out Embarrassing New Year’...</td>\n",
       "      <td>Donald Trump just couldn t wish all Americans ...</td>\n",
       "      <td>News</td>\n",
       "      <td>December 31, 2017</td>\n",
       "      <td>1</td>\n",
       "      <td>Donald Trump Sends Out Embarrassing New Year’...</td>\n",
       "      <td>Donald Trump Sends Out Embarrassing New Year’s...</td>\n",
       "      <td>donald trump sends embarrassing new year eve m...</td>\n",
       "    </tr>\n",
       "    <tr>\n",
       "      <th>1</th>\n",
       "      <td>Drunk Bragging Trump Staffer Started Russian ...</td>\n",
       "      <td>House Intelligence Committee Chairman Devin Nu...</td>\n",
       "      <td>News</td>\n",
       "      <td>December 31, 2017</td>\n",
       "      <td>1</td>\n",
       "      <td>Drunk Bragging Trump Staffer Started Russian ...</td>\n",
       "      <td>Drunk Bragging Trump Staffer Started Russian C...</td>\n",
       "      <td>drunk bragging trump staffer started russian c...</td>\n",
       "    </tr>\n",
       "    <tr>\n",
       "      <th>2</th>\n",
       "      <td>Sheriff David Clarke Becomes An Internet Joke...</td>\n",
       "      <td>On Friday, it was revealed that former Milwauk...</td>\n",
       "      <td>News</td>\n",
       "      <td>December 30, 2017</td>\n",
       "      <td>1</td>\n",
       "      <td>Sheriff David Clarke Becomes An Internet Joke...</td>\n",
       "      <td>Sheriff David Clarke Becomes An Internet Joke ...</td>\n",
       "      <td>sheriff david clarke becomes internet joke thr...</td>\n",
       "    </tr>\n",
       "    <tr>\n",
       "      <th>3</th>\n",
       "      <td>Trump Is So Obsessed He Even Has Obama’s Name...</td>\n",
       "      <td>On Christmas day, Donald Trump announced that ...</td>\n",
       "      <td>News</td>\n",
       "      <td>December 29, 2017</td>\n",
       "      <td>1</td>\n",
       "      <td>Trump Is So Obsessed He Even Has Obama’s Name...</td>\n",
       "      <td>Trump Is So Obsessed He Even Has Obama’s Name ...</td>\n",
       "      <td>trump obsessed even obama name coded website i...</td>\n",
       "    </tr>\n",
       "    <tr>\n",
       "      <th>4</th>\n",
       "      <td>Pope Francis Just Called Out Donald Trump Dur...</td>\n",
       "      <td>Pope Francis used his annual Christmas Day mes...</td>\n",
       "      <td>News</td>\n",
       "      <td>December 25, 2017</td>\n",
       "      <td>1</td>\n",
       "      <td>Pope Francis Just Called Out Donald Trump Dur...</td>\n",
       "      <td>Pope Francis Just Called Out Donald Trump Duri...</td>\n",
       "      <td>pope francis called donald trump christmas spe...</td>\n",
       "    </tr>\n",
       "  </tbody>\n",
       "</table>\n",
       "</div>"
      ],
      "text/plain": [
       "                                               title  \\\n",
       "0   Donald Trump Sends Out Embarrassing New Year’...   \n",
       "1   Drunk Bragging Trump Staffer Started Russian ...   \n",
       "2   Sheriff David Clarke Becomes An Internet Joke...   \n",
       "3   Trump Is So Obsessed He Even Has Obama’s Name...   \n",
       "4   Pope Francis Just Called Out Donald Trump Dur...   \n",
       "\n",
       "                                                text subject  \\\n",
       "0  Donald Trump just couldn t wish all Americans ...    News   \n",
       "1  House Intelligence Committee Chairman Devin Nu...    News   \n",
       "2  On Friday, it was revealed that former Milwauk...    News   \n",
       "3  On Christmas day, Donald Trump announced that ...    News   \n",
       "4  Pope Francis used his annual Christmas Day mes...    News   \n",
       "\n",
       "                date  target  \\\n",
       "0  December 31, 2017       1   \n",
       "1  December 31, 2017       1   \n",
       "2  December 30, 2017       1   \n",
       "3  December 29, 2017       1   \n",
       "4  December 25, 2017       1   \n",
       "\n",
       "                                           full_text  \\\n",
       "0   Donald Trump Sends Out Embarrassing New Year’...   \n",
       "1   Drunk Bragging Trump Staffer Started Russian ...   \n",
       "2   Sheriff David Clarke Becomes An Internet Joke...   \n",
       "3   Trump Is So Obsessed He Even Has Obama’s Name...   \n",
       "4   Pope Francis Just Called Out Donald Trump Dur...   \n",
       "\n",
       "                                   full_text_cleaned  \\\n",
       "0  Donald Trump Sends Out Embarrassing New Year’s...   \n",
       "1  Drunk Bragging Trump Staffer Started Russian C...   \n",
       "2  Sheriff David Clarke Becomes An Internet Joke ...   \n",
       "3  Trump Is So Obsessed He Even Has Obama’s Name ...   \n",
       "4  Pope Francis Just Called Out Donald Trump Duri...   \n",
       "\n",
       "                                      processed_text  \n",
       "0  donald trump sends embarrassing new year eve m...  \n",
       "1  drunk bragging trump staffer started russian c...  \n",
       "2  sheriff david clarke becomes internet joke thr...  \n",
       "3  trump obsessed even obama name coded website i...  \n",
       "4  pope francis called donald trump christmas spe...  "
      ]
     },
     "execution_count": 33,
     "metadata": {},
     "output_type": "execute_result"
    }
   ],
   "source": [
    "data.head()"
   ]
  },
  {
   "cell_type": "code",
   "execution_count": 34,
   "metadata": {
    "execution": {
     "iopub.execute_input": "2025-05-25T23:26:16.066814Z",
     "iopub.status.busy": "2025-05-25T23:26:16.066525Z",
     "iopub.status.idle": "2025-05-25T23:26:16.078262Z",
     "shell.execute_reply": "2025-05-25T23:26:16.077535Z",
     "shell.execute_reply.started": "2025-05-25T23:26:16.066793Z"
    },
    "trusted": true
   },
   "outputs": [
    {
     "data": {
      "application/vnd.microsoft.datawrangler.viewer.v0+json": {
       "columns": [
        {
         "name": "index",
         "rawType": "int64",
         "type": "integer"
        },
        {
         "name": "title",
         "rawType": "object",
         "type": "string"
        },
        {
         "name": "text",
         "rawType": "object",
         "type": "string"
        },
        {
         "name": "subject",
         "rawType": "object",
         "type": "string"
        },
        {
         "name": "date",
         "rawType": "object",
         "type": "string"
        },
        {
         "name": "target",
         "rawType": "int64",
         "type": "integer"
        },
        {
         "name": "full_text",
         "rawType": "object",
         "type": "string"
        },
        {
         "name": "full_text_cleaned",
         "rawType": "object",
         "type": "string"
        },
        {
         "name": "processed_text",
         "rawType": "object",
         "type": "string"
        }
       ],
       "ref": "09e2c770-15bb-4541-b5ae-8e4c85cc61c8",
       "rows": [
        [
         "21412",
         "'Fully committed' NATO backs new U.S. approach on Afghanistan",
         "BRUSSELS (Reuters) - NATO allies on Tuesday welcomed President Donald Trump s decision to commit more forces to Afghanistan, as part of a new U.S. strategy he said would require more troops and funding from America s partners. Having run for the White House last year on a pledge to withdraw swiftly from Afghanistan, Trump reversed course on Monday and promised a stepped-up military campaign against  Taliban insurgents, saying:  Our troops will fight to win .  U.S. officials said he had signed off on plans to send about 4,000 more U.S. troops to add to the roughly 8,400 now deployed in Afghanistan. But his speech did not define benchmarks for successfully ending the war that began with the U.S.-led invasion of Afghanistan in 2001, and which he acknowledged had required an   extraordinary sacrifice of blood and treasure .  We will ask our NATO allies and global partners to support our new strategy, with additional troops and funding increases in line with our own. We are confident they will,  Trump said. That comment signaled he would further increase pressure on U.S. partners who have already been jolted by his repeated demands to step up their contributions to NATO and his description of the alliance as  obsolete  - even though, since taking office, he has said this is no longer the case. NATO Secretary General Jens Stoltenberg said in a statement:  NATO remains fully committed to Afghanistan and I am looking forward to discussing the way ahead with (Defense) Secretary (James) Mattis and our Allies and international partners.  NATO has 12,000 troops in Afghanistan, and 15 countries have pledged more, Stoltenberg said. Britain, a leading NATO member, called the U.S. commitment  very welcome .  In my call with Secretary Mattis yesterday we agreed that despite the challenges, we have to stay the course in Afghanistan to help build up its fragile democracy and reduce the terrorist threat to the West,  Defence Secretary Michael Fallon said. Germany, which has borne the brunt of Trump s criticism over  the scale of its defense spending, also welcomed the new U.S. plan.  Our continued commitment is necessary on the path to stabilizing the country,  a government spokeswoman said. In June, European allies had already pledged more troops but had not given details on numbers, waiting for the Trump administration to outline its strategy for the region.Nearly 16 years after the U.S.-led invasion - a response to the Sept. 11 attacks which were planned by al Qaeda leader Osama bin Laden from Afghanistan - the country is still struggling with weak central government and a Taliban insurgency. Trump said he shared the frustration of the American people who were  weary of war without victory , but a hasty withdrawal would create a vacuum for groups like Islamic State and al Qaeda to fill. ",
         "worldnews",
         "August 22, 2017 ",
         "0",
         "'Fully committed' NATO backs new U.S. approach on Afghanistan BRUSSELS (Reuters) - NATO allies on Tuesday welcomed President Donald Trump s decision to commit more forces to Afghanistan, as part of a new U.S. strategy he said would require more troops and funding from America s partners. Having run for the White House last year on a pledge to withdraw swiftly from Afghanistan, Trump reversed course on Monday and promised a stepped-up military campaign against  Taliban insurgents, saying:  Our troops will fight to win .  U.S. officials said he had signed off on plans to send about 4,000 more U.S. troops to add to the roughly 8,400 now deployed in Afghanistan. But his speech did not define benchmarks for successfully ending the war that began with the U.S.-led invasion of Afghanistan in 2001, and which he acknowledged had required an   extraordinary sacrifice of blood and treasure .  We will ask our NATO allies and global partners to support our new strategy, with additional troops and funding increases in line with our own. We are confident they will,  Trump said. That comment signaled he would further increase pressure on U.S. partners who have already been jolted by his repeated demands to step up their contributions to NATO and his description of the alliance as  obsolete  - even though, since taking office, he has said this is no longer the case. NATO Secretary General Jens Stoltenberg said in a statement:  NATO remains fully committed to Afghanistan and I am looking forward to discussing the way ahead with (Defense) Secretary (James) Mattis and our Allies and international partners.  NATO has 12,000 troops in Afghanistan, and 15 countries have pledged more, Stoltenberg said. Britain, a leading NATO member, called the U.S. commitment  very welcome .  In my call with Secretary Mattis yesterday we agreed that despite the challenges, we have to stay the course in Afghanistan to help build up its fragile democracy and reduce the terrorist threat to the West,  Defence Secretary Michael Fallon said. Germany, which has borne the brunt of Trump s criticism over  the scale of its defense spending, also welcomed the new U.S. plan.  Our continued commitment is necessary on the path to stabilizing the country,  a government spokeswoman said. In June, European allies had already pledged more troops but had not given details on numbers, waiting for the Trump administration to outline its strategy for the region.Nearly 16 years after the U.S.-led invasion - a response to the Sept. 11 attacks which were planned by al Qaeda leader Osama bin Laden from Afghanistan - the country is still struggling with weak central government and a Taliban insurgency. Trump said he shared the frustration of the American people who were  weary of war without victory , but a hasty withdrawal would create a vacuum for groups like Islamic State and al Qaeda to fill. ",
         "'Fully committed' NATO backs new U.S. approach on Afghanistan BRUSSELS (Reuters) - NATO allies on Tuesday welcomed President Donald Trump s decision to commit more forces to Afghanistan, as part of a new U.S. strategy he said would require more troops and funding from America s partners. Having run for the White House last year on a pledge to withdraw swiftly from Afghanistan, Trump reversed course on Monday and promised a stepped-up military campaign against  Taliban insurgents, saying:  Our troops will fight to win .  U.S. officials said he had signed off on plans to send about 4,000 more U.S. troops to add to the roughly 8,400 now deployed in Afghanistan. But his speech did not define benchmarks for successfully ending the war that began with the U.S.-led invasion of Afghanistan in 2001, and which he acknowledged had required an   extraordinary sacrifice of blood and treasure .  We will ask our NATO allies and global partners to support our new strategy, with additional troops and funding increases in line with our own. We are confident they will,  Trump said. That comment signaled he would further increase pressure on U.S. partners who have already been jolted by his repeated demands to step up their contributions to NATO and his description of the alliance as  obsolete  - even though, since taking office, he has said this is no longer the case. NATO Secretary General Jens Stoltenberg said in a statement:  NATO remains fully committed to Afghanistan and I am looking forward to discussing the way ahead with (Defense) Secretary (James) Mattis and our Allies and international partners.  NATO has 12,000 troops in Afghanistan, and 15 countries have pledged more, Stoltenberg said. Britain, a leading NATO member, called the U.S. commitment  very welcome .  In my call with Secretary Mattis yesterday we agreed that despite the challenges, we have to stay the course in Afghanistan to help build up its fragile democracy and reduce the terrorist threat to the West,  Defence Secretary Michael Fallon said. Germany, which has borne the brunt of Trump s criticism over  the scale of its defense spending, also welcomed the new U.S. plan.  Our continued commitment is necessary on the path to stabilizing the country,  a government spokeswoman said. In June, European allies had already pledged more troops but had not given details on numbers, waiting for the Trump administration to outline its strategy for the region.Nearly 16 years after the U.S.-led invasion - a response to the Sept. 11 attacks which were planned by al Qaeda leader Osama bin Laden from Afghanistan - the country is still struggling with weak central government and a Taliban insurgency. Trump said he shared the frustration of the American people who were  weary of war without victory , but a hasty withdrawal would create a vacuum for groups like Islamic State and al Qaeda to fill.",
         "fully committed nato back new u approach afghanistan brussels reuters nato ally tuesday welcomed president donald trump decision commit force afghanistan part new u strategy said would require troop funding america partner run white house last year pledge withdraw swiftly afghanistan trump reversed course monday promised steppedup military campaign taliban insurgent saying troop fight win u official said signed plan send u troop add roughly deployed afghanistan speech define benchmark successfully ending war began usled invasion afghanistan acknowledged required extraordinary sacrifice blood treasure ask nato ally global partner support new strategy additional troop funding increase line confident trump said comment signaled would increase pressure u partner already jolted repeated demand step contribution nato description alliance obsolete even though since taking office said longer case nato secretary general jens stoltenberg said statement nato remains fully committed afghanistan looking forward discussing way ahead defense secretary james mattis ally international partner nato troop afghanistan country pledged stoltenberg said britain leading nato member called u commitment welcome call secretary mattis yesterday agreed despite challenge stay course afghanistan help build fragile democracy reduce terrorist threat west defence secretary michael fallon said germany borne brunt trump criticism scale defense spending also welcomed new u plan continued commitment necessary path stabilizing country government spokeswoman said june european ally already pledged troop given detail number waiting trump administration outline strategy regionnearly year usled invasion response sept attack planned al qaeda leader osama bin laden afghanistan country still struggling weak central government taliban insurgency trump said shared frustration american people weary war without victory hasty withdrawal would create vacuum group like islamic state al qaeda fill"
        ],
        [
         "21413",
         "LexisNexis withdrew two products from Chinese market",
         "LONDON (Reuters) - LexisNexis, a provider of legal, regulatory and business information, said on Tuesday it had withdrawn two products from the Chinese market in March this year after it was asked to remove some content.  The issue of academic freedom in China hit the headlines this week after the leading British academic publisher,  Cambridge University Press, said it had complied with a request to block online access to some scholarly articles in China.  It later reversed its position.   Earlier this year LexisNexis Business Insight Solutions in China was asked to remove some content from its database,  LexisNexis said in a statement.  In March 2017, the company withdrew two products (Nexis and LexisNexis Academic) from the Chinese market.  LexisNexis is owned by information group Relx. ",
         "worldnews",
         "August 22, 2017 ",
         "0",
         "LexisNexis withdrew two products from Chinese market LONDON (Reuters) - LexisNexis, a provider of legal, regulatory and business information, said on Tuesday it had withdrawn two products from the Chinese market in March this year after it was asked to remove some content.  The issue of academic freedom in China hit the headlines this week after the leading British academic publisher,  Cambridge University Press, said it had complied with a request to block online access to some scholarly articles in China.  It later reversed its position.   Earlier this year LexisNexis Business Insight Solutions in China was asked to remove some content from its database,  LexisNexis said in a statement.  In March 2017, the company withdrew two products (Nexis and LexisNexis Academic) from the Chinese market.  LexisNexis is owned by information group Relx. ",
         "LexisNexis, a provider of legal, regulatory and business information, said on Tuesday it had withdrawn two products from the Chinese market in March this year after it was asked to remove some content.  The issue of academic freedom in China hit the headlines this week after the leading British academic publisher,  Cambridge University Press, said it had complied with a request to block online access to some scholarly articles in China.  It later reversed its position.   Earlier this year LexisNexis Business Insight Solutions in China was asked to remove some content from its database,  LexisNexis said in a statement.  In March 2017, the company withdrew two products (Nexis and LexisNexis Academic) from the Chinese market.  LexisNexis is owned by information group Relx.",
         "lexisnexis provider legal regulatory business information said tuesday withdrawn two product chinese market march year asked remove content issue academic freedom china hit headline week leading british academic publisher cambridge university press said complied request block online access scholarly article china later reversed position earlier year lexisnexis business insight solution china asked remove content database lexisnexis said statement march company withdrew two product nexis lexisnexis academic chinese market lexisnexis owned information group relx"
        ],
        [
         "21414",
         "Minsk cultural hub becomes haven from authorities",
         "MINSK (Reuters) - In the shadow of disused Soviet-era factories in Minsk, a street lined with eclectic bars, art galleries and yoga studios has become a haven from the vigilant eyes of the Belarussian authorities.  This place is like an island,  said Yegor, 21, who works at  popular bar Hooligan.  It s the street of freedom.  The government of President Alexander Lukashenko, who has ruled Belarus for the past 23 years and has boasted that he is  the last and only dictator in Europe  ,has little tolerance for any opposition. A powerful police force and feared state security  keep citizens in check. But police patrols are rare in Oktyabrskaya, partly due to its location on an out-of-the-way peninsula in a bend of the river Svislach. When the first restaurant opened there in 2012, few visitors came but now it ranks among the most fashionable quarters of Minsk.  Such is the growing popularity of that Oktyabrskaya that investors such as Belgazprombank, a subsidiary of state-owned Russian lender Gazprombank, have big plans for the district. Earlier this year the bank purchased part of a factory there and intends to turn it into a gallery, restaurant and theater complex. The manufacturing sector has not entirely abandoned Oktyabrskaya - one  machine-making factory named after the 1917 October Revolution (MZOR) still operates there. Financial difficulties prompted state-owned MZOR to lease or sell some of its facilities to Oktyabrskaya s developers, but the firm still maintains some production with a reduced workforce. Mikhail, who has worked at the factory for 42 years, said he approves of the influx of new  hipster  businesses.  The street has come back to life,  he said. Oktyabrskaya s long-term future ultimately depends on the authorities good favor, cultural analyst Maksim Zhbankov said.  For now they tolerate it. But I can t say that someone won t turn up tomorrow and say they ve decided to tear it all down,  he said. ",
         "worldnews",
         "August 22, 2017 ",
         "0",
         "Minsk cultural hub becomes haven from authorities MINSK (Reuters) - In the shadow of disused Soviet-era factories in Minsk, a street lined with eclectic bars, art galleries and yoga studios has become a haven from the vigilant eyes of the Belarussian authorities.  This place is like an island,  said Yegor, 21, who works at  popular bar Hooligan.  It s the street of freedom.  The government of President Alexander Lukashenko, who has ruled Belarus for the past 23 years and has boasted that he is  the last and only dictator in Europe  ,has little tolerance for any opposition. A powerful police force and feared state security  keep citizens in check. But police patrols are rare in Oktyabrskaya, partly due to its location on an out-of-the-way peninsula in a bend of the river Svislach. When the first restaurant opened there in 2012, few visitors came but now it ranks among the most fashionable quarters of Minsk.  Such is the growing popularity of that Oktyabrskaya that investors such as Belgazprombank, a subsidiary of state-owned Russian lender Gazprombank, have big plans for the district. Earlier this year the bank purchased part of a factory there and intends to turn it into a gallery, restaurant and theater complex. The manufacturing sector has not entirely abandoned Oktyabrskaya - one  machine-making factory named after the 1917 October Revolution (MZOR) still operates there. Financial difficulties prompted state-owned MZOR to lease or sell some of its facilities to Oktyabrskaya s developers, but the firm still maintains some production with a reduced workforce. Mikhail, who has worked at the factory for 42 years, said he approves of the influx of new  hipster  businesses.  The street has come back to life,  he said. Oktyabrskaya s long-term future ultimately depends on the authorities good favor, cultural analyst Maksim Zhbankov said.  For now they tolerate it. But I can t say that someone won t turn up tomorrow and say they ve decided to tear it all down,  he said. ",
         "In the shadow of disused Soviet-era factories in Minsk, a street lined with eclectic bars, art galleries and yoga studios has become a haven from the vigilant eyes of the Belarussian authorities.  This place is like an island,  said Yegor, 21, who works at  popular bar Hooligan.  It s the street of freedom.  The government of President Alexander Lukashenko, who has ruled Belarus for the past 23 years and has boasted that he is  the last and only dictator in Europe  ,has little tolerance for any opposition. A powerful police force and feared state security  keep citizens in check. But police patrols are rare in Oktyabrskaya, partly due to its location on an out-of-the-way peninsula in a bend of the river Svislach. When the first restaurant opened there in 2012, few visitors came but now it ranks among the most fashionable quarters of Minsk.  Such is the growing popularity of that Oktyabrskaya that investors such as Belgazprombank, a subsidiary of state-owned Russian lender Gazprombank, have big plans for the district. Earlier this year the bank purchased part of a factory there and intends to turn it into a gallery, restaurant and theater complex. The manufacturing sector has not entirely abandoned Oktyabrskaya - one  machine-making factory named after the 1917 October Revolution (MZOR) still operates there. Financial difficulties prompted state-owned MZOR to lease or sell some of its facilities to Oktyabrskaya s developers, but the firm still maintains some production with a reduced workforce. Mikhail, who has worked at the factory for 42 years, said he approves of the influx of new  hipster  businesses.  The street has come back to life,  he said. Oktyabrskaya s long-term future ultimately depends on the authorities good favor, cultural analyst Maksim Zhbankov said.  For now they tolerate it. But I can t say that someone won t turn up tomorrow and say they ve decided to tear it all down,  he said.",
         "shadow disused sovietera factory minsk street lined eclectic bar art gallery yoga studio become vigilant eye belarussian authority place like island said yegor work popular bar hooligan street freedom government president alexander lukashenko ruled belarus past year boasted last dictator europe little tolerance opposition powerful police force feared state security keep citizen check police patrol rare oktyabrskaya partly due location outoftheway peninsula bend river svislach first restaurant opened visitor came rank among fashionable quarter minsk growing popularity oktyabrskaya investor belgazprombank subsidiary stateowned russian lender gazprombank big plan district earlier year bank purchased part factory intends turn gallery restaurant theater complex manufacturing sector entirely abandoned oktyabrskaya one machinemaking factory named october revolution mzor still operates financial difficulty prompted stateowned mzor lease sell facility oktyabrskaya developer firm still maintains production reduced workforce mikhail worked factory year said approves influx new hipster business street come back life said oktyabrskaya longterm future ultimately depends authority good favor cultural analyst maksim zhbankov said tolerate say someone turn tomorrow say decided tear said"
        ],
        [
         "21415",
         "Vatican upbeat on possibility of Pope Francis visiting Russia",
         "MOSCOW (Reuters) - Vatican Secretary of State Cardinal Pietro Parolin said on Tuesday that there was  positive momentum  behind the idea of Pope Francis visiting Russia, but suggested there was more work to be done if it were to happen.  Parolin, speaking at a joint news conference in Moscow alongside Russian Foreign Minister Sergei Lavrov, did not give any date for such a possible visit. The Eastern and Western branches of Christianity split apart in 1054. The pope, leader of the world s 1.2 billion Catholics, is seeking to improve ties, and last year in Cuba held what was the first ever meeting between a Roman Catholic pope and a Russian Orthodox patriarch.  Parolin said he had also used his talks in the Russian capital to also raise certain difficulties faced by the Catholic Church in Russia. He said that Moscow and the Vatican disagreed about the plight of Christians in certain parts of the world. He did not elaborate. Parolin, who is due later on Tuesday to meet Patriarch Kirill, the head of the Russian Orthodox Church, said he also believed Russia could play an important role when it came to helping solve a crisis in Venezuela because of its close relations with Caracas.    ",
         "worldnews",
         "August 22, 2017 ",
         "0",
         "Vatican upbeat on possibility of Pope Francis visiting Russia MOSCOW (Reuters) - Vatican Secretary of State Cardinal Pietro Parolin said on Tuesday that there was  positive momentum  behind the idea of Pope Francis visiting Russia, but suggested there was more work to be done if it were to happen.  Parolin, speaking at a joint news conference in Moscow alongside Russian Foreign Minister Sergei Lavrov, did not give any date for such a possible visit. The Eastern and Western branches of Christianity split apart in 1054. The pope, leader of the world s 1.2 billion Catholics, is seeking to improve ties, and last year in Cuba held what was the first ever meeting between a Roman Catholic pope and a Russian Orthodox patriarch.  Parolin said he had also used his talks in the Russian capital to also raise certain difficulties faced by the Catholic Church in Russia. He said that Moscow and the Vatican disagreed about the plight of Christians in certain parts of the world. He did not elaborate. Parolin, who is due later on Tuesday to meet Patriarch Kirill, the head of the Russian Orthodox Church, said he also believed Russia could play an important role when it came to helping solve a crisis in Venezuela because of its close relations with Caracas.    ",
         "Vatican Secretary of State Cardinal Pietro Parolin said on Tuesday that there was  positive momentum  behind the idea of Pope Francis visiting Russia, but suggested there was more work to be done if it were to happen.  Parolin, speaking at a joint news conference in Moscow alongside Russian Foreign Minister Sergei Lavrov, did not give any date for such a possible visit. The Eastern and Western branches of Christianity split apart in 1054. The pope, leader of the world s 1.2 billion Catholics, is seeking to improve ties, and last year in Cuba held what was the first ever meeting between a Roman Catholic pope and a Russian Orthodox patriarch.  Parolin said he had also used his talks in the Russian capital to also raise certain difficulties faced by the Catholic Church in Russia. He said that Moscow and the Vatican disagreed about the plight of Christians in certain parts of the world. He did not elaborate. Parolin, who is due later on Tuesday to meet Patriarch Kirill, the head of the Russian Orthodox Church, said he also believed Russia could play an important role when it came to helping solve a crisis in Venezuela because of its close relations with Caracas.",
         "vatican secretary state cardinal pietro parolin said tuesday positive momentum behind idea pope francis visiting russia suggested work done happen parolin speaking joint news conference moscow alongside russian foreign minister sergei lavrov give date possible visit eastern western branch christianity split apart pope leader world billion catholic seeking improve tie last year cuba held first ever meeting roman catholic pope russian orthodox patriarch parolin said also used talk russian capital also raise certain difficulty faced catholic church russia said moscow vatican disagreed plight christian certain part world elaborate parolin due later tuesday meet patriarch kirill head russian orthodox church said also believed russia could play important role came helping solve crisis venezuela close relation caracas"
        ],
        [
         "21416",
         "Indonesia to buy $1.14 billion worth of Russian jets",
         "JAKARTA (Reuters) - Indonesia will buy 11 Sukhoi fighter jets worth $1.14 billion from Russia in exchange for cash and Indonesian commodities, two cabinet ministers said on Tuesday. The Southeast Asian country has pledged to ship up to $570 million worth of commodities in addition to cash to pay for the Suhkoi SU-35 fighter jets, which are expected to be delivered in stages starting in two years. Indonesian Trade Minister Enggartiasto Lukita said in a joint statement with Defence Minister Ryamizard Ryacudu that details of the type and volume of commodities were  still being negotiated . Previously he had said the exports could include palm oil, tea, and coffee. The deal is expected to be finalised soon between Indonesian state trading company PT Perusahaan Perdangangan Indonesia and Russian state conglomerate Rostec. Russia is currently facing a new round of U.S.-imposed trade sanctions. Meanwhile, Southeast Asia s largest economy is trying to promote its palm oil products amid threats of a cut in consumption by European Union countries. Indonesia is also trying to modernize its ageing air force after a string of military aviation accidents. Indonesia, which had a $411 million trade surplus with Russia in 2016, wants to expand bilateral cooperation in tourism, education, energy, technology and aviation among others. ",
         "worldnews",
         "August 22, 2017 ",
         "0",
         "Indonesia to buy $1.14 billion worth of Russian jets JAKARTA (Reuters) - Indonesia will buy 11 Sukhoi fighter jets worth $1.14 billion from Russia in exchange for cash and Indonesian commodities, two cabinet ministers said on Tuesday. The Southeast Asian country has pledged to ship up to $570 million worth of commodities in addition to cash to pay for the Suhkoi SU-35 fighter jets, which are expected to be delivered in stages starting in two years. Indonesian Trade Minister Enggartiasto Lukita said in a joint statement with Defence Minister Ryamizard Ryacudu that details of the type and volume of commodities were  still being negotiated . Previously he had said the exports could include palm oil, tea, and coffee. The deal is expected to be finalised soon between Indonesian state trading company PT Perusahaan Perdangangan Indonesia and Russian state conglomerate Rostec. Russia is currently facing a new round of U.S.-imposed trade sanctions. Meanwhile, Southeast Asia s largest economy is trying to promote its palm oil products amid threats of a cut in consumption by European Union countries. Indonesia is also trying to modernize its ageing air force after a string of military aviation accidents. Indonesia, which had a $411 million trade surplus with Russia in 2016, wants to expand bilateral cooperation in tourism, education, energy, technology and aviation among others. ",
         "Indonesia to buy $1.14 billion worth of Russian jets JAKARTA (Reuters) - Indonesia will buy 11 Sukhoi fighter jets worth $1.14 billion from Russia in exchange for cash and Indonesian commodities, two cabinet ministers said on Tuesday. The Southeast Asian country has pledged to ship up to $570 million worth of commodities in addition to cash to pay for the Suhkoi SU-35 fighter jets, which are expected to be delivered in stages starting in two years. Indonesian Trade Minister Enggartiasto Lukita said in a joint statement with Defence Minister Ryamizard Ryacudu that details of the type and volume of commodities were  still being negotiated . Previously he had said the exports could include palm oil, tea, and coffee. The deal is expected to be finalised soon between Indonesian state trading company PT Perusahaan Perdangangan Indonesia and Russian state conglomerate Rostec. Russia is currently facing a new round of U.S.-imposed trade sanctions. Meanwhile, Southeast Asia s largest economy is trying to promote its palm oil products amid threats of a cut in consumption by European Union countries. Indonesia is also trying to modernize its ageing air force after a string of military aviation accidents. Indonesia, which had a $411 million trade surplus with Russia in 2016, wants to expand bilateral cooperation in tourism, education, energy, technology and aviation among others.",
         "indonesia buy billion worth russian jet jakarta reuters indonesia buy sukhoi fighter jet worth billion russia exchange cash indonesian commodity two cabinet minister said tuesday southeast asian country pledged ship million worth commodity addition cash pay suhkoi fighter jet expected delivered stage starting two year indonesian trade minister enggartiasto lukita said joint statement defence minister ryamizard ryacudu detail type volume commodity still negotiated previously said export could include palm oil tea coffee deal expected finalised soon indonesian state trading company pt perusahaan perdangangan indonesia russian state conglomerate rostec russia currently facing new round usimposed trade sanction meanwhile southeast asia largest economy trying promote palm oil product amid threat cut consumption european union country indonesia also trying modernize ageing air force string military aviation accident indonesia million trade surplus russia want expand bilateral cooperation tourism education energy technology aviation among others"
        ]
       ],
       "shape": {
        "columns": 8,
        "rows": 5
       }
      },
      "text/html": [
       "<div>\n",
       "<style scoped>\n",
       "    .dataframe tbody tr th:only-of-type {\n",
       "        vertical-align: middle;\n",
       "    }\n",
       "\n",
       "    .dataframe tbody tr th {\n",
       "        vertical-align: top;\n",
       "    }\n",
       "\n",
       "    .dataframe thead th {\n",
       "        text-align: right;\n",
       "    }\n",
       "</style>\n",
       "<table border=\"1\" class=\"dataframe\">\n",
       "  <thead>\n",
       "    <tr style=\"text-align: right;\">\n",
       "      <th></th>\n",
       "      <th>title</th>\n",
       "      <th>text</th>\n",
       "      <th>subject</th>\n",
       "      <th>date</th>\n",
       "      <th>target</th>\n",
       "      <th>full_text</th>\n",
       "      <th>full_text_cleaned</th>\n",
       "      <th>processed_text</th>\n",
       "    </tr>\n",
       "  </thead>\n",
       "  <tbody>\n",
       "    <tr>\n",
       "      <th>21412</th>\n",
       "      <td>'Fully committed' NATO backs new U.S. approach...</td>\n",
       "      <td>BRUSSELS (Reuters) - NATO allies on Tuesday we...</td>\n",
       "      <td>worldnews</td>\n",
       "      <td>August 22, 2017</td>\n",
       "      <td>0</td>\n",
       "      <td>'Fully committed' NATO backs new U.S. approach...</td>\n",
       "      <td>'Fully committed' NATO backs new U.S. approach...</td>\n",
       "      <td>fully committed nato back new u approach afgha...</td>\n",
       "    </tr>\n",
       "    <tr>\n",
       "      <th>21413</th>\n",
       "      <td>LexisNexis withdrew two products from Chinese ...</td>\n",
       "      <td>LONDON (Reuters) - LexisNexis, a provider of l...</td>\n",
       "      <td>worldnews</td>\n",
       "      <td>August 22, 2017</td>\n",
       "      <td>0</td>\n",
       "      <td>LexisNexis withdrew two products from Chinese ...</td>\n",
       "      <td>LexisNexis, a provider of legal, regulatory an...</td>\n",
       "      <td>lexisnexis provider legal regulatory business ...</td>\n",
       "    </tr>\n",
       "    <tr>\n",
       "      <th>21414</th>\n",
       "      <td>Minsk cultural hub becomes haven from authorities</td>\n",
       "      <td>MINSK (Reuters) - In the shadow of disused Sov...</td>\n",
       "      <td>worldnews</td>\n",
       "      <td>August 22, 2017</td>\n",
       "      <td>0</td>\n",
       "      <td>Minsk cultural hub becomes haven from authorit...</td>\n",
       "      <td>In the shadow of disused Soviet-era factories ...</td>\n",
       "      <td>shadow disused sovietera factory minsk street ...</td>\n",
       "    </tr>\n",
       "    <tr>\n",
       "      <th>21415</th>\n",
       "      <td>Vatican upbeat on possibility of Pope Francis ...</td>\n",
       "      <td>MOSCOW (Reuters) - Vatican Secretary of State ...</td>\n",
       "      <td>worldnews</td>\n",
       "      <td>August 22, 2017</td>\n",
       "      <td>0</td>\n",
       "      <td>Vatican upbeat on possibility of Pope Francis ...</td>\n",
       "      <td>Vatican Secretary of State Cardinal Pietro Par...</td>\n",
       "      <td>vatican secretary state cardinal pietro paroli...</td>\n",
       "    </tr>\n",
       "    <tr>\n",
       "      <th>21416</th>\n",
       "      <td>Indonesia to buy $1.14 billion worth of Russia...</td>\n",
       "      <td>JAKARTA (Reuters) - Indonesia will buy 11 Sukh...</td>\n",
       "      <td>worldnews</td>\n",
       "      <td>August 22, 2017</td>\n",
       "      <td>0</td>\n",
       "      <td>Indonesia to buy $1.14 billion worth of Russia...</td>\n",
       "      <td>Indonesia to buy $1.14 billion worth of Russia...</td>\n",
       "      <td>indonesia buy billion worth russian jet jakart...</td>\n",
       "    </tr>\n",
       "  </tbody>\n",
       "</table>\n",
       "</div>"
      ],
      "text/plain": [
       "                                                   title  \\\n",
       "21412  'Fully committed' NATO backs new U.S. approach...   \n",
       "21413  LexisNexis withdrew two products from Chinese ...   \n",
       "21414  Minsk cultural hub becomes haven from authorities   \n",
       "21415  Vatican upbeat on possibility of Pope Francis ...   \n",
       "21416  Indonesia to buy $1.14 billion worth of Russia...   \n",
       "\n",
       "                                                    text    subject  \\\n",
       "21412  BRUSSELS (Reuters) - NATO allies on Tuesday we...  worldnews   \n",
       "21413  LONDON (Reuters) - LexisNexis, a provider of l...  worldnews   \n",
       "21414  MINSK (Reuters) - In the shadow of disused Sov...  worldnews   \n",
       "21415  MOSCOW (Reuters) - Vatican Secretary of State ...  worldnews   \n",
       "21416  JAKARTA (Reuters) - Indonesia will buy 11 Sukh...  worldnews   \n",
       "\n",
       "                   date  target  \\\n",
       "21412  August 22, 2017        0   \n",
       "21413  August 22, 2017        0   \n",
       "21414  August 22, 2017        0   \n",
       "21415  August 22, 2017        0   \n",
       "21416  August 22, 2017        0   \n",
       "\n",
       "                                               full_text  \\\n",
       "21412  'Fully committed' NATO backs new U.S. approach...   \n",
       "21413  LexisNexis withdrew two products from Chinese ...   \n",
       "21414  Minsk cultural hub becomes haven from authorit...   \n",
       "21415  Vatican upbeat on possibility of Pope Francis ...   \n",
       "21416  Indonesia to buy $1.14 billion worth of Russia...   \n",
       "\n",
       "                                       full_text_cleaned  \\\n",
       "21412  'Fully committed' NATO backs new U.S. approach...   \n",
       "21413  LexisNexis, a provider of legal, regulatory an...   \n",
       "21414  In the shadow of disused Soviet-era factories ...   \n",
       "21415  Vatican Secretary of State Cardinal Pietro Par...   \n",
       "21416  Indonesia to buy $1.14 billion worth of Russia...   \n",
       "\n",
       "                                          processed_text  \n",
       "21412  fully committed nato back new u approach afgha...  \n",
       "21413  lexisnexis provider legal regulatory business ...  \n",
       "21414  shadow disused sovietera factory minsk street ...  \n",
       "21415  vatican secretary state cardinal pietro paroli...  \n",
       "21416  indonesia buy billion worth russian jet jakart...  "
      ]
     },
     "execution_count": 34,
     "metadata": {},
     "output_type": "execute_result"
    }
   ],
   "source": [
    "data.tail()"
   ]
  },
  {
   "cell_type": "code",
   "execution_count": 35,
   "metadata": {
    "execution": {
     "iopub.execute_input": "2025-05-25T23:25:08.852243Z",
     "iopub.status.busy": "2025-05-25T23:25:08.851965Z",
     "iopub.status.idle": "2025-05-25T23:25:08.856549Z",
     "shell.execute_reply": "2025-05-25T23:25:08.855723Z",
     "shell.execute_reply.started": "2025-05-25T23:25:08.852222Z"
    },
    "trusted": true
   },
   "outputs": [],
   "source": [
    "X = data['processed_text']\n",
    "y = data['target']"
   ]
  },
  {
   "cell_type": "code",
   "execution_count": 36,
   "metadata": {
    "execution": {
     "iopub.execute_input": "2025-05-25T23:55:39.841906Z",
     "iopub.status.busy": "2025-05-25T23:55:39.841608Z",
     "iopub.status.idle": "2025-05-25T23:55:40.455219Z",
     "shell.execute_reply": "2025-05-25T23:55:40.454410Z",
     "shell.execute_reply.started": "2025-05-25T23:55:39.841880Z"
    },
    "trusted": true
   },
   "outputs": [],
   "source": [
    "data[['processed_text', 'target']].iloc[:10000].to_csv('output_data1.csv', index=False, encoding='utf-8')"
   ]
  },
  {
   "cell_type": "markdown",
   "metadata": {},
   "source": [
    "# Обучение моделей"
   ]
  },
  {
   "cell_type": "markdown",
   "metadata": {},
   "source": [
    "## TF-IDF"
   ]
  },
  {
   "cell_type": "code",
   "execution_count": 37,
   "metadata": {
    "execution": {
     "iopub.execute_input": "2025-05-25T23:25:11.955798Z",
     "iopub.status.busy": "2025-05-25T23:25:11.955502Z",
     "iopub.status.idle": "2025-05-25T23:25:11.989743Z",
     "shell.execute_reply": "2025-05-25T23:25:11.988900Z",
     "shell.execute_reply.started": "2025-05-25T23:25:11.955776Z"
    },
    "trusted": true
   },
   "outputs": [
    {
     "name": "stdout",
     "output_type": "stream",
     "text": [
      "Размеры выборок после разделения:\n",
      "X_train: (35744,), y_train: (35744,)\n",
      "X_test: (8936,), y_test: (8936,)\n",
      "\n",
      "Проверим распределение классов в обучающей выборке:\n",
      "target\n",
      "1    0.525263\n",
      "0    0.474737\n",
      "Name: proportion, dtype: float64\n",
      "\n",
      "Проверим распределение классов в тестовой выборке:\n",
      "target\n",
      "1    0.525291\n",
      "0    0.474709\n",
      "Name: proportion, dtype: float64\n"
     ]
    }
   ],
   "source": [
    "X_train, X_test, y_train, y_test = train_test_split(X, y, test_size=0.2, random_state=RANDOM_STATE, stratify=y) \n",
    "print(\"Размеры выборок после разделения:\")\n",
    "print(f\"X_train: {X_train.shape}, y_train: {y_train.shape}\")\n",
    "print(f\"X_test: {X_test.shape}, y_test: {y_test.shape}\")\n",
    "\n",
    "print(\"\\nПроверим распределение классов в обучающей выборке:\")\n",
    "print(y_train.value_counts(normalize=True))\n",
    "\n",
    "print(\"\\nПроверим распределение классов в тестовой выборке:\")\n",
    "print(y_test.value_counts(normalize=True))"
   ]
  },
  {
   "cell_type": "code",
   "execution_count": 38,
   "metadata": {
    "execution": {
     "iopub.execute_input": "2025-05-25T23:25:13.607256Z",
     "iopub.status.busy": "2025-05-25T23:25:13.606964Z",
     "iopub.status.idle": "2025-05-25T23:25:21.983131Z",
     "shell.execute_reply": "2025-05-25T23:25:21.982397Z",
     "shell.execute_reply.started": "2025-05-25T23:25:13.607238Z"
    },
    "trusted": true
   },
   "outputs": [
    {
     "name": "stdout",
     "output_type": "stream",
     "text": [
      "\n",
      "Размеры TF-IDF матриц:\n",
      "X_train_tfidf: (35744, 5000)\n",
      "X_test_tfidf: (8936, 5000)\n"
     ]
    }
   ],
   "source": [
    "tfidf_vectorizer = TfidfVectorizer(max_features=5000)\n",
    "\n",
    "X_train_tfidf = tfidf_vectorizer.fit_transform(X_train)\n",
    "X_test_tfidf = tfidf_vectorizer.transform(X_test)\n",
    "\n",
    "print(\"\\nРазмеры TF-IDF матриц:\")\n",
    "print(f\"X_train_tfidf: {X_train_tfidf.shape}\")\n",
    "print(f\"X_test_tfidf: {X_test_tfidf.shape}\")"
   ]
  },
  {
   "cell_type": "markdown",
   "metadata": {},
   "source": [
    "### Логистическая регрессия"
   ]
  },
  {
   "cell_type": "code",
   "execution_count": 39,
   "metadata": {
    "execution": {
     "iopub.execute_input": "2025-05-25T23:25:24.487350Z",
     "iopub.status.busy": "2025-05-25T23:25:24.487072Z",
     "iopub.status.idle": "2025-05-25T23:25:25.476706Z",
     "shell.execute_reply": "2025-05-25T23:25:25.475890Z",
     "shell.execute_reply.started": "2025-05-25T23:25:24.487323Z"
    },
    "trusted": true
   },
   "outputs": [
    {
     "data": {
      "text/html": [
       "<style>#sk-container-id-1 {color: black;}#sk-container-id-1 pre{padding: 0;}#sk-container-id-1 div.sk-toggleable {background-color: white;}#sk-container-id-1 label.sk-toggleable__label {cursor: pointer;display: block;width: 100%;margin-bottom: 0;padding: 0.3em;box-sizing: border-box;text-align: center;}#sk-container-id-1 label.sk-toggleable__label-arrow:before {content: \"▸\";float: left;margin-right: 0.25em;color: #696969;}#sk-container-id-1 label.sk-toggleable__label-arrow:hover:before {color: black;}#sk-container-id-1 div.sk-estimator:hover label.sk-toggleable__label-arrow:before {color: black;}#sk-container-id-1 div.sk-toggleable__content {max-height: 0;max-width: 0;overflow: hidden;text-align: left;background-color: #f0f8ff;}#sk-container-id-1 div.sk-toggleable__content pre {margin: 0.2em;color: black;border-radius: 0.25em;background-color: #f0f8ff;}#sk-container-id-1 input.sk-toggleable__control:checked~div.sk-toggleable__content {max-height: 200px;max-width: 100%;overflow: auto;}#sk-container-id-1 input.sk-toggleable__control:checked~label.sk-toggleable__label-arrow:before {content: \"▾\";}#sk-container-id-1 div.sk-estimator input.sk-toggleable__control:checked~label.sk-toggleable__label {background-color: #d4ebff;}#sk-container-id-1 div.sk-label input.sk-toggleable__control:checked~label.sk-toggleable__label {background-color: #d4ebff;}#sk-container-id-1 input.sk-hidden--visually {border: 0;clip: rect(1px 1px 1px 1px);clip: rect(1px, 1px, 1px, 1px);height: 1px;margin: -1px;overflow: hidden;padding: 0;position: absolute;width: 1px;}#sk-container-id-1 div.sk-estimator {font-family: monospace;background-color: #f0f8ff;border: 1px dotted black;border-radius: 0.25em;box-sizing: border-box;margin-bottom: 0.5em;}#sk-container-id-1 div.sk-estimator:hover {background-color: #d4ebff;}#sk-container-id-1 div.sk-parallel-item::after {content: \"\";width: 100%;border-bottom: 1px solid gray;flex-grow: 1;}#sk-container-id-1 div.sk-label:hover label.sk-toggleable__label {background-color: #d4ebff;}#sk-container-id-1 div.sk-serial::before {content: \"\";position: absolute;border-left: 1px solid gray;box-sizing: border-box;top: 0;bottom: 0;left: 50%;z-index: 0;}#sk-container-id-1 div.sk-serial {display: flex;flex-direction: column;align-items: center;background-color: white;padding-right: 0.2em;padding-left: 0.2em;position: relative;}#sk-container-id-1 div.sk-item {position: relative;z-index: 1;}#sk-container-id-1 div.sk-parallel {display: flex;align-items: stretch;justify-content: center;background-color: white;position: relative;}#sk-container-id-1 div.sk-item::before, #sk-container-id-1 div.sk-parallel-item::before {content: \"\";position: absolute;border-left: 1px solid gray;box-sizing: border-box;top: 0;bottom: 0;left: 50%;z-index: -1;}#sk-container-id-1 div.sk-parallel-item {display: flex;flex-direction: column;z-index: 1;position: relative;background-color: white;}#sk-container-id-1 div.sk-parallel-item:first-child::after {align-self: flex-end;width: 50%;}#sk-container-id-1 div.sk-parallel-item:last-child::after {align-self: flex-start;width: 50%;}#sk-container-id-1 div.sk-parallel-item:only-child::after {width: 0;}#sk-container-id-1 div.sk-dashed-wrapped {border: 1px dashed gray;margin: 0 0.4em 0.5em 0.4em;box-sizing: border-box;padding-bottom: 0.4em;background-color: white;}#sk-container-id-1 div.sk-label label {font-family: monospace;font-weight: bold;display: inline-block;line-height: 1.2em;}#sk-container-id-1 div.sk-label-container {text-align: center;}#sk-container-id-1 div.sk-container {/* jupyter's `normalize.less` sets `[hidden] { display: none; }` but bootstrap.min.css set `[hidden] { display: none !important; }` so we also need the `!important` here to be able to override the default hidden behavior on the sphinx rendered scikit-learn.org. See: https://github.com/scikit-learn/scikit-learn/issues/21755 */display: inline-block !important;position: relative;}#sk-container-id-1 div.sk-text-repr-fallback {display: none;}</style><div id=\"sk-container-id-1\" class=\"sk-top-container\"><div class=\"sk-text-repr-fallback\"><pre>LogisticRegression(random_state=42, solver=&#x27;liblinear&#x27;)</pre><b>In a Jupyter environment, please rerun this cell to show the HTML representation or trust the notebook. <br />On GitHub, the HTML representation is unable to render, please try loading this page with nbviewer.org.</b></div><div class=\"sk-container\" hidden><div class=\"sk-item\"><div class=\"sk-estimator sk-toggleable\"><input class=\"sk-toggleable__control sk-hidden--visually\" id=\"sk-estimator-id-1\" type=\"checkbox\" checked><label for=\"sk-estimator-id-1\" class=\"sk-toggleable__label sk-toggleable__label-arrow\">LogisticRegression</label><div class=\"sk-toggleable__content\"><pre>LogisticRegression(random_state=42, solver=&#x27;liblinear&#x27;)</pre></div></div></div></div></div>"
      ],
      "text/plain": [
       "LogisticRegression(random_state=42, solver='liblinear')"
      ]
     },
     "execution_count": 39,
     "metadata": {},
     "output_type": "execute_result"
    }
   ],
   "source": [
    "log_reg_model = LogisticRegression(solver='liblinear', random_state=RANDOM_STATE)\n",
    "log_reg_model.fit(X_train_tfidf, y_train)"
   ]
  },
  {
   "cell_type": "code",
   "execution_count": 40,
   "metadata": {
    "execution": {
     "iopub.execute_input": "2025-05-25T23:25:25.478312Z",
     "iopub.status.busy": "2025-05-25T23:25:25.478042Z",
     "iopub.status.idle": "2025-05-25T23:25:25.506005Z",
     "shell.execute_reply": "2025-05-25T23:25:25.505201Z",
     "shell.execute_reply.started": "2025-05-25T23:25:25.478294Z"
    },
    "trusted": true
   },
   "outputs": [
    {
     "name": "stdout",
     "output_type": "stream",
     "text": [
      "Точность (Accuracy): 0.9860116383169203\n",
      "\n",
      "Отчет по классификации:\n",
      "               precision    recall  f1-score   support\n",
      "\n",
      "Real News (0)       0.98      0.99      0.99      4242\n",
      "Fake News (1)       0.99      0.99      0.99      4694\n",
      "\n",
      "     accuracy                           0.99      8936\n",
      "    macro avg       0.99      0.99      0.99      8936\n",
      " weighted avg       0.99      0.99      0.99      8936\n",
      "\n"
     ]
    }
   ],
   "source": [
    "y_pred_log_reg = log_reg_model.predict(X_test_tfidf)\n",
    "\n",
    "print(\"Точность (Accuracy):\", accuracy_score(y_test, y_pred_log_reg))\n",
    "print(\"\\nОтчет по классификации:\")\n",
    "print(classification_report(y_test, y_pred_log_reg, target_names=['Real News (0)', 'Fake News (1)']))"
   ]
  },
  {
   "cell_type": "code",
   "execution_count": 41,
   "metadata": {
    "execution": {
     "iopub.execute_input": "2025-05-25T23:25:25.506989Z",
     "iopub.status.busy": "2025-05-25T23:25:25.506756Z",
     "iopub.status.idle": "2025-05-25T23:25:25.674273Z",
     "shell.execute_reply": "2025-05-25T23:25:25.673448Z",
     "shell.execute_reply.started": "2025-05-25T23:25:25.506971Z"
    },
    "trusted": true
   },
   "outputs": [
    {
     "data": {
      "image/png": "[encoded data removed]",
      "text/plain": [
       "<Figure size 600x400 with 2 Axes>"
      ]
     },
     "metadata": {},
     "output_type": "display_data"
    }
   ],
   "source": [
    "cm_log_reg = confusion_matrix(y_test, y_pred_log_reg)\n",
    "plt.figure(figsize=(6, 4))\n",
    "sns.heatmap(cm_log_reg, annot=True, fmt='d', cmap='Blues', \n",
    "            xticklabels=['Real News (0)', 'Fake News (1)'], \n",
    "            yticklabels=['Real News (0)', 'Fake News (1)'])\n",
    "plt.xlabel('Предсказанный класс')\n",
    "plt.ylabel('Истинный класс')\n",
    "plt.title('Матрица ошибок (Логистическая регрессия)')\n",
    "plt.show()"
   ]
  },
  {
   "cell_type": "markdown",
   "metadata": {},
   "source": [
    "### Мультиномиальный Наивный Байес"
   ]
  },
  {
   "cell_type": "code",
   "execution_count": 42,
   "metadata": {
    "execution": {
     "iopub.execute_input": "2025-05-25T23:25:43.607047Z",
     "iopub.status.busy": "2025-05-25T23:25:43.606758Z",
     "iopub.status.idle": "2025-05-25T23:25:43.672876Z",
     "shell.execute_reply": "2025-05-25T23:25:43.672059Z",
     "shell.execute_reply.started": "2025-05-25T23:25:43.607025Z"
    },
    "trusted": true
   },
   "outputs": [
    {
     "data": {
      "text/html": [
       "<style>#sk-container-id-2 {color: black;}#sk-container-id-2 pre{padding: 0;}#sk-container-id-2 div.sk-toggleable {background-color: white;}#sk-container-id-2 label.sk-toggleable__label {cursor: pointer;display: block;width: 100%;margin-bottom: 0;padding: 0.3em;box-sizing: border-box;text-align: center;}#sk-container-id-2 label.sk-toggleable__label-arrow:before {content: \"▸\";float: left;margin-right: 0.25em;color: #696969;}#sk-container-id-2 label.sk-toggleable__label-arrow:hover:before {color: black;}#sk-container-id-2 div.sk-estimator:hover label.sk-toggleable__label-arrow:before {color: black;}#sk-container-id-2 div.sk-toggleable__content {max-height: 0;max-width: 0;overflow: hidden;text-align: left;background-color: #f0f8ff;}#sk-container-id-2 div.sk-toggleable__content pre {margin: 0.2em;color: black;border-radius: 0.25em;background-color: #f0f8ff;}#sk-container-id-2 input.sk-toggleable__control:checked~div.sk-toggleable__content {max-height: 200px;max-width: 100%;overflow: auto;}#sk-container-id-2 input.sk-toggleable__control:checked~label.sk-toggleable__label-arrow:before {content: \"▾\";}#sk-container-id-2 div.sk-estimator input.sk-toggleable__control:checked~label.sk-toggleable__label {background-color: #d4ebff;}#sk-container-id-2 div.sk-label input.sk-toggleable__control:checked~label.sk-toggleable__label {background-color: #d4ebff;}#sk-container-id-2 input.sk-hidden--visually {border: 0;clip: rect(1px 1px 1px 1px);clip: rect(1px, 1px, 1px, 1px);height: 1px;margin: -1px;overflow: hidden;padding: 0;position: absolute;width: 1px;}#sk-container-id-2 div.sk-estimator {font-family: monospace;background-color: #f0f8ff;border: 1px dotted black;border-radius: 0.25em;box-sizing: border-box;margin-bottom: 0.5em;}#sk-container-id-2 div.sk-estimator:hover {background-color: #d4ebff;}#sk-container-id-2 div.sk-parallel-item::after {content: \"\";width: 100%;border-bottom: 1px solid gray;flex-grow: 1;}#sk-container-id-2 div.sk-label:hover label.sk-toggleable__label {background-color: #d4ebff;}#sk-container-id-2 div.sk-serial::before {content: \"\";position: absolute;border-left: 1px solid gray;box-sizing: border-box;top: 0;bottom: 0;left: 50%;z-index: 0;}#sk-container-id-2 div.sk-serial {display: flex;flex-direction: column;align-items: center;background-color: white;padding-right: 0.2em;padding-left: 0.2em;position: relative;}#sk-container-id-2 div.sk-item {position: relative;z-index: 1;}#sk-container-id-2 div.sk-parallel {display: flex;align-items: stretch;justify-content: center;background-color: white;position: relative;}#sk-container-id-2 div.sk-item::before, #sk-container-id-2 div.sk-parallel-item::before {content: \"\";position: absolute;border-left: 1px solid gray;box-sizing: border-box;top: 0;bottom: 0;left: 50%;z-index: -1;}#sk-container-id-2 div.sk-parallel-item {display: flex;flex-direction: column;z-index: 1;position: relative;background-color: white;}#sk-container-id-2 div.sk-parallel-item:first-child::after {align-self: flex-end;width: 50%;}#sk-container-id-2 div.sk-parallel-item:last-child::after {align-self: flex-start;width: 50%;}#sk-container-id-2 div.sk-parallel-item:only-child::after {width: 0;}#sk-container-id-2 div.sk-dashed-wrapped {border: 1px dashed gray;margin: 0 0.4em 0.5em 0.4em;box-sizing: border-box;padding-bottom: 0.4em;background-color: white;}#sk-container-id-2 div.sk-label label {font-family: monospace;font-weight: bold;display: inline-block;line-height: 1.2em;}#sk-container-id-2 div.sk-label-container {text-align: center;}#sk-container-id-2 div.sk-container {/* jupyter's `normalize.less` sets `[hidden] { display: none; }` but bootstrap.min.css set `[hidden] { display: none !important; }` so we also need the `!important` here to be able to override the default hidden behavior on the sphinx rendered scikit-learn.org. See: https://github.com/scikit-learn/scikit-learn/issues/21755 */display: inline-block !important;position: relative;}#sk-container-id-2 div.sk-text-repr-fallback {display: none;}</style><div id=\"sk-container-id-2\" class=\"sk-top-container\"><div class=\"sk-text-repr-fallback\"><pre>MultinomialNB()</pre><b>In a Jupyter environment, please rerun this cell to show the HTML representation or trust the notebook. <br />On GitHub, the HTML representation is unable to render, please try loading this page with nbviewer.org.</b></div><div class=\"sk-container\" hidden><div class=\"sk-item\"><div class=\"sk-estimator sk-toggleable\"><input class=\"sk-toggleable__control sk-hidden--visually\" id=\"sk-estimator-id-2\" type=\"checkbox\" checked><label for=\"sk-estimator-id-2\" class=\"sk-toggleable__label sk-toggleable__label-arrow\">MultinomialNB</label><div class=\"sk-toggleable__content\"><pre>MultinomialNB()</pre></div></div></div></div></div>"
      ],
      "text/plain": [
       "MultinomialNB()"
      ]
     },
     "execution_count": 42,
     "metadata": {},
     "output_type": "execute_result"
    }
   ],
   "source": [
    "nb_model = MultinomialNB()\n",
    "nb_model.fit(X_train_tfidf, y_train)"
   ]
  },
  {
   "cell_type": "code",
   "execution_count": 43,
   "metadata": {
    "execution": {
     "iopub.execute_input": "2025-05-25T23:25:43.882445Z",
     "iopub.status.busy": "2025-05-25T23:25:43.881785Z",
     "iopub.status.idle": "2025-05-25T23:25:43.914171Z",
     "shell.execute_reply": "2025-05-25T23:25:43.913494Z",
     "shell.execute_reply.started": "2025-05-25T23:25:43.882416Z"
    },
    "trusted": true
   },
   "outputs": [
    {
     "name": "stdout",
     "output_type": "stream",
     "text": [
      "Точность (Accuracy): 0.9300581915846016\n",
      "\n",
      "Отчет по классификации:\n",
      "               precision    recall  f1-score   support\n",
      "\n",
      "Real News (0)       0.94      0.92      0.93      4242\n",
      "Fake News (1)       0.93      0.94      0.93      4694\n",
      "\n",
      "     accuracy                           0.93      8936\n",
      "    macro avg       0.93      0.93      0.93      8936\n",
      " weighted avg       0.93      0.93      0.93      8936\n",
      "\n"
     ]
    }
   ],
   "source": [
    "y_pred_nb = nb_model.predict(X_test_tfidf)\n",
    "\n",
    "print(\"Точность (Accuracy):\", accuracy_score(y_test, y_pred_nb))\n",
    "print(\"\\nОтчет по классификации:\")\n",
    "print(classification_report(y_test, y_pred_nb, target_names=['Real News (0)', 'Fake News (1)']))"
   ]
  },
  {
   "cell_type": "code",
   "execution_count": 44,
   "metadata": {
    "execution": {
     "iopub.execute_input": "2025-05-25T23:25:46.056053Z",
     "iopub.status.busy": "2025-05-25T23:25:46.055563Z",
     "iopub.status.idle": "2025-05-25T23:25:46.265451Z",
     "shell.execute_reply": "2025-05-25T23:25:46.264542Z",
     "shell.execute_reply.started": "2025-05-25T23:25:46.056024Z"
    },
    "trusted": true
   },
   "outputs": [
    {
     "data": {
      "image/png": "[encoded data removed]",
      "text/plain": [
       "<Figure size 600x400 with 2 Axes>"
      ]
     },
     "metadata": {},
     "output_type": "display_data"
    }
   ],
   "source": [
    "cm_nb = confusion_matrix(y_test, y_pred_nb)\n",
    "plt.figure(figsize=(6, 4))\n",
    "sns.heatmap(cm_nb, annot=True, fmt='d', cmap='Blues',\n",
    "            xticklabels=['Real News (0)', 'Fake News (1)'], \n",
    "            yticklabels=['Real News (0)', 'Fake News (1)'])\n",
    "plt.xlabel('Предсказанный класс')\n",
    "plt.ylabel('Истинный класс')\n",
    "plt.title('Матрица ошибок (Наивный Байес)')\n",
    "plt.show()"
   ]
  },
  {
   "cell_type": "markdown",
   "metadata": {},
   "source": [
    "## TF-IDF - ngrams"
   ]
  },
  {
   "cell_type": "code",
   "execution_count": 45,
   "metadata": {
    "execution": {
     "iopub.execute_input": "2025-05-25T23:25:48.941851Z",
     "iopub.status.busy": "2025-05-25T23:25:48.941085Z",
     "iopub.status.idle": "2025-05-25T23:26:14.976062Z",
     "shell.execute_reply": "2025-05-25T23:26:14.975271Z",
     "shell.execute_reply.started": "2025-05-25T23:25:48.941824Z"
    },
    "trusted": true
   },
   "outputs": [
    {
     "name": "stdout",
     "output_type": "stream",
     "text": [
      "Размер нового словаря (количество признаков): 591672\n",
      "Размеры новых TF-IDF матриц: X_train: (35744, 591672), X_test: (8936, 591672)\n"
     ]
    }
   ],
   "source": [
    "tfidf_vectorizer_new = TfidfVectorizer(\n",
    "    ngram_range=(1, 2),\n",
    "    min_df=3,\n",
    "    max_df=0.8,\n",
    ")\n",
    "\n",
    "X_train_tfidf_new = tfidf_vectorizer_new.fit_transform(X_train)\n",
    "X_test_tfidf_new = tfidf_vectorizer_new.transform(X_test)\n",
    "\n",
    "print(f\"Размер нового словаря (количество признаков): {X_train_tfidf_new.shape[1]}\")\n",
    "print(f\"Размеры новых TF-IDF матриц: X_train: {X_train_tfidf_new.shape}, X_test: {X_test_tfidf_new.shape}\")"
   ]
  },
  {
   "cell_type": "markdown",
   "metadata": {},
   "source": [
    "### Модель LinearSVC"
   ]
  },
  {
   "cell_type": "code",
   "execution_count": 46,
   "metadata": {
    "execution": {
     "iopub.execute_input": "2025-05-25T23:26:14.978114Z",
     "iopub.status.busy": "2025-05-25T23:26:14.977561Z",
     "iopub.status.idle": "2025-05-25T23:26:16.026131Z",
     "shell.execute_reply": "2025-05-25T23:26:16.025283Z",
     "shell.execute_reply.started": "2025-05-25T23:26:14.978093Z"
    },
    "trusted": true
   },
   "outputs": [
    {
     "name": "stderr",
     "output_type": "stream",
     "text": [
      "c:\\Users\\taras\\university\\fake_news\\venv\\Lib\\site-packages\\sklearn\\svm\\_classes.py:32: FutureWarning: The default value of `dual` will change from `True` to `'auto'` in 1.5. Set the value of `dual` explicitly to suppress the warning.\n",
      "  warnings.warn(\n"
     ]
    },
    {
     "data": {
      "text/html": [
       "<style>#sk-container-id-3 {color: black;}#sk-container-id-3 pre{padding: 0;}#sk-container-id-3 div.sk-toggleable {background-color: white;}#sk-container-id-3 label.sk-toggleable__label {cursor: pointer;display: block;width: 100%;margin-bottom: 0;padding: 0.3em;box-sizing: border-box;text-align: center;}#sk-container-id-3 label.sk-toggleable__label-arrow:before {content: \"▸\";float: left;margin-right: 0.25em;color: #696969;}#sk-container-id-3 label.sk-toggleable__label-arrow:hover:before {color: black;}#sk-container-id-3 div.sk-estimator:hover label.sk-toggleable__label-arrow:before {color: black;}#sk-container-id-3 div.sk-toggleable__content {max-height: 0;max-width: 0;overflow: hidden;text-align: left;background-color: #f0f8ff;}#sk-container-id-3 div.sk-toggleable__content pre {margin: 0.2em;color: black;border-radius: 0.25em;background-color: #f0f8ff;}#sk-container-id-3 input.sk-toggleable__control:checked~div.sk-toggleable__content {max-height: 200px;max-width: 100%;overflow: auto;}#sk-container-id-3 input.sk-toggleable__control:checked~label.sk-toggleable__label-arrow:before {content: \"▾\";}#sk-container-id-3 div.sk-estimator input.sk-toggleable__control:checked~label.sk-toggleable__label {background-color: #d4ebff;}#sk-container-id-3 div.sk-label input.sk-toggleable__control:checked~label.sk-toggleable__label {background-color: #d4ebff;}#sk-container-id-3 input.sk-hidden--visually {border: 0;clip: rect(1px 1px 1px 1px);clip: rect(1px, 1px, 1px, 1px);height: 1px;margin: -1px;overflow: hidden;padding: 0;position: absolute;width: 1px;}#sk-container-id-3 div.sk-estimator {font-family: monospace;background-color: #f0f8ff;border: 1px dotted black;border-radius: 0.25em;box-sizing: border-box;margin-bottom: 0.5em;}#sk-container-id-3 div.sk-estimator:hover {background-color: #d4ebff;}#sk-container-id-3 div.sk-parallel-item::after {content: \"\";width: 100%;border-bottom: 1px solid gray;flex-grow: 1;}#sk-container-id-3 div.sk-label:hover label.sk-toggleable__label {background-color: #d4ebff;}#sk-container-id-3 div.sk-serial::before {content: \"\";position: absolute;border-left: 1px solid gray;box-sizing: border-box;top: 0;bottom: 0;left: 50%;z-index: 0;}#sk-container-id-3 div.sk-serial {display: flex;flex-direction: column;align-items: center;background-color: white;padding-right: 0.2em;padding-left: 0.2em;position: relative;}#sk-container-id-3 div.sk-item {position: relative;z-index: 1;}#sk-container-id-3 div.sk-parallel {display: flex;align-items: stretch;justify-content: center;background-color: white;position: relative;}#sk-container-id-3 div.sk-item::before, #sk-container-id-3 div.sk-parallel-item::before {content: \"\";position: absolute;border-left: 1px solid gray;box-sizing: border-box;top: 0;bottom: 0;left: 50%;z-index: -1;}#sk-container-id-3 div.sk-parallel-item {display: flex;flex-direction: column;z-index: 1;position: relative;background-color: white;}#sk-container-id-3 div.sk-parallel-item:first-child::after {align-self: flex-end;width: 50%;}#sk-container-id-3 div.sk-parallel-item:last-child::after {align-self: flex-start;width: 50%;}#sk-container-id-3 div.sk-parallel-item:only-child::after {width: 0;}#sk-container-id-3 div.sk-dashed-wrapped {border: 1px dashed gray;margin: 0 0.4em 0.5em 0.4em;box-sizing: border-box;padding-bottom: 0.4em;background-color: white;}#sk-container-id-3 div.sk-label label {font-family: monospace;font-weight: bold;display: inline-block;line-height: 1.2em;}#sk-container-id-3 div.sk-label-container {text-align: center;}#sk-container-id-3 div.sk-container {/* jupyter's `normalize.less` sets `[hidden] { display: none; }` but bootstrap.min.css set `[hidden] { display: none !important; }` so we also need the `!important` here to be able to override the default hidden behavior on the sphinx rendered scikit-learn.org. See: https://github.com/scikit-learn/scikit-learn/issues/21755 */display: inline-block !important;position: relative;}#sk-container-id-3 div.sk-text-repr-fallback {display: none;}</style><div id=\"sk-container-id-3\" class=\"sk-top-container\"><div class=\"sk-text-repr-fallback\"><pre>LinearSVC(C=0.5, max_iter=2000, random_state=42)</pre><b>In a Jupyter environment, please rerun this cell to show the HTML representation or trust the notebook. <br />On GitHub, the HTML representation is unable to render, please try loading this page with nbviewer.org.</b></div><div class=\"sk-container\" hidden><div class=\"sk-item\"><div class=\"sk-estimator sk-toggleable\"><input class=\"sk-toggleable__control sk-hidden--visually\" id=\"sk-estimator-id-3\" type=\"checkbox\" checked><label for=\"sk-estimator-id-3\" class=\"sk-toggleable__label sk-toggleable__label-arrow\">LinearSVC</label><div class=\"sk-toggleable__content\"><pre>LinearSVC(C=0.5, max_iter=2000, random_state=42)</pre></div></div></div></div></div>"
      ],
      "text/plain": [
       "LinearSVC(C=0.5, max_iter=2000, random_state=42)"
      ]
     },
     "execution_count": 46,
     "metadata": {},
     "output_type": "execute_result"
    }
   ],
   "source": [
    "lsvc_model = LinearSVC(random_state=RANDOM_STATE, C=0.5, max_iter=2000)\n",
    "lsvc_model.fit(X_train_tfidf_new, y_train)"
   ]
  },
  {
   "cell_type": "code",
   "execution_count": 47,
   "metadata": {
    "execution": {
     "iopub.execute_input": "2025-05-25T23:26:16.027253Z",
     "iopub.status.busy": "2025-05-25T23:26:16.026942Z",
     "iopub.status.idle": "2025-05-25T23:26:16.064882Z",
     "shell.execute_reply": "2025-05-25T23:26:16.063905Z",
     "shell.execute_reply.started": "2025-05-25T23:26:16.027230Z"
    },
    "trusted": true
   },
   "outputs": [
    {
     "name": "stdout",
     "output_type": "stream",
     "text": [
      "Точность (Accuracy) LinearSVC: 0.9920546105640108\n",
      "\n",
      "Отчет по классификации LinearSVC:\n",
      "               precision    recall  f1-score   support\n",
      "\n",
      "Real News (0)       0.99      0.99      0.99      4242\n",
      "Fake News (1)       0.99      0.99      0.99      4694\n",
      "\n",
      "     accuracy                           0.99      8936\n",
      "    macro avg       0.99      0.99      0.99      8936\n",
      " weighted avg       0.99      0.99      0.99      8936\n",
      "\n"
     ]
    }
   ],
   "source": [
    "y_pred_lsvc = lsvc_model.predict(X_test_tfidf_new)\n",
    "\n",
    "print(\"Точность (Accuracy) LinearSVC:\", accuracy_score(y_test, y_pred_lsvc))\n",
    "print(\"\\nОтчет по классификации LinearSVC:\")\n",
    "print(classification_report(y_test, y_pred_lsvc, target_names=['Real News (0)', 'Fake News (1)'], zero_division=0))"
   ]
  },
  {
   "cell_type": "code",
   "execution_count": 48,
   "metadata": {
    "execution": {
     "iopub.execute_input": "2025-05-25T23:26:39.065386Z",
     "iopub.status.busy": "2025-05-25T23:26:39.065094Z",
     "iopub.status.idle": "2025-05-25T23:26:39.232840Z",
     "shell.execute_reply": "2025-05-25T23:26:39.231977Z",
     "shell.execute_reply.started": "2025-05-25T23:26:39.065364Z"
    },
    "trusted": true
   },
   "outputs": [
    {
     "data": {
      "image/png": "[encoded data removed]",
      "text/plain": [
       "<Figure size 600x400 with 2 Axes>"
      ]
     },
     "metadata": {},
     "output_type": "display_data"
    }
   ],
   "source": [
    "cm_lsvc = confusion_matrix(y_test, y_pred_lsvc)\n",
    "plt.figure(figsize=(6,4))\n",
    "sns.heatmap(cm_lsvc, annot=True, fmt='d', cmap='Blues', \n",
    "            xticklabels=['Real News (0)', 'Fake News (1)'], \n",
    "            yticklabels=['Real News (0)', 'Fake News (1)'])\n",
    "plt.title('Матрица ошибок (LinearSVC)')\n",
    "plt.xlabel('Предсказанный класс')\n",
    "plt.ylabel('Истинный класс')\n",
    "plt.show()"
   ]
  },
  {
   "cell_type": "markdown",
   "metadata": {},
   "source": [
    "### Модель LGBMClassifier"
   ]
  },
  {
   "cell_type": "code",
   "execution_count": 49,
   "metadata": {
    "execution": {
     "iopub.execute_input": "2025-05-25T23:26:44.649427Z",
     "iopub.status.busy": "2025-05-25T23:26:44.648619Z",
     "iopub.status.idle": "2025-05-25T23:29:55.955324Z",
     "shell.execute_reply": "2025-05-25T23:29:55.954555Z",
     "shell.execute_reply.started": "2025-05-25T23:26:44.649400Z"
    },
    "trusted": true
   },
   "outputs": [
    {
     "name": "stdout",
     "output_type": "stream",
     "text": [
      "[LightGBM] [Info] Number of positive: 18775, number of negative: 16969\n",
      "[LightGBM] [Info] Auto-choosing row-wise multi-threading, the overhead of testing was 10.045244 seconds.\n",
      "You can set `force_row_wise=true` to remove the overhead.\n",
      "And if memory is not enough, you can set `force_col_wise=true`.\n",
      "[LightGBM] [Info] Total Bins 1625614\n",
      "[LightGBM] [Info] Number of data points in the train set: 35744, number of used features: 49671\n",
      "[LightGBM] [Info] [binary:BoostFromScore]: pavg=0.525263 -> initscore=0.101138\n",
      "[LightGBM] [Info] Start training from score 0.101138\n"
     ]
    },
    {
     "data": {
      "text/html": [
       "<style>#sk-container-id-4 {color: black;}#sk-container-id-4 pre{padding: 0;}#sk-container-id-4 div.sk-toggleable {background-color: white;}#sk-container-id-4 label.sk-toggleable__label {cursor: pointer;display: block;width: 100%;margin-bottom: 0;padding: 0.3em;box-sizing: border-box;text-align: center;}#sk-container-id-4 label.sk-toggleable__label-arrow:before {content: \"▸\";float: left;margin-right: 0.25em;color: #696969;}#sk-container-id-4 label.sk-toggleable__label-arrow:hover:before {color: black;}#sk-container-id-4 div.sk-estimator:hover label.sk-toggleable__label-arrow:before {color: black;}#sk-container-id-4 div.sk-toggleable__content {max-height: 0;max-width: 0;overflow: hidden;text-align: left;background-color: #f0f8ff;}#sk-container-id-4 div.sk-toggleable__content pre {margin: 0.2em;color: black;border-radius: 0.25em;background-color: #f0f8ff;}#sk-container-id-4 input.sk-toggleable__control:checked~div.sk-toggleable__content {max-height: 200px;max-width: 100%;overflow: auto;}#sk-container-id-4 input.sk-toggleable__control:checked~label.sk-toggleable__label-arrow:before {content: \"▾\";}#sk-container-id-4 div.sk-estimator input.sk-toggleable__control:checked~label.sk-toggleable__label {background-color: #d4ebff;}#sk-container-id-4 div.sk-label input.sk-toggleable__control:checked~label.sk-toggleable__label {background-color: #d4ebff;}#sk-container-id-4 input.sk-hidden--visually {border: 0;clip: rect(1px 1px 1px 1px);clip: rect(1px, 1px, 1px, 1px);height: 1px;margin: -1px;overflow: hidden;padding: 0;position: absolute;width: 1px;}#sk-container-id-4 div.sk-estimator {font-family: monospace;background-color: #f0f8ff;border: 1px dotted black;border-radius: 0.25em;box-sizing: border-box;margin-bottom: 0.5em;}#sk-container-id-4 div.sk-estimator:hover {background-color: #d4ebff;}#sk-container-id-4 div.sk-parallel-item::after {content: \"\";width: 100%;border-bottom: 1px solid gray;flex-grow: 1;}#sk-container-id-4 div.sk-label:hover label.sk-toggleable__label {background-color: #d4ebff;}#sk-container-id-4 div.sk-serial::before {content: \"\";position: absolute;border-left: 1px solid gray;box-sizing: border-box;top: 0;bottom: 0;left: 50%;z-index: 0;}#sk-container-id-4 div.sk-serial {display: flex;flex-direction: column;align-items: center;background-color: white;padding-right: 0.2em;padding-left: 0.2em;position: relative;}#sk-container-id-4 div.sk-item {position: relative;z-index: 1;}#sk-container-id-4 div.sk-parallel {display: flex;align-items: stretch;justify-content: center;background-color: white;position: relative;}#sk-container-id-4 div.sk-item::before, #sk-container-id-4 div.sk-parallel-item::before {content: \"\";position: absolute;border-left: 1px solid gray;box-sizing: border-box;top: 0;bottom: 0;left: 50%;z-index: -1;}#sk-container-id-4 div.sk-parallel-item {display: flex;flex-direction: column;z-index: 1;position: relative;background-color: white;}#sk-container-id-4 div.sk-parallel-item:first-child::after {align-self: flex-end;width: 50%;}#sk-container-id-4 div.sk-parallel-item:last-child::after {align-self: flex-start;width: 50%;}#sk-container-id-4 div.sk-parallel-item:only-child::after {width: 0;}#sk-container-id-4 div.sk-dashed-wrapped {border: 1px dashed gray;margin: 0 0.4em 0.5em 0.4em;box-sizing: border-box;padding-bottom: 0.4em;background-color: white;}#sk-container-id-4 div.sk-label label {font-family: monospace;font-weight: bold;display: inline-block;line-height: 1.2em;}#sk-container-id-4 div.sk-label-container {text-align: center;}#sk-container-id-4 div.sk-container {/* jupyter's `normalize.less` sets `[hidden] { display: none; }` but bootstrap.min.css set `[hidden] { display: none !important; }` so we also need the `!important` here to be able to override the default hidden behavior on the sphinx rendered scikit-learn.org. See: https://github.com/scikit-learn/scikit-learn/issues/21755 */display: inline-block !important;position: relative;}#sk-container-id-4 div.sk-text-repr-fallback {display: none;}</style><div id=\"sk-container-id-4\" class=\"sk-top-container\"><div class=\"sk-text-repr-fallback\"><pre>LGBMClassifier(n_estimators=200, random_state=42)</pre><b>In a Jupyter environment, please rerun this cell to show the HTML representation or trust the notebook. <br />On GitHub, the HTML representation is unable to render, please try loading this page with nbviewer.org.</b></div><div class=\"sk-container\" hidden><div class=\"sk-item\"><div class=\"sk-estimator sk-toggleable\"><input class=\"sk-toggleable__control sk-hidden--visually\" id=\"sk-estimator-id-4\" type=\"checkbox\" checked><label for=\"sk-estimator-id-4\" class=\"sk-toggleable__label sk-toggleable__label-arrow\">LGBMClassifier</label><div class=\"sk-toggleable__content\"><pre>LGBMClassifier(n_estimators=200, random_state=42)</pre></div></div></div></div></div>"
      ],
      "text/plain": [
       "LGBMClassifier(n_estimators=200, random_state=42)"
      ]
     },
     "execution_count": 49,
     "metadata": {},
     "output_type": "execute_result"
    }
   ],
   "source": [
    "lgbm_model = LGBMClassifier(random_state=RANDOM_STATE, n_estimators=200, learning_rate=0.1)\n",
    "lgbm_model.fit(X_train_tfidf_new, y_train)"
   ]
  },
  {
   "cell_type": "code",
   "execution_count": 50,
   "metadata": {
    "execution": {
     "iopub.execute_input": "2025-05-25T23:29:55.956914Z",
     "iopub.status.busy": "2025-05-25T23:29:55.956671Z",
     "iopub.status.idle": "2025-05-25T23:29:56.580757Z",
     "shell.execute_reply": "2025-05-25T23:29:56.579984Z",
     "shell.execute_reply.started": "2025-05-25T23:29:55.956894Z"
    },
    "trusted": true
   },
   "outputs": [
    {
     "name": "stdout",
     "output_type": "stream",
     "text": [
      "Точность (Accuracy) LGBMClassifier: 0.9946284691136974\n",
      "\n",
      "Отчет по классификации LGBMClassifier:\n",
      "               precision    recall  f1-score   support\n",
      "\n",
      "Real News (0)       1.00      0.99      0.99      4242\n",
      "Fake News (1)       0.99      1.00      0.99      4694\n",
      "\n",
      "     accuracy                           0.99      8936\n",
      "    macro avg       0.99      0.99      0.99      8936\n",
      " weighted avg       0.99      0.99      0.99      8936\n",
      "\n"
     ]
    }
   ],
   "source": [
    "y_pred_lgbm = lgbm_model.predict(X_test_tfidf_new)\n",
    "\n",
    "print(\"Точность (Accuracy) LGBMClassifier:\", accuracy_score(y_test, y_pred_lgbm))\n",
    "print(\"\\nОтчет по классификации LGBMClassifier:\")\n",
    "print(classification_report(y_test, y_pred_lgbm, target_names=['Real News (0)', 'Fake News (1)'], zero_division=0))"
   ]
  },
  {
   "cell_type": "code",
   "execution_count": 51,
   "metadata": {
    "execution": {
     "iopub.execute_input": "2025-05-25T23:29:56.581801Z",
     "iopub.status.busy": "2025-05-25T23:29:56.581526Z",
     "iopub.status.idle": "2025-05-25T23:29:56.746931Z",
     "shell.execute_reply": "2025-05-25T23:29:56.746137Z",
     "shell.execute_reply.started": "2025-05-25T23:29:56.581781Z"
    },
    "trusted": true
   },
   "outputs": [
    {
     "data": {
      "image/png": "[encoded data removed]",
      "text/plain": [
       "<Figure size 600x400 with 2 Axes>"
      ]
     },
     "metadata": {},
     "output_type": "display_data"
    }
   ],
   "source": [
    "cm_lgbm = confusion_matrix(y_test, y_pred_lgbm)\n",
    "plt.figure(figsize=(6,4))\n",
    "sns.heatmap(cm_lgbm, annot=True, fmt='d', cmap='Blues',\n",
    "            xticklabels=['Real News (0)', 'Fake News (1)'], \n",
    "            yticklabels=['Real News (0)', 'Fake News (1)'])\n",
    "plt.title('Матрица ошибок (LGBMClassifier)')\n",
    "plt.xlabel('Предсказанный класс')\n",
    "plt.ylabel('Истинный класс')\n",
    "plt.show()"
   ]
  },
  {
   "cell_type": "markdown",
   "metadata": {},
   "source": [
    "### Логистическая регрессия на новых признаках"
   ]
  },
  {
   "cell_type": "code",
   "execution_count": 52,
   "metadata": {
    "execution": {
     "iopub.execute_input": "2025-05-25T23:29:56.748739Z",
     "iopub.status.busy": "2025-05-25T23:29:56.748509Z",
     "iopub.status.idle": "2025-05-25T23:30:01.908799Z",
     "shell.execute_reply": "2025-05-25T23:30:01.907665Z",
     "shell.execute_reply.started": "2025-05-25T23:29:56.748721Z"
    },
    "trusted": true
   },
   "outputs": [
    {
     "name": "stdout",
     "output_type": "stream",
     "text": [
      "\n",
      "\n",
      "--- Логистическая регрессия на НОВЫХ признаках (для сравнения) ---\n"
     ]
    },
    {
     "data": {
      "text/html": [
       "<style>#sk-container-id-5 {color: black;}#sk-container-id-5 pre{padding: 0;}#sk-container-id-5 div.sk-toggleable {background-color: white;}#sk-container-id-5 label.sk-toggleable__label {cursor: pointer;display: block;width: 100%;margin-bottom: 0;padding: 0.3em;box-sizing: border-box;text-align: center;}#sk-container-id-5 label.sk-toggleable__label-arrow:before {content: \"▸\";float: left;margin-right: 0.25em;color: #696969;}#sk-container-id-5 label.sk-toggleable__label-arrow:hover:before {color: black;}#sk-container-id-5 div.sk-estimator:hover label.sk-toggleable__label-arrow:before {color: black;}#sk-container-id-5 div.sk-toggleable__content {max-height: 0;max-width: 0;overflow: hidden;text-align: left;background-color: #f0f8ff;}#sk-container-id-5 div.sk-toggleable__content pre {margin: 0.2em;color: black;border-radius: 0.25em;background-color: #f0f8ff;}#sk-container-id-5 input.sk-toggleable__control:checked~div.sk-toggleable__content {max-height: 200px;max-width: 100%;overflow: auto;}#sk-container-id-5 input.sk-toggleable__control:checked~label.sk-toggleable__label-arrow:before {content: \"▾\";}#sk-container-id-5 div.sk-estimator input.sk-toggleable__control:checked~label.sk-toggleable__label {background-color: #d4ebff;}#sk-container-id-5 div.sk-label input.sk-toggleable__control:checked~label.sk-toggleable__label {background-color: #d4ebff;}#sk-container-id-5 input.sk-hidden--visually {border: 0;clip: rect(1px 1px 1px 1px);clip: rect(1px, 1px, 1px, 1px);height: 1px;margin: -1px;overflow: hidden;padding: 0;position: absolute;width: 1px;}#sk-container-id-5 div.sk-estimator {font-family: monospace;background-color: #f0f8ff;border: 1px dotted black;border-radius: 0.25em;box-sizing: border-box;margin-bottom: 0.5em;}#sk-container-id-5 div.sk-estimator:hover {background-color: #d4ebff;}#sk-container-id-5 div.sk-parallel-item::after {content: \"\";width: 100%;border-bottom: 1px solid gray;flex-grow: 1;}#sk-container-id-5 div.sk-label:hover label.sk-toggleable__label {background-color: #d4ebff;}#sk-container-id-5 div.sk-serial::before {content: \"\";position: absolute;border-left: 1px solid gray;box-sizing: border-box;top: 0;bottom: 0;left: 50%;z-index: 0;}#sk-container-id-5 div.sk-serial {display: flex;flex-direction: column;align-items: center;background-color: white;padding-right: 0.2em;padding-left: 0.2em;position: relative;}#sk-container-id-5 div.sk-item {position: relative;z-index: 1;}#sk-container-id-5 div.sk-parallel {display: flex;align-items: stretch;justify-content: center;background-color: white;position: relative;}#sk-container-id-5 div.sk-item::before, #sk-container-id-5 div.sk-parallel-item::before {content: \"\";position: absolute;border-left: 1px solid gray;box-sizing: border-box;top: 0;bottom: 0;left: 50%;z-index: -1;}#sk-container-id-5 div.sk-parallel-item {display: flex;flex-direction: column;z-index: 1;position: relative;background-color: white;}#sk-container-id-5 div.sk-parallel-item:first-child::after {align-self: flex-end;width: 50%;}#sk-container-id-5 div.sk-parallel-item:last-child::after {align-self: flex-start;width: 50%;}#sk-container-id-5 div.sk-parallel-item:only-child::after {width: 0;}#sk-container-id-5 div.sk-dashed-wrapped {border: 1px dashed gray;margin: 0 0.4em 0.5em 0.4em;box-sizing: border-box;padding-bottom: 0.4em;background-color: white;}#sk-container-id-5 div.sk-label label {font-family: monospace;font-weight: bold;display: inline-block;line-height: 1.2em;}#sk-container-id-5 div.sk-label-container {text-align: center;}#sk-container-id-5 div.sk-container {/* jupyter's `normalize.less` sets `[hidden] { display: none; }` but bootstrap.min.css set `[hidden] { display: none !important; }` so we also need the `!important` here to be able to override the default hidden behavior on the sphinx rendered scikit-learn.org. See: https://github.com/scikit-learn/scikit-learn/issues/21755 */display: inline-block !important;position: relative;}#sk-container-id-5 div.sk-text-repr-fallback {display: none;}</style><div id=\"sk-container-id-5\" class=\"sk-top-container\"><div class=\"sk-text-repr-fallback\"><pre>LogisticRegression(random_state=42, solver=&#x27;liblinear&#x27;)</pre><b>In a Jupyter environment, please rerun this cell to show the HTML representation or trust the notebook. <br />On GitHub, the HTML representation is unable to render, please try loading this page with nbviewer.org.</b></div><div class=\"sk-container\" hidden><div class=\"sk-item\"><div class=\"sk-estimator sk-toggleable\"><input class=\"sk-toggleable__control sk-hidden--visually\" id=\"sk-estimator-id-5\" type=\"checkbox\" checked><label for=\"sk-estimator-id-5\" class=\"sk-toggleable__label sk-toggleable__label-arrow\">LogisticRegression</label><div class=\"sk-toggleable__content\"><pre>LogisticRegression(random_state=42, solver=&#x27;liblinear&#x27;)</pre></div></div></div></div></div>"
      ],
      "text/plain": [
       "LogisticRegression(random_state=42, solver='liblinear')"
      ]
     },
     "execution_count": 52,
     "metadata": {},
     "output_type": "execute_result"
    }
   ],
   "source": [
    "print(\"\\n\\n--- Логистическая регрессия на НОВЫХ признаках (для сравнения) ---\")\n",
    "log_reg_model_new_tfidf = LogisticRegression(solver='liblinear', random_state=RANDOM_STATE)\n",
    "log_reg_model_new_tfidf.fit(X_train_tfidf_new, y_train)"
   ]
  },
  {
   "cell_type": "code",
   "execution_count": 53,
   "metadata": {
    "execution": {
     "iopub.execute_input": "2025-05-25T23:30:01.910726Z",
     "iopub.status.busy": "2025-05-25T23:30:01.909941Z",
     "iopub.status.idle": "2025-05-25T23:30:01.949150Z",
     "shell.execute_reply": "2025-05-25T23:30:01.948464Z",
     "shell.execute_reply.started": "2025-05-25T23:30:01.910696Z"
    },
    "trusted": true
   },
   "outputs": [
    {
     "name": "stdout",
     "output_type": "stream",
     "text": [
      "Точность (Accuracy) LogReg с новыми TF-IDF: 0.9862354521038496\n",
      "\n",
      "Отчет по классификации LogReg с новыми TF-IDF:\n",
      "               precision    recall  f1-score   support\n",
      "\n",
      "Real News (0)       0.98      0.99      0.99      4242\n",
      "Fake News (1)       0.99      0.99      0.99      4694\n",
      "\n",
      "     accuracy                           0.99      8936\n",
      "    macro avg       0.99      0.99      0.99      8936\n",
      " weighted avg       0.99      0.99      0.99      8936\n",
      "\n"
     ]
    }
   ],
   "source": [
    "y_pred_log_reg_new_tfidf = log_reg_model_new_tfidf.predict(X_test_tfidf_new)\n",
    "print(\"Точность (Accuracy) LogReg с новыми TF-IDF:\", accuracy_score(y_test, y_pred_log_reg_new_tfidf))\n",
    "print(\"\\nОтчет по классификации LogReg с новыми TF-IDF:\")\n",
    "print(classification_report(y_test, y_pred_log_reg_new_tfidf, target_names=['Real News (0)', 'Fake News (1)'], zero_division=0))"
   ]
  },
  {
   "cell_type": "code",
   "execution_count": 54,
   "metadata": {
    "execution": {
     "iopub.execute_input": "2025-05-25T23:30:01.950601Z",
     "iopub.status.busy": "2025-05-25T23:30:01.949926Z",
     "iopub.status.idle": "2025-05-25T23:30:02.123422Z",
     "shell.execute_reply": "2025-05-25T23:30:02.122581Z",
     "shell.execute_reply.started": "2025-05-25T23:30:01.950580Z"
    },
    "trusted": true
   },
   "outputs": [
    {
     "data": {
      "image/png": "[encoded data removed]",
      "text/plain": [
       "<Figure size 600x400 with 2 Axes>"
      ]
     },
     "metadata": {},
     "output_type": "display_data"
    }
   ],
   "source": [
    "cm_lgbm = confusion_matrix(y_test, y_pred_log_reg_new_tfidf)\n",
    "plt.figure(figsize=(6,4))\n",
    "sns.heatmap(cm_lgbm, annot=True, fmt='d', cmap='Blues',\n",
    "            xticklabels=['Real News (0)', 'Fake News (1)'], \n",
    "            yticklabels=['Real News (0)', 'Fake News (1)'])\n",
    "plt.title('Матрица ошибок (LogReg new TF-IDF)')\n",
    "plt.xlabel('Предсказанный класс')\n",
    "plt.ylabel('Истинный класс')\n",
    "plt.show()"
   ]
  },
  {
   "cell_type": "markdown",
   "metadata": {},
   "source": [
    "Вывод: в итоге лучшими моделями показали себя LinearSVC и LGBMClassifier с использованием TfidfVectorizer с нграммами. Именно их мы и сохраним для дальнейшего использования"
   ]
  },
  {
   "cell_type": "markdown",
   "metadata": {},
   "source": [
    "# Сохранение моделей"
   ]
  },
  {
   "cell_type": "code",
   "execution_count": 55,
   "metadata": {
    "execution": {
     "iopub.execute_input": "2025-05-25T23:30:46.766747Z",
     "iopub.status.busy": "2025-05-25T23:30:46.765871Z",
     "iopub.status.idle": "2025-05-25T23:30:48.637183Z",
     "shell.execute_reply": "2025-05-25T23:30:48.636434Z",
     "shell.execute_reply.started": "2025-05-25T23:30:46.766715Z"
    },
    "trusted": true
   },
   "outputs": [],
   "source": [
    "import pickle\n",
    "\n",
    "with open('models/vectorizer_new.pkl', 'wb') as file:\n",
    "    pickle.dump(tfidf_vectorizer_new, file)\n",
    "\n",
    "with open('models/lsvc_model_new.pkl', 'wb') as file:\n",
    "    pickle.dump(lsvc_model, file)\n",
    "\n",
    "with open('models/lgbm_model_new.pkl', 'wb') as file:\n",
    "    pickle.dump(lgbm_model, file)"
   ]
  },
  {
   "cell_type": "code",
   "execution_count": null,
   "metadata": {
    "trusted": true
   },
   "outputs": [],
   "source": []
  }
 ],
 "metadata": {
  "kaggle": {
   "accelerator": "none",
   "dataSources": [
    {
     "datasetId": 4831777,
     "sourceId": 8165591,
     "sourceType": "datasetVersion"
    }
   ],
   "dockerImageVersionId": 31040,
   "isGpuEnabled": false,
   "isInternetEnabled": true,
   "language": "python",
   "sourceType": "notebook"
  },
  "kernelspec": {
   "display_name": "venv",
   "language": "python",
   "name": "python3"
  },
  "language_info": {
   "codemirror_mode": {
    "name": "ipython",
    "version": 3
   },
   "file_extension": ".py",
   "mimetype": "text/x-python",
   "name": "python",
   "nbconvert_exporter": "python",
   "pygments_lexer": "ipython3",
   "version": "3.12.8"
  }
 },
 "nbformat": 4,
 "nbformat_minor": 4
}
